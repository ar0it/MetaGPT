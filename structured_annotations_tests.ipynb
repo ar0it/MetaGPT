{
 "cells": [
  {
   "cell_type": "code",
   "execution_count": 1,
   "metadata": {},
   "outputs": [
    {
     "name": "stdout",
     "output_type": "stream",
     "text": [
      "{'XResolution': '2728469.0', 'PhotometricInterpretation': 'BlackIsZero', 'PlanarConfiguration': 'Chunky', 'MetaDataPhotometricInterpretation': 'Monochrome', 'ImageLength': '3072', 'BitsPerSample': '16', 'ResolutionUnit': 'Inch', 'Compression': 'LZW', 'SamplesPerPixel': '1', 'NumberOfChannels': '1', 'MetaMorph': 'no', 'ImageWidth': '3072', 'Orientation': '1st row -> top; 1st column -> left', 'YResolution': '2728469.0'}\n",
      "{}\n",
      "{'XResolution': '2728469.0', 'PhotometricInterpretation': 'BlackIsZero', 'PlanarConfiguration': 'Chunky', 'MetaDataPhotometricInterpretation': 'Monochrome', 'ImageLength': '3072', 'BitsPerSample': '16', 'ResolutionUnit': 'Inch', 'Compression': 'LZW', 'SamplesPerPixel': '1', 'NumberOfChannels': '1', 'MetaMorph': 'no', 'ImageWidth': '3072', 'Orientation': '1st row -> top; 1st column -> left', 'YResolution': '2728469.0'}\n"
     ]
    },
    {
     "ename": "AttributeError",
     "evalue": "'IFormatReader' object has no attribute '__annotations__'",
     "output_type": "error",
     "traceback": [
      "\u001b[0;31m---------------------------------------------------------------------------\u001b[0m",
      "\u001b[0;31mAttributeError\u001b[0m                            Traceback (most recent call last)",
      "Cell \u001b[0;32mIn[1], line 12\u001b[0m\n\u001b[1;32m     10\u001b[0m image_path \u001b[38;5;241m=\u001b[39m \u001b[38;5;124m\"\u001b[39m\u001b[38;5;124m/home/aaron/Documents/Projects/MetaGPT/in/images/small_images/Rio9 0528.tif\u001b[39m\u001b[38;5;124m\"\u001b[39m\n\u001b[1;32m     11\u001b[0m ome_xml \u001b[38;5;241m=\u001b[39m BioformatsReader\u001b[38;5;241m.\u001b[39mget_omexml_metadata(image_path)\n\u001b[0;32m---> 12\u001b[0m ome_raw \u001b[38;5;241m=\u001b[39m \u001b[43mBioformatsReader\u001b[49m\u001b[38;5;241;43m.\u001b[39;49m\u001b[43mget_raw_metadata\u001b[49m\u001b[43m(\u001b[49m\u001b[43mimage_path\u001b[49m\u001b[43m)\u001b[49m\n\u001b[1;32m     13\u001b[0m ome_tree \u001b[38;5;241m=\u001b[39m BioformatsReader\u001b[38;5;241m.\u001b[39mraw_to_tree(ome_raw)\n\u001b[1;32m     14\u001b[0m ome_dict \u001b[38;5;241m=\u001b[39m ome_types\u001b[38;5;241m.\u001b[39mto_dict(ome_xml)\n",
      "File \u001b[0;32m~/Documents/Projects/MetaGPT/src/metagpt/BioformatsReader.py:66\u001b[0m, in \u001b[0;36mget_raw_metadata\u001b[0;34m(path)\u001b[0m\n\u001b[1;32m     64\u001b[0m global_md \u001b[38;5;241m=\u001b[39m javabridge\u001b[38;5;241m.\u001b[39mjutil\u001b[38;5;241m.\u001b[39mjdictionary_to_string_dictionary(rdr\u001b[38;5;241m.\u001b[39mrdr\u001b[38;5;241m.\u001b[39mgetGlobalMetadata(path))\n\u001b[1;32m     65\u001b[0m \u001b[38;5;28mprint\u001b[39m(global_md)\n\u001b[0;32m---> 66\u001b[0m \u001b[38;5;28mprint\u001b[39m(\u001b[43mrdr\u001b[49m\u001b[38;5;241;43m.\u001b[39;49m\u001b[43mrdr\u001b[49m\u001b[38;5;241;43m.\u001b[39;49m\u001b[38;5;18;43m__annotations__\u001b[39;49m)\n\u001b[1;32m     68\u001b[0m meta_all \u001b[38;5;241m=\u001b[39m metadata \u001b[38;5;241m|\u001b[39m series_md \u001b[38;5;241m|\u001b[39m global_md \u001b[38;5;66;03m# merges the metadata overwrite potentially conflicting entries\u001b[39;00m\n\u001b[1;32m     69\u001b[0m \u001b[38;5;28;01mreturn\u001b[39;00m meta_all\n",
      "\u001b[0;31mAttributeError\u001b[0m: 'IFormatReader' object has no attribute '__annotations__'"
     ]
    }
   ],
   "source": [
    "from src.metagpt import BioformatsReader\n",
    "import javabridge\n",
    "import bioformats\n",
    "import ome_types\n",
    "from src.metagpt.utils import _init_logger\n",
    "\n",
    "javabridge.start_vm(class_path=bioformats.JARS)\n",
    "_init_logger()\n",
    "\n",
    "image_path = \"/home/aaron/Documents/Projects/MetaGPT/in/images/small_images/Rio9 0528.tif\"\n",
    "ome_xml = BioformatsReader.get_omexml_metadata(image_path)\n",
    "ome_raw = BioformatsReader.get_raw_metadata(image_path)\n",
    "ome_tree = BioformatsReader.raw_to_tree(ome_raw)\n",
    "ome_dict = ome_types.to_dict(ome_xml)\n",
    "\n",
    "javabridge.kill_vm()"
   ]
  },
  {
   "cell_type": "code",
   "execution_count": 3,
   "metadata": {},
   "outputs": [
    {
     "name": "stdout",
     "output_type": "stream",
     "text": [
      "XResolution 2728469.0\n",
      "PhotometricInterpretation BlackIsZero\n",
      "PlanarConfiguration Chunky\n",
      "MetaDataPhotometricInterpretation Monochrome\n",
      "ImageLength 3072\n",
      "BitsPerSample 16\n",
      "ResolutionUnit Inch\n",
      "Compression LZW\n",
      "SamplesPerPixel 1\n",
      "NumberOfChannels 1\n",
      "MetaMorph no\n",
      "ImageWidth 3072\n",
      "Orientation 1st row -> top; 1st column -> left\n",
      "YResolution 2728469.0\n"
     ]
    }
   ],
   "source": [
    "for k,v in ome_tree.items():\n",
    "    print(k, v)"
   ]
  },
  {
   "cell_type": "code",
   "execution_count": 2,
   "metadata": {},
   "outputs": [
    {
     "name": "stdout",
     "output_type": "stream",
     "text": [
      "queued\n",
      "requires_action\n",
      "RequiredActionFunctionToolCall(id='call_On0XF96qnNWrrgTKvCoYgrWN', function=Function(arguments='{\"annotations\":{\"ImageProperties\":{\"Resolution\":{\"XResolution\":\"2728469.0\",\"YResolution\":\"2728469.0\",\"ResolutionUnit\":\"Inch\"},\"Dimensions\":{\"ImageWidth\":\"3072\",\"ImageLength\":\"3072\"},\"Photometric\":{\"PhotometricInterpretation\":\"BlackIsZero\",\"MetaDataPhotometricInterpretation\":\"Monochrome\"},\"Configuration\":{\"PlanarConfiguration\":\"Chunky\",\"Orientation\":\"1st row -> top; 1st column -> left\"},\"Compression\":\"LZW\",\"BitsPerSample\":\"16\",\"SamplesPerPixel\":\"1\",\"NumberOfChannels\":\"1\",\"MetaMorph\":\"no\"}}}', name='XMLAnnotationFunction'), type='function')\n",
      "{'annotations': {'ImageProperties': {'Resolution': {'XResolution': '2728469.0', 'YResolution': '2728469.0', 'ResolutionUnit': 'Inch'}, 'Dimensions': {'ImageWidth': '3072', 'ImageLength': '3072'}, 'Photometric': {'PhotometricInterpretation': 'BlackIsZero', 'MetaDataPhotometricInterpretation': 'Monochrome'}, 'Configuration': {'PlanarConfiguration': 'Chunky', 'Orientation': '1st row -> top; 1st column -> left'}, 'Compression': 'LZW', 'BitsPerSample': '16', 'SamplesPerPixel': '1', 'NumberOfChannels': '1', 'MetaMorph': 'no'}}}\n"
     ]
    }
   ],
   "source": [
    "# One shot prediction of the structured annotations node\n",
    "from src.metagpt.predictors.predictor_xml_annotation import PredictorXMLAnnotation\n",
    "from ome_types._autogenerated.ome_2016_06 import XMLAnnotation, OME\n",
    "from src.metagpt.utils import dict_to_xml_annotation\n",
    "import ome_types\n",
    "\n",
    "predictor = PredictorXMLAnnotation(str(ome_tree))\n",
    "prediction = predictor.predict()\n",
    "print(prediction)\n",
    "\n",
    "#tool = prediction.required_action.submit_tool_outputs.tool_calls[0]\n",
    "#value = ast.literal_eval(tool.function.arguments)\n",
    "\n",
    "xml = dict_to_xml_annotation(prediction)\n",
    "ome_start_obj = ome_types.from_xml(ome_types.to_xml(OME()))\n",
    "print(ome_start_obj.structured_annotations)\n",
    "ome_start_obj.structured_annotations.append(xml)\n",
    "print(ome_start_obj.structured_annotations)\n",
    "print(ome_types.to_xml(ome_start_obj.structured_annotations))"
   ]
  },
  {
   "cell_type": "code",
   "execution_count": 2,
   "metadata": {},
   "outputs": [
    {
     "name": "stdout",
     "output_type": "stream",
     "text": [
      "queued\n",
      "requires_action\n",
      "{\"prop\": {\"XResolution\": \"2728469.0\", \"PhotometricInterpretation\": \"BlackIsZero\", \"PlanarConfiguration\": \"Chunky\", \"MetaDataPhotometricInterpretation\": \"Monochrome\", \"ImageLength\": \"3072\", \"BitsPerSample\": \"16\", \"ResolutionUnit\": \"Inch\", \"Compression\": \"LZW\", \"SamplesPerPixel\": \"1\", \"NumberOfChannels\": \"1\", \"MetaMorph\": \"no\", \"ImageWidth\": \"3072\", \"Orientation\": \"1st row -> top; 1st column -> left\", \"YResolution\": \"2728469.0\"}}\n",
      "queued\n",
      "requires_action\n",
      "{'xml_annotations': '<ImageMetadata><Resolution><XResolution>2728469.0</XResolution><YResolution>2728469.0</YResolution><ResolutionUnit>Inch</ResolutionUnit></Resolution><Dimensions><ImageWidth>3072</ImageWidth><ImageLength>3072</ImageLength></Dimensions><Photometric><PhotometricInterpretation>BlackIsZero</PhotometricInterpretation><MetaDataPhotometricInterpretation>Monochrome</MetaDataPhotometricInterpretation></Photometric><Configuration><PlanarConfiguration>Chunky</PlanarConfiguration><Orientation>1st row -> top; 1st column -> left</Orientation></Configuration><Compression>LZW</Compression><Samples><BitsPerSample>16</BitsPerSample><SamplesPerPixel>1</SamplesPerPixel><NumberOfChannels>1</NumberOfChannels></Samples><MetaMorph>no</MetaMorph></ImageMetadata>'}\n",
      "{'xml_annotations': '<ImageMetadata><Resolution><XResolution>2728469.0</XResolution><YResolution>2728469.0</YResolution><ResolutionUnit>Inch</ResolutionUnit></Resolution><Dimensions><ImageWidth>3072</ImageWidth><ImageLength>3072</ImageLength></Dimensions><Photometric><PhotometricInterpretation>BlackIsZero</PhotometricInterpretation><MetaDataPhotometricInterpretation>Monochrome</MetaDataPhotometricInterpretation></Photometric><Configuration><PlanarConfiguration>Chunky</PlanarConfiguration><Orientation>1st row -> top; 1st column -> left</Orientation></Configuration><Compression>LZW</Compression><Samples><BitsPerSample>16</BitsPerSample><SamplesPerPixel>1</SamplesPerPixel><NumberOfChannels>1</NumberOfChannels></Samples><MetaMorph>no</MetaMorph></ImageMetadata>'}\n"
     ]
    }
   ],
   "source": [
    "# network approach\n",
    "from src.metagpt.predictors.predictor_annotation_net import PredictorXMLAnnotationNet\n",
    "from ome_types._autogenerated.ome_2016_06 import XMLAnnotation\n",
    "\n",
    "predictor = PredictorXMLAnnotationNet(str(ome_tree))\n",
    "prediction = predictor.predict()\n",
    "print(prediction)"
   ]
  }
 ],
 "metadata": {
  "kernelspec": {
   "display_name": "metagpt",
   "language": "python",
   "name": "python3"
  },
  "language_info": {
   "codemirror_mode": {
    "name": "ipython",
    "version": 3
   },
   "file_extension": ".py",
   "mimetype": "text/x-python",
   "name": "python",
   "nbconvert_exporter": "python",
   "pygments_lexer": "ipython3",
   "version": "3.9.19"
  }
 },
 "nbformat": 4,
 "nbformat_minor": 2
}
