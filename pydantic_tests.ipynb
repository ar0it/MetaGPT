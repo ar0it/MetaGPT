{
 "cells": [
  {
   "cell_type": "code",
   "execution_count": null,
   "metadata": {
    "collapsed": true,
    "is_executing": true
   },
   "outputs": [],
   "source": "import openai\n"
  },
  {
   "cell_type": "code",
   "execution_count": 1,
   "outputs": [],
   "source": [
    "with open(\"raw_Metadata_Image8_full.txt\") as f:\n",
    "    metadata = f.read()"
   ],
   "metadata": {
    "collapsed": false,
    "ExecuteTime": {
     "end_time": "2023-06-29T15:50:17.938096135Z",
     "start_time": "2023-06-29T15:50:17.894284593Z"
    }
   }
  },
  {
   "cell_type": "code",
   "execution_count": 3,
   "outputs": [],
   "source": [
    "messages=[\n",
    "    {\"role\": \"system\", \"content\": \"You are a helpful assistant.\"},\n",
    "    {\"role\": \"user\", \"content\": \"Please transcribe the following metadata such that it follows the latest ome xml schema.\"},\n",
    "    {\"role\": \"assistant\", \"content\": \"Sure, please provide the raw metadata such that I can transcribe it.\"},\n",
    "    {\"role\": \"user\", \"content\": metadata}\n",
    "]"
   ],
   "metadata": {
    "collapsed": false,
    "ExecuteTime": {
     "end_time": "2023-06-29T15:50:21.643962691Z",
     "start_time": "2023-06-29T15:50:21.642172194Z"
    }
   }
  },
  {
   "cell_type": "code",
   "execution_count": 8,
   "outputs": [
    {
     "name": "stdout",
     "output_type": "stream",
     "text": [
      "Here is the transcribed metadata following the latest OME XML schema:\n",
      "\n",
      "```xml\n",
      "<?xml version=\"1.0\" encoding=\"UTF-8\"?>\n",
      "<OME xmlns=\"http://www.openmicroscopy.org/Schemas/OME/2016-06\" xmlns:xsi=\"http://www.w3.org/2001/XMLSchema-instance\" xsi:schemaLocation=\"http://www.openmicroscopy.org/Schemas/OME/2016-06 http://www.openmicroscopy.org/Schemas/OME/2016-06/ome.xsd\">\n",
      "  <Image ID=\"Image_8\">\n",
      "    <Pixels BigEndian=\"false\" DimensionOrder=\"XYCZT\" Interleaved=\"false\" PixelType=\"uint8\" SizeC=\"3\" SizeT=\"30\" SizeX=\"680\" SizeY=\"280\" SizeZ=\"1\">\n",
      "      <Channel ID=\"Channel_1\" SamplesPerPixel=\"1\">\n",
      "        <LightPath>\n",
      "          <IlluminationChannel ID=\"IlluminationChannel_1\">\n",
      "            <LightSourceRef ID=\"LightSource_1\"/>\n",
      "            <DetectorRef ID=\"Detector_1\"/>\n",
      "          </IlluminationChannel>\n",
      "        </LightPath>\n",
      "      </Channel>\n",
      "      <Channel ID=\"Channel_2\" SamplesPerPixel=\"1\">\n",
      "        <LightPath>\n",
      "          <IlluminationChannel ID=\"IlluminationChannel_2\">\n",
      "            <LightSourceRef ID=\"LightSource_2\"/>\n",
      "            <DetectorRef ID=\"Detector_2\"/>\n",
      "          </IlluminationChannel>\n",
      "        </LightPath>\n",
      "      </Channel>\n",
      "      <Channel ID=\"Channel_3\" SamplesPerPixel=\"1\">\n",
      "        <LightPath>\n",
      "          <IlluminationChannel ID=\"IlluminationChannel_3\">\n",
      "            <LightSourceRef ID=\"LightSource_3\"/>\n",
      "            <DetectorRef ID=\"Detector_3\"/>\n",
      "          </IlluminationChannel>\n",
      "        </LightPath>\n",
      "      </Channel>\n",
      "    </Pixels>\n",
      "  </Image>\n",
      "  <Instrument ID=\"Instrument_0\">\n",
      "    <Microscope ID=\"Microscope_0\" Manufacturer=\"Unknown\" Model=\"LSM 880, AxioObserver\">\n",
      "      <Objective ID=\"Objective_0\" Manufacturer=\"Unknown\" Model=\"C-Apochromat 63x/1.2 W Korr M27\" Immersion=\"Water\" LensNA=\"1.2000000000000002\" NominalMagnification=\"63\"/>\n",
      "    </Microscope>\n",
      "    <Detector ID=\"Detector_1\" AmplificationGain=\"2\" Gain=\"1\" Zoom=\"1\"/>\n",
      "    <Detector ID=\"Detector_2\" AmplificationGain=\"1\" Gain=\"1\" Zoom=\"1\"/>\n",
      "    <Detector ID=\"Detector_3\" AmplificationGain=\"2\" Gain=\"1\" Zoom=\"1\"/>\n",
      "    <LightSource ID=\"LightSource_1\" Manufacturer=\"Unknown\" Model=\"HeNe633\" Power=\"5\"/>\n",
      "    <LightSource ID=\"LightSource_2\" Manufacturer=\"Unknown\" Model=\"DPSS 561-10\" Power=\"20\"/>\n",
      "    <LightSource ID=\"LightSource_3\" Manufacturer=\"Unknown\" Model=\"Diode 405-30\" Power=\"30\"/>\n",
      "  </Instrument>\n",
      "  <Experiment ID=\"Experiment_0\">\n",
      "    <Acquisition ID=\"Acquisition_0\">\n",
      "      <Channel ID=\"Channel_1\" AcquisitionMode=\"LaserScanningConfocalMicroscopy\" Attenuation=\"0.95999999999999996\" Binning=\"1x1\" ChannelType=\"Unspecified\" ContrastMethod=\"Fluorescence\" DetectionWavelength=\"597.38843700000018-695.50278300000025\" DigitalGain=\"2\" EmissionWavelength=\"646.4456100000001\" ExcitationWavelength=\"561\" Fluor=\"mRFP1.2\" Gain=\"800\" IlluminationType=\"Epifluorescence\" LaserScanInfo_Averaging=\"2\" LaserScanInfo_FrameTime=\"8.922918787878789\" LaserScanInfo_LineTime=\"2.4242424242424244e-007\" LaserScanInfo_PixelTime=\"3.1060606060606059e-006\" LaserScanInfo_SampleOffsetX=\"6.6760282735367915e-006\" LaserScanInfo_SampleOffsetY=\"7.1528874358965848e-007\" LaserScanInfo_SampleRotation=\"-85.581379535589718\" LaserScanInfo_ScanningMode=\"LineSequential\" LaserScanInfo_ZoomX=\"2\" LaserScanInfo_ZoomY=\"2\" LightSourceRef=\"LightSource_1\" DetectorRef=\"Detector_1\"/>\n",
      "      <Channel ID=\"Channel_2\" AcquisitionMode=\"LaserScanningConfocalMicroscopy\" Attenuation=\"0.95999999999999996\" Binning=\"1x1\" ChannelType=\"Unspecified\" ContrastMethod=\"Other\" DetectionWavelength=\"499.27409100000017-561.71049300000027\" DigitalGain=\"1\" EmissionWavelength=\"530.49229200000025\" ExcitationWavelength=\"488.00000000000006\" Fluor=\"EGFP\" Gain=\"242.27363180139324\" IlluminationType=\"Epifluorescence\" LaserScanInfo_Averaging=\"2\" LaserScanInfo_FrameTime=\"8.922918787878789\" LaserScanInfo_LineTime=\"2.4242424242424244e-007\" LaserScanInfo_PixelTime=\"3.1060606060606059e-006\" LaserScanInfo_SampleOffsetX=\"6.6760282735367915e-006\" LaserScanInfo_SampleOffsetY=\"7.1528874358965848e-007\" LaserScanInfo_SampleRotation=\"-85.581379535589718\" LaserScanInfo_ScanningMode=\"LineSequential\" LaserScanInfo_ZoomX=\"2\" LaserScanInfo_ZoomY=\"2\" LightSourceRef=\"LightSource_2\" DetectorRef=\"Detector_2\"/>\n",
      "      <Channel ID=\"Channel_3\" AcquisitionMode=\"LaserScanningConfocalMicroscopy\" Attenuation=\"0.92999999999999994\" Binning=\"1x1\" ChannelType=\"Unspecified\" ContrastMethod=\"Fluorescence\" DetectionWavelength=\"499.27409100000017-561.71049300000027\" DigitalGain=\"2\" EmissionWavelength=\"530.49229200000025\" ExcitationWavelength=\"488.00000000000006\" Fluor=\"EGFP\" Gain=\"800\" IlluminationType=\"Epifluorescence\" LaserScanInfo_Averaging=\"2\" LaserScanInfo_FrameTime=\"8.922918787878789\" LaserScanInfo_LineTime=\"2.4242424242424244e-007\" LaserScanInfo_PixelTime=\"3.1060606060606059e-006\" LaserScanInfo_SampleOffsetX=\"6.6760282735367915e-006\" LaserScanInfo_SampleOffsetY=\"7.1528874358965848e-007\" LaserScanInfo_SampleRotation=\"-85.581379535589718\" LaserScanInfo_ScanningMode=\"LineSequential\" LaserScanInfo_ZoomX=\"2\" LaserScanInfo_ZoomY=\"2\" LightSourceRef=\"LightSource_3\" DetectorRef=\"Detector_3\"/>\n",
      "    </Acquisition>\n",
      "  </Experiment>\n",
      "</OME>\n",
      "```\n",
      "\n",
      "Please note that this is a simplified version of the metadata, and you may need to add additional elements or attributes based on your specific requirements.\n"
     ]
    }
   ],
   "source": [
    "response = openai.ChatCompletion.create(\n",
    "    model=\"gpt-3.5-turbo-16k\",\n",
    "    messages=messages,\n",
    "    temperature=0,\n",
    "    max_tokens=5000,\n",
    "    top_p=1.0,\n",
    "    frequency_penalty=0.0,\n",
    "    presence_penalty=0.0,\n",
    "    stop=[\"\\\"\\\"\\\"\"]\n",
    ")\n",
    "print(response[\"choices\"][0][\"message\"][\"content\"])"
   ],
   "metadata": {
    "collapsed": false,
    "ExecuteTime": {
     "end_time": "2023-06-29T15:52:20.920437187Z",
     "start_time": "2023-06-29T15:51:33.148370703Z"
    }
   }
  },
  {
   "metadata": {
    "ExecuteTime": {
     "end_time": "2024-04-24T10:20:27.508835Z",
     "start_time": "2024-04-24T10:20:26.847478Z"
    }
   },
   "cell_type": "code",
   "source": [
    "import instructor\n",
    "from openai import OpenAI\n",
    "from pydantic import BaseModel\n",
    "\n",
    "client = instructor.patch(OpenAI())\n",
    "\n",
    "class UserDetail(BaseModel):\n",
    "    name: str\n",
    "    age: int\n",
    "    \n",
    "user = client.chat.completions.create(\n",
    "    model=\"gpt-3.5-turbo\",\n",
    "    response_model=UserDetail,\n",
    "    messages=[\n",
    "        {\"role\": \"user\", \"content\": \"Extract Aaron is 25 years old\"},\n",
    "    ],\n",
    ")\n",
    "assert isinstance(user, UserDetail)\n",
    "assert user.name == \"Aaron\"\n",
    "assert user.age == 25\n",
    "print(user.model_dump_json(indent=2))"
   ],
   "outputs": [
    {
     "name": "stdout",
     "output_type": "stream",
     "text": [
      "{\n",
      "  \"name\": \"Aaron\",\n",
      "  \"age\": 25\n",
      "}\n"
     ]
    }
   ],
   "execution_count": 4
  },
  {
   "metadata": {
    "ExecuteTime": {
     "end_time": "2024-04-24T10:21:50.292928Z",
     "start_time": "2024-04-24T10:21:50.289962Z"
    }
   },
   "cell_type": "code",
   "source": "print(user._raw_response.model_dump_json(indent=2))",
   "outputs": [
    {
     "name": "stdout",
     "output_type": "stream",
     "text": [
      "{\n",
      "  \"id\": \"chatcmpl-9HU1jwSUryakJkn3BflKfRzhwhfBZ\",\n",
      "  \"choices\": [\n",
      "    {\n",
      "      \"finish_reason\": \"stop\",\n",
      "      \"index\": 0,\n",
      "      \"logprobs\": null,\n",
      "      \"message\": {\n",
      "        \"content\": null,\n",
      "        \"role\": \"assistant\",\n",
      "        \"function_call\": null,\n",
      "        \"tool_calls\": [\n",
      "          {\n",
      "            \"id\": \"call_w4tRlHdD10JWUqfrBnLGasxT\",\n",
      "            \"function\": {\n",
      "              \"arguments\": \"{\\\"name\\\":\\\"Aaron\\\",\\\"age\\\":25}\",\n",
      "              \"name\": \"UserDetail\"\n",
      "            },\n",
      "            \"type\": \"function\"\n",
      "          }\n",
      "        ]\n",
      "      }\n",
      "    }\n",
      "  ],\n",
      "  \"created\": 1713954027,\n",
      "  \"model\": \"gpt-3.5-turbo-0125\",\n",
      "  \"object\": \"chat.completion\",\n",
      "  \"system_fingerprint\": \"fp_c2295e73ad\",\n",
      "  \"usage\": {\n",
      "    \"completion_tokens\": 9,\n",
      "    \"prompt_tokens\": 81,\n",
      "    \"total_tokens\": 90\n",
      "  }\n",
      "}\n"
     ]
    }
   ],
   "execution_count": 5
  },
  {
   "metadata": {
    "ExecuteTime": {
     "end_time": "2024-04-24T11:57:24.819218Z",
     "start_time": "2024-04-24T11:57:23.405787Z"
    }
   },
   "cell_type": "code",
   "source": [
    "from openai import OpenAI\n",
    "from pydantic import BaseModel\n",
    "import instructor\n",
    "\n",
    "# Apply the patch to the OpenAI client\n",
    "# enables response_model keyword\n",
    "client = instructor.patch(OpenAI())\n",
    "\n",
    "class QuestionAnswer(BaseModel):\n",
    "    question: str\n",
    "    answer: str\n",
    "\n",
    "question = \"What is the meaning of life?\"\n",
    "context = \"The according to the devil the meaning of live is to live a life of sin and debauchery.\"\n",
    "\n",
    "qa: QuestionAnswer = client.chat.completions.create(\n",
    "    model=\"gpt-3.5-turbo\",\n",
    "    response_model=QuestionAnswer,\n",
    "    messages=[\n",
    "        {\n",
    "            \"role\": \"system\",\n",
    "            \"content\": \"You are a system that answers questions based on the context. answer exactly what the question asks using the context.\",\n",
    "        },\n",
    "        {\n",
    "            \"role\": \"user\",\n",
    "            \"content\": f\"using the context: {context}\\n\\nAnswer the following question: {question}\",\n",
    "        },\n",
    "    ],\n",
    ")\n",
    "print(qa.model_dump_json(indent=2))"
   ],
   "outputs": [
    {
     "name": "stdout",
     "output_type": "stream",
     "text": [
      "{\n",
      "  \"question\": \"What is the meaning of life?\",\n",
      "  \"answer\": \"According to the devil, the meaning of life is to live a life of sin and debauchery.\"\n",
      "}\n"
     ]
    }
   ],
   "execution_count": 18
  },
  {
   "metadata": {},
   "cell_type": "markdown",
   "source": "# LLM_Validator validation doesnt seem to work so well for me :("
  },
  {
   "metadata": {
    "ExecuteTime": {
     "end_time": "2024-04-28T10:37:27.708263Z",
     "start_time": "2024-04-28T10:37:26.945655Z"
    }
   },
   "cell_type": "code",
   "source": [
    "from pydantic import BaseModel, BeforeValidator\n",
    "from typing_extensions import Annotated\n",
    "from instructor import llm_validator\n",
    "\n",
    "class QuestionAnswerNoEvil(BaseModel):\n",
    "    question: str\n",
    "    answer: Annotated[\n",
    "        str,\n",
    "        BeforeValidator(\n",
    "            llm_validator(\"don't say objectionable things\",client=client, allow_override=True)\n",
    "        ),\n",
    "    ]\n",
    "\n",
    "\n",
    "try:\n",
    "    qa: QuestionAnswerNoEvil = client.chat.completions.create(\n",
    "        model=\"gpt-3.5-turbo\",\n",
    "        response_model=QuestionAnswerNoEvil,\n",
    "        messages=[\n",
    "            {\n",
    "                \"role\": \"system\",\n",
    "                \"content\": \"You are a system that answers questions based on the context. answer exactly what the question asks using the context.\",\n",
    "            },\n",
    "            {\n",
    "                \"role\": \"user\",\n",
    "                \"content\": f\"using the context: {context}\\n\\nAnswer the following question: {question}\",\n",
    "            },\n",
    "        ],\n",
    "    )\n",
    "except Exception as e:\n",
    "    print(e)\n",
    "    \n",
    "print(qa.model_dump_json(indent=2))"
   ],
   "outputs": [
    {
     "ename": "NameError",
     "evalue": "name 'client' is not defined",
     "output_type": "error",
     "traceback": [
      "\u001B[0;31m---------------------------------------------------------------------------\u001B[0m",
      "\u001B[0;31mNameError\u001B[0m                                 Traceback (most recent call last)",
      "Cell \u001B[0;32mIn[1], line 5\u001B[0m\n\u001B[1;32m      2\u001B[0m \u001B[38;5;28;01mfrom\u001B[39;00m \u001B[38;5;21;01mtyping_extensions\u001B[39;00m \u001B[38;5;28;01mimport\u001B[39;00m Annotated\n\u001B[1;32m      3\u001B[0m \u001B[38;5;28;01mfrom\u001B[39;00m \u001B[38;5;21;01minstructor\u001B[39;00m \u001B[38;5;28;01mimport\u001B[39;00m llm_validator\n\u001B[0;32m----> 5\u001B[0m \u001B[38;5;28;01mclass\u001B[39;00m \u001B[38;5;21;01mQuestionAnswerNoEvil\u001B[39;00m(BaseModel):\n\u001B[1;32m      6\u001B[0m     question: \u001B[38;5;28mstr\u001B[39m\n\u001B[1;32m      7\u001B[0m     answer: Annotated[\n\u001B[1;32m      8\u001B[0m         \u001B[38;5;28mstr\u001B[39m,\n\u001B[1;32m      9\u001B[0m         BeforeValidator(\n\u001B[1;32m     10\u001B[0m             llm_validator(\u001B[38;5;124m\"\u001B[39m\u001B[38;5;124mdon\u001B[39m\u001B[38;5;124m'\u001B[39m\u001B[38;5;124mt say objectionable things\u001B[39m\u001B[38;5;124m\"\u001B[39m,client\u001B[38;5;241m=\u001B[39mclient, allow_override\u001B[38;5;241m=\u001B[39m\u001B[38;5;28;01mTrue\u001B[39;00m)\n\u001B[1;32m     11\u001B[0m         ),\n\u001B[1;32m     12\u001B[0m     ]\n",
      "Cell \u001B[0;32mIn[1], line 10\u001B[0m, in \u001B[0;36mQuestionAnswerNoEvil\u001B[0;34m()\u001B[0m\n\u001B[1;32m      5\u001B[0m \u001B[38;5;28;01mclass\u001B[39;00m \u001B[38;5;21;01mQuestionAnswerNoEvil\u001B[39;00m(BaseModel):\n\u001B[1;32m      6\u001B[0m     question: \u001B[38;5;28mstr\u001B[39m\n\u001B[1;32m      7\u001B[0m     answer: Annotated[\n\u001B[1;32m      8\u001B[0m         \u001B[38;5;28mstr\u001B[39m,\n\u001B[1;32m      9\u001B[0m         BeforeValidator(\n\u001B[0;32m---> 10\u001B[0m             llm_validator(\u001B[38;5;124m\"\u001B[39m\u001B[38;5;124mdon\u001B[39m\u001B[38;5;124m'\u001B[39m\u001B[38;5;124mt say objectionable things\u001B[39m\u001B[38;5;124m\"\u001B[39m,client\u001B[38;5;241m=\u001B[39m\u001B[43mclient\u001B[49m, allow_override\u001B[38;5;241m=\u001B[39m\u001B[38;5;28;01mTrue\u001B[39;00m)\n\u001B[1;32m     11\u001B[0m         ),\n\u001B[1;32m     12\u001B[0m     ]\n",
      "\u001B[0;31mNameError\u001B[0m: name 'client' is not defined"
     ]
    }
   ],
   "execution_count": 1
  },
  {
   "metadata": {
    "ExecuteTime": {
     "end_time": "2024-04-28T10:37:58.617196Z",
     "start_time": "2024-04-28T10:37:58.609391Z"
    }
   },
   "cell_type": "code",
   "source": [
    "import datetime\n",
    "from openai import OpenAI\n",
    "from typing import List\n",
    "from pydantic import Field\n",
    "from typing import Iterable, Optional\n",
    "import instructor\n",
    "\n",
    "client = instructor.patch(OpenAI(), mode=instructor.Mode.FUNCTIONS)\n"
   ],
   "outputs": [],
   "execution_count": 3
  },
  {
   "metadata": {
    "ExecuteTime": {
     "end_time": "2024-04-28T10:38:03.326517Z",
     "start_time": "2024-04-28T10:38:03.312811Z"
    }
   },
   "cell_type": "code",
   "source": [
    "class Property(BaseModel):\n",
    "    index: str = Field(..., description=\"Monotonically increasing ID\")\n",
    "    key: str = Field(description=\"Must be snake case\")\n",
    "    value: str\n",
    "\n",
    "class Person(BaseModel):\n",
    "    name: str\n",
    "    age: int\n",
    "    birthday: datetime.date\n",
    "    properties: List[Property] = Field(\n",
    "        ...,\n",
    "        description=\"Numbered list of arbitrary extracted properties, should be exactly 2\"\n",
    "    )\n",
    "    \n",
    "class MaybePerson(BaseModel):\n",
    "    result: Optional[Person] = Field(default=None)\n",
    "    error: bool = Field(default=False)\n",
    "    message: Optional[str]\n",
    "    \n",
    "    \n",
    "schema = MaybePerson.model_json_schema()\n",
    "\n",
    "\n",
    "def extract(content):\n",
    "    return client.chat.completions.create(\n",
    "        model=\"gpt-3.5-turbo\",\n",
    "        messages=[\n",
    "            {\"role\": \"user\",\n",
    "             \"content\": f\"Extract '{content}'\"}],\n",
    "        response_model=MaybePerson\n",
    "    )"
   ],
   "outputs": [],
   "execution_count": 4
  },
  {
   "metadata": {
    "ExecuteTime": {
     "end_time": "2024-04-28T10:38:32.137811Z",
     "start_time": "2024-04-28T10:38:30.546115Z"
    }
   },
   "cell_type": "code",
   "source": [
    "content = f\"Aaron is 25 years old his birthday was yesterday today is {datetime.datetime}. He is friends with Caro whichs brithday was last week. They both like json.\"\n",
    "extract(content).model_dump()"
   ],
   "outputs": [
    {
     "data": {
      "text/plain": [
       "{'result': {'name': 'Aaron',\n",
       "  'age': 25,\n",
       "  'birthday': datetime.date(1997, 3, 20),\n",
       "  'properties': [{'index': '1', 'key': 'friends', 'value': 'Caro'},\n",
       "   {'index': '2', 'key': 'likes_json', 'value': 'true'}]},\n",
       " 'error': False,\n",
       " 'message': 'Person extracted successfully.'}"
      ]
     },
     "execution_count": 6,
     "metadata": {},
     "output_type": "execute_result"
    }
   ],
   "execution_count": 6
  },
  {
   "metadata": {
    "ExecuteTime": {
     "end_time": "2024-04-28T10:49:56.461227Z",
     "start_time": "2024-04-28T10:49:56.458176Z"
    }
   },
   "cell_type": "code",
   "source": [
    "content = (f'Today is {datetime.datetime}, yesterday Aaron did a lighsheet microscopy experiment with the following metadata. <Image ID=\"Image:0\" Name=\"Image 8 #1\">'\n",
    "           '<Pixels BigEndian=\"false\" DimensionOrder=\"XYCZT\"'\n",
    "           'ID=\"Pixels:0\"'\n",
    "           'PhysicalSizeX=\"0.0992287815904495\"'\n",
    "           'PhysicalSizeXUnit=\"µm\"'\n",
    "           'PhysicalSizeY=\"0.0992287815904495\"'\n",
    "           'PhysicalSizeYUnit=\"µm\"'\n",
    "           'SignificantBits=\"8\"'\n",
    "           'SizeC=\"3\"'\n",
    "           'SizeT=\"30\"'\n",
    "           'SizeX=\"680\"'\n",
    "           'SizeY=\"280\"'\n",
    "           'SizeZ=\"1\"'\n",
    "           'Type=\"uint8\">'\n",
    "           '<Channel AcquisitionMode=\"LaserScanningConfocalMicroscopy\" Color=\"-16711681\" EmissionWavelength=\"646.4456100000001\" EmissionWavelengthUnit=\"nm\" ExcitationWavelength=\"561.0\" ExcitationWavelengthUnit=\"nm\" Fluor=\"mRFP1.2\" ID=\"Channel:0:0\" IlluminationType=\"Epifluorescence\" Name=\"ChS2-T1\" SamplesPerPixel=\"1\">'\n",
    "           '<DetectorSettings Binning=\"1x1\" ID=\"Detector:0:0\"/>'\n",
    "           '<LightPath/>'\n",
    "           '</Channel>'\n",
    "           '<Channel AcquisitionMode=\"LaserScanningConfocalMicroscopy\" Color=\"-1\" ID=\"Channel:0:1\" IlluminationType=\"Epifluorescence\" Name=\"T PMT-T1\" SamplesPerPixel=\"1\">'\n",
    "           '<DetectorSettings Binning=\"1x1\" ID=\"Detector:0:1\"/>'\n",
    "           '<LightPath/>'\n",
    "           '</Channel>'\n",
    "           '<Channel AcquisitionMode=\"LaserScanningConfocalMicroscopy\" Color=\"16711935\" EmissionWavelength=\"530.4922920000002\" EmissionWavelengthUnit=\"nm\" ExcitationWavelength=\"488.00000000000006\" ExcitationWavelengthUnit=\"nm\" Fluor=\"EGFP\" ID=\"Channel:0:2\" IlluminationType=\"Epifluorescence\" Name=\"ChS1-T2\" SamplesPerPixel=\"1\">'\n",
    "           '<DetectorSettings Binning=\"1x1\" ID=\"Detector:1:0\"/>'\n",
    "           '<LightPath/>'\n",
    "           '</Channel>'\n",
    "           '<TiffData FirstC=\"0\" FirstT=\"0\" FirstZ=\"0\" IFD=\"0\" PlaneCount=\"1\">'\n",
    "           '<UUID FileName=\"testetst_Image8_edited_.ome.tif\">urn:uuid:27555393-9fb6-4c14-942c-badbf7548154</UUID>'\n",
    "           '</TiffData>'\n",
    "           '</Pixels>'\n",
    "           '</Image>')"
   ],
   "outputs": [],
   "execution_count": 23
  },
  {
   "metadata": {
    "ExecuteTime": {
     "end_time": "2024-04-28T13:19:16.364719Z",
     "start_time": "2024-04-28T13:19:16.361386Z"
    }
   },
   "cell_type": "code",
   "source": [
    "from ome_types import OME\n",
    "type(OME)"
   ],
   "outputs": [
    {
     "data": {
      "text/plain": [
       "pydantic._internal._model_construction.ModelMetaclass"
      ]
     },
     "execution_count": 49,
     "metadata": {},
     "output_type": "execute_result"
    }
   ],
   "execution_count": 49
  },
  {
   "metadata": {
    "ExecuteTime": {
     "end_time": "2024-04-28T13:16:04.105043Z",
     "start_time": "2024-04-28T13:16:04.010471Z"
    }
   },
   "cell_type": "code",
   "source": [
    "from ome_types.model import Image\n",
    "from ome_types.model import Experiment\n",
    "from ome_types.model import Experimenter\n",
    "from ome_types.model import Annotation\n",
    "    \n",
    "    \n",
    "schema = OME.model_json_schema()\n",
    "print(schema)"
   ],
   "outputs": [
    {
     "ename": "TypeError",
     "evalue": "unhashable type: 'dict'",
     "output_type": "error",
     "traceback": [
      "\u001B[0;31m---------------------------------------------------------------------------\u001B[0m",
      "\u001B[0;31mTypeError\u001B[0m                                 Traceback (most recent call last)",
      "Cell \u001B[0;32mIn[41], line 7\u001B[0m\n\u001B[1;32m      3\u001B[0m \u001B[38;5;28;01mfrom\u001B[39;00m \u001B[38;5;21;01mome_types\u001B[39;00m\u001B[38;5;21;01m.\u001B[39;00m\u001B[38;5;21;01mmodel\u001B[39;00m \u001B[38;5;28;01mimport\u001B[39;00m Experimenter\n\u001B[1;32m      4\u001B[0m \u001B[38;5;28;01mfrom\u001B[39;00m \u001B[38;5;21;01mome_types\u001B[39;00m\u001B[38;5;21;01m.\u001B[39;00m\u001B[38;5;21;01mmodel\u001B[39;00m \u001B[38;5;28;01mimport\u001B[39;00m Annotation\n\u001B[0;32m----> 7\u001B[0m schema \u001B[38;5;241m=\u001B[39m \u001B[43mOME\u001B[49m\u001B[38;5;241;43m.\u001B[39;49m\u001B[43mmodel_json_schema\u001B[49m\u001B[43m(\u001B[49m\u001B[43m)\u001B[49m\n\u001B[1;32m      8\u001B[0m \u001B[38;5;28mprint\u001B[39m(schema)\n",
      "File \u001B[0;32m~/mambaforge/envs/fad/lib/python3.10/site-packages/pydantic/main.py:414\u001B[0m, in \u001B[0;36mBaseModel.model_json_schema\u001B[0;34m(cls, by_alias, ref_template, schema_generator, mode)\u001B[0m\n\u001B[1;32m    394\u001B[0m \u001B[38;5;129m@classmethod\u001B[39m\n\u001B[1;32m    395\u001B[0m \u001B[38;5;28;01mdef\u001B[39;00m \u001B[38;5;21mmodel_json_schema\u001B[39m(\n\u001B[1;32m    396\u001B[0m     \u001B[38;5;28mcls\u001B[39m,\n\u001B[0;32m   (...)\u001B[0m\n\u001B[1;32m    400\u001B[0m     mode: JsonSchemaMode \u001B[38;5;241m=\u001B[39m \u001B[38;5;124m'\u001B[39m\u001B[38;5;124mvalidation\u001B[39m\u001B[38;5;124m'\u001B[39m,\n\u001B[1;32m    401\u001B[0m ) \u001B[38;5;241m-\u001B[39m\u001B[38;5;241m>\u001B[39m \u001B[38;5;28mdict\u001B[39m[\u001B[38;5;28mstr\u001B[39m, Any]:\n\u001B[1;32m    402\u001B[0m \u001B[38;5;250m    \u001B[39m\u001B[38;5;124;03m\"\"\"Generates a JSON schema for a model class.\u001B[39;00m\n\u001B[1;32m    403\u001B[0m \n\u001B[1;32m    404\u001B[0m \u001B[38;5;124;03m    Args:\u001B[39;00m\n\u001B[0;32m   (...)\u001B[0m\n\u001B[1;32m    412\u001B[0m \u001B[38;5;124;03m        The JSON schema for the given model class.\u001B[39;00m\n\u001B[1;32m    413\u001B[0m \u001B[38;5;124;03m    \"\"\"\u001B[39;00m\n\u001B[0;32m--> 414\u001B[0m     \u001B[38;5;28;01mreturn\u001B[39;00m \u001B[43mmodel_json_schema\u001B[49m\u001B[43m(\u001B[49m\n\u001B[1;32m    415\u001B[0m \u001B[43m        \u001B[49m\u001B[38;5;28;43mcls\u001B[39;49m\u001B[43m,\u001B[49m\u001B[43m \u001B[49m\u001B[43mby_alias\u001B[49m\u001B[38;5;241;43m=\u001B[39;49m\u001B[43mby_alias\u001B[49m\u001B[43m,\u001B[49m\u001B[43m \u001B[49m\u001B[43mref_template\u001B[49m\u001B[38;5;241;43m=\u001B[39;49m\u001B[43mref_template\u001B[49m\u001B[43m,\u001B[49m\u001B[43m \u001B[49m\u001B[43mschema_generator\u001B[49m\u001B[38;5;241;43m=\u001B[39;49m\u001B[43mschema_generator\u001B[49m\u001B[43m,\u001B[49m\u001B[43m \u001B[49m\u001B[43mmode\u001B[49m\u001B[38;5;241;43m=\u001B[39;49m\u001B[43mmode\u001B[49m\n\u001B[1;32m    416\u001B[0m \u001B[43m    \u001B[49m\u001B[43m)\u001B[49m\n",
      "File \u001B[0;32m~/mambaforge/envs/fad/lib/python3.10/site-packages/pydantic/json_schema.py:2241\u001B[0m, in \u001B[0;36mmodel_json_schema\u001B[0;34m(cls, by_alias, ref_template, schema_generator, mode)\u001B[0m\n\u001B[1;32m   2239\u001B[0m     \u001B[38;5;28;01mraise\u001B[39;00m \u001B[38;5;167;01mAttributeError\u001B[39;00m(\u001B[38;5;124m'\u001B[39m\u001B[38;5;124mmodel_json_schema() must be called on a subclass of BaseModel, not BaseModel itself.\u001B[39m\u001B[38;5;124m'\u001B[39m)\n\u001B[1;32m   2240\u001B[0m \u001B[38;5;28;01massert\u001B[39;00m \u001B[38;5;124m'\u001B[39m\u001B[38;5;124m__pydantic_core_schema__\u001B[39m\u001B[38;5;124m'\u001B[39m \u001B[38;5;129;01min\u001B[39;00m \u001B[38;5;28mcls\u001B[39m\u001B[38;5;241m.\u001B[39m\u001B[38;5;18m__dict__\u001B[39m, \u001B[38;5;124m'\u001B[39m\u001B[38;5;124mthis is a bug! please report it\u001B[39m\u001B[38;5;124m'\u001B[39m\n\u001B[0;32m-> 2241\u001B[0m \u001B[38;5;28;01mreturn\u001B[39;00m \u001B[43mschema_generator_instance\u001B[49m\u001B[38;5;241;43m.\u001B[39;49m\u001B[43mgenerate\u001B[49m\u001B[43m(\u001B[49m\u001B[38;5;28;43mcls\u001B[39;49m\u001B[38;5;241;43m.\u001B[39;49m\u001B[43m__pydantic_core_schema__\u001B[49m\u001B[43m,\u001B[49m\u001B[43m \u001B[49m\u001B[43mmode\u001B[49m\u001B[38;5;241;43m=\u001B[39;49m\u001B[43mmode\u001B[49m\u001B[43m)\u001B[49m\n",
      "File \u001B[0;32m~/mambaforge/envs/fad/lib/python3.10/site-packages/pydantic/json_schema.py:429\u001B[0m, in \u001B[0;36mGenerateJsonSchema.generate\u001B[0;34m(self, schema, mode)\u001B[0m\n\u001B[1;32m    426\u001B[0m     ref \u001B[38;5;241m=\u001B[39m cast(JsonRef, json_schema\u001B[38;5;241m.\u001B[39mget(\u001B[38;5;124m'\u001B[39m\u001B[38;5;124m$ref\u001B[39m\u001B[38;5;124m'\u001B[39m))\n\u001B[1;32m    428\u001B[0m \u001B[38;5;28mself\u001B[39m\u001B[38;5;241m.\u001B[39m_garbage_collect_definitions(json_schema)\n\u001B[0;32m--> 429\u001B[0m definitions_remapping \u001B[38;5;241m=\u001B[39m \u001B[38;5;28;43mself\u001B[39;49m\u001B[38;5;241;43m.\u001B[39;49m\u001B[43m_build_definitions_remapping\u001B[49m\u001B[43m(\u001B[49m\u001B[43m)\u001B[49m\n\u001B[1;32m    431\u001B[0m \u001B[38;5;28;01mif\u001B[39;00m \u001B[38;5;28mself\u001B[39m\u001B[38;5;241m.\u001B[39mdefinitions:\n\u001B[1;32m    432\u001B[0m     json_schema[\u001B[38;5;124m'\u001B[39m\u001B[38;5;124m$defs\u001B[39m\u001B[38;5;124m'\u001B[39m] \u001B[38;5;241m=\u001B[39m \u001B[38;5;28mself\u001B[39m\u001B[38;5;241m.\u001B[39mdefinitions\n",
      "File \u001B[0;32m~/mambaforge/envs/fad/lib/python3.10/site-packages/pydantic/json_schema.py:2188\u001B[0m, in \u001B[0;36mGenerateJsonSchema._build_definitions_remapping\u001B[0;34m(self)\u001B[0m\n\u001B[1;32m   2185\u001B[0m         json_ref \u001B[38;5;241m=\u001B[39m JsonRef(\u001B[38;5;28mself\u001B[39m\u001B[38;5;241m.\u001B[39mref_template\u001B[38;5;241m.\u001B[39mformat(model\u001B[38;5;241m=\u001B[39mdefs_ref))\n\u001B[1;32m   2186\u001B[0m         defs_to_json[defs_ref] \u001B[38;5;241m=\u001B[39m json_ref\n\u001B[0;32m-> 2188\u001B[0m \u001B[38;5;28;01mreturn\u001B[39;00m \u001B[43m_DefinitionsRemapping\u001B[49m\u001B[38;5;241;43m.\u001B[39;49m\u001B[43mfrom_prioritized_choices\u001B[49m\u001B[43m(\u001B[49m\n\u001B[1;32m   2189\u001B[0m \u001B[43m    \u001B[49m\u001B[38;5;28;43mself\u001B[39;49m\u001B[38;5;241;43m.\u001B[39;49m\u001B[43m_prioritized_defsref_choices\u001B[49m\u001B[43m,\u001B[49m\u001B[43m \u001B[49m\u001B[43mdefs_to_json\u001B[49m\u001B[43m,\u001B[49m\u001B[43m \u001B[49m\u001B[38;5;28;43mself\u001B[39;49m\u001B[38;5;241;43m.\u001B[39;49m\u001B[43mdefinitions\u001B[49m\n\u001B[1;32m   2190\u001B[0m \u001B[43m\u001B[49m\u001B[43m)\u001B[49m\n",
      "File \u001B[0;32m~/mambaforge/envs/fad/lib/python3.10/site-packages/pydantic/json_schema.py:181\u001B[0m, in \u001B[0;36m_DefinitionsRemapping.from_prioritized_choices\u001B[0;34m(prioritized_choices, defs_to_json, definitions)\u001B[0m\n\u001B[1;32m    178\u001B[0m \u001B[38;5;66;03m# Deduplicate the schemas for each alternative; the idea is that we only want to remap to a new DefsRef\u001B[39;00m\n\u001B[1;32m    179\u001B[0m \u001B[38;5;66;03m# if it introduces no ambiguity, i.e., there is only one distinct schema for that DefsRef.\u001B[39;00m\n\u001B[1;32m    180\u001B[0m \u001B[38;5;28;01mfor\u001B[39;00m defs_ref, schemas \u001B[38;5;129;01min\u001B[39;00m schemas_for_alternatives\u001B[38;5;241m.\u001B[39mitems():\n\u001B[0;32m--> 181\u001B[0m     schemas_for_alternatives[defs_ref] \u001B[38;5;241m=\u001B[39m \u001B[43m_deduplicate_schemas\u001B[49m\u001B[43m(\u001B[49m\u001B[43mschemas_for_alternatives\u001B[49m\u001B[43m[\u001B[49m\u001B[43mdefs_ref\u001B[49m\u001B[43m]\u001B[49m\u001B[43m)\u001B[49m\n\u001B[1;32m    183\u001B[0m \u001B[38;5;66;03m# Build the remapping\u001B[39;00m\n\u001B[1;32m    184\u001B[0m defs_remapping: \u001B[38;5;28mdict\u001B[39m[DefsRef, DefsRef] \u001B[38;5;241m=\u001B[39m {}\n",
      "File \u001B[0;32m~/mambaforge/envs/fad/lib/python3.10/site-packages/pydantic/json_schema.py:2299\u001B[0m, in \u001B[0;36m_deduplicate_schemas\u001B[0;34m(schemas)\u001B[0m\n\u001B[1;32m   2298\u001B[0m \u001B[38;5;28;01mdef\u001B[39;00m \u001B[38;5;21m_deduplicate_schemas\u001B[39m(schemas: Iterable[JsonDict]) \u001B[38;5;241m-\u001B[39m\u001B[38;5;241m>\u001B[39m \u001B[38;5;28mlist\u001B[39m[JsonDict]:\n\u001B[0;32m-> 2299\u001B[0m     \u001B[38;5;28;01mreturn\u001B[39;00m \u001B[38;5;28mlist\u001B[39m({_make_json_hashable(schema): schema \u001B[38;5;28;01mfor\u001B[39;00m schema \u001B[38;5;129;01min\u001B[39;00m schemas}\u001B[38;5;241m.\u001B[39mvalues())\n",
      "File \u001B[0;32m~/mambaforge/envs/fad/lib/python3.10/site-packages/pydantic/json_schema.py:2299\u001B[0m, in \u001B[0;36m<dictcomp>\u001B[0;34m(.0)\u001B[0m\n\u001B[1;32m   2298\u001B[0m \u001B[38;5;28;01mdef\u001B[39;00m \u001B[38;5;21m_deduplicate_schemas\u001B[39m(schemas: Iterable[JsonDict]) \u001B[38;5;241m-\u001B[39m\u001B[38;5;241m>\u001B[39m \u001B[38;5;28mlist\u001B[39m[JsonDict]:\n\u001B[0;32m-> 2299\u001B[0m     \u001B[38;5;28;01mreturn\u001B[39;00m \u001B[38;5;28mlist\u001B[39m({_make_json_hashable(schema): schema \u001B[38;5;28;01mfor\u001B[39;00m schema \u001B[38;5;129;01min\u001B[39;00m schemas}\u001B[38;5;241m.\u001B[39mvalues())\n",
      "\u001B[0;31mTypeError\u001B[0m: unhashable type: 'dict'"
     ]
    }
   ],
   "execution_count": 41
  },
  {
   "metadata": {
    "ExecuteTime": {
     "end_time": "2024-04-28T13:17:45.694478Z",
     "start_time": "2024-04-28T13:17:45.691605Z"
    }
   },
   "cell_type": "code",
   "source": [
    "def extract(content):\n",
    "    return client.chat.completions.create(\n",
    "        model=\"gpt-3.5-turbo\",\n",
    "        messages=[\n",
    "            {\"role\": \"user\",\n",
    "             \"content\": f\"Extract the ome image'{content}'\"}],\n",
    "        response_model=OME\n",
    "    )"
   ],
   "outputs": [],
   "execution_count": 46
  },
  {
   "metadata": {
    "ExecuteTime": {
     "end_time": "2024-04-28T13:17:47.426452Z",
     "start_time": "2024-04-28T13:17:47.246633Z"
    }
   },
   "cell_type": "code",
   "source": "extract(content).model_dump()",
   "outputs": [
    {
     "ename": "TypeError",
     "evalue": "unhashable type: 'dict'",
     "output_type": "error",
     "traceback": [
      "\u001B[0;31m---------------------------------------------------------------------------\u001B[0m",
      "\u001B[0;31mTypeError\u001B[0m                                 Traceback (most recent call last)",
      "Cell \u001B[0;32mIn[47], line 1\u001B[0m\n\u001B[0;32m----> 1\u001B[0m \u001B[43mextract\u001B[49m\u001B[43m(\u001B[49m\u001B[43mcontent\u001B[49m\u001B[43m)\u001B[49m\u001B[38;5;241m.\u001B[39mmodel_dump()\n",
      "Cell \u001B[0;32mIn[46], line 2\u001B[0m, in \u001B[0;36mextract\u001B[0;34m(content)\u001B[0m\n\u001B[1;32m      1\u001B[0m \u001B[38;5;28;01mdef\u001B[39;00m \u001B[38;5;21mextract\u001B[39m(content):\n\u001B[0;32m----> 2\u001B[0m     \u001B[38;5;28;01mreturn\u001B[39;00m \u001B[43mclient\u001B[49m\u001B[38;5;241;43m.\u001B[39;49m\u001B[43mchat\u001B[49m\u001B[38;5;241;43m.\u001B[39;49m\u001B[43mcompletions\u001B[49m\u001B[38;5;241;43m.\u001B[39;49m\u001B[43mcreate\u001B[49m\u001B[43m(\u001B[49m\n\u001B[1;32m      3\u001B[0m \u001B[43m        \u001B[49m\u001B[43mmodel\u001B[49m\u001B[38;5;241;43m=\u001B[39;49m\u001B[38;5;124;43m\"\u001B[39;49m\u001B[38;5;124;43mgpt-3.5-turbo\u001B[39;49m\u001B[38;5;124;43m\"\u001B[39;49m\u001B[43m,\u001B[49m\n\u001B[1;32m      4\u001B[0m \u001B[43m        \u001B[49m\u001B[43mmessages\u001B[49m\u001B[38;5;241;43m=\u001B[39;49m\u001B[43m[\u001B[49m\n\u001B[1;32m      5\u001B[0m \u001B[43m            \u001B[49m\u001B[43m{\u001B[49m\u001B[38;5;124;43m\"\u001B[39;49m\u001B[38;5;124;43mrole\u001B[39;49m\u001B[38;5;124;43m\"\u001B[39;49m\u001B[43m:\u001B[49m\u001B[43m \u001B[49m\u001B[38;5;124;43m\"\u001B[39;49m\u001B[38;5;124;43muser\u001B[39;49m\u001B[38;5;124;43m\"\u001B[39;49m\u001B[43m,\u001B[49m\n\u001B[1;32m      6\u001B[0m \u001B[43m             \u001B[49m\u001B[38;5;124;43m\"\u001B[39;49m\u001B[38;5;124;43mcontent\u001B[39;49m\u001B[38;5;124;43m\"\u001B[39;49m\u001B[43m:\u001B[49m\u001B[43m \u001B[49m\u001B[38;5;124;43mf\u001B[39;49m\u001B[38;5;124;43m\"\u001B[39;49m\u001B[38;5;124;43mExtract the ome image\u001B[39;49m\u001B[38;5;124;43m'\u001B[39;49m\u001B[38;5;132;43;01m{\u001B[39;49;00m\u001B[43mcontent\u001B[49m\u001B[38;5;132;43;01m}\u001B[39;49;00m\u001B[38;5;124;43m'\u001B[39;49m\u001B[38;5;124;43m\"\u001B[39;49m\u001B[43m}\u001B[49m\u001B[43m]\u001B[49m\u001B[43m,\u001B[49m\n\u001B[1;32m      7\u001B[0m \u001B[43m        \u001B[49m\u001B[43mresponse_model\u001B[49m\u001B[38;5;241;43m=\u001B[39;49m\u001B[43mOME\u001B[49m\n\u001B[1;32m      8\u001B[0m \u001B[43m    \u001B[49m\u001B[43m)\u001B[49m\n",
      "File \u001B[0;32m~/mambaforge/envs/fad/lib/python3.10/site-packages/instructor/patch.py:144\u001B[0m, in \u001B[0;36mpatch.<locals>.new_create_sync\u001B[0;34m(response_model, validation_context, max_retries, *args, **kwargs)\u001B[0m\n\u001B[1;32m    136\u001B[0m \u001B[38;5;129m@wraps\u001B[39m(func)\n\u001B[1;32m    137\u001B[0m \u001B[38;5;28;01mdef\u001B[39;00m \u001B[38;5;21mnew_create_sync\u001B[39m(\n\u001B[1;32m    138\u001B[0m     response_model: Type[T_Model] \u001B[38;5;241m=\u001B[39m \u001B[38;5;28;01mNone\u001B[39;00m,\n\u001B[0;32m   (...)\u001B[0m\n\u001B[1;32m    142\u001B[0m     \u001B[38;5;241m*\u001B[39m\u001B[38;5;241m*\u001B[39mkwargs: T_ParamSpec\u001B[38;5;241m.\u001B[39mkwargs,\n\u001B[1;32m    143\u001B[0m ) \u001B[38;5;241m-\u001B[39m\u001B[38;5;241m>\u001B[39m T_Model:\n\u001B[0;32m--> 144\u001B[0m     response_model, new_kwargs \u001B[38;5;241m=\u001B[39m \u001B[43mhandle_response_model\u001B[49m\u001B[43m(\u001B[49m\n\u001B[1;32m    145\u001B[0m \u001B[43m        \u001B[49m\u001B[43mresponse_model\u001B[49m\u001B[38;5;241;43m=\u001B[39;49m\u001B[43mresponse_model\u001B[49m\u001B[43m,\u001B[49m\u001B[43m \u001B[49m\u001B[43mmode\u001B[49m\u001B[38;5;241;43m=\u001B[39;49m\u001B[43mmode\u001B[49m\u001B[43m,\u001B[49m\u001B[43m \u001B[49m\u001B[38;5;241;43m*\u001B[39;49m\u001B[38;5;241;43m*\u001B[39;49m\u001B[43mkwargs\u001B[49m\n\u001B[1;32m    146\u001B[0m \u001B[43m    \u001B[49m\u001B[43m)\u001B[49m\n\u001B[1;32m    147\u001B[0m     response \u001B[38;5;241m=\u001B[39m retry_sync(\n\u001B[1;32m    148\u001B[0m         func\u001B[38;5;241m=\u001B[39mfunc,\n\u001B[1;32m    149\u001B[0m         response_model\u001B[38;5;241m=\u001B[39mresponse_model,\n\u001B[0;32m   (...)\u001B[0m\n\u001B[1;32m    154\u001B[0m         mode\u001B[38;5;241m=\u001B[39mmode,\n\u001B[1;32m    155\u001B[0m     )\n\u001B[1;32m    156\u001B[0m     \u001B[38;5;28;01mreturn\u001B[39;00m response\n",
      "File \u001B[0;32m~/mambaforge/envs/fad/lib/python3.10/site-packages/instructor/process_response.py:226\u001B[0m, in \u001B[0;36mhandle_response_model\u001B[0;34m(response_model, mode, **kwargs)\u001B[0m\n\u001B[1;32m    221\u001B[0m     \u001B[38;5;28;01mraise\u001B[39;00m \u001B[38;5;167;01mNotImplementedError\u001B[39;00m(\n\u001B[1;32m    222\u001B[0m         \u001B[38;5;124m\"\u001B[39m\u001B[38;5;124mstream=True is not supported when using response_model parameter for non-iterables\u001B[39m\u001B[38;5;124m\"\u001B[39m\n\u001B[1;32m    223\u001B[0m     )\n\u001B[1;32m    225\u001B[0m \u001B[38;5;28;01mif\u001B[39;00m mode \u001B[38;5;241m==\u001B[39m Mode\u001B[38;5;241m.\u001B[39mFUNCTIONS:\n\u001B[0;32m--> 226\u001B[0m     new_kwargs[\u001B[38;5;124m\"\u001B[39m\u001B[38;5;124mfunctions\u001B[39m\u001B[38;5;124m\"\u001B[39m] \u001B[38;5;241m=\u001B[39m [\u001B[43mresponse_model\u001B[49m\u001B[38;5;241;43m.\u001B[39;49m\u001B[43mopenai_schema\u001B[49m]  \u001B[38;5;66;03m# type: ignore\u001B[39;00m\n\u001B[1;32m    227\u001B[0m     new_kwargs[\u001B[38;5;124m\"\u001B[39m\u001B[38;5;124mfunction_call\u001B[39m\u001B[38;5;124m\"\u001B[39m] \u001B[38;5;241m=\u001B[39m {\u001B[38;5;124m\"\u001B[39m\u001B[38;5;124mname\u001B[39m\u001B[38;5;124m\"\u001B[39m: response_model\u001B[38;5;241m.\u001B[39mopenai_schema[\u001B[38;5;124m\"\u001B[39m\u001B[38;5;124mname\u001B[39m\u001B[38;5;124m\"\u001B[39m]}  \u001B[38;5;66;03m# type: ignore\u001B[39;00m\n\u001B[1;32m    228\u001B[0m \u001B[38;5;28;01melif\u001B[39;00m mode \u001B[38;5;129;01min\u001B[39;00m {Mode\u001B[38;5;241m.\u001B[39mTOOLS, Mode\u001B[38;5;241m.\u001B[39mMISTRAL_TOOLS}:\n",
      "File \u001B[0;32m~/mambaforge/envs/fad/lib/python3.10/site-packages/instructor/function_calls.py:32\u001B[0m, in \u001B[0;36mOpenAISchema.openai_schema\u001B[0;34m(cls)\u001B[0m\n\u001B[1;32m     20\u001B[0m \u001B[38;5;129m@classmethod\u001B[39m  \u001B[38;5;66;03m# type: ignore[misc]\u001B[39;00m\n\u001B[1;32m     21\u001B[0m \u001B[38;5;129m@property\u001B[39m\n\u001B[1;32m     22\u001B[0m \u001B[38;5;28;01mdef\u001B[39;00m \u001B[38;5;21mopenai_schema\u001B[39m(\u001B[38;5;28mcls\u001B[39m) \u001B[38;5;241m-\u001B[39m\u001B[38;5;241m>\u001B[39m Dict[\u001B[38;5;28mstr\u001B[39m, Any]:\n\u001B[1;32m     23\u001B[0m \u001B[38;5;250m    \u001B[39m\u001B[38;5;124;03m\"\"\"\u001B[39;00m\n\u001B[1;32m     24\u001B[0m \u001B[38;5;124;03m    Return the schema in the format of OpenAI's schema as jsonschema\u001B[39;00m\n\u001B[1;32m     25\u001B[0m \n\u001B[0;32m   (...)\u001B[0m\n\u001B[1;32m     30\u001B[0m \u001B[38;5;124;03m        model_json_schema (dict): A dictionary in the format of OpenAI's schema as jsonschema\u001B[39;00m\n\u001B[1;32m     31\u001B[0m \u001B[38;5;124;03m    \"\"\"\u001B[39;00m\n\u001B[0;32m---> 32\u001B[0m     schema \u001B[38;5;241m=\u001B[39m \u001B[38;5;28;43mcls\u001B[39;49m\u001B[38;5;241;43m.\u001B[39;49m\u001B[43mmodel_json_schema\u001B[49m\u001B[43m(\u001B[49m\u001B[43m)\u001B[49m\n\u001B[1;32m     33\u001B[0m     docstring \u001B[38;5;241m=\u001B[39m parse(\u001B[38;5;28mcls\u001B[39m\u001B[38;5;241m.\u001B[39m\u001B[38;5;18m__doc__\u001B[39m \u001B[38;5;129;01mor\u001B[39;00m \u001B[38;5;124m\"\u001B[39m\u001B[38;5;124m\"\u001B[39m)\n\u001B[1;32m     34\u001B[0m     parameters \u001B[38;5;241m=\u001B[39m {\n\u001B[1;32m     35\u001B[0m         k: v \u001B[38;5;28;01mfor\u001B[39;00m k, v \u001B[38;5;129;01min\u001B[39;00m schema\u001B[38;5;241m.\u001B[39mitems() \u001B[38;5;28;01mif\u001B[39;00m k \u001B[38;5;129;01mnot\u001B[39;00m \u001B[38;5;129;01min\u001B[39;00m (\u001B[38;5;124m\"\u001B[39m\u001B[38;5;124mtitle\u001B[39m\u001B[38;5;124m\"\u001B[39m, \u001B[38;5;124m\"\u001B[39m\u001B[38;5;124mdescription\u001B[39m\u001B[38;5;124m\"\u001B[39m)\n\u001B[1;32m     36\u001B[0m     }\n",
      "File \u001B[0;32m~/mambaforge/envs/fad/lib/python3.10/site-packages/pydantic/main.py:414\u001B[0m, in \u001B[0;36mBaseModel.model_json_schema\u001B[0;34m(cls, by_alias, ref_template, schema_generator, mode)\u001B[0m\n\u001B[1;32m    394\u001B[0m \u001B[38;5;129m@classmethod\u001B[39m\n\u001B[1;32m    395\u001B[0m \u001B[38;5;28;01mdef\u001B[39;00m \u001B[38;5;21mmodel_json_schema\u001B[39m(\n\u001B[1;32m    396\u001B[0m     \u001B[38;5;28mcls\u001B[39m,\n\u001B[0;32m   (...)\u001B[0m\n\u001B[1;32m    400\u001B[0m     mode: JsonSchemaMode \u001B[38;5;241m=\u001B[39m \u001B[38;5;124m'\u001B[39m\u001B[38;5;124mvalidation\u001B[39m\u001B[38;5;124m'\u001B[39m,\n\u001B[1;32m    401\u001B[0m ) \u001B[38;5;241m-\u001B[39m\u001B[38;5;241m>\u001B[39m \u001B[38;5;28mdict\u001B[39m[\u001B[38;5;28mstr\u001B[39m, Any]:\n\u001B[1;32m    402\u001B[0m \u001B[38;5;250m    \u001B[39m\u001B[38;5;124;03m\"\"\"Generates a JSON schema for a model class.\u001B[39;00m\n\u001B[1;32m    403\u001B[0m \n\u001B[1;32m    404\u001B[0m \u001B[38;5;124;03m    Args:\u001B[39;00m\n\u001B[0;32m   (...)\u001B[0m\n\u001B[1;32m    412\u001B[0m \u001B[38;5;124;03m        The JSON schema for the given model class.\u001B[39;00m\n\u001B[1;32m    413\u001B[0m \u001B[38;5;124;03m    \"\"\"\u001B[39;00m\n\u001B[0;32m--> 414\u001B[0m     \u001B[38;5;28;01mreturn\u001B[39;00m \u001B[43mmodel_json_schema\u001B[49m\u001B[43m(\u001B[49m\n\u001B[1;32m    415\u001B[0m \u001B[43m        \u001B[49m\u001B[38;5;28;43mcls\u001B[39;49m\u001B[43m,\u001B[49m\u001B[43m \u001B[49m\u001B[43mby_alias\u001B[49m\u001B[38;5;241;43m=\u001B[39;49m\u001B[43mby_alias\u001B[49m\u001B[43m,\u001B[49m\u001B[43m \u001B[49m\u001B[43mref_template\u001B[49m\u001B[38;5;241;43m=\u001B[39;49m\u001B[43mref_template\u001B[49m\u001B[43m,\u001B[49m\u001B[43m \u001B[49m\u001B[43mschema_generator\u001B[49m\u001B[38;5;241;43m=\u001B[39;49m\u001B[43mschema_generator\u001B[49m\u001B[43m,\u001B[49m\u001B[43m \u001B[49m\u001B[43mmode\u001B[49m\u001B[38;5;241;43m=\u001B[39;49m\u001B[43mmode\u001B[49m\n\u001B[1;32m    416\u001B[0m \u001B[43m    \u001B[49m\u001B[43m)\u001B[49m\n",
      "File \u001B[0;32m~/mambaforge/envs/fad/lib/python3.10/site-packages/pydantic/json_schema.py:2241\u001B[0m, in \u001B[0;36mmodel_json_schema\u001B[0;34m(cls, by_alias, ref_template, schema_generator, mode)\u001B[0m\n\u001B[1;32m   2239\u001B[0m     \u001B[38;5;28;01mraise\u001B[39;00m \u001B[38;5;167;01mAttributeError\u001B[39;00m(\u001B[38;5;124m'\u001B[39m\u001B[38;5;124mmodel_json_schema() must be called on a subclass of BaseModel, not BaseModel itself.\u001B[39m\u001B[38;5;124m'\u001B[39m)\n\u001B[1;32m   2240\u001B[0m \u001B[38;5;28;01massert\u001B[39;00m \u001B[38;5;124m'\u001B[39m\u001B[38;5;124m__pydantic_core_schema__\u001B[39m\u001B[38;5;124m'\u001B[39m \u001B[38;5;129;01min\u001B[39;00m \u001B[38;5;28mcls\u001B[39m\u001B[38;5;241m.\u001B[39m\u001B[38;5;18m__dict__\u001B[39m, \u001B[38;5;124m'\u001B[39m\u001B[38;5;124mthis is a bug! please report it\u001B[39m\u001B[38;5;124m'\u001B[39m\n\u001B[0;32m-> 2241\u001B[0m \u001B[38;5;28;01mreturn\u001B[39;00m \u001B[43mschema_generator_instance\u001B[49m\u001B[38;5;241;43m.\u001B[39;49m\u001B[43mgenerate\u001B[49m\u001B[43m(\u001B[49m\u001B[38;5;28;43mcls\u001B[39;49m\u001B[38;5;241;43m.\u001B[39;49m\u001B[43m__pydantic_core_schema__\u001B[49m\u001B[43m,\u001B[49m\u001B[43m \u001B[49m\u001B[43mmode\u001B[49m\u001B[38;5;241;43m=\u001B[39;49m\u001B[43mmode\u001B[49m\u001B[43m)\u001B[49m\n",
      "File \u001B[0;32m~/mambaforge/envs/fad/lib/python3.10/site-packages/pydantic/json_schema.py:429\u001B[0m, in \u001B[0;36mGenerateJsonSchema.generate\u001B[0;34m(self, schema, mode)\u001B[0m\n\u001B[1;32m    426\u001B[0m     ref \u001B[38;5;241m=\u001B[39m cast(JsonRef, json_schema\u001B[38;5;241m.\u001B[39mget(\u001B[38;5;124m'\u001B[39m\u001B[38;5;124m$ref\u001B[39m\u001B[38;5;124m'\u001B[39m))\n\u001B[1;32m    428\u001B[0m \u001B[38;5;28mself\u001B[39m\u001B[38;5;241m.\u001B[39m_garbage_collect_definitions(json_schema)\n\u001B[0;32m--> 429\u001B[0m definitions_remapping \u001B[38;5;241m=\u001B[39m \u001B[38;5;28;43mself\u001B[39;49m\u001B[38;5;241;43m.\u001B[39;49m\u001B[43m_build_definitions_remapping\u001B[49m\u001B[43m(\u001B[49m\u001B[43m)\u001B[49m\n\u001B[1;32m    431\u001B[0m \u001B[38;5;28;01mif\u001B[39;00m \u001B[38;5;28mself\u001B[39m\u001B[38;5;241m.\u001B[39mdefinitions:\n\u001B[1;32m    432\u001B[0m     json_schema[\u001B[38;5;124m'\u001B[39m\u001B[38;5;124m$defs\u001B[39m\u001B[38;5;124m'\u001B[39m] \u001B[38;5;241m=\u001B[39m \u001B[38;5;28mself\u001B[39m\u001B[38;5;241m.\u001B[39mdefinitions\n",
      "File \u001B[0;32m~/mambaforge/envs/fad/lib/python3.10/site-packages/pydantic/json_schema.py:2188\u001B[0m, in \u001B[0;36mGenerateJsonSchema._build_definitions_remapping\u001B[0;34m(self)\u001B[0m\n\u001B[1;32m   2185\u001B[0m         json_ref \u001B[38;5;241m=\u001B[39m JsonRef(\u001B[38;5;28mself\u001B[39m\u001B[38;5;241m.\u001B[39mref_template\u001B[38;5;241m.\u001B[39mformat(model\u001B[38;5;241m=\u001B[39mdefs_ref))\n\u001B[1;32m   2186\u001B[0m         defs_to_json[defs_ref] \u001B[38;5;241m=\u001B[39m json_ref\n\u001B[0;32m-> 2188\u001B[0m \u001B[38;5;28;01mreturn\u001B[39;00m \u001B[43m_DefinitionsRemapping\u001B[49m\u001B[38;5;241;43m.\u001B[39;49m\u001B[43mfrom_prioritized_choices\u001B[49m\u001B[43m(\u001B[49m\n\u001B[1;32m   2189\u001B[0m \u001B[43m    \u001B[49m\u001B[38;5;28;43mself\u001B[39;49m\u001B[38;5;241;43m.\u001B[39;49m\u001B[43m_prioritized_defsref_choices\u001B[49m\u001B[43m,\u001B[49m\u001B[43m \u001B[49m\u001B[43mdefs_to_json\u001B[49m\u001B[43m,\u001B[49m\u001B[43m \u001B[49m\u001B[38;5;28;43mself\u001B[39;49m\u001B[38;5;241;43m.\u001B[39;49m\u001B[43mdefinitions\u001B[49m\n\u001B[1;32m   2190\u001B[0m \u001B[43m\u001B[49m\u001B[43m)\u001B[49m\n",
      "File \u001B[0;32m~/mambaforge/envs/fad/lib/python3.10/site-packages/pydantic/json_schema.py:181\u001B[0m, in \u001B[0;36m_DefinitionsRemapping.from_prioritized_choices\u001B[0;34m(prioritized_choices, defs_to_json, definitions)\u001B[0m\n\u001B[1;32m    178\u001B[0m \u001B[38;5;66;03m# Deduplicate the schemas for each alternative; the idea is that we only want to remap to a new DefsRef\u001B[39;00m\n\u001B[1;32m    179\u001B[0m \u001B[38;5;66;03m# if it introduces no ambiguity, i.e., there is only one distinct schema for that DefsRef.\u001B[39;00m\n\u001B[1;32m    180\u001B[0m \u001B[38;5;28;01mfor\u001B[39;00m defs_ref, schemas \u001B[38;5;129;01min\u001B[39;00m schemas_for_alternatives\u001B[38;5;241m.\u001B[39mitems():\n\u001B[0;32m--> 181\u001B[0m     schemas_for_alternatives[defs_ref] \u001B[38;5;241m=\u001B[39m \u001B[43m_deduplicate_schemas\u001B[49m\u001B[43m(\u001B[49m\u001B[43mschemas_for_alternatives\u001B[49m\u001B[43m[\u001B[49m\u001B[43mdefs_ref\u001B[49m\u001B[43m]\u001B[49m\u001B[43m)\u001B[49m\n\u001B[1;32m    183\u001B[0m \u001B[38;5;66;03m# Build the remapping\u001B[39;00m\n\u001B[1;32m    184\u001B[0m defs_remapping: \u001B[38;5;28mdict\u001B[39m[DefsRef, DefsRef] \u001B[38;5;241m=\u001B[39m {}\n",
      "File \u001B[0;32m~/mambaforge/envs/fad/lib/python3.10/site-packages/pydantic/json_schema.py:2299\u001B[0m, in \u001B[0;36m_deduplicate_schemas\u001B[0;34m(schemas)\u001B[0m\n\u001B[1;32m   2298\u001B[0m \u001B[38;5;28;01mdef\u001B[39;00m \u001B[38;5;21m_deduplicate_schemas\u001B[39m(schemas: Iterable[JsonDict]) \u001B[38;5;241m-\u001B[39m\u001B[38;5;241m>\u001B[39m \u001B[38;5;28mlist\u001B[39m[JsonDict]:\n\u001B[0;32m-> 2299\u001B[0m     \u001B[38;5;28;01mreturn\u001B[39;00m \u001B[38;5;28mlist\u001B[39m({_make_json_hashable(schema): schema \u001B[38;5;28;01mfor\u001B[39;00m schema \u001B[38;5;129;01min\u001B[39;00m schemas}\u001B[38;5;241m.\u001B[39mvalues())\n",
      "File \u001B[0;32m~/mambaforge/envs/fad/lib/python3.10/site-packages/pydantic/json_schema.py:2299\u001B[0m, in \u001B[0;36m<dictcomp>\u001B[0;34m(.0)\u001B[0m\n\u001B[1;32m   2298\u001B[0m \u001B[38;5;28;01mdef\u001B[39;00m \u001B[38;5;21m_deduplicate_schemas\u001B[39m(schemas: Iterable[JsonDict]) \u001B[38;5;241m-\u001B[39m\u001B[38;5;241m>\u001B[39m \u001B[38;5;28mlist\u001B[39m[JsonDict]:\n\u001B[0;32m-> 2299\u001B[0m     \u001B[38;5;28;01mreturn\u001B[39;00m \u001B[38;5;28mlist\u001B[39m({_make_json_hashable(schema): schema \u001B[38;5;28;01mfor\u001B[39;00m schema \u001B[38;5;129;01min\u001B[39;00m schemas}\u001B[38;5;241m.\u001B[39mvalues())\n",
      "\u001B[0;31mTypeError\u001B[0m: unhashable type: 'dict'"
     ]
    }
   ],
   "execution_count": 47
  },
  {
   "metadata": {
    "ExecuteTime": {
     "end_time": "2024-04-28T13:05:09.160877Z",
     "start_time": "2024-04-28T13:05:08.554857Z"
    }
   },
   "cell_type": "code",
   "source": [
    "import ome_types\n",
    "from ome_types._autogenerated import ome_2016_06 as OME\n",
    "from ome_types._mixins._base_type import OMEType\n",
    "from pydantic import BaseModel\n",
    "import instructor\n",
    "from openai import OpenAI\n",
    "\n",
    "client = instructor.patch(OpenAI(), mode=instructor.Mode.FUNCTIONS)\n",
    "\n",
    "\n",
    "\n",
    "def extract(content):\n",
    "    return client.chat.completions.create(\n",
    "        model=\"gpt-3.5-turbo\",\n",
    "        messages=[\n",
    "            {\"role\": \"user\",\n",
    "             \"content\": f\"Extract '{content}'\"}],\n",
    "        response_model=OME.Image\n",
    "    )\n",
    "\n",
    "content= (\" BitsPerPixel\t8\"\n",
    "          \"DimensionOrder\tXYCZT\"\n",
    "          \"IsInterleaved\tfalse\"\n",
    "          \"IsRGB\tfalse\"\n",
    "          \"LittleEndian\ttrue\"\n",
    "          \"PixelType\tuint8\"\n",
    "          \"Series 0 Name\tImage 8 #1\"\n",
    "          \"SizeC\t3\"\n",
    "          \"SizeT\t30\"\n",
    "          \"SizeX\t680\"\n",
    "          \"SizeY\t280\"\n",
    "          \"SizeZ\t1\")\n",
    "\n",
    "extract(content).model_dump()"
   ],
   "outputs": [
    {
     "ename": "BadRequestError",
     "evalue": "Error code: 400 - {'error': {'message': '\"This element describes the actual image and its meta-data.\\\\n\\\\nThe elements that are references (ending in Ref or Settings) refer\\\\nto elements defined outside of the Image element. Ref elements are\\\\nsimple links, while Settings elements are links with additional\\\\nvalues. If any of the required Image attributes or elements are\\\\nmissing, its guaranteed to be an invalid document. The required\\\\nattributes and elements are ID and Pixels. ExperimenterRef is\\\\nrequired for all Images with well formed LSIDs. ImageType is a\\\\nvendor-specific designation of the type of image this is. Examples\\\\nof ImageType include \\'STK\\', \\'SoftWorx\\', etc. The Name attributes are\\\\nin all cases the name of the element instance. In this case, the\\\\nname of the image, not necessarily the filename. Physical size of\\\\npixels are microns[µm].\\\\n\\\\nAttributes\\\\n----------\\\\nacquisition_date : None | datetime\\\\n    The acquisition date of the Image. The element contains an xsd:dateTime\\\\n    string based on the ISO 8601 format (i.e. 1988-04-07T18:39:09.359) YYYY-MM-\\\\n    DDTHH:mm:SS.sssZ Y - Year M - Month D - Day H - Hour m - minutes S -\\\\n    Seconds s - sub-seconds (optional) Z - Zone (optional) +HH:mm or -HH:mm or\\\\n    Z for UTC Note: xsd:dataTime supports a very wide date range with unlimited\\\\n    precision. The full date range and precision are not typically supported by\\\\n    platform- and language-specific libraries. Where the supported time\\\\n    precision is less than the precision used by the xsd:dateTime timestamp\\\\n    there will be loss of precision; this will typically occur via direct\\\\n    truncation or (less commonly) rounding. The year value can be large and/or\\\\n    negative. Any value covering the current or last century should be\\\\n    correctly processed, but some systems cannot process earlier dates. The\\\\n    sub-second value is defined as an unlimited number of digits after the\\\\n    decimal point. In Java a minimum of millisecond precision is guaranteed. In\\\\n    C++ microsecond precision is guaranteed, with nanosecond precision being\\\\n    available on some platforms. Time zones are supported, eg\\\\n    \\'2013-10-24T11:52:33+01:00\\' for Paris, but in most cases it will be\\\\n    converted to UTC when the timestamp is written.\\\\nexperimenter_ref : None | ExperimenterRef\\\\n    (The Image ExperimenterRef).\\\\ndescription : None | str\\\\n    A description for the image. [plain-text multi-line string]\\\\nexperiment_ref : None | ExperimentRef\\\\n    (The Image ExperimentRef).\\\\nexperimenter_group_ref : None | ExperimenterGroupRef\\\\n    (The Image ExperimenterGroupRef).\\\\ninstrument_ref : None | InstrumentRef\\\\n    (The Image InstrumentRef).\\\\nobjective_settings : None | ObjectiveSettings\\\\n    (The Image ObjectiveSettings).\\\\nimaging_environment : None | ImagingEnvironment\\\\n    (The Image ImagingEnvironment).\\\\nstage_label : None | StageLabel\\\\n    (The Image StageLabel).\\\\npixels : Pixels\\\\n    (The Image Pixels).\\\\nroi_ref : list[ROIRef]\\\\n    (The Image ROIRefs).\\\\nmicrobeam_manipulation_ref : list[MicrobeamManipulationRef]\\\\n    (The Image MicrobeamManipulationRefs).\\\\nannotation_ref : list[AnnotationRef]\\\\n    (The Image AnnotationRefs).\\\\nid : str\\\\n    (The Image ID).\\\\nname : None | str\\\\n    (The Image Name).\" is too long - \\'functions.0.description\\'', 'type': 'invalid_request_error', 'param': None, 'code': None}}",
     "output_type": "error",
     "traceback": [
      "\u001B[0;31m---------------------------------------------------------------------------\u001B[0m",
      "\u001B[0;31mBadRequestError\u001B[0m                           Traceback (most recent call last)",
      "Cell \u001B[0;32mIn[34], line 34\u001B[0m\n\u001B[1;32m     13\u001B[0m     \u001B[38;5;28;01mreturn\u001B[39;00m client\u001B[38;5;241m.\u001B[39mchat\u001B[38;5;241m.\u001B[39mcompletions\u001B[38;5;241m.\u001B[39mcreate(\n\u001B[1;32m     14\u001B[0m         model\u001B[38;5;241m=\u001B[39m\u001B[38;5;124m\"\u001B[39m\u001B[38;5;124mgpt-3.5-turbo\u001B[39m\u001B[38;5;124m\"\u001B[39m,\n\u001B[1;32m     15\u001B[0m         messages\u001B[38;5;241m=\u001B[39m[\n\u001B[0;32m   (...)\u001B[0m\n\u001B[1;32m     18\u001B[0m         response_model\u001B[38;5;241m=\u001B[39mOME\u001B[38;5;241m.\u001B[39mImage\n\u001B[1;32m     19\u001B[0m     )\n\u001B[1;32m     21\u001B[0m content\u001B[38;5;241m=\u001B[39m (\u001B[38;5;124m\"\u001B[39m\u001B[38;5;124m BitsPerPixel\t8\u001B[39m\u001B[38;5;124m\"\u001B[39m\n\u001B[1;32m     22\u001B[0m           \u001B[38;5;124m\"\u001B[39m\u001B[38;5;124mDimensionOrder\tXYCZT\u001B[39m\u001B[38;5;124m\"\u001B[39m\n\u001B[1;32m     23\u001B[0m           \u001B[38;5;124m\"\u001B[39m\u001B[38;5;124mIsInterleaved\tfalse\u001B[39m\u001B[38;5;124m\"\u001B[39m\n\u001B[0;32m   (...)\u001B[0m\n\u001B[1;32m     31\u001B[0m           \u001B[38;5;124m\"\u001B[39m\u001B[38;5;124mSizeY\t280\u001B[39m\u001B[38;5;124m\"\u001B[39m\n\u001B[1;32m     32\u001B[0m           \u001B[38;5;124m\"\u001B[39m\u001B[38;5;124mSizeZ\t1\u001B[39m\u001B[38;5;124m\"\u001B[39m)\n\u001B[0;32m---> 34\u001B[0m \u001B[43mextract\u001B[49m\u001B[43m(\u001B[49m\u001B[43mcontent\u001B[49m\u001B[43m)\u001B[49m\u001B[38;5;241m.\u001B[39mmodel_dump()\n",
      "Cell \u001B[0;32mIn[34], line 13\u001B[0m, in \u001B[0;36mextract\u001B[0;34m(content)\u001B[0m\n\u001B[1;32m     12\u001B[0m \u001B[38;5;28;01mdef\u001B[39;00m \u001B[38;5;21mextract\u001B[39m(content):\n\u001B[0;32m---> 13\u001B[0m     \u001B[38;5;28;01mreturn\u001B[39;00m \u001B[43mclient\u001B[49m\u001B[38;5;241;43m.\u001B[39;49m\u001B[43mchat\u001B[49m\u001B[38;5;241;43m.\u001B[39;49m\u001B[43mcompletions\u001B[49m\u001B[38;5;241;43m.\u001B[39;49m\u001B[43mcreate\u001B[49m\u001B[43m(\u001B[49m\n\u001B[1;32m     14\u001B[0m \u001B[43m        \u001B[49m\u001B[43mmodel\u001B[49m\u001B[38;5;241;43m=\u001B[39;49m\u001B[38;5;124;43m\"\u001B[39;49m\u001B[38;5;124;43mgpt-3.5-turbo\u001B[39;49m\u001B[38;5;124;43m\"\u001B[39;49m\u001B[43m,\u001B[49m\n\u001B[1;32m     15\u001B[0m \u001B[43m        \u001B[49m\u001B[43mmessages\u001B[49m\u001B[38;5;241;43m=\u001B[39;49m\u001B[43m[\u001B[49m\n\u001B[1;32m     16\u001B[0m \u001B[43m            \u001B[49m\u001B[43m{\u001B[49m\u001B[38;5;124;43m\"\u001B[39;49m\u001B[38;5;124;43mrole\u001B[39;49m\u001B[38;5;124;43m\"\u001B[39;49m\u001B[43m:\u001B[49m\u001B[43m \u001B[49m\u001B[38;5;124;43m\"\u001B[39;49m\u001B[38;5;124;43muser\u001B[39;49m\u001B[38;5;124;43m\"\u001B[39;49m\u001B[43m,\u001B[49m\n\u001B[1;32m     17\u001B[0m \u001B[43m             \u001B[49m\u001B[38;5;124;43m\"\u001B[39;49m\u001B[38;5;124;43mcontent\u001B[39;49m\u001B[38;5;124;43m\"\u001B[39;49m\u001B[43m:\u001B[49m\u001B[43m \u001B[49m\u001B[38;5;124;43mf\u001B[39;49m\u001B[38;5;124;43m\"\u001B[39;49m\u001B[38;5;124;43mExtract \u001B[39;49m\u001B[38;5;124;43m'\u001B[39;49m\u001B[38;5;132;43;01m{\u001B[39;49;00m\u001B[43mcontent\u001B[49m\u001B[38;5;132;43;01m}\u001B[39;49;00m\u001B[38;5;124;43m'\u001B[39;49m\u001B[38;5;124;43m\"\u001B[39;49m\u001B[43m}\u001B[49m\u001B[43m]\u001B[49m\u001B[43m,\u001B[49m\n\u001B[1;32m     18\u001B[0m \u001B[43m        \u001B[49m\u001B[43mresponse_model\u001B[49m\u001B[38;5;241;43m=\u001B[39;49m\u001B[43mOME\u001B[49m\u001B[38;5;241;43m.\u001B[39;49m\u001B[43mImage\u001B[49m\n\u001B[1;32m     19\u001B[0m \u001B[43m    \u001B[49m\u001B[43m)\u001B[49m\n",
      "File \u001B[0;32m~/mambaforge/envs/fad/lib/python3.10/site-packages/instructor/patch.py:147\u001B[0m, in \u001B[0;36mpatch.<locals>.new_create_sync\u001B[0;34m(response_model, validation_context, max_retries, *args, **kwargs)\u001B[0m\n\u001B[1;32m    136\u001B[0m \u001B[38;5;129m@wraps\u001B[39m(func)\n\u001B[1;32m    137\u001B[0m \u001B[38;5;28;01mdef\u001B[39;00m \u001B[38;5;21mnew_create_sync\u001B[39m(\n\u001B[1;32m    138\u001B[0m     response_model: Type[T_Model] \u001B[38;5;241m=\u001B[39m \u001B[38;5;28;01mNone\u001B[39;00m,\n\u001B[0;32m   (...)\u001B[0m\n\u001B[1;32m    142\u001B[0m     \u001B[38;5;241m*\u001B[39m\u001B[38;5;241m*\u001B[39mkwargs: T_ParamSpec\u001B[38;5;241m.\u001B[39mkwargs,\n\u001B[1;32m    143\u001B[0m ) \u001B[38;5;241m-\u001B[39m\u001B[38;5;241m>\u001B[39m T_Model:\n\u001B[1;32m    144\u001B[0m     response_model, new_kwargs \u001B[38;5;241m=\u001B[39m handle_response_model(\n\u001B[1;32m    145\u001B[0m         response_model\u001B[38;5;241m=\u001B[39mresponse_model, mode\u001B[38;5;241m=\u001B[39mmode, \u001B[38;5;241m*\u001B[39m\u001B[38;5;241m*\u001B[39mkwargs\n\u001B[1;32m    146\u001B[0m     )\n\u001B[0;32m--> 147\u001B[0m     response \u001B[38;5;241m=\u001B[39m \u001B[43mretry_sync\u001B[49m\u001B[43m(\u001B[49m\n\u001B[1;32m    148\u001B[0m \u001B[43m        \u001B[49m\u001B[43mfunc\u001B[49m\u001B[38;5;241;43m=\u001B[39;49m\u001B[43mfunc\u001B[49m\u001B[43m,\u001B[49m\n\u001B[1;32m    149\u001B[0m \u001B[43m        \u001B[49m\u001B[43mresponse_model\u001B[49m\u001B[38;5;241;43m=\u001B[39;49m\u001B[43mresponse_model\u001B[49m\u001B[43m,\u001B[49m\n\u001B[1;32m    150\u001B[0m \u001B[43m        \u001B[49m\u001B[43mvalidation_context\u001B[49m\u001B[38;5;241;43m=\u001B[39;49m\u001B[43mvalidation_context\u001B[49m\u001B[43m,\u001B[49m\n\u001B[1;32m    151\u001B[0m \u001B[43m        \u001B[49m\u001B[43mmax_retries\u001B[49m\u001B[38;5;241;43m=\u001B[39;49m\u001B[43mmax_retries\u001B[49m\u001B[43m,\u001B[49m\n\u001B[1;32m    152\u001B[0m \u001B[43m        \u001B[49m\u001B[43margs\u001B[49m\u001B[38;5;241;43m=\u001B[39;49m\u001B[43margs\u001B[49m\u001B[43m,\u001B[49m\n\u001B[1;32m    153\u001B[0m \u001B[43m        \u001B[49m\u001B[43mkwargs\u001B[49m\u001B[38;5;241;43m=\u001B[39;49m\u001B[43mnew_kwargs\u001B[49m\u001B[43m,\u001B[49m\n\u001B[1;32m    154\u001B[0m \u001B[43m        \u001B[49m\u001B[43mmode\u001B[49m\u001B[38;5;241;43m=\u001B[39;49m\u001B[43mmode\u001B[49m\u001B[43m,\u001B[49m\n\u001B[1;32m    155\u001B[0m \u001B[43m    \u001B[49m\u001B[43m)\u001B[49m\n\u001B[1;32m    156\u001B[0m     \u001B[38;5;28;01mreturn\u001B[39;00m response\n",
      "File \u001B[0;32m~/mambaforge/envs/fad/lib/python3.10/site-packages/instructor/retry.py:143\u001B[0m, in \u001B[0;36mretry_sync\u001B[0;34m(func, response_model, validation_context, args, kwargs, max_retries, strict, mode)\u001B[0m\n\u001B[1;32m    140\u001B[0m     \u001B[38;5;28;01mraise\u001B[39;00m \u001B[38;5;167;01mValueError\u001B[39;00m(\u001B[38;5;124m\"\u001B[39m\u001B[38;5;124mmax_retries must be an int or a `tenacity.Retrying` object\u001B[39m\u001B[38;5;124m\"\u001B[39m)\n\u001B[1;32m    142\u001B[0m \u001B[38;5;28;01mtry\u001B[39;00m:\n\u001B[0;32m--> 143\u001B[0m     \u001B[38;5;28;01mfor\u001B[39;00m attempt \u001B[38;5;129;01min\u001B[39;00m max_retries:\n\u001B[1;32m    144\u001B[0m         \u001B[38;5;28;01mwith\u001B[39;00m attempt:\n\u001B[1;32m    145\u001B[0m             \u001B[38;5;28;01mtry\u001B[39;00m:\n",
      "File \u001B[0;32m~/mambaforge/envs/fad/lib/python3.10/site-packages/tenacity/__init__.py:347\u001B[0m, in \u001B[0;36mBaseRetrying.__iter__\u001B[0;34m(self)\u001B[0m\n\u001B[1;32m    345\u001B[0m retry_state \u001B[38;5;241m=\u001B[39m RetryCallState(\u001B[38;5;28mself\u001B[39m, fn\u001B[38;5;241m=\u001B[39m\u001B[38;5;28;01mNone\u001B[39;00m, args\u001B[38;5;241m=\u001B[39m(), kwargs\u001B[38;5;241m=\u001B[39m{})\n\u001B[1;32m    346\u001B[0m \u001B[38;5;28;01mwhile\u001B[39;00m \u001B[38;5;28;01mTrue\u001B[39;00m:\n\u001B[0;32m--> 347\u001B[0m     do \u001B[38;5;241m=\u001B[39m \u001B[38;5;28;43mself\u001B[39;49m\u001B[38;5;241;43m.\u001B[39;49m\u001B[43miter\u001B[49m\u001B[43m(\u001B[49m\u001B[43mretry_state\u001B[49m\u001B[38;5;241;43m=\u001B[39;49m\u001B[43mretry_state\u001B[49m\u001B[43m)\u001B[49m\n\u001B[1;32m    348\u001B[0m     \u001B[38;5;28;01mif\u001B[39;00m \u001B[38;5;28misinstance\u001B[39m(do, DoAttempt):\n\u001B[1;32m    349\u001B[0m         \u001B[38;5;28;01myield\u001B[39;00m AttemptManager(retry_state\u001B[38;5;241m=\u001B[39mretry_state)\n",
      "File \u001B[0;32m~/mambaforge/envs/fad/lib/python3.10/site-packages/tenacity/__init__.py:325\u001B[0m, in \u001B[0;36mBaseRetrying.iter\u001B[0;34m(self, retry_state)\u001B[0m\n\u001B[1;32m    323\u001B[0m     retry_exc \u001B[38;5;241m=\u001B[39m \u001B[38;5;28mself\u001B[39m\u001B[38;5;241m.\u001B[39mretry_error_cls(fut)\n\u001B[1;32m    324\u001B[0m     \u001B[38;5;28;01mif\u001B[39;00m \u001B[38;5;28mself\u001B[39m\u001B[38;5;241m.\u001B[39mreraise:\n\u001B[0;32m--> 325\u001B[0m         \u001B[38;5;28;01mraise\u001B[39;00m \u001B[43mretry_exc\u001B[49m\u001B[38;5;241;43m.\u001B[39;49m\u001B[43mreraise\u001B[49m\u001B[43m(\u001B[49m\u001B[43m)\u001B[49m\n\u001B[1;32m    326\u001B[0m     \u001B[38;5;28;01mraise\u001B[39;00m retry_exc \u001B[38;5;28;01mfrom\u001B[39;00m \u001B[38;5;21;01mfut\u001B[39;00m\u001B[38;5;21;01m.\u001B[39;00m\u001B[38;5;21;01mexception\u001B[39;00m()\n\u001B[1;32m    328\u001B[0m \u001B[38;5;28;01mif\u001B[39;00m \u001B[38;5;28mself\u001B[39m\u001B[38;5;241m.\u001B[39mwait:\n",
      "File \u001B[0;32m~/mambaforge/envs/fad/lib/python3.10/site-packages/tenacity/__init__.py:158\u001B[0m, in \u001B[0;36mRetryError.reraise\u001B[0;34m(self)\u001B[0m\n\u001B[1;32m    156\u001B[0m \u001B[38;5;28;01mdef\u001B[39;00m \u001B[38;5;21mreraise\u001B[39m(\u001B[38;5;28mself\u001B[39m) \u001B[38;5;241m-\u001B[39m\u001B[38;5;241m>\u001B[39m t\u001B[38;5;241m.\u001B[39mNoReturn:\n\u001B[1;32m    157\u001B[0m     \u001B[38;5;28;01mif\u001B[39;00m \u001B[38;5;28mself\u001B[39m\u001B[38;5;241m.\u001B[39mlast_attempt\u001B[38;5;241m.\u001B[39mfailed:\n\u001B[0;32m--> 158\u001B[0m         \u001B[38;5;28;01mraise\u001B[39;00m \u001B[38;5;28;43mself\u001B[39;49m\u001B[38;5;241;43m.\u001B[39;49m\u001B[43mlast_attempt\u001B[49m\u001B[38;5;241;43m.\u001B[39;49m\u001B[43mresult\u001B[49m\u001B[43m(\u001B[49m\u001B[43m)\u001B[49m\n\u001B[1;32m    159\u001B[0m     \u001B[38;5;28;01mraise\u001B[39;00m \u001B[38;5;28mself\u001B[39m\n",
      "File \u001B[0;32m~/mambaforge/envs/fad/lib/python3.10/concurrent/futures/_base.py:451\u001B[0m, in \u001B[0;36mFuture.result\u001B[0;34m(self, timeout)\u001B[0m\n\u001B[1;32m    449\u001B[0m     \u001B[38;5;28;01mraise\u001B[39;00m CancelledError()\n\u001B[1;32m    450\u001B[0m \u001B[38;5;28;01melif\u001B[39;00m \u001B[38;5;28mself\u001B[39m\u001B[38;5;241m.\u001B[39m_state \u001B[38;5;241m==\u001B[39m FINISHED:\n\u001B[0;32m--> 451\u001B[0m     \u001B[38;5;28;01mreturn\u001B[39;00m \u001B[38;5;28;43mself\u001B[39;49m\u001B[38;5;241;43m.\u001B[39;49m\u001B[43m__get_result\u001B[49m\u001B[43m(\u001B[49m\u001B[43m)\u001B[49m\n\u001B[1;32m    453\u001B[0m \u001B[38;5;28mself\u001B[39m\u001B[38;5;241m.\u001B[39m_condition\u001B[38;5;241m.\u001B[39mwait(timeout)\n\u001B[1;32m    455\u001B[0m \u001B[38;5;28;01mif\u001B[39;00m \u001B[38;5;28mself\u001B[39m\u001B[38;5;241m.\u001B[39m_state \u001B[38;5;129;01min\u001B[39;00m [CANCELLED, CANCELLED_AND_NOTIFIED]:\n",
      "File \u001B[0;32m~/mambaforge/envs/fad/lib/python3.10/concurrent/futures/_base.py:403\u001B[0m, in \u001B[0;36mFuture.__get_result\u001B[0;34m(self)\u001B[0m\n\u001B[1;32m    401\u001B[0m \u001B[38;5;28;01mif\u001B[39;00m \u001B[38;5;28mself\u001B[39m\u001B[38;5;241m.\u001B[39m_exception:\n\u001B[1;32m    402\u001B[0m     \u001B[38;5;28;01mtry\u001B[39;00m:\n\u001B[0;32m--> 403\u001B[0m         \u001B[38;5;28;01mraise\u001B[39;00m \u001B[38;5;28mself\u001B[39m\u001B[38;5;241m.\u001B[39m_exception\n\u001B[1;32m    404\u001B[0m     \u001B[38;5;28;01mfinally\u001B[39;00m:\n\u001B[1;32m    405\u001B[0m         \u001B[38;5;66;03m# Break a reference cycle with the exception in self._exception\u001B[39;00m\n\u001B[1;32m    406\u001B[0m         \u001B[38;5;28mself\u001B[39m \u001B[38;5;241m=\u001B[39m \u001B[38;5;28;01mNone\u001B[39;00m\n",
      "File \u001B[0;32m~/mambaforge/envs/fad/lib/python3.10/site-packages/instructor/retry.py:146\u001B[0m, in \u001B[0;36mretry_sync\u001B[0;34m(func, response_model, validation_context, args, kwargs, max_retries, strict, mode)\u001B[0m\n\u001B[1;32m    144\u001B[0m \u001B[38;5;28;01mwith\u001B[39;00m attempt:\n\u001B[1;32m    145\u001B[0m     \u001B[38;5;28;01mtry\u001B[39;00m:\n\u001B[0;32m--> 146\u001B[0m         response \u001B[38;5;241m=\u001B[39m \u001B[43mfunc\u001B[49m\u001B[43m(\u001B[49m\u001B[38;5;241;43m*\u001B[39;49m\u001B[43margs\u001B[49m\u001B[43m,\u001B[49m\u001B[43m \u001B[49m\u001B[38;5;241;43m*\u001B[39;49m\u001B[38;5;241;43m*\u001B[39;49m\u001B[43mkwargs\u001B[49m\u001B[43m)\u001B[49m\n\u001B[1;32m    147\u001B[0m         stream \u001B[38;5;241m=\u001B[39m kwargs\u001B[38;5;241m.\u001B[39mget(\u001B[38;5;124m\"\u001B[39m\u001B[38;5;124mstream\u001B[39m\u001B[38;5;124m\"\u001B[39m, \u001B[38;5;28;01mFalse\u001B[39;00m)\n\u001B[1;32m    148\u001B[0m         response \u001B[38;5;241m=\u001B[39m update_total_usage(response, total_usage)\n",
      "File \u001B[0;32m~/mambaforge/envs/fad/lib/python3.10/site-packages/openai/_utils/_utils.py:271\u001B[0m, in \u001B[0;36mrequired_args.<locals>.inner.<locals>.wrapper\u001B[0;34m(*args, **kwargs)\u001B[0m\n\u001B[1;32m    269\u001B[0m             msg \u001B[38;5;241m=\u001B[39m \u001B[38;5;124mf\u001B[39m\u001B[38;5;124m\"\u001B[39m\u001B[38;5;124mMissing required argument: \u001B[39m\u001B[38;5;132;01m{\u001B[39;00mquote(missing[\u001B[38;5;241m0\u001B[39m])\u001B[38;5;132;01m}\u001B[39;00m\u001B[38;5;124m\"\u001B[39m\n\u001B[1;32m    270\u001B[0m     \u001B[38;5;28;01mraise\u001B[39;00m \u001B[38;5;167;01mTypeError\u001B[39;00m(msg)\n\u001B[0;32m--> 271\u001B[0m \u001B[38;5;28;01mreturn\u001B[39;00m \u001B[43mfunc\u001B[49m\u001B[43m(\u001B[49m\u001B[38;5;241;43m*\u001B[39;49m\u001B[43margs\u001B[49m\u001B[43m,\u001B[49m\u001B[43m \u001B[49m\u001B[38;5;241;43m*\u001B[39;49m\u001B[38;5;241;43m*\u001B[39;49m\u001B[43mkwargs\u001B[49m\u001B[43m)\u001B[49m\n",
      "File \u001B[0;32m~/mambaforge/envs/fad/lib/python3.10/site-packages/openai/resources/chat/completions.py:648\u001B[0m, in \u001B[0;36mCompletions.create\u001B[0;34m(self, messages, model, frequency_penalty, function_call, functions, logit_bias, logprobs, max_tokens, n, presence_penalty, response_format, seed, stop, stream, temperature, tool_choice, tools, top_logprobs, top_p, user, extra_headers, extra_query, extra_body, timeout)\u001B[0m\n\u001B[1;32m    599\u001B[0m \u001B[38;5;129m@required_args\u001B[39m([\u001B[38;5;124m\"\u001B[39m\u001B[38;5;124mmessages\u001B[39m\u001B[38;5;124m\"\u001B[39m, \u001B[38;5;124m\"\u001B[39m\u001B[38;5;124mmodel\u001B[39m\u001B[38;5;124m\"\u001B[39m], [\u001B[38;5;124m\"\u001B[39m\u001B[38;5;124mmessages\u001B[39m\u001B[38;5;124m\"\u001B[39m, \u001B[38;5;124m\"\u001B[39m\u001B[38;5;124mmodel\u001B[39m\u001B[38;5;124m\"\u001B[39m, \u001B[38;5;124m\"\u001B[39m\u001B[38;5;124mstream\u001B[39m\u001B[38;5;124m\"\u001B[39m])\n\u001B[1;32m    600\u001B[0m \u001B[38;5;28;01mdef\u001B[39;00m \u001B[38;5;21mcreate\u001B[39m(\n\u001B[1;32m    601\u001B[0m     \u001B[38;5;28mself\u001B[39m,\n\u001B[0;32m   (...)\u001B[0m\n\u001B[1;32m    646\u001B[0m     timeout: \u001B[38;5;28mfloat\u001B[39m \u001B[38;5;241m|\u001B[39m httpx\u001B[38;5;241m.\u001B[39mTimeout \u001B[38;5;241m|\u001B[39m \u001B[38;5;28;01mNone\u001B[39;00m \u001B[38;5;241m|\u001B[39m NotGiven \u001B[38;5;241m=\u001B[39m NOT_GIVEN,\n\u001B[1;32m    647\u001B[0m ) \u001B[38;5;241m-\u001B[39m\u001B[38;5;241m>\u001B[39m ChatCompletion \u001B[38;5;241m|\u001B[39m Stream[ChatCompletionChunk]:\n\u001B[0;32m--> 648\u001B[0m     \u001B[38;5;28;01mreturn\u001B[39;00m \u001B[38;5;28;43mself\u001B[39;49m\u001B[38;5;241;43m.\u001B[39;49m\u001B[43m_post\u001B[49m\u001B[43m(\u001B[49m\n\u001B[1;32m    649\u001B[0m \u001B[43m        \u001B[49m\u001B[38;5;124;43m\"\u001B[39;49m\u001B[38;5;124;43m/chat/completions\u001B[39;49m\u001B[38;5;124;43m\"\u001B[39;49m\u001B[43m,\u001B[49m\n\u001B[1;32m    650\u001B[0m \u001B[43m        \u001B[49m\u001B[43mbody\u001B[49m\u001B[38;5;241;43m=\u001B[39;49m\u001B[43mmaybe_transform\u001B[49m\u001B[43m(\u001B[49m\n\u001B[1;32m    651\u001B[0m \u001B[43m            \u001B[49m\u001B[43m{\u001B[49m\n\u001B[1;32m    652\u001B[0m \u001B[43m                \u001B[49m\u001B[38;5;124;43m\"\u001B[39;49m\u001B[38;5;124;43mmessages\u001B[39;49m\u001B[38;5;124;43m\"\u001B[39;49m\u001B[43m:\u001B[49m\u001B[43m \u001B[49m\u001B[43mmessages\u001B[49m\u001B[43m,\u001B[49m\n\u001B[1;32m    653\u001B[0m \u001B[43m                \u001B[49m\u001B[38;5;124;43m\"\u001B[39;49m\u001B[38;5;124;43mmodel\u001B[39;49m\u001B[38;5;124;43m\"\u001B[39;49m\u001B[43m:\u001B[49m\u001B[43m \u001B[49m\u001B[43mmodel\u001B[49m\u001B[43m,\u001B[49m\n\u001B[1;32m    654\u001B[0m \u001B[43m                \u001B[49m\u001B[38;5;124;43m\"\u001B[39;49m\u001B[38;5;124;43mfrequency_penalty\u001B[39;49m\u001B[38;5;124;43m\"\u001B[39;49m\u001B[43m:\u001B[49m\u001B[43m \u001B[49m\u001B[43mfrequency_penalty\u001B[49m\u001B[43m,\u001B[49m\n\u001B[1;32m    655\u001B[0m \u001B[43m                \u001B[49m\u001B[38;5;124;43m\"\u001B[39;49m\u001B[38;5;124;43mfunction_call\u001B[39;49m\u001B[38;5;124;43m\"\u001B[39;49m\u001B[43m:\u001B[49m\u001B[43m \u001B[49m\u001B[43mfunction_call\u001B[49m\u001B[43m,\u001B[49m\n\u001B[1;32m    656\u001B[0m \u001B[43m                \u001B[49m\u001B[38;5;124;43m\"\u001B[39;49m\u001B[38;5;124;43mfunctions\u001B[39;49m\u001B[38;5;124;43m\"\u001B[39;49m\u001B[43m:\u001B[49m\u001B[43m \u001B[49m\u001B[43mfunctions\u001B[49m\u001B[43m,\u001B[49m\n\u001B[1;32m    657\u001B[0m \u001B[43m                \u001B[49m\u001B[38;5;124;43m\"\u001B[39;49m\u001B[38;5;124;43mlogit_bias\u001B[39;49m\u001B[38;5;124;43m\"\u001B[39;49m\u001B[43m:\u001B[49m\u001B[43m \u001B[49m\u001B[43mlogit_bias\u001B[49m\u001B[43m,\u001B[49m\n\u001B[1;32m    658\u001B[0m \u001B[43m                \u001B[49m\u001B[38;5;124;43m\"\u001B[39;49m\u001B[38;5;124;43mlogprobs\u001B[39;49m\u001B[38;5;124;43m\"\u001B[39;49m\u001B[43m:\u001B[49m\u001B[43m \u001B[49m\u001B[43mlogprobs\u001B[49m\u001B[43m,\u001B[49m\n\u001B[1;32m    659\u001B[0m \u001B[43m                \u001B[49m\u001B[38;5;124;43m\"\u001B[39;49m\u001B[38;5;124;43mmax_tokens\u001B[39;49m\u001B[38;5;124;43m\"\u001B[39;49m\u001B[43m:\u001B[49m\u001B[43m \u001B[49m\u001B[43mmax_tokens\u001B[49m\u001B[43m,\u001B[49m\n\u001B[1;32m    660\u001B[0m \u001B[43m                \u001B[49m\u001B[38;5;124;43m\"\u001B[39;49m\u001B[38;5;124;43mn\u001B[39;49m\u001B[38;5;124;43m\"\u001B[39;49m\u001B[43m:\u001B[49m\u001B[43m \u001B[49m\u001B[43mn\u001B[49m\u001B[43m,\u001B[49m\n\u001B[1;32m    661\u001B[0m \u001B[43m                \u001B[49m\u001B[38;5;124;43m\"\u001B[39;49m\u001B[38;5;124;43mpresence_penalty\u001B[39;49m\u001B[38;5;124;43m\"\u001B[39;49m\u001B[43m:\u001B[49m\u001B[43m \u001B[49m\u001B[43mpresence_penalty\u001B[49m\u001B[43m,\u001B[49m\n\u001B[1;32m    662\u001B[0m \u001B[43m                \u001B[49m\u001B[38;5;124;43m\"\u001B[39;49m\u001B[38;5;124;43mresponse_format\u001B[39;49m\u001B[38;5;124;43m\"\u001B[39;49m\u001B[43m:\u001B[49m\u001B[43m \u001B[49m\u001B[43mresponse_format\u001B[49m\u001B[43m,\u001B[49m\n\u001B[1;32m    663\u001B[0m \u001B[43m                \u001B[49m\u001B[38;5;124;43m\"\u001B[39;49m\u001B[38;5;124;43mseed\u001B[39;49m\u001B[38;5;124;43m\"\u001B[39;49m\u001B[43m:\u001B[49m\u001B[43m \u001B[49m\u001B[43mseed\u001B[49m\u001B[43m,\u001B[49m\n\u001B[1;32m    664\u001B[0m \u001B[43m                \u001B[49m\u001B[38;5;124;43m\"\u001B[39;49m\u001B[38;5;124;43mstop\u001B[39;49m\u001B[38;5;124;43m\"\u001B[39;49m\u001B[43m:\u001B[49m\u001B[43m \u001B[49m\u001B[43mstop\u001B[49m\u001B[43m,\u001B[49m\n\u001B[1;32m    665\u001B[0m \u001B[43m                \u001B[49m\u001B[38;5;124;43m\"\u001B[39;49m\u001B[38;5;124;43mstream\u001B[39;49m\u001B[38;5;124;43m\"\u001B[39;49m\u001B[43m:\u001B[49m\u001B[43m \u001B[49m\u001B[43mstream\u001B[49m\u001B[43m,\u001B[49m\n\u001B[1;32m    666\u001B[0m \u001B[43m                \u001B[49m\u001B[38;5;124;43m\"\u001B[39;49m\u001B[38;5;124;43mtemperature\u001B[39;49m\u001B[38;5;124;43m\"\u001B[39;49m\u001B[43m:\u001B[49m\u001B[43m \u001B[49m\u001B[43mtemperature\u001B[49m\u001B[43m,\u001B[49m\n\u001B[1;32m    667\u001B[0m \u001B[43m                \u001B[49m\u001B[38;5;124;43m\"\u001B[39;49m\u001B[38;5;124;43mtool_choice\u001B[39;49m\u001B[38;5;124;43m\"\u001B[39;49m\u001B[43m:\u001B[49m\u001B[43m \u001B[49m\u001B[43mtool_choice\u001B[49m\u001B[43m,\u001B[49m\n\u001B[1;32m    668\u001B[0m \u001B[43m                \u001B[49m\u001B[38;5;124;43m\"\u001B[39;49m\u001B[38;5;124;43mtools\u001B[39;49m\u001B[38;5;124;43m\"\u001B[39;49m\u001B[43m:\u001B[49m\u001B[43m \u001B[49m\u001B[43mtools\u001B[49m\u001B[43m,\u001B[49m\n\u001B[1;32m    669\u001B[0m \u001B[43m                \u001B[49m\u001B[38;5;124;43m\"\u001B[39;49m\u001B[38;5;124;43mtop_logprobs\u001B[39;49m\u001B[38;5;124;43m\"\u001B[39;49m\u001B[43m:\u001B[49m\u001B[43m \u001B[49m\u001B[43mtop_logprobs\u001B[49m\u001B[43m,\u001B[49m\n\u001B[1;32m    670\u001B[0m \u001B[43m                \u001B[49m\u001B[38;5;124;43m\"\u001B[39;49m\u001B[38;5;124;43mtop_p\u001B[39;49m\u001B[38;5;124;43m\"\u001B[39;49m\u001B[43m:\u001B[49m\u001B[43m \u001B[49m\u001B[43mtop_p\u001B[49m\u001B[43m,\u001B[49m\n\u001B[1;32m    671\u001B[0m \u001B[43m                \u001B[49m\u001B[38;5;124;43m\"\u001B[39;49m\u001B[38;5;124;43muser\u001B[39;49m\u001B[38;5;124;43m\"\u001B[39;49m\u001B[43m:\u001B[49m\u001B[43m \u001B[49m\u001B[43muser\u001B[49m\u001B[43m,\u001B[49m\n\u001B[1;32m    672\u001B[0m \u001B[43m            \u001B[49m\u001B[43m}\u001B[49m\u001B[43m,\u001B[49m\n\u001B[1;32m    673\u001B[0m \u001B[43m            \u001B[49m\u001B[43mcompletion_create_params\u001B[49m\u001B[38;5;241;43m.\u001B[39;49m\u001B[43mCompletionCreateParams\u001B[49m\u001B[43m,\u001B[49m\n\u001B[1;32m    674\u001B[0m \u001B[43m        \u001B[49m\u001B[43m)\u001B[49m\u001B[43m,\u001B[49m\n\u001B[1;32m    675\u001B[0m \u001B[43m        \u001B[49m\u001B[43moptions\u001B[49m\u001B[38;5;241;43m=\u001B[39;49m\u001B[43mmake_request_options\u001B[49m\u001B[43m(\u001B[49m\n\u001B[1;32m    676\u001B[0m \u001B[43m            \u001B[49m\u001B[43mextra_headers\u001B[49m\u001B[38;5;241;43m=\u001B[39;49m\u001B[43mextra_headers\u001B[49m\u001B[43m,\u001B[49m\u001B[43m \u001B[49m\u001B[43mextra_query\u001B[49m\u001B[38;5;241;43m=\u001B[39;49m\u001B[43mextra_query\u001B[49m\u001B[43m,\u001B[49m\u001B[43m \u001B[49m\u001B[43mextra_body\u001B[49m\u001B[38;5;241;43m=\u001B[39;49m\u001B[43mextra_body\u001B[49m\u001B[43m,\u001B[49m\u001B[43m \u001B[49m\u001B[43mtimeout\u001B[49m\u001B[38;5;241;43m=\u001B[39;49m\u001B[43mtimeout\u001B[49m\n\u001B[1;32m    677\u001B[0m \u001B[43m        \u001B[49m\u001B[43m)\u001B[49m\u001B[43m,\u001B[49m\n\u001B[1;32m    678\u001B[0m \u001B[43m        \u001B[49m\u001B[43mcast_to\u001B[49m\u001B[38;5;241;43m=\u001B[39;49m\u001B[43mChatCompletion\u001B[49m\u001B[43m,\u001B[49m\n\u001B[1;32m    679\u001B[0m \u001B[43m        \u001B[49m\u001B[43mstream\u001B[49m\u001B[38;5;241;43m=\u001B[39;49m\u001B[43mstream\u001B[49m\u001B[43m \u001B[49m\u001B[38;5;129;43;01mor\u001B[39;49;00m\u001B[43m \u001B[49m\u001B[38;5;28;43;01mFalse\u001B[39;49;00m\u001B[43m,\u001B[49m\n\u001B[1;32m    680\u001B[0m \u001B[43m        \u001B[49m\u001B[43mstream_cls\u001B[49m\u001B[38;5;241;43m=\u001B[39;49m\u001B[43mStream\u001B[49m\u001B[43m[\u001B[49m\u001B[43mChatCompletionChunk\u001B[49m\u001B[43m]\u001B[49m\u001B[43m,\u001B[49m\n\u001B[1;32m    681\u001B[0m \u001B[43m    \u001B[49m\u001B[43m)\u001B[49m\n",
      "File \u001B[0;32m~/mambaforge/envs/fad/lib/python3.10/site-packages/openai/_base_client.py:1167\u001B[0m, in \u001B[0;36mSyncAPIClient.post\u001B[0;34m(self, path, cast_to, body, options, files, stream, stream_cls)\u001B[0m\n\u001B[1;32m   1153\u001B[0m \u001B[38;5;28;01mdef\u001B[39;00m \u001B[38;5;21mpost\u001B[39m(\n\u001B[1;32m   1154\u001B[0m     \u001B[38;5;28mself\u001B[39m,\n\u001B[1;32m   1155\u001B[0m     path: \u001B[38;5;28mstr\u001B[39m,\n\u001B[0;32m   (...)\u001B[0m\n\u001B[1;32m   1162\u001B[0m     stream_cls: \u001B[38;5;28mtype\u001B[39m[_StreamT] \u001B[38;5;241m|\u001B[39m \u001B[38;5;28;01mNone\u001B[39;00m \u001B[38;5;241m=\u001B[39m \u001B[38;5;28;01mNone\u001B[39;00m,\n\u001B[1;32m   1163\u001B[0m ) \u001B[38;5;241m-\u001B[39m\u001B[38;5;241m>\u001B[39m ResponseT \u001B[38;5;241m|\u001B[39m _StreamT:\n\u001B[1;32m   1164\u001B[0m     opts \u001B[38;5;241m=\u001B[39m FinalRequestOptions\u001B[38;5;241m.\u001B[39mconstruct(\n\u001B[1;32m   1165\u001B[0m         method\u001B[38;5;241m=\u001B[39m\u001B[38;5;124m\"\u001B[39m\u001B[38;5;124mpost\u001B[39m\u001B[38;5;124m\"\u001B[39m, url\u001B[38;5;241m=\u001B[39mpath, json_data\u001B[38;5;241m=\u001B[39mbody, files\u001B[38;5;241m=\u001B[39mto_httpx_files(files), \u001B[38;5;241m*\u001B[39m\u001B[38;5;241m*\u001B[39moptions\n\u001B[1;32m   1166\u001B[0m     )\n\u001B[0;32m-> 1167\u001B[0m     \u001B[38;5;28;01mreturn\u001B[39;00m cast(ResponseT, \u001B[38;5;28;43mself\u001B[39;49m\u001B[38;5;241;43m.\u001B[39;49m\u001B[43mrequest\u001B[49m\u001B[43m(\u001B[49m\u001B[43mcast_to\u001B[49m\u001B[43m,\u001B[49m\u001B[43m \u001B[49m\u001B[43mopts\u001B[49m\u001B[43m,\u001B[49m\u001B[43m \u001B[49m\u001B[43mstream\u001B[49m\u001B[38;5;241;43m=\u001B[39;49m\u001B[43mstream\u001B[49m\u001B[43m,\u001B[49m\u001B[43m \u001B[49m\u001B[43mstream_cls\u001B[49m\u001B[38;5;241;43m=\u001B[39;49m\u001B[43mstream_cls\u001B[49m\u001B[43m)\u001B[49m)\n",
      "File \u001B[0;32m~/mambaforge/envs/fad/lib/python3.10/site-packages/openai/_base_client.py:856\u001B[0m, in \u001B[0;36mSyncAPIClient.request\u001B[0;34m(self, cast_to, options, remaining_retries, stream, stream_cls)\u001B[0m\n\u001B[1;32m    847\u001B[0m \u001B[38;5;28;01mdef\u001B[39;00m \u001B[38;5;21mrequest\u001B[39m(\n\u001B[1;32m    848\u001B[0m     \u001B[38;5;28mself\u001B[39m,\n\u001B[1;32m    849\u001B[0m     cast_to: Type[ResponseT],\n\u001B[0;32m   (...)\u001B[0m\n\u001B[1;32m    854\u001B[0m     stream_cls: \u001B[38;5;28mtype\u001B[39m[_StreamT] \u001B[38;5;241m|\u001B[39m \u001B[38;5;28;01mNone\u001B[39;00m \u001B[38;5;241m=\u001B[39m \u001B[38;5;28;01mNone\u001B[39;00m,\n\u001B[1;32m    855\u001B[0m ) \u001B[38;5;241m-\u001B[39m\u001B[38;5;241m>\u001B[39m ResponseT \u001B[38;5;241m|\u001B[39m _StreamT:\n\u001B[0;32m--> 856\u001B[0m     \u001B[38;5;28;01mreturn\u001B[39;00m \u001B[38;5;28;43mself\u001B[39;49m\u001B[38;5;241;43m.\u001B[39;49m\u001B[43m_request\u001B[49m\u001B[43m(\u001B[49m\n\u001B[1;32m    857\u001B[0m \u001B[43m        \u001B[49m\u001B[43mcast_to\u001B[49m\u001B[38;5;241;43m=\u001B[39;49m\u001B[43mcast_to\u001B[49m\u001B[43m,\u001B[49m\n\u001B[1;32m    858\u001B[0m \u001B[43m        \u001B[49m\u001B[43moptions\u001B[49m\u001B[38;5;241;43m=\u001B[39;49m\u001B[43moptions\u001B[49m\u001B[43m,\u001B[49m\n\u001B[1;32m    859\u001B[0m \u001B[43m        \u001B[49m\u001B[43mstream\u001B[49m\u001B[38;5;241;43m=\u001B[39;49m\u001B[43mstream\u001B[49m\u001B[43m,\u001B[49m\n\u001B[1;32m    860\u001B[0m \u001B[43m        \u001B[49m\u001B[43mstream_cls\u001B[49m\u001B[38;5;241;43m=\u001B[39;49m\u001B[43mstream_cls\u001B[49m\u001B[43m,\u001B[49m\n\u001B[1;32m    861\u001B[0m \u001B[43m        \u001B[49m\u001B[43mremaining_retries\u001B[49m\u001B[38;5;241;43m=\u001B[39;49m\u001B[43mremaining_retries\u001B[49m\u001B[43m,\u001B[49m\n\u001B[1;32m    862\u001B[0m \u001B[43m    \u001B[49m\u001B[43m)\u001B[49m\n",
      "File \u001B[0;32m~/mambaforge/envs/fad/lib/python3.10/site-packages/openai/_base_client.py:947\u001B[0m, in \u001B[0;36mSyncAPIClient._request\u001B[0;34m(self, cast_to, options, remaining_retries, stream, stream_cls)\u001B[0m\n\u001B[1;32m    944\u001B[0m         err\u001B[38;5;241m.\u001B[39mresponse\u001B[38;5;241m.\u001B[39mread()\n\u001B[1;32m    946\u001B[0m     log\u001B[38;5;241m.\u001B[39mdebug(\u001B[38;5;124m\"\u001B[39m\u001B[38;5;124mRe-raising status error\u001B[39m\u001B[38;5;124m\"\u001B[39m)\n\u001B[0;32m--> 947\u001B[0m     \u001B[38;5;28;01mraise\u001B[39;00m \u001B[38;5;28mself\u001B[39m\u001B[38;5;241m.\u001B[39m_make_status_error_from_response(err\u001B[38;5;241m.\u001B[39mresponse) \u001B[38;5;28;01mfrom\u001B[39;00m \u001B[38;5;28;01mNone\u001B[39;00m\n\u001B[1;32m    949\u001B[0m \u001B[38;5;28;01mreturn\u001B[39;00m \u001B[38;5;28mself\u001B[39m\u001B[38;5;241m.\u001B[39m_process_response(\n\u001B[1;32m    950\u001B[0m     cast_to\u001B[38;5;241m=\u001B[39mcast_to,\n\u001B[1;32m    951\u001B[0m     options\u001B[38;5;241m=\u001B[39moptions,\n\u001B[0;32m   (...)\u001B[0m\n\u001B[1;32m    954\u001B[0m     stream_cls\u001B[38;5;241m=\u001B[39mstream_cls,\n\u001B[1;32m    955\u001B[0m )\n",
      "\u001B[0;31mBadRequestError\u001B[0m: Error code: 400 - {'error': {'message': '\"This element describes the actual image and its meta-data.\\\\n\\\\nThe elements that are references (ending in Ref or Settings) refer\\\\nto elements defined outside of the Image element. Ref elements are\\\\nsimple links, while Settings elements are links with additional\\\\nvalues. If any of the required Image attributes or elements are\\\\nmissing, its guaranteed to be an invalid document. The required\\\\nattributes and elements are ID and Pixels. ExperimenterRef is\\\\nrequired for all Images with well formed LSIDs. ImageType is a\\\\nvendor-specific designation of the type of image this is. Examples\\\\nof ImageType include \\'STK\\', \\'SoftWorx\\', etc. The Name attributes are\\\\nin all cases the name of the element instance. In this case, the\\\\nname of the image, not necessarily the filename. Physical size of\\\\npixels are microns[µm].\\\\n\\\\nAttributes\\\\n----------\\\\nacquisition_date : None | datetime\\\\n    The acquisition date of the Image. The element contains an xsd:dateTime\\\\n    string based on the ISO 8601 format (i.e. 1988-04-07T18:39:09.359) YYYY-MM-\\\\n    DDTHH:mm:SS.sssZ Y - Year M - Month D - Day H - Hour m - minutes S -\\\\n    Seconds s - sub-seconds (optional) Z - Zone (optional) +HH:mm or -HH:mm or\\\\n    Z for UTC Note: xsd:dataTime supports a very wide date range with unlimited\\\\n    precision. The full date range and precision are not typically supported by\\\\n    platform- and language-specific libraries. Where the supported time\\\\n    precision is less than the precision used by the xsd:dateTime timestamp\\\\n    there will be loss of precision; this will typically occur via direct\\\\n    truncation or (less commonly) rounding. The year value can be large and/or\\\\n    negative. Any value covering the current or last century should be\\\\n    correctly processed, but some systems cannot process earlier dates. The\\\\n    sub-second value is defined as an unlimited number of digits after the\\\\n    decimal point. In Java a minimum of millisecond precision is guaranteed. In\\\\n    C++ microsecond precision is guaranteed, with nanosecond precision being\\\\n    available on some platforms. Time zones are supported, eg\\\\n    \\'2013-10-24T11:52:33+01:00\\' for Paris, but in most cases it will be\\\\n    converted to UTC when the timestamp is written.\\\\nexperimenter_ref : None | ExperimenterRef\\\\n    (The Image ExperimenterRef).\\\\ndescription : None | str\\\\n    A description for the image. [plain-text multi-line string]\\\\nexperiment_ref : None | ExperimentRef\\\\n    (The Image ExperimentRef).\\\\nexperimenter_group_ref : None | ExperimenterGroupRef\\\\n    (The Image ExperimenterGroupRef).\\\\ninstrument_ref : None | InstrumentRef\\\\n    (The Image InstrumentRef).\\\\nobjective_settings : None | ObjectiveSettings\\\\n    (The Image ObjectiveSettings).\\\\nimaging_environment : None | ImagingEnvironment\\\\n    (The Image ImagingEnvironment).\\\\nstage_label : None | StageLabel\\\\n    (The Image StageLabel).\\\\npixels : Pixels\\\\n    (The Image Pixels).\\\\nroi_ref : list[ROIRef]\\\\n    (The Image ROIRefs).\\\\nmicrobeam_manipulation_ref : list[MicrobeamManipulationRef]\\\\n    (The Image MicrobeamManipulationRefs).\\\\nannotation_ref : list[AnnotationRef]\\\\n    (The Image AnnotationRefs).\\\\nid : str\\\\n    (The Image ID).\\\\nname : None | str\\\\n    (The Image Name).\" is too long - \\'functions.0.description\\'', 'type': 'invalid_request_error', 'param': None, 'code': None}}"
     ]
    }
   ],
   "execution_count": 34
  }
 ],
 "metadata": {
  "kernelspec": {
   "display_name": "Python 3",
   "language": "python",
   "name": "python3"
  },
  "language_info": {
   "codemirror_mode": {
    "name": "ipython",
    "version": 2
   },
   "file_extension": ".py",
   "mimetype": "text/x-python",
   "name": "python",
   "nbconvert_exporter": "python",
   "pygments_lexer": "ipython2",
   "version": "2.7.6"
  }
 },
 "nbformat": 4,
 "nbformat_minor": 0
}
