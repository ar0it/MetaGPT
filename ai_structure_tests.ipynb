{
 "cells": [
  {
   "cell_type": "code",
   "execution_count": 1,
   "metadata": {},
   "outputs": [
    {
     "name": "stdout",
     "output_type": "stream",
     "text": [
      "17:08:12.321 [Thread-0] DEBUG loci.common.NIOByteBufferProvider - Using mapped byte buffer? false\n",
      "17:08:12.337 [Thread-0] DEBUG loci.formats.ClassList - Could not find loci.formats.in.URLReader\n",
      "java.lang.ClassNotFoundException: loci.formats.in.URLReader\n",
      "\tat java.net.URLClassLoader.findClass(URLClassLoader.java:381)\n",
      "\tat java.lang.ClassLoader.loadClass(ClassLoader.java:424)\n",
      "\tat sun.misc.Launcher$AppClassLoader.loadClass(Launcher.java:331)\n",
      "\tat java.lang.ClassLoader.loadClass(ClassLoader.java:357)\n",
      "\tat java.lang.Class.forName0(Native Method)\n",
      "\tat java.lang.Class.forName(Class.java:264)\n",
      "\tat loci.formats.ClassList.parseLine(ClassList.java:196)\n",
      "\tat loci.formats.ClassList.parseFile(ClassList.java:258)\n",
      "\tat loci.formats.ClassList.<init>(ClassList.java:138)\n",
      "17:08:12.340 [Thread-0] DEBUG loci.formats.ClassList - Could not find loci.formats.in.SlideBook6Reader\n",
      "java.lang.ClassNotFoundException: loci.formats.in.SlideBook6Reader\n",
      "\tat java.net.URLClassLoader.findClass(URLClassLoader.java:381)\n",
      "\tat java.lang.ClassLoader.loadClass(ClassLoader.java:424)\n",
      "\tat sun.misc.Launcher$AppClassLoader.loadClass(Launcher.java:331)\n",
      "\tat java.lang.ClassLoader.loadClass(ClassLoader.java:357)\n",
      "\tat java.lang.Class.forName0(Native Method)\n",
      "\tat java.lang.Class.forName(Class.java:264)\n",
      "\tat loci.formats.ClassList.parseLine(ClassList.java:196)\n",
      "\tat loci.formats.ClassList.parseFile(ClassList.java:258)\n",
      "\tat loci.formats.ClassList.<init>(ClassList.java:138)\n",
      "17:08:12.341 [Thread-0] DEBUG loci.formats.ClassList - Could not find loci.formats.in.ScreenReader\n",
      "java.lang.ClassNotFoundException: loci.formats.in.ScreenReader\n",
      "\tat java.net.URLClassLoader.findClass(URLClassLoader.java:381)\n",
      "\tat java.lang.ClassLoader.loadClass(ClassLoader.java:424)\n",
      "\tat sun.misc.Launcher$AppClassLoader.loadClass(Launcher.java:331)\n",
      "\tat java.lang.ClassLoader.loadClass(ClassLoader.java:357)\n",
      "\tat java.lang.Class.forName0(Native Method)\n",
      "\tat java.lang.Class.forName(Class.java:264)\n",
      "\tat loci.formats.ClassList.parseLine(ClassList.java:196)\n",
      "\tat loci.formats.ClassList.parseFile(ClassList.java:258)\n",
      "\tat loci.formats.ClassList.<init>(ClassList.java:138)\n",
      "17:08:12.342 [Thread-0] DEBUG loci.formats.ClassList - Could not find loci.formats.in.ZarrReader\n",
      "java.lang.ClassNotFoundException: loci.formats.in.ZarrReader\n",
      "\tat java.net.URLClassLoader.findClass(URLClassLoader.java:381)\n",
      "\tat java.lang.ClassLoader.loadClass(ClassLoader.java:424)\n",
      "\tat sun.misc.Launcher$AppClassLoader.loadClass(Launcher.java:331)\n",
      "\tat java.lang.ClassLoader.loadClass(ClassLoader.java:357)\n",
      "\tat java.lang.Class.forName0(Native Method)\n",
      "\tat java.lang.Class.forName(Class.java:264)\n",
      "\tat loci.formats.ClassList.parseLine(ClassList.java:196)\n",
      "\tat loci.formats.ClassList.parseFile(ClassList.java:258)\n",
      "\tat loci.formats.ClassList.<init>(ClassList.java:138)\n",
      "17:08:12.751 [Thread-0] DEBUG loci.formats.ClassList - Could not find loci.formats.in.URLReader\n",
      "java.lang.ClassNotFoundException: loci.formats.in.URLReader\n",
      "\tat java.net.URLClassLoader.findClass(URLClassLoader.java:381)\n",
      "\tat java.lang.ClassLoader.loadClass(ClassLoader.java:424)\n",
      "\tat sun.misc.Launcher$AppClassLoader.loadClass(Launcher.java:331)\n",
      "\tat java.lang.ClassLoader.loadClass(ClassLoader.java:357)\n",
      "\tat java.lang.Class.forName0(Native Method)\n",
      "\tat java.lang.Class.forName(Class.java:264)\n",
      "\tat loci.formats.ClassList.parseLine(ClassList.java:196)\n",
      "\tat loci.formats.ClassList.parseFile(ClassList.java:258)\n",
      "\tat loci.formats.ClassList.<init>(ClassList.java:138)\n",
      "\tat loci.formats.ClassList.<init>(ClassList.java:122)\n",
      "\tat loci.formats.ImageReader.getDefaultReaderClasses(ImageReader.java:80)\n",
      "\tat loci.formats.in.FilePatternReader.<init>(FilePatternReader.java:68)\n",
      "\tat sun.reflect.NativeConstructorAccessorImpl.newInstance0(Native Method)\n",
      "\tat sun.reflect.NativeConstructorAccessorImpl.newInstance(NativeConstructorAccessorImpl.java:62)\n",
      "\tat sun.reflect.DelegatingConstructorAccessorImpl.newInstance(DelegatingConstructorAccessorImpl.java:45)\n",
      "\tat java.lang.reflect.Constructor.newInstance(Constructor.java:423)\n",
      "\tat java.lang.Class.newInstance(Class.java:442)\n",
      "\tat sun.reflect.NativeMethodAccessorImpl.invoke0(Native Method)\n",
      "\tat sun.reflect.NativeMethodAccessorImpl.invoke(NativeMethodAccessorImpl.java:62)\n",
      "\tat sun.reflect.DelegatingMethodAccessorImpl.invoke(DelegatingMethodAccessorImpl.java:43)\n",
      "\tat java.lang.reflect.Method.invoke(Method.java:498)\n",
      "\tat org.mozilla.javascript.MemberBox.invoke(MemberBox.java:126)\n",
      "\tat org.mozilla.javascript.NativeJavaMethod.call(NativeJavaMethod.java:225)\n",
      "\tat org.mozilla.javascript.optimizer.OptRuntime.callProp0(OptRuntime.java:85)\n",
      "\tat org.mozilla.javascript.gen._java_python_bridge__1._c_script_0(<java-python-bridge>:6)\n",
      "\tat org.mozilla.javascript.gen._java_python_bridge__1.call(<java-python-bridge>)\n",
      "\tat org.mozilla.javascript.ContextFactory.doTopCall(ContextFactory.java:394)\n",
      "\tat org.mozilla.javascript.ScriptRuntime.doTopCall(ScriptRuntime.java:3091)\n",
      "\tat org.mozilla.javascript.gen._java_python_bridge__1.call(<java-python-bridge>)\n",
      "\tat org.mozilla.javascript.gen._java_python_bridge__1.exec(<java-python-bridge>)\n",
      "\tat org.mozilla.javascript.Context.evaluateString(Context.java:1079)\n",
      "17:08:12.751 [Thread-0] DEBUG loci.formats.ClassList - Could not find loci.formats.in.SlideBook6Reader\n",
      "java.lang.ClassNotFoundException: loci.formats.in.SlideBook6Reader\n",
      "\tat java.net.URLClassLoader.findClass(URLClassLoader.java:381)\n",
      "\tat java.lang.ClassLoader.loadClass(ClassLoader.java:424)\n",
      "\tat sun.misc.Launcher$AppClassLoader.loadClass(Launcher.java:331)\n",
      "\tat java.lang.ClassLoader.loadClass(ClassLoader.java:357)\n",
      "\tat java.lang.Class.forName0(Native Method)\n",
      "\tat java.lang.Class.forName(Class.java:264)\n",
      "\tat loci.formats.ClassList.parseLine(ClassList.java:196)\n",
      "\tat loci.formats.ClassList.parseFile(ClassList.java:258)\n",
      "\tat loci.formats.ClassList.<init>(ClassList.java:138)\n",
      "\tat loci.formats.ClassList.<init>(ClassList.java:122)\n",
      "\tat loci.formats.ImageReader.getDefaultReaderClasses(ImageReader.java:80)\n",
      "\tat loci.formats.in.FilePatternReader.<init>(FilePatternReader.java:68)\n",
      "\tat sun.reflect.NativeConstructorAccessorImpl.newInstance0(Native Method)\n",
      "\tat sun.reflect.NativeConstructorAccessorImpl.newInstance(NativeConstructorAccessorImpl.java:62)\n",
      "\tat sun.reflect.DelegatingConstructorAccessorImpl.newInstance(DelegatingConstructorAccessorImpl.java:45)\n",
      "\tat java.lang.reflect.Constructor.newInstance(Constructor.java:423)\n",
      "\tat java.lang.Class.newInstance(Class.java:442)\n",
      "\tat sun.reflect.NativeMethodAccessorImpl.invoke0(Native Method)\n",
      "\tat sun.reflect.NativeMethodAccessorImpl.invoke(NativeMethodAccessorImpl.java:62)\n",
      "\tat sun.reflect.DelegatingMethodAccessorImpl.invoke(DelegatingMethodAccessorImpl.java:43)\n",
      "\tat java.lang.reflect.Method.invoke(Method.java:498)\n",
      "\tat org.mozilla.javascript.MemberBox.invoke(MemberBox.java:126)\n",
      "\tat org.mozilla.javascript.NativeJavaMethod.call(NativeJavaMethod.java:225)\n",
      "\tat org.mozilla.javascript.optimizer.OptRuntime.callProp0(OptRuntime.java:85)\n",
      "\tat org.mozilla.javascript.gen._java_python_bridge__1._c_script_0(<java-python-bridge>:6)\n",
      "\tat org.mozilla.javascript.gen._java_python_bridge__1.call(<java-python-bridge>)\n",
      "\tat org.mozilla.javascript.ContextFactory.doTopCall(ContextFactory.java:394)\n",
      "\tat org.mozilla.javascript.ScriptRuntime.doTopCall(ScriptRuntime.java:3091)\n",
      "\tat org.mozilla.javascript.gen._java_python_bridge__1.call(<java-python-bridge>)\n",
      "\tat org.mozilla.javascript.gen._java_python_bridge__1.exec(<java-python-bridge>)\n",
      "\tat org.mozilla.javascript.Context.evaluateString(Context.java:1079)\n",
      "17:08:12.752 [Thread-0] DEBUG loci.formats.ClassList - Could not find loci.formats.in.ScreenReader\n",
      "java.lang.ClassNotFoundException: loci.formats.in.ScreenReader\n",
      "\tat java.net.URLClassLoader.findClass(URLClassLoader.java:381)\n",
      "\tat java.lang.ClassLoader.loadClass(ClassLoader.java:424)\n",
      "\tat sun.misc.Launcher$AppClassLoader.loadClass(Launcher.java:331)\n",
      "\tat java.lang.ClassLoader.loadClass(ClassLoader.java:357)\n",
      "\tat java.lang.Class.forName0(Native Method)\n",
      "\tat java.lang.Class.forName(Class.java:264)\n",
      "\tat loci.formats.ClassList.parseLine(ClassList.java:196)\n",
      "\tat loci.formats.ClassList.parseFile(ClassList.java:258)\n",
      "\tat loci.formats.ClassList.<init>(ClassList.java:138)\n",
      "\tat loci.formats.ClassList.<init>(ClassList.java:122)\n",
      "\tat loci.formats.ImageReader.getDefaultReaderClasses(ImageReader.java:80)\n",
      "\tat loci.formats.in.FilePatternReader.<init>(FilePatternReader.java:68)\n",
      "\tat sun.reflect.NativeConstructorAccessorImpl.newInstance0(Native Method)\n",
      "\tat sun.reflect.NativeConstructorAccessorImpl.newInstance(NativeConstructorAccessorImpl.java:62)\n",
      "\tat sun.reflect.DelegatingConstructorAccessorImpl.newInstance(DelegatingConstructorAccessorImpl.java:45)\n",
      "\tat java.lang.reflect.Constructor.newInstance(Constructor.java:423)\n",
      "\tat java.lang.Class.newInstance(Class.java:442)\n",
      "\tat sun.reflect.NativeMethodAccessorImpl.invoke0(Native Method)\n",
      "\tat sun.reflect.NativeMethodAccessorImpl.invoke(NativeMethodAccessorImpl.java:62)\n",
      "\tat sun.reflect.DelegatingMethodAccessorImpl.invoke(DelegatingMethodAccessorImpl.java:43)\n",
      "\tat java.lang.reflect.Method.invoke(Method.java:498)\n",
      "\tat org.mozilla.javascript.MemberBox.invoke(MemberBox.java:126)\n",
      "\tat org.mozilla.javascript.NativeJavaMethod.call(NativeJavaMethod.java:225)\n",
      "\tat org.mozilla.javascript.optimizer.OptRuntime.callProp0(OptRuntime.java:85)\n",
      "\tat org.mozilla.javascript.gen._java_python_bridge__1._c_script_0(<java-python-bridge>:6)\n",
      "\tat org.mozilla.javascript.gen._java_python_bridge__1.call(<java-python-bridge>)\n",
      "\tat org.mozilla.javascript.ContextFactory.doTopCall(ContextFactory.java:394)\n",
      "\tat org.mozilla.javascript.ScriptRuntime.doTopCall(ScriptRuntime.java:3091)\n",
      "\tat org.mozilla.javascript.gen._java_python_bridge__1.call(<java-python-bridge>)\n",
      "\tat org.mozilla.javascript.gen._java_python_bridge__1.exec(<java-python-bridge>)\n",
      "\tat org.mozilla.javascript.Context.evaluateString(Context.java:1079)\n",
      "17:08:12.752 [Thread-0] DEBUG loci.formats.ClassList - Could not find loci.formats.in.ZarrReader\n",
      "java.lang.ClassNotFoundException: loci.formats.in.ZarrReader\n",
      "\tat java.net.URLClassLoader.findClass(URLClassLoader.java:381)\n",
      "\tat java.lang.ClassLoader.loadClass(ClassLoader.java:424)\n",
      "\tat sun.misc.Launcher$AppClassLoader.loadClass(Launcher.java:331)\n",
      "\tat java.lang.ClassLoader.loadClass(ClassLoader.java:357)\n",
      "\tat java.lang.Class.forName0(Native Method)\n",
      "\tat java.lang.Class.forName(Class.java:264)\n",
      "\tat loci.formats.ClassList.parseLine(ClassList.java:196)\n",
      "\tat loci.formats.ClassList.parseFile(ClassList.java:258)\n",
      "\tat loci.formats.ClassList.<init>(ClassList.java:138)\n",
      "\tat loci.formats.ClassList.<init>(ClassList.java:122)\n",
      "\tat loci.formats.ImageReader.getDefaultReaderClasses(ImageReader.java:80)\n",
      "\tat loci.formats.in.FilePatternReader.<init>(FilePatternReader.java:68)\n",
      "\tat sun.reflect.NativeConstructorAccessorImpl.newInstance0(Native Method)\n",
      "\tat sun.reflect.NativeConstructorAccessorImpl.newInstance(NativeConstructorAccessorImpl.java:62)\n",
      "\tat sun.reflect.DelegatingConstructorAccessorImpl.newInstance(DelegatingConstructorAccessorImpl.java:45)\n",
      "\tat java.lang.reflect.Constructor.newInstance(Constructor.java:423)\n",
      "\tat java.lang.Class.newInstance(Class.java:442)\n",
      "\tat sun.reflect.NativeMethodAccessorImpl.invoke0(Native Method)\n",
      "\tat sun.reflect.NativeMethodAccessorImpl.invoke(NativeMethodAccessorImpl.java:62)\n",
      "\tat sun.reflect.DelegatingMethodAccessorImpl.invoke(DelegatingMethodAccessorImpl.java:43)\n",
      "\tat java.lang.reflect.Method.invoke(Method.java:498)\n",
      "\tat org.mozilla.javascript.MemberBox.invoke(MemberBox.java:126)\n",
      "\tat org.mozilla.javascript.NativeJavaMethod.call(NativeJavaMethod.java:225)\n",
      "\tat org.mozilla.javascript.optimizer.OptRuntime.callProp0(OptRuntime.java:85)\n",
      "\tat org.mozilla.javascript.gen._java_python_bridge__1._c_script_0(<java-python-bridge>:6)\n",
      "\tat org.mozilla.javascript.gen._java_python_bridge__1.call(<java-python-bridge>)\n",
      "\tat org.mozilla.javascript.ContextFactory.doTopCall(ContextFactory.java:394)\n",
      "\tat org.mozilla.javascript.ScriptRuntime.doTopCall(ScriptRuntime.java:3091)\n",
      "\tat org.mozilla.javascript.gen._java_python_bridge__1.call(<java-python-bridge>)\n",
      "\tat org.mozilla.javascript.gen._java_python_bridge__1.exec(<java-python-bridge>)\n",
      "\tat org.mozilla.javascript.Context.evaluateString(Context.java:1079)\n",
      "17:08:12.781 [Thread-0] DEBUG org.scijava.nativelib.NativeLibraryUtil - processor is INTEL_64 os.arch is amd64\n",
      "17:08:12.781 [Thread-0] DEBUG org.scijava.nativelib.NativeLibraryUtil - architecture is LINUX_64 os.name is linux\n",
      "17:08:12.782 [Thread-0] DEBUG org.scijava.nativelib.NativeLibraryUtil - architecture is LINUX_64 os.name is linux\n",
      "17:08:12.782 [Thread-0] DEBUG org.scijava.nativelib.NativeLibraryUtil - platform specific path is META-INF/lib/linux_64/\n",
      "17:08:12.782 [Thread-0] DEBUG org.scijava.nativelib.BaseJniExtractor - mappedLib is libturbojpeg.so\n",
      "17:08:12.782 [Thread-0] DEBUG org.scijava.nativelib.BaseJniExtractor - URL is jar:file:/home/aaron/mambaforge/envs/metagpt/lib/python3.9/site-packages/bioformats/jars/bioformats_package.jar!/META-INF/lib/linux_64/libturbojpeg.so\n",
      "17:08:12.782 [Thread-0] DEBUG org.scijava.nativelib.BaseJniExtractor - URL path is file:/home/aaron/mambaforge/envs/metagpt/lib/python3.9/site-packages/bioformats/jars/bioformats_package.jar!/META-INF/lib/linux_64/libturbojpeg.so\n",
      "17:08:12.793 [Thread-0] DEBUG org.scijava.nativelib.BaseJniExtractor - Extracting 'jar:file:/home/aaron/mambaforge/envs/metagpt/lib/python3.9/site-packages/bioformats/jars/bioformats_package.jar!/META-INF/lib/linux_64/libturbojpeg.so' to '/tmp/libturbojpeg8239122536494194782.so'\n",
      "17:08:13.003 [Thread-0] DEBUG loci.common.services.ServiceFactory - Loaded properties from: services.properties\n",
      "17:08:13.004 [Thread-0] DEBUG loci.common.services.ServiceFactory - Added interface interface loci.formats.services.POIService and implementation class loci.formats.services.POIServiceImpl\n",
      "17:08:13.004 [Thread-0] DEBUG loci.common.services.ServiceFactory - Added interface interface loci.formats.services.MDBService and implementation class loci.formats.services.MDBServiceImpl\n",
      "17:08:13.004 [Thread-0] DEBUG loci.common.services.ServiceFactory - Added interface interface loci.formats.services.JPEGTurboService and implementation class loci.formats.services.JPEGTurboServiceImpl\n",
      "17:08:13.004 [Thread-0] DEBUG loci.common.services.ServiceFactory - Added interface interface ome.codecs.services.LuraWaveService and implementation class ome.codecs.services.LuraWaveServiceImpl\n",
      "17:08:13.005 [Thread-0] DEBUG loci.common.services.ServiceFactory - Added interface interface loci.common.services.S3ClientService and implementation class loci.common.services.S3ClientServiceImpl\n",
      "17:08:13.005 [Thread-0] DEBUG loci.common.services.ServiceFactory - Added interface interface loci.formats.services.JAIIIOService and implementation class loci.formats.services.JAIIIOServiceImpl\n",
      "17:08:13.006 [Thread-0] DEBUG loci.common.services.ServiceFactory - Added interface interface loci.formats.services.WlzService and implementation class loci.formats.services.WlzServiceImpl\n",
      "17:08:13.007 [Thread-0] DEBUG loci.common.services.ServiceFactory - Added interface interface loci.formats.services.JHDFService and implementation class loci.formats.services.JHDFServiceImpl\n",
      "17:08:13.008 [Thread-0] DEBUG loci.common.services.ServiceFactory - Added interface interface loci.formats.services.NetCDFService and implementation class loci.formats.services.NetCDFServiceImpl\n",
      "17:08:13.009 [Thread-0] DEBUG loci.common.services.ServiceFactory - Added interface interface loci.formats.services.EXIFService and implementation class loci.formats.services.EXIFServiceImpl\n",
      "17:08:13.010 [Thread-0] DEBUG loci.common.services.ServiceFactory - Added interface interface loci.formats.services.MetakitService and implementation class loci.formats.services.MetakitServiceImpl\n",
      "17:08:13.010 [Thread-0] DEBUG loci.common.services.ServiceFactory - Added interface interface loci.formats.services.LuraWaveService and implementation class loci.formats.services.LuraWaveServiceImpl\n",
      "17:08:13.012 [Thread-0] DEBUG loci.common.services.ServiceFactory - Added interface interface loci.formats.services.OMEXMLService and implementation class loci.formats.services.OMEXMLServiceImpl\n",
      "17:08:13.012 [Thread-0] DEBUG loci.common.services.ServiceFactory - Added interface interface ome.codecs.services.JAIIIOService and implementation class ome.codecs.services.JAIIIOServiceImpl\n",
      "17:08:13.013 [Thread-0] DEBUG loci.common.services.ServiceFactory - Added interface interface loci.formats.services.JPEGXRService and implementation class loci.formats.services.JPEGXRServiceImpl\n",
      "17:08:13.119 [Thread-0] DEBUG loci.formats.FormatHandler - ZeissCZIReader initializing /home/aaron/Documents/Projects/MetaGPT/in/images/Image_8.czi\n",
      "17:08:13.119 [Thread-0] DEBUG loci.formats.FormatHandler - loci.formats.in.ZeissCZIReader.initFile(/home/aaron/Documents/Projects/MetaGPT/in/images/Image_8.czi)\n",
      "17:08:13.262 [Thread-0] DEBUG loci.formats.FormatHandler - Expected positive value for PhysicalSize; got 0.0\n",
      "17:08:13.602 [Thread-0] DEBUG loci.formats.ClassList - Could not find loci.formats.in.URLReader\n",
      "java.lang.ClassNotFoundException: loci.formats.in.URLReader\n",
      "\tat java.net.URLClassLoader.findClass(URLClassLoader.java:381)\n",
      "\tat java.lang.ClassLoader.loadClass(ClassLoader.java:424)\n",
      "\tat sun.misc.Launcher$AppClassLoader.loadClass(Launcher.java:331)\n",
      "\tat java.lang.ClassLoader.loadClass(ClassLoader.java:357)\n",
      "\tat java.lang.Class.forName0(Native Method)\n",
      "\tat java.lang.Class.forName(Class.java:264)\n",
      "\tat loci.formats.ClassList.parseLine(ClassList.java:196)\n",
      "\tat loci.formats.ClassList.parseFile(ClassList.java:258)\n",
      "\tat loci.formats.ClassList.<init>(ClassList.java:138)\n",
      "17:08:13.602 [Thread-0] DEBUG loci.formats.ClassList - Could not find loci.formats.in.SlideBook6Reader\n",
      "java.lang.ClassNotFoundException: loci.formats.in.SlideBook6Reader\n",
      "\tat java.net.URLClassLoader.findClass(URLClassLoader.java:381)\n",
      "\tat java.lang.ClassLoader.loadClass(ClassLoader.java:424)\n",
      "\tat sun.misc.Launcher$AppClassLoader.loadClass(Launcher.java:331)\n",
      "\tat java.lang.ClassLoader.loadClass(ClassLoader.java:357)\n",
      "\tat java.lang.Class.forName0(Native Method)\n",
      "\tat java.lang.Class.forName(Class.java:264)\n",
      "\tat loci.formats.ClassList.parseLine(ClassList.java:196)\n",
      "\tat loci.formats.ClassList.parseFile(ClassList.java:258)\n",
      "\tat loci.formats.ClassList.<init>(ClassList.java:138)\n",
      "17:08:13.603 [Thread-0] DEBUG loci.formats.ClassList - Could not find loci.formats.in.ScreenReader\n",
      "java.lang.ClassNotFoundException: loci.formats.in.ScreenReader\n",
      "\tat java.net.URLClassLoader.findClass(URLClassLoader.java:381)\n",
      "\tat java.lang.ClassLoader.loadClass(ClassLoader.java:424)\n",
      "\tat sun.misc.Launcher$AppClassLoader.loadClass(Launcher.java:331)\n",
      "\tat java.lang.ClassLoader.loadClass(ClassLoader.java:357)\n",
      "\tat java.lang.Class.forName0(Native Method)\n",
      "\tat java.lang.Class.forName(Class.java:264)\n",
      "\tat loci.formats.ClassList.parseLine(ClassList.java:196)\n",
      "\tat loci.formats.ClassList.parseFile(ClassList.java:258)\n",
      "\tat loci.formats.ClassList.<init>(ClassList.java:138)\n",
      "17:08:13.603 [Thread-0] DEBUG loci.formats.ClassList - Could not find loci.formats.in.ZarrReader\n",
      "java.lang.ClassNotFoundException: loci.formats.in.ZarrReader\n",
      "\tat java.net.URLClassLoader.findClass(URLClassLoader.java:381)\n",
      "\tat java.lang.ClassLoader.loadClass(ClassLoader.java:424)\n",
      "\tat sun.misc.Launcher$AppClassLoader.loadClass(Launcher.java:331)\n",
      "\tat java.lang.ClassLoader.loadClass(ClassLoader.java:357)\n",
      "\tat java.lang.Class.forName0(Native Method)\n",
      "\tat java.lang.Class.forName(Class.java:264)\n",
      "\tat loci.formats.ClassList.parseLine(ClassList.java:196)\n",
      "\tat loci.formats.ClassList.parseFile(ClassList.java:258)\n",
      "\tat loci.formats.ClassList.<init>(ClassList.java:138)\n",
      "17:08:13.662 [Thread-0] DEBUG loci.formats.FormatHandler - ZeissCZIReader initializing /home/aaron/Documents/Projects/MetaGPT/in/images/Image_8.czi\n",
      "17:08:13.662 [Thread-0] DEBUG loci.formats.FormatHandler - loci.formats.in.ZeissCZIReader.initFile(/home/aaron/Documents/Projects/MetaGPT/in/images/Image_8.czi)\n",
      "17:08:13.686 [Thread-0] DEBUG loci.formats.FormatHandler - Expected positive value for PhysicalSize; got 0.0\n",
      "{'experimenters': [{'id': 'Experimenter:0', 'user_name': 'bcers01'}], 'instruments': [{'id': 'Instrument:0', 'microscope': {}, 'detectors': [{'amplification_gain': 2.0, 'gain': 1.0, 'id': 'Detector:0:0', 'model': '', 'zoom': 1.0}, {'amplification_gain': 1.0, 'gain': 242.27363180139324, 'id': 'Detector:0:1', 'model': '', 'zoom': 1.0}, {'amplification_gain': 2.0, 'gain': 800.0, 'id': 'Detector:1:0', 'model': '', 'zoom': 1.0}], 'objectives': [{'id': 'Objective:0', 'immersion': <Objective_Immersion.WATER: 'Water'>, 'lens_na': 1.2000000000000002, 'model': 'C-Apochromat 63x/1.2 W Korr M27', 'nominal_magnification': 63.0}]}], 'images': [{'id': 'Image:0', 'name': 'Image 8 #1', 'experimenter_ref': {'id': 'Experimenter:0'}, 'instrument_ref': {'id': 'Instrument:0'}, 'objective_settings': {'id': 'Objective:0', 'medium': <ObjectiveSettings_Medium.WATER: 'Water'>, 'refractive_index': 1.333}, 'stage_label': {'name': 'Scene position #0', 'x': -16360.5, 'x_unit': <UnitsLength.MICROMETER: 'µm'>, 'y': -4955.0, 'y_unit': <UnitsLength.MICROMETER: 'µm'>, 'z': 146.837, 'z_unit': <UnitsLength.MICROMETER: 'µm'>}, 'pixels': {'big_endian': False, 'dimension_order': <Pixels_DimensionOrder.XYCZT: 'XYCZT'>, 'id': 'Pixels:0', 'interleaved': False, 'physical_size_x': 0.0992287815904495, 'physical_size_x_unit': <UnitsLength.MICROMETER: 'µm'>, 'physical_size_y': 0.0992287815904495, 'physical_size_y_unit': <UnitsLength.MICROMETER: 'µm'>, 'significant_bits': 8, 'size_c': 3, 'size_t': 30, 'size_x': 680, 'size_y': 280, 'size_z': 1, 'type': <PixelType.UINT8: 'uint8'>, 'channels': [{'acquisition_mode': <Channel_AcquisitionMode.LASER_SCANNING_CONFOCAL_MICROSCOPY: 'LaserScanningConfocalMicroscopy'>, 'color': Color('magenta', rgb=(255, 0, 255)), 'emission_wavelength': 646.4456100000001, 'emission_wavelength_unit': <UnitsLength.NANOMETER: 'nm'>, 'excitation_wavelength': 561.0, 'excitation_wavelength_unit': <UnitsLength.NANOMETER: 'nm'>, 'fluor': 'mRFP1.2', 'id': 'Channel:0:0', 'illumination_type': <Channel_IlluminationType.EPIFLUORESCENCE: 'Epifluorescence'>, 'name': 'ChS2-T1', 'samples_per_pixel': 1, 'detector_settings': {'binning': <Binning.ONEBYONE: '1x1'>, 'id': 'Detector:0:0'}, 'light_path': {}}, {'acquisition_mode': <Channel_AcquisitionMode.LASER_SCANNING_CONFOCAL_MICROSCOPY: 'LaserScanningConfocalMicroscopy'>, 'color': Color('white', rgb=(255, 255, 255)), 'id': 'Channel:0:1', 'illumination_type': <Channel_IlluminationType.EPIFLUORESCENCE: 'Epifluorescence'>, 'name': 'T PMT-T1', 'samples_per_pixel': 1, 'detector_settings': {'binning': <Binning.ONEBYONE: '1x1'>, 'id': 'Detector:0:1'}, 'light_path': {}}, {'acquisition_mode': <Channel_AcquisitionMode.LASER_SCANNING_CONFOCAL_MICROSCOPY: 'LaserScanningConfocalMicroscopy'>, 'color': Color('lime', rgb=(0, 255, 0)), 'emission_wavelength': 530.4922920000002, 'emission_wavelength_unit': <UnitsLength.NANOMETER: 'nm'>, 'excitation_wavelength': 488.00000000000006, 'excitation_wavelength_unit': <UnitsLength.NANOMETER: 'nm'>, 'fluor': 'EGFP', 'id': 'Channel:0:2', 'illumination_type': <Channel_IlluminationType.EPIFLUORESCENCE: 'Epifluorescence'>, 'name': 'ChS1-T2', 'samples_per_pixel': 1, 'detector_settings': {'binning': <Binning.ONEBYONE: '1x1'>, 'id': 'Detector:1:0'}, 'light_path': {}}], 'metadata_only': {}, 'planes': [{'delta_t': 10801.102527878787, 'delta_t_unit': <UnitsTime.SECOND: 's'>, 'position_x': -16360.5, 'position_x_unit': <UnitsLength.MICROMETER: 'µm'>, 'position_y': -4955.0, 'position_y_unit': <UnitsLength.MICROMETER: 'µm'>, 'position_z': 146.837, 'position_z_unit': <UnitsLength.MICROMETER: 'µm'>, 'the_c': 0, 'the_t': 0, 'the_z': 0}, {'delta_t': 10801.102527878787, 'delta_t_unit': <UnitsTime.SECOND: 's'>, 'position_x': -16360.5, 'position_x_unit': <UnitsLength.MICROMETER: 'µm'>, 'position_y': -4955.0, 'position_y_unit': <UnitsLength.MICROMETER: 'µm'>, 'position_z': 146.837, 'position_z_unit': <UnitsLength.MICROMETER: 'µm'>, 'the_c': 1, 'the_t': 0, 'the_z': 0}, {'delta_t': 10801.102527878787, 'delta_t_unit': <UnitsTime.SECOND: 's'>, 'position_x': -16360.5, 'position_x_unit': <UnitsLength.MICROMETER: 'µm'>, 'position_y': -4955.0, 'position_y_unit': <UnitsLength.MICROMETER: 'µm'>, 'position_z': 146.837, 'position_z_unit': <UnitsLength.MICROMETER: 'µm'>, 'the_c': 2, 'the_t': 0, 'the_z': 0}, {'delta_t': 10803.880072848484, 'delta_t_unit': <UnitsTime.SECOND: 's'>, 'position_x': -16360.5, 'position_x_unit': <UnitsLength.MICROMETER: 'µm'>, 'position_y': -4955.0, 'position_y_unit': <UnitsLength.MICROMETER: 'µm'>, 'position_z': 146.837, 'position_z_unit': <UnitsLength.MICROMETER: 'µm'>, 'the_c': 0, 'the_t': 1, 'the_z': 0}, {'delta_t': 10803.880072848484, 'delta_t_unit': <UnitsTime.SECOND: 's'>, 'position_x': -16360.5, 'position_x_unit': <UnitsLength.MICROMETER: 'µm'>, 'position_y': -4955.0, 'position_y_unit': <UnitsLength.MICROMETER: 'µm'>, 'position_z': 146.837, 'position_z_unit': <UnitsLength.MICROMETER: 'µm'>, 'the_c': 1, 'the_t': 1, 'the_z': 0}, {'delta_t': 10803.880072848484, 'delta_t_unit': <UnitsTime.SECOND: 's'>, 'position_x': -16360.5, 'position_x_unit': <UnitsLength.MICROMETER: 'µm'>, 'position_y': -4955.0, 'position_y_unit': <UnitsLength.MICROMETER: 'µm'>, 'position_z': 146.837, 'position_z_unit': <UnitsLength.MICROMETER: 'µm'>, 'the_c': 2, 'the_t': 1, 'the_z': 0}, {'delta_t': 10806.657617878787, 'delta_t_unit': <UnitsTime.SECOND: 's'>, 'position_x': -16360.5, 'position_x_unit': <UnitsLength.MICROMETER: 'µm'>, 'position_y': -4955.0, 'position_y_unit': <UnitsLength.MICROMETER: 'µm'>, 'position_z': 146.837, 'position_z_unit': <UnitsLength.MICROMETER: 'µm'>, 'the_c': 0, 'the_t': 2, 'the_z': 0}, {'delta_t': 10806.657617878787, 'delta_t_unit': <UnitsTime.SECOND: 's'>, 'position_x': -16360.5, 'position_x_unit': <UnitsLength.MICROMETER: 'µm'>, 'position_y': -4955.0, 'position_y_unit': <UnitsLength.MICROMETER: 'µm'>, 'position_z': 146.837, 'position_z_unit': <UnitsLength.MICROMETER: 'µm'>, 'the_c': 1, 'the_t': 2, 'the_z': 0}, {'delta_t': 10806.657617878787, 'delta_t_unit': <UnitsTime.SECOND: 's'>, 'position_x': -16360.5, 'position_x_unit': <UnitsLength.MICROMETER: 'µm'>, 'position_y': -4955.0, 'position_y_unit': <UnitsLength.MICROMETER: 'µm'>, 'position_z': 146.837, 'position_z_unit': <UnitsLength.MICROMETER: 'µm'>, 'the_c': 2, 'the_t': 2, 'the_z': 0}, {'delta_t': 10809.435162848484, 'delta_t_unit': <UnitsTime.SECOND: 's'>, 'position_x': -16360.5, 'position_x_unit': <UnitsLength.MICROMETER: 'µm'>, 'position_y': -4955.0, 'position_y_unit': <UnitsLength.MICROMETER: 'µm'>, 'position_z': 146.837, 'position_z_unit': <UnitsLength.MICROMETER: 'µm'>, 'the_c': 0, 'the_t': 3, 'the_z': 0}, {'delta_t': 10809.435162848484, 'delta_t_unit': <UnitsTime.SECOND: 's'>, 'position_x': -16360.5, 'position_x_unit': <UnitsLength.MICROMETER: 'µm'>, 'position_y': -4955.0, 'position_y_unit': <UnitsLength.MICROMETER: 'µm'>, 'position_z': 146.837, 'position_z_unit': <UnitsLength.MICROMETER: 'µm'>, 'the_c': 1, 'the_t': 3, 'the_z': 0}, {'delta_t': 10809.435162848484, 'delta_t_unit': <UnitsTime.SECOND: 's'>, 'position_x': -16360.5, 'position_x_unit': <UnitsLength.MICROMETER: 'µm'>, 'position_y': -4955.0, 'position_y_unit': <UnitsLength.MICROMETER: 'µm'>, 'position_z': 146.837, 'position_z_unit': <UnitsLength.MICROMETER: 'µm'>, 'the_c': 2, 'the_t': 3, 'the_z': 0}, {'delta_t': 10812.212707878787, 'delta_t_unit': <UnitsTime.SECOND: 's'>, 'position_x': -16360.5, 'position_x_unit': <UnitsLength.MICROMETER: 'µm'>, 'position_y': -4955.0, 'position_y_unit': <UnitsLength.MICROMETER: 'µm'>, 'position_z': 146.837, 'position_z_unit': <UnitsLength.MICROMETER: 'µm'>, 'the_c': 0, 'the_t': 4, 'the_z': 0}, {'delta_t': 10812.212707878787, 'delta_t_unit': <UnitsTime.SECOND: 's'>, 'position_x': -16360.5, 'position_x_unit': <UnitsLength.MICROMETER: 'µm'>, 'position_y': -4955.0, 'position_y_unit': <UnitsLength.MICROMETER: 'µm'>, 'position_z': 146.837, 'position_z_unit': <UnitsLength.MICROMETER: 'µm'>, 'the_c': 1, 'the_t': 4, 'the_z': 0}, {'delta_t': 10812.212707878787, 'delta_t_unit': <UnitsTime.SECOND: 's'>, 'position_x': -16360.5, 'position_x_unit': <UnitsLength.MICROMETER: 'µm'>, 'position_y': -4955.0, 'position_y_unit': <UnitsLength.MICROMETER: 'µm'>, 'position_z': 146.837, 'position_z_unit': <UnitsLength.MICROMETER: 'µm'>, 'the_c': 2, 'the_t': 4, 'the_z': 0}, {'delta_t': 10814.990252848485, 'delta_t_unit': <UnitsTime.SECOND: 's'>, 'position_x': -16360.5, 'position_x_unit': <UnitsLength.MICROMETER: 'µm'>, 'position_y': -4955.0, 'position_y_unit': <UnitsLength.MICROMETER: 'µm'>, 'position_z': 146.837, 'position_z_unit': <UnitsLength.MICROMETER: 'µm'>, 'the_c': 0, 'the_t': 5, 'the_z': 0}, {'delta_t': 10814.990252848485, 'delta_t_unit': <UnitsTime.SECOND: 's'>, 'position_x': -16360.5, 'position_x_unit': <UnitsLength.MICROMETER: 'µm'>, 'position_y': -4955.0, 'position_y_unit': <UnitsLength.MICROMETER: 'µm'>, 'position_z': 146.837, 'position_z_unit': <UnitsLength.MICROMETER: 'µm'>, 'the_c': 1, 'the_t': 5, 'the_z': 0}, {'delta_t': 10814.990252848485, 'delta_t_unit': <UnitsTime.SECOND: 's'>, 'position_x': -16360.5, 'position_x_unit': <UnitsLength.MICROMETER: 'µm'>, 'position_y': -4955.0, 'position_y_unit': <UnitsLength.MICROMETER: 'µm'>, 'position_z': 146.837, 'position_z_unit': <UnitsLength.MICROMETER: 'µm'>, 'the_c': 2, 'the_t': 5, 'the_z': 0}, {'delta_t': 10817.767797878787, 'delta_t_unit': <UnitsTime.SECOND: 's'>, 'position_x': -16360.5, 'position_x_unit': <UnitsLength.MICROMETER: 'µm'>, 'position_y': -4955.0, 'position_y_unit': <UnitsLength.MICROMETER: 'µm'>, 'position_z': 146.837, 'position_z_unit': <UnitsLength.MICROMETER: 'µm'>, 'the_c': 0, 'the_t': 6, 'the_z': 0}, {'delta_t': 10817.767797878787, 'delta_t_unit': <UnitsTime.SECOND: 's'>, 'position_x': -16360.5, 'position_x_unit': <UnitsLength.MICROMETER: 'µm'>, 'position_y': -4955.0, 'position_y_unit': <UnitsLength.MICROMETER: 'µm'>, 'position_z': 146.837, 'position_z_unit': <UnitsLength.MICROMETER: 'µm'>, 'the_c': 1, 'the_t': 6, 'the_z': 0}, {'delta_t': 10817.767797878787, 'delta_t_unit': <UnitsTime.SECOND: 's'>, 'position_x': -16360.5, 'position_x_unit': <UnitsLength.MICROMETER: 'µm'>, 'position_y': -4955.0, 'position_y_unit': <UnitsLength.MICROMETER: 'µm'>, 'position_z': 146.837, 'position_z_unit': <UnitsLength.MICROMETER: 'µm'>, 'the_c': 2, 'the_t': 6, 'the_z': 0}, {'delta_t': 10820.545342848485, 'delta_t_unit': <UnitsTime.SECOND: 's'>, 'position_x': -16360.5, 'position_x_unit': <UnitsLength.MICROMETER: 'µm'>, 'position_y': -4955.0, 'position_y_unit': <UnitsLength.MICROMETER: 'µm'>, 'position_z': 146.837, 'position_z_unit': <UnitsLength.MICROMETER: 'µm'>, 'the_c': 0, 'the_t': 7, 'the_z': 0}, {'delta_t': 10820.545342848485, 'delta_t_unit': <UnitsTime.SECOND: 's'>, 'position_x': -16360.5, 'position_x_unit': <UnitsLength.MICROMETER: 'µm'>, 'position_y': -4955.0, 'position_y_unit': <UnitsLength.MICROMETER: 'µm'>, 'position_z': 146.837, 'position_z_unit': <UnitsLength.MICROMETER: 'µm'>, 'the_c': 1, 'the_t': 7, 'the_z': 0}, {'delta_t': 10820.545342848485, 'delta_t_unit': <UnitsTime.SECOND: 's'>, 'position_x': -16360.5, 'position_x_unit': <UnitsLength.MICROMETER: 'µm'>, 'position_y': -4955.0, 'position_y_unit': <UnitsLength.MICROMETER: 'µm'>, 'position_z': 146.837, 'position_z_unit': <UnitsLength.MICROMETER: 'µm'>, 'the_c': 2, 'the_t': 7, 'the_z': 0}, {'delta_t': 10823.322887878787, 'delta_t_unit': <UnitsTime.SECOND: 's'>, 'position_x': -16360.5, 'position_x_unit': <UnitsLength.MICROMETER: 'µm'>, 'position_y': -4955.0, 'position_y_unit': <UnitsLength.MICROMETER: 'µm'>, 'position_z': 146.837, 'position_z_unit': <UnitsLength.MICROMETER: 'µm'>, 'the_c': 0, 'the_t': 8, 'the_z': 0}, {'delta_t': 10823.322887878787, 'delta_t_unit': <UnitsTime.SECOND: 's'>, 'position_x': -16360.5, 'position_x_unit': <UnitsLength.MICROMETER: 'µm'>, 'position_y': -4955.0, 'position_y_unit': <UnitsLength.MICROMETER: 'µm'>, 'position_z': 146.837, 'position_z_unit': <UnitsLength.MICROMETER: 'µm'>, 'the_c': 1, 'the_t': 8, 'the_z': 0}, {'delta_t': 10823.322887878787, 'delta_t_unit': <UnitsTime.SECOND: 's'>, 'position_x': -16360.5, 'position_x_unit': <UnitsLength.MICROMETER: 'µm'>, 'position_y': -4955.0, 'position_y_unit': <UnitsLength.MICROMETER: 'µm'>, 'position_z': 146.837, 'position_z_unit': <UnitsLength.MICROMETER: 'µm'>, 'the_c': 2, 'the_t': 8, 'the_z': 0}, {'delta_t': 10826.100432848485, 'delta_t_unit': <UnitsTime.SECOND: 's'>, 'position_x': -16360.5, 'position_x_unit': <UnitsLength.MICROMETER: 'µm'>, 'position_y': -4955.0, 'position_y_unit': <UnitsLength.MICROMETER: 'µm'>, 'position_z': 146.837, 'position_z_unit': <UnitsLength.MICROMETER: 'µm'>, 'the_c': 0, 'the_t': 9, 'the_z': 0}, {'delta_t': 10826.100432848485, 'delta_t_unit': <UnitsTime.SECOND: 's'>, 'position_x': -16360.5, 'position_x_unit': <UnitsLength.MICROMETER: 'µm'>, 'position_y': -4955.0, 'position_y_unit': <UnitsLength.MICROMETER: 'µm'>, 'position_z': 146.837, 'position_z_unit': <UnitsLength.MICROMETER: 'µm'>, 'the_c': 1, 'the_t': 9, 'the_z': 0}, {'delta_t': 10826.100432848485, 'delta_t_unit': <UnitsTime.SECOND: 's'>, 'position_x': -16360.5, 'position_x_unit': <UnitsLength.MICROMETER: 'µm'>, 'position_y': -4955.0, 'position_y_unit': <UnitsLength.MICROMETER: 'µm'>, 'position_z': 146.837, 'position_z_unit': <UnitsLength.MICROMETER: 'µm'>, 'the_c': 2, 'the_t': 9, 'the_z': 0}, {'delta_t': 10828.877977878788, 'delta_t_unit': <UnitsTime.SECOND: 's'>, 'position_x': -16360.5, 'position_x_unit': <UnitsLength.MICROMETER: 'µm'>, 'position_y': -4955.0, 'position_y_unit': <UnitsLength.MICROMETER: 'µm'>, 'position_z': 146.837, 'position_z_unit': <UnitsLength.MICROMETER: 'µm'>, 'the_c': 0, 'the_t': 10, 'the_z': 0}, {'delta_t': 10828.877977878788, 'delta_t_unit': <UnitsTime.SECOND: 's'>, 'position_x': -16360.5, 'position_x_unit': <UnitsLength.MICROMETER: 'µm'>, 'position_y': -4955.0, 'position_y_unit': <UnitsLength.MICROMETER: 'µm'>, 'position_z': 146.837, 'position_z_unit': <UnitsLength.MICROMETER: 'µm'>, 'the_c': 1, 'the_t': 10, 'the_z': 0}, {'delta_t': 10828.877977878788, 'delta_t_unit': <UnitsTime.SECOND: 's'>, 'position_x': -16360.5, 'position_x_unit': <UnitsLength.MICROMETER: 'µm'>, 'position_y': -4955.0, 'position_y_unit': <UnitsLength.MICROMETER: 'µm'>, 'position_z': 146.837, 'position_z_unit': <UnitsLength.MICROMETER: 'µm'>, 'the_c': 2, 'the_t': 10, 'the_z': 0}, {'delta_t': 10831.655522848485, 'delta_t_unit': <UnitsTime.SECOND: 's'>, 'position_x': -16360.5, 'position_x_unit': <UnitsLength.MICROMETER: 'µm'>, 'position_y': -4955.0, 'position_y_unit': <UnitsLength.MICROMETER: 'µm'>, 'position_z': 146.837, 'position_z_unit': <UnitsLength.MICROMETER: 'µm'>, 'the_c': 0, 'the_t': 11, 'the_z': 0}, {'delta_t': 10831.655522848485, 'delta_t_unit': <UnitsTime.SECOND: 's'>, 'position_x': -16360.5, 'position_x_unit': <UnitsLength.MICROMETER: 'µm'>, 'position_y': -4955.0, 'position_y_unit': <UnitsLength.MICROMETER: 'µm'>, 'position_z': 146.837, 'position_z_unit': <UnitsLength.MICROMETER: 'µm'>, 'the_c': 1, 'the_t': 11, 'the_z': 0}, {'delta_t': 10831.655522848485, 'delta_t_unit': <UnitsTime.SECOND: 's'>, 'position_x': -16360.5, 'position_x_unit': <UnitsLength.MICROMETER: 'µm'>, 'position_y': -4955.0, 'position_y_unit': <UnitsLength.MICROMETER: 'µm'>, 'position_z': 146.837, 'position_z_unit': <UnitsLength.MICROMETER: 'µm'>, 'the_c': 2, 'the_t': 11, 'the_z': 0}, {'delta_t': 10834.433067878788, 'delta_t_unit': <UnitsTime.SECOND: 's'>, 'position_x': -16360.5, 'position_x_unit': <UnitsLength.MICROMETER: 'µm'>, 'position_y': -4955.0, 'position_y_unit': <UnitsLength.MICROMETER: 'µm'>, 'position_z': 146.837, 'position_z_unit': <UnitsLength.MICROMETER: 'µm'>, 'the_c': 0, 'the_t': 12, 'the_z': 0}, {'delta_t': 10834.433067878788, 'delta_t_unit': <UnitsTime.SECOND: 's'>, 'position_x': -16360.5, 'position_x_unit': <UnitsLength.MICROMETER: 'µm'>, 'position_y': -4955.0, 'position_y_unit': <UnitsLength.MICROMETER: 'µm'>, 'position_z': 146.837, 'position_z_unit': <UnitsLength.MICROMETER: 'µm'>, 'the_c': 1, 'the_t': 12, 'the_z': 0}, {'delta_t': 10834.433067878788, 'delta_t_unit': <UnitsTime.SECOND: 's'>, 'position_x': -16360.5, 'position_x_unit': <UnitsLength.MICROMETER: 'µm'>, 'position_y': -4955.0, 'position_y_unit': <UnitsLength.MICROMETER: 'µm'>, 'position_z': 146.837, 'position_z_unit': <UnitsLength.MICROMETER: 'µm'>, 'the_c': 2, 'the_t': 12, 'the_z': 0}, {'delta_t': 10837.210612848485, 'delta_t_unit': <UnitsTime.SECOND: 's'>, 'position_x': -16360.5, 'position_x_unit': <UnitsLength.MICROMETER: 'µm'>, 'position_y': -4955.0, 'position_y_unit': <UnitsLength.MICROMETER: 'µm'>, 'position_z': 146.837, 'position_z_unit': <UnitsLength.MICROMETER: 'µm'>, 'the_c': 0, 'the_t': 13, 'the_z': 0}, {'delta_t': 10837.210612848485, 'delta_t_unit': <UnitsTime.SECOND: 's'>, 'position_x': -16360.5, 'position_x_unit': <UnitsLength.MICROMETER: 'µm'>, 'position_y': -4955.0, 'position_y_unit': <UnitsLength.MICROMETER: 'µm'>, 'position_z': 146.837, 'position_z_unit': <UnitsLength.MICROMETER: 'µm'>, 'the_c': 1, 'the_t': 13, 'the_z': 0}, {'delta_t': 10837.210612848485, 'delta_t_unit': <UnitsTime.SECOND: 's'>, 'position_x': -16360.5, 'position_x_unit': <UnitsLength.MICROMETER: 'µm'>, 'position_y': -4955.0, 'position_y_unit': <UnitsLength.MICROMETER: 'µm'>, 'position_z': 146.837, 'position_z_unit': <UnitsLength.MICROMETER: 'µm'>, 'the_c': 2, 'the_t': 13, 'the_z': 0}, {'delta_t': 10839.988157878788, 'delta_t_unit': <UnitsTime.SECOND: 's'>, 'position_x': -16360.5, 'position_x_unit': <UnitsLength.MICROMETER: 'µm'>, 'position_y': -4955.0, 'position_y_unit': <UnitsLength.MICROMETER: 'µm'>, 'position_z': 146.837, 'position_z_unit': <UnitsLength.MICROMETER: 'µm'>, 'the_c': 0, 'the_t': 14, 'the_z': 0}, {'delta_t': 10839.988157878788, 'delta_t_unit': <UnitsTime.SECOND: 's'>, 'position_x': -16360.5, 'position_x_unit': <UnitsLength.MICROMETER: 'µm'>, 'position_y': -4955.0, 'position_y_unit': <UnitsLength.MICROMETER: 'µm'>, 'position_z': 146.837, 'position_z_unit': <UnitsLength.MICROMETER: 'µm'>, 'the_c': 1, 'the_t': 14, 'the_z': 0}, {'delta_t': 10839.988157878788, 'delta_t_unit': <UnitsTime.SECOND: 's'>, 'position_x': -16360.5, 'position_x_unit': <UnitsLength.MICROMETER: 'µm'>, 'position_y': -4955.0, 'position_y_unit': <UnitsLength.MICROMETER: 'µm'>, 'position_z': 146.837, 'position_z_unit': <UnitsLength.MICROMETER: 'µm'>, 'the_c': 2, 'the_t': 14, 'the_z': 0}, {'delta_t': 10842.765702848485, 'delta_t_unit': <UnitsTime.SECOND: 's'>, 'position_x': -16360.5, 'position_x_unit': <UnitsLength.MICROMETER: 'µm'>, 'position_y': -4955.0, 'position_y_unit': <UnitsLength.MICROMETER: 'µm'>, 'position_z': 146.837, 'position_z_unit': <UnitsLength.MICROMETER: 'µm'>, 'the_c': 0, 'the_t': 15, 'the_z': 0}, {'delta_t': 10842.765702848485, 'delta_t_unit': <UnitsTime.SECOND: 's'>, 'position_x': -16360.5, 'position_x_unit': <UnitsLength.MICROMETER: 'µm'>, 'position_y': -4955.0, 'position_y_unit': <UnitsLength.MICROMETER: 'µm'>, 'position_z': 146.837, 'position_z_unit': <UnitsLength.MICROMETER: 'µm'>, 'the_c': 1, 'the_t': 15, 'the_z': 0}, {'delta_t': 10842.765702848485, 'delta_t_unit': <UnitsTime.SECOND: 's'>, 'position_x': -16360.5, 'position_x_unit': <UnitsLength.MICROMETER: 'µm'>, 'position_y': -4955.0, 'position_y_unit': <UnitsLength.MICROMETER: 'µm'>, 'position_z': 146.837, 'position_z_unit': <UnitsLength.MICROMETER: 'µm'>, 'the_c': 2, 'the_t': 15, 'the_z': 0}, {'delta_t': 10845.543247878788, 'delta_t_unit': <UnitsTime.SECOND: 's'>, 'position_x': -16360.5, 'position_x_unit': <UnitsLength.MICROMETER: 'µm'>, 'position_y': -4955.0, 'position_y_unit': <UnitsLength.MICROMETER: 'µm'>, 'position_z': 146.837, 'position_z_unit': <UnitsLength.MICROMETER: 'µm'>, 'the_c': 0, 'the_t': 16, 'the_z': 0}, {'delta_t': 10845.543247878788, 'delta_t_unit': <UnitsTime.SECOND: 's'>, 'position_x': -16360.5, 'position_x_unit': <UnitsLength.MICROMETER: 'µm'>, 'position_y': -4955.0, 'position_y_unit': <UnitsLength.MICROMETER: 'µm'>, 'position_z': 146.837, 'position_z_unit': <UnitsLength.MICROMETER: 'µm'>, 'the_c': 1, 'the_t': 16, 'the_z': 0}, {'delta_t': 10845.543247878788, 'delta_t_unit': <UnitsTime.SECOND: 's'>, 'position_x': -16360.5, 'position_x_unit': <UnitsLength.MICROMETER: 'µm'>, 'position_y': -4955.0, 'position_y_unit': <UnitsLength.MICROMETER: 'µm'>, 'position_z': 146.837, 'position_z_unit': <UnitsLength.MICROMETER: 'µm'>, 'the_c': 2, 'the_t': 16, 'the_z': 0}, {'delta_t': 10848.320792848484, 'delta_t_unit': <UnitsTime.SECOND: 's'>, 'position_x': -16360.5, 'position_x_unit': <UnitsLength.MICROMETER: 'µm'>, 'position_y': -4955.0, 'position_y_unit': <UnitsLength.MICROMETER: 'µm'>, 'position_z': 146.837, 'position_z_unit': <UnitsLength.MICROMETER: 'µm'>, 'the_c': 0, 'the_t': 17, 'the_z': 0}, {'delta_t': 10848.320792848484, 'delta_t_unit': <UnitsTime.SECOND: 's'>, 'position_x': -16360.5, 'position_x_unit': <UnitsLength.MICROMETER: 'µm'>, 'position_y': -4955.0, 'position_y_unit': <UnitsLength.MICROMETER: 'µm'>, 'position_z': 146.837, 'position_z_unit': <UnitsLength.MICROMETER: 'µm'>, 'the_c': 1, 'the_t': 17, 'the_z': 0}, {'delta_t': 10848.320792848484, 'delta_t_unit': <UnitsTime.SECOND: 's'>, 'position_x': -16360.5, 'position_x_unit': <UnitsLength.MICROMETER: 'µm'>, 'position_y': -4955.0, 'position_y_unit': <UnitsLength.MICROMETER: 'µm'>, 'position_z': 146.837, 'position_z_unit': <UnitsLength.MICROMETER: 'µm'>, 'the_c': 2, 'the_t': 17, 'the_z': 0}, {'delta_t': 10851.098337878788, 'delta_t_unit': <UnitsTime.SECOND: 's'>, 'position_x': -16360.5, 'position_x_unit': <UnitsLength.MICROMETER: 'µm'>, 'position_y': -4955.0, 'position_y_unit': <UnitsLength.MICROMETER: 'µm'>, 'position_z': 146.837, 'position_z_unit': <UnitsLength.MICROMETER: 'µm'>, 'the_c': 0, 'the_t': 18, 'the_z': 0}, {'delta_t': 10851.098337878788, 'delta_t_unit': <UnitsTime.SECOND: 's'>, 'position_x': -16360.5, 'position_x_unit': <UnitsLength.MICROMETER: 'µm'>, 'position_y': -4955.0, 'position_y_unit': <UnitsLength.MICROMETER: 'µm'>, 'position_z': 146.837, 'position_z_unit': <UnitsLength.MICROMETER: 'µm'>, 'the_c': 1, 'the_t': 18, 'the_z': 0}, {'delta_t': 10851.098337878788, 'delta_t_unit': <UnitsTime.SECOND: 's'>, 'position_x': -16360.5, 'position_x_unit': <UnitsLength.MICROMETER: 'µm'>, 'position_y': -4955.0, 'position_y_unit': <UnitsLength.MICROMETER: 'µm'>, 'position_z': 146.837, 'position_z_unit': <UnitsLength.MICROMETER: 'µm'>, 'the_c': 2, 'the_t': 18, 'the_z': 0}, {'delta_t': 10853.875882848484, 'delta_t_unit': <UnitsTime.SECOND: 's'>, 'position_x': -16360.5, 'position_x_unit': <UnitsLength.MICROMETER: 'µm'>, 'position_y': -4955.0, 'position_y_unit': <UnitsLength.MICROMETER: 'µm'>, 'position_z': 146.837, 'position_z_unit': <UnitsLength.MICROMETER: 'µm'>, 'the_c': 0, 'the_t': 19, 'the_z': 0}, {'delta_t': 10853.875882848484, 'delta_t_unit': <UnitsTime.SECOND: 's'>, 'position_x': -16360.5, 'position_x_unit': <UnitsLength.MICROMETER: 'µm'>, 'position_y': -4955.0, 'position_y_unit': <UnitsLength.MICROMETER: 'µm'>, 'position_z': 146.837, 'position_z_unit': <UnitsLength.MICROMETER: 'µm'>, 'the_c': 1, 'the_t': 19, 'the_z': 0}, {'delta_t': 10853.875882848484, 'delta_t_unit': <UnitsTime.SECOND: 's'>, 'position_x': -16360.5, 'position_x_unit': <UnitsLength.MICROMETER: 'µm'>, 'position_y': -4955.0, 'position_y_unit': <UnitsLength.MICROMETER: 'µm'>, 'position_z': 146.837, 'position_z_unit': <UnitsLength.MICROMETER: 'µm'>, 'the_c': 2, 'the_t': 19, 'the_z': 0}, {'delta_t': 10856.653427878788, 'delta_t_unit': <UnitsTime.SECOND: 's'>, 'position_x': -16360.5, 'position_x_unit': <UnitsLength.MICROMETER: 'µm'>, 'position_y': -4955.0, 'position_y_unit': <UnitsLength.MICROMETER: 'µm'>, 'position_z': 146.837, 'position_z_unit': <UnitsLength.MICROMETER: 'µm'>, 'the_c': 0, 'the_t': 20, 'the_z': 0}, {'delta_t': 10856.653427878788, 'delta_t_unit': <UnitsTime.SECOND: 's'>, 'position_x': -16360.5, 'position_x_unit': <UnitsLength.MICROMETER: 'µm'>, 'position_y': -4955.0, 'position_y_unit': <UnitsLength.MICROMETER: 'µm'>, 'position_z': 146.837, 'position_z_unit': <UnitsLength.MICROMETER: 'µm'>, 'the_c': 1, 'the_t': 20, 'the_z': 0}, {'delta_t': 10856.653427878788, 'delta_t_unit': <UnitsTime.SECOND: 's'>, 'position_x': -16360.5, 'position_x_unit': <UnitsLength.MICROMETER: 'µm'>, 'position_y': -4955.0, 'position_y_unit': <UnitsLength.MICROMETER: 'µm'>, 'position_z': 146.837, 'position_z_unit': <UnitsLength.MICROMETER: 'µm'>, 'the_c': 2, 'the_t': 20, 'the_z': 0}, {'delta_t': 10859.430972848484, 'delta_t_unit': <UnitsTime.SECOND: 's'>, 'position_x': -16360.5, 'position_x_unit': <UnitsLength.MICROMETER: 'µm'>, 'position_y': -4955.0, 'position_y_unit': <UnitsLength.MICROMETER: 'µm'>, 'position_z': 146.837, 'position_z_unit': <UnitsLength.MICROMETER: 'µm'>, 'the_c': 0, 'the_t': 21, 'the_z': 0}, {'delta_t': 10859.430972848484, 'delta_t_unit': <UnitsTime.SECOND: 's'>, 'position_x': -16360.5, 'position_x_unit': <UnitsLength.MICROMETER: 'µm'>, 'position_y': -4955.0, 'position_y_unit': <UnitsLength.MICROMETER: 'µm'>, 'position_z': 146.837, 'position_z_unit': <UnitsLength.MICROMETER: 'µm'>, 'the_c': 1, 'the_t': 21, 'the_z': 0}, {'delta_t': 10859.430972848484, 'delta_t_unit': <UnitsTime.SECOND: 's'>, 'position_x': -16360.5, 'position_x_unit': <UnitsLength.MICROMETER: 'µm'>, 'position_y': -4955.0, 'position_y_unit': <UnitsLength.MICROMETER: 'µm'>, 'position_z': 146.837, 'position_z_unit': <UnitsLength.MICROMETER: 'µm'>, 'the_c': 2, 'the_t': 21, 'the_z': 0}, {'delta_t': 10862.208517878787, 'delta_t_unit': <UnitsTime.SECOND: 's'>, 'position_x': -16360.5, 'position_x_unit': <UnitsLength.MICROMETER: 'µm'>, 'position_y': -4955.0, 'position_y_unit': <UnitsLength.MICROMETER: 'µm'>, 'position_z': 146.837, 'position_z_unit': <UnitsLength.MICROMETER: 'µm'>, 'the_c': 0, 'the_t': 22, 'the_z': 0}, {'delta_t': 10862.208517878787, 'delta_t_unit': <UnitsTime.SECOND: 's'>, 'position_x': -16360.5, 'position_x_unit': <UnitsLength.MICROMETER: 'µm'>, 'position_y': -4955.0, 'position_y_unit': <UnitsLength.MICROMETER: 'µm'>, 'position_z': 146.837, 'position_z_unit': <UnitsLength.MICROMETER: 'µm'>, 'the_c': 1, 'the_t': 22, 'the_z': 0}, {'delta_t': 10862.208517878787, 'delta_t_unit': <UnitsTime.SECOND: 's'>, 'position_x': -16360.5, 'position_x_unit': <UnitsLength.MICROMETER: 'µm'>, 'position_y': -4955.0, 'position_y_unit': <UnitsLength.MICROMETER: 'µm'>, 'position_z': 146.837, 'position_z_unit': <UnitsLength.MICROMETER: 'µm'>, 'the_c': 2, 'the_t': 22, 'the_z': 0}, {'delta_t': 10864.986062848484, 'delta_t_unit': <UnitsTime.SECOND: 's'>, 'position_x': -16360.5, 'position_x_unit': <UnitsLength.MICROMETER: 'µm'>, 'position_y': -4955.0, 'position_y_unit': <UnitsLength.MICROMETER: 'µm'>, 'position_z': 146.837, 'position_z_unit': <UnitsLength.MICROMETER: 'µm'>, 'the_c': 0, 'the_t': 23, 'the_z': 0}, {'delta_t': 10864.986062848484, 'delta_t_unit': <UnitsTime.SECOND: 's'>, 'position_x': -16360.5, 'position_x_unit': <UnitsLength.MICROMETER: 'µm'>, 'position_y': -4955.0, 'position_y_unit': <UnitsLength.MICROMETER: 'µm'>, 'position_z': 146.837, 'position_z_unit': <UnitsLength.MICROMETER: 'µm'>, 'the_c': 1, 'the_t': 23, 'the_z': 0}, {'delta_t': 10864.986062848484, 'delta_t_unit': <UnitsTime.SECOND: 's'>, 'position_x': -16360.5, 'position_x_unit': <UnitsLength.MICROMETER: 'µm'>, 'position_y': -4955.0, 'position_y_unit': <UnitsLength.MICROMETER: 'µm'>, 'position_z': 146.837, 'position_z_unit': <UnitsLength.MICROMETER: 'µm'>, 'the_c': 2, 'the_t': 23, 'the_z': 0}, {'delta_t': 10867.763607878787, 'delta_t_unit': <UnitsTime.SECOND: 's'>, 'position_x': -16360.5, 'position_x_unit': <UnitsLength.MICROMETER: 'µm'>, 'position_y': -4955.0, 'position_y_unit': <UnitsLength.MICROMETER: 'µm'>, 'position_z': 146.837, 'position_z_unit': <UnitsLength.MICROMETER: 'µm'>, 'the_c': 0, 'the_t': 24, 'the_z': 0}, {'delta_t': 10867.763607878787, 'delta_t_unit': <UnitsTime.SECOND: 's'>, 'position_x': -16360.5, 'position_x_unit': <UnitsLength.MICROMETER: 'µm'>, 'position_y': -4955.0, 'position_y_unit': <UnitsLength.MICROMETER: 'µm'>, 'position_z': 146.837, 'position_z_unit': <UnitsLength.MICROMETER: 'µm'>, 'the_c': 1, 'the_t': 24, 'the_z': 0}, {'delta_t': 10867.763607878787, 'delta_t_unit': <UnitsTime.SECOND: 's'>, 'position_x': -16360.5, 'position_x_unit': <UnitsLength.MICROMETER: 'µm'>, 'position_y': -4955.0, 'position_y_unit': <UnitsLength.MICROMETER: 'µm'>, 'position_z': 146.837, 'position_z_unit': <UnitsLength.MICROMETER: 'µm'>, 'the_c': 2, 'the_t': 24, 'the_z': 0}, {'delta_t': 10870.541152848484, 'delta_t_unit': <UnitsTime.SECOND: 's'>, 'position_x': -16360.5, 'position_x_unit': <UnitsLength.MICROMETER: 'µm'>, 'position_y': -4955.0, 'position_y_unit': <UnitsLength.MICROMETER: 'µm'>, 'position_z': 146.837, 'position_z_unit': <UnitsLength.MICROMETER: 'µm'>, 'the_c': 0, 'the_t': 25, 'the_z': 0}, {'delta_t': 10870.541152848484, 'delta_t_unit': <UnitsTime.SECOND: 's'>, 'position_x': -16360.5, 'position_x_unit': <UnitsLength.MICROMETER: 'µm'>, 'position_y': -4955.0, 'position_y_unit': <UnitsLength.MICROMETER: 'µm'>, 'position_z': 146.837, 'position_z_unit': <UnitsLength.MICROMETER: 'µm'>, 'the_c': 1, 'the_t': 25, 'the_z': 0}, {'delta_t': 10870.541152848484, 'delta_t_unit': <UnitsTime.SECOND: 's'>, 'position_x': -16360.5, 'position_x_unit': <UnitsLength.MICROMETER: 'µm'>, 'position_y': -4955.0, 'position_y_unit': <UnitsLength.MICROMETER: 'µm'>, 'position_z': 146.837, 'position_z_unit': <UnitsLength.MICROMETER: 'µm'>, 'the_c': 2, 'the_t': 25, 'the_z': 0}, {'delta_t': 10873.318697878787, 'delta_t_unit': <UnitsTime.SECOND: 's'>, 'position_x': -16360.5, 'position_x_unit': <UnitsLength.MICROMETER: 'µm'>, 'position_y': -4955.0, 'position_y_unit': <UnitsLength.MICROMETER: 'µm'>, 'position_z': 146.837, 'position_z_unit': <UnitsLength.MICROMETER: 'µm'>, 'the_c': 0, 'the_t': 26, 'the_z': 0}, {'delta_t': 10873.318697878787, 'delta_t_unit': <UnitsTime.SECOND: 's'>, 'position_x': -16360.5, 'position_x_unit': <UnitsLength.MICROMETER: 'µm'>, 'position_y': -4955.0, 'position_y_unit': <UnitsLength.MICROMETER: 'µm'>, 'position_z': 146.837, 'position_z_unit': <UnitsLength.MICROMETER: 'µm'>, 'the_c': 1, 'the_t': 26, 'the_z': 0}, {'delta_t': 10873.318697878787, 'delta_t_unit': <UnitsTime.SECOND: 's'>, 'position_x': -16360.5, 'position_x_unit': <UnitsLength.MICROMETER: 'µm'>, 'position_y': -4955.0, 'position_y_unit': <UnitsLength.MICROMETER: 'µm'>, 'position_z': 146.837, 'position_z_unit': <UnitsLength.MICROMETER: 'µm'>, 'the_c': 2, 'the_t': 26, 'the_z': 0}, {'delta_t': 10876.096242848485, 'delta_t_unit': <UnitsTime.SECOND: 's'>, 'position_x': -16360.5, 'position_x_unit': <UnitsLength.MICROMETER: 'µm'>, 'position_y': -4955.0, 'position_y_unit': <UnitsLength.MICROMETER: 'µm'>, 'position_z': 146.837, 'position_z_unit': <UnitsLength.MICROMETER: 'µm'>, 'the_c': 0, 'the_t': 27, 'the_z': 0}, {'delta_t': 10876.096242848485, 'delta_t_unit': <UnitsTime.SECOND: 's'>, 'position_x': -16360.5, 'position_x_unit': <UnitsLength.MICROMETER: 'µm'>, 'position_y': -4955.0, 'position_y_unit': <UnitsLength.MICROMETER: 'µm'>, 'position_z': 146.837, 'position_z_unit': <UnitsLength.MICROMETER: 'µm'>, 'the_c': 1, 'the_t': 27, 'the_z': 0}, {'delta_t': 10876.096242848485, 'delta_t_unit': <UnitsTime.SECOND: 's'>, 'position_x': -16360.5, 'position_x_unit': <UnitsLength.MICROMETER: 'µm'>, 'position_y': -4955.0, 'position_y_unit': <UnitsLength.MICROMETER: 'µm'>, 'position_z': 146.837, 'position_z_unit': <UnitsLength.MICROMETER: 'µm'>, 'the_c': 2, 'the_t': 27, 'the_z': 0}, {'delta_t': 10878.873787878787, 'delta_t_unit': <UnitsTime.SECOND: 's'>, 'position_x': -16360.5, 'position_x_unit': <UnitsLength.MICROMETER: 'µm'>, 'position_y': -4955.0, 'position_y_unit': <UnitsLength.MICROMETER: 'µm'>, 'position_z': 146.837, 'position_z_unit': <UnitsLength.MICROMETER: 'µm'>, 'the_c': 0, 'the_t': 28, 'the_z': 0}, {'delta_t': 10878.873787878787, 'delta_t_unit': <UnitsTime.SECOND: 's'>, 'position_x': -16360.5, 'position_x_unit': <UnitsLength.MICROMETER: 'µm'>, 'position_y': -4955.0, 'position_y_unit': <UnitsLength.MICROMETER: 'µm'>, 'position_z': 146.837, 'position_z_unit': <UnitsLength.MICROMETER: 'µm'>, 'the_c': 1, 'the_t': 28, 'the_z': 0}, {'delta_t': 10878.873787878787, 'delta_t_unit': <UnitsTime.SECOND: 's'>, 'position_x': -16360.5, 'position_x_unit': <UnitsLength.MICROMETER: 'µm'>, 'position_y': -4955.0, 'position_y_unit': <UnitsLength.MICROMETER: 'µm'>, 'position_z': 146.837, 'position_z_unit': <UnitsLength.MICROMETER: 'µm'>, 'the_c': 2, 'the_t': 28, 'the_z': 0}, {'delta_t': 10881.651332848485, 'delta_t_unit': <UnitsTime.SECOND: 's'>, 'position_x': -16360.5, 'position_x_unit': <UnitsLength.MICROMETER: 'µm'>, 'position_y': -4955.0, 'position_y_unit': <UnitsLength.MICROMETER: 'µm'>, 'position_z': 146.837, 'position_z_unit': <UnitsLength.MICROMETER: 'µm'>, 'the_c': 0, 'the_t': 29, 'the_z': 0}, {'delta_t': 10881.651332848485, 'delta_t_unit': <UnitsTime.SECOND: 's'>, 'position_x': -16360.5, 'position_x_unit': <UnitsLength.MICROMETER: 'µm'>, 'position_y': -4955.0, 'position_y_unit': <UnitsLength.MICROMETER: 'µm'>, 'position_z': 146.837, 'position_z_unit': <UnitsLength.MICROMETER: 'µm'>, 'the_c': 1, 'the_t': 29, 'the_z': 0}, {'delta_t': 10881.651332848485, 'delta_t_unit': <UnitsTime.SECOND: 's'>, 'position_x': -16360.5, 'position_x_unit': <UnitsLength.MICROMETER: 'µm'>, 'position_y': -4955.0, 'position_y_unit': <UnitsLength.MICROMETER: 'µm'>, 'position_z': 146.837, 'position_z_unit': <UnitsLength.MICROMETER: 'µm'>, 'the_c': 2, 'the_t': 29, 'the_z': 0}]}}], 'structured_annotations': {'xml_annotations': [{'id': 'Annotation:0', 'namespace': 'openmicroscopy.org/OriginalMetadata', 'value': {'any_elements': [AnyElement(qname='{http://www.openmicroscopy.org/Schemas/OME/2016-06}OriginalMetadata', text='', tail=None, children=[AnyElement(qname='{http://www.openmicroscopy.org/Schemas/OME/2016-06}Key', text='Experiment|AcquisitionBlock|AcquisitionModeSetup|FocusStabilizer', tail=None, children=[], attributes={}), AnyElement(qname='{http://www.openmicroscopy.org/Schemas/OME/2016-06}Value', text='[false]', tail=None, children=[], attributes={})], attributes={})]}}, {'id': 'Annotation:1', 'namespace': 'openmicroscopy.org/OriginalMetadata', 'value': {'any_elements': [AnyElement(qname='{http://www.openmicroscopy.org/Schemas/OME/2016-06}OriginalMetadata', text='', tail=None, children=[AnyElement(qname='{http://www.openmicroscopy.org/Schemas/OME/2016-06}Key', text='Experiment|AcquisitionBlock|AcquisitionModeSetup|TrackMultiplexType', tail=None, children=[], attributes={}), AnyElement(qname='{http://www.openmicroscopy.org/Schemas/OME/2016-06}Value', text='[Line]', tail=None, children=[], attributes={})], attributes={})]}}, {'id': 'Annotation:2', 'namespace': 'openmicroscopy.org/OriginalMetadata', 'value': {'any_elements': [AnyElement(qname='{http://www.openmicroscopy.org/Schemas/OME/2016-06}OriginalMetadata', text='', tail=None, children=[AnyElement(qname='{http://www.openmicroscopy.org/Schemas/OME/2016-06}Key', text='Information|Instrument|LightSource|LightSourceType|Laser|Wavelength', tail=None, children=[], attributes={}), AnyElement(qname='{http://www.openmicroscopy.org/Schemas/OME/2016-06}Value', text='[633.000000, 561.000000, 405.000000, 458.000000]', tail=None, children=[], attributes={})], attributes={})]}}, {'id': 'Annotation:3', 'namespace': 'openmicroscopy.org/OriginalMetadata', 'value': {'any_elements': [AnyElement(qname='{http://www.openmicroscopy.org/Schemas/OME/2016-06}OriginalMetadata', text='', tail=None, children=[AnyElement(qname='{http://www.openmicroscopy.org/Schemas/OME/2016-06}Key', text='Experiment|AcquisitionBlock|MultiTrackSetup|TrackSetup|BleachSetup|BleachParameterSet|SpotPositionY', tail=None, children=[], attributes={}), AnyElement(qname='{http://www.openmicroscopy.org/Schemas/OME/2016-06}Value', text='[0, 0]', tail=None, children=[], attributes={})], attributes={})]}}, {'id': 'Annotation:4', 'namespace': 'openmicroscopy.org/OriginalMetadata', 'value': {'any_elements': [AnyElement(qname='{http://www.openmicroscopy.org/Schemas/OME/2016-06}OriginalMetadata', text='', tail=None, children=[AnyElement(qname='{http://www.openmicroscopy.org/Schemas/OME/2016-06}Key', text='Experiment|AcquisitionBlock|MultiTrackSetup|TrackSetup|BleachSetup|BleachParameterSet|SpotPositionX', tail=None, children=[], attributes={}), AnyElement(qname='{http://www.openmicroscopy.org/Schemas/OME/2016-06}Value', text='[0, 0]', tail=None, children=[], attributes={})], attributes={})]}}, {'id': 'Annotation:5', 'namespace': 'openmicroscopy.org/OriginalMetadata', 'value': {'any_elements': [AnyElement(qname='{http://www.openmicroscopy.org/Schemas/OME/2016-06}OriginalMetadata', text='', tail=None, children=[AnyElement(qname='{http://www.openmicroscopy.org/Schemas/OME/2016-06}Key', text='Experiment|AcquisitionBlock|MultiTrackSetup|TrackSetup|Detector|PinholeDiameter', tail=None, children=[], attributes={}), AnyElement(qname='{http://www.openmicroscopy.org/Schemas/OME/2016-06}Value', text='[7.1379999999999998e-005, 0, 7.1379999999999998e-005]', tail=None, children=[], attributes={})], attributes={})]}}, {'id': 'Annotation:6', 'namespace': 'openmicroscopy.org/OriginalMetadata', 'value': {'any_elements': [AnyElement(qname='{http://www.openmicroscopy.org/Schemas/OME/2016-06}OriginalMetadata', text='', tail=None, children=[AnyElement(qname='{http://www.openmicroscopy.org/Schemas/OME/2016-06}Key', text='Experiment|AcquisitionBlock|MultiTrackSetup|TrackSetup|LaserSuppressionMode', tail=None, children=[], attributes={}), AnyElement(qname='{http://www.openmicroscopy.org/Schemas/OME/2016-06}Value', text='[None, None]', tail=None, children=[], attributes={})], attributes={})]}}, {'id': 'Annotation:7', 'namespace': 'openmicroscopy.org/OriginalMetadata', 'value': {'any_elements': [AnyElement(qname='{http://www.openmicroscopy.org/Schemas/OME/2016-06}OriginalMetadata', text='', tail=None, children=[AnyElement(qname='{http://www.openmicroscopy.org/Schemas/OME/2016-06}Key', text='Information|Image|RefractiveIndex', tail=None, children=[], attributes={}), AnyElement(qname='{http://www.openmicroscopy.org/Schemas/OME/2016-06}Value', text='[1.333]', tail=None, children=[], attributes={})], attributes={})]}}, {'id': 'Annotation:8', 'namespace': 'openmicroscopy.org/OriginalMetadata', 'value': {'any_elements': [AnyElement(qname='{http://www.openmicroscopy.org/Schemas/OME/2016-06}OriginalMetadata', text='', tail=None, children=[AnyElement(qname='{http://www.openmicroscopy.org/Schemas/OME/2016-06}Key', text='Experiment|AcquisitionBlock|MultiTrackSetup|TrackSetup|BleachSetup|BleachParameterSet|StartEvent', tail=None, children=[], attributes={}), AnyElement(qname='{http://www.openmicroscopy.org/Schemas/OME/2016-06}Value', text='[None, None]', tail=None, children=[], attributes={})], attributes={})]}}, {'id': 'Annotation:9', 'namespace': 'openmicroscopy.org/OriginalMetadata', 'value': {'any_elements': [AnyElement(qname='{http://www.openmicroscopy.org/Schemas/OME/2016-06}OriginalMetadata', text='', tail=None, children=[AnyElement(qname='{http://www.openmicroscopy.org/Schemas/OME/2016-06}Key', text='Experiment|AcquisitionBlock|AcquisitionModeSetup|RtFrameHeight', tail=None, children=[], attributes={}), AnyElement(qname='{http://www.openmicroscopy.org/Schemas/OME/2016-06}Value', text='[512]', tail=None, children=[], attributes={})], attributes={})]}}, {'id': 'Annotation:10', 'namespace': 'openmicroscopy.org/OriginalMetadata', 'value': {'any_elements': [AnyElement(qname='{http://www.openmicroscopy.org/Schemas/OME/2016-06}OriginalMetadata', text='', tail=None, children=[AnyElement(qname='{http://www.openmicroscopy.org/Schemas/OME/2016-06}Key', text='Experiment|AcquisitionBlock|AcquisitionModeSetup|ScalingZ', tail=None, children=[], attributes={}), AnyElement(qname='{http://www.openmicroscopy.org/Schemas/OME/2016-06}Value', text='[9.9999999999999995e-007]', tail=None, children=[], attributes={})], attributes={})]}}, {'id': 'Annotation:11', 'namespace': 'openmicroscopy.org/OriginalMetadata', 'value': {'any_elements': [AnyElement(qname='{http://www.openmicroscopy.org/Schemas/OME/2016-06}OriginalMetadata', text='', tail=None, children=[AnyElement(qname='{http://www.openmicroscopy.org/Schemas/OME/2016-06}Key', text='Experiment|AcquisitionBlock|AcquisitionModeSetup|ScalingY', tail=None, children=[], attributes={}), AnyElement(qname='{http://www.openmicroscopy.org/Schemas/OME/2016-06}Value', text='[9.9228781590449496e-008]', tail=None, children=[], attributes={})], attributes={})]}}, {'id': 'Annotation:12', 'namespace': 'openmicroscopy.org/OriginalMetadata', 'value': {'any_elements': [AnyElement(qname='{http://www.openmicroscopy.org/Schemas/OME/2016-06}OriginalMetadata', text='', tail=None, children=[AnyElement(qname='{http://www.openmicroscopy.org/Schemas/OME/2016-06}Key', text='Experiment|AcquisitionBlock|AcquisitionModeSetup|ScalingX', tail=None, children=[], attributes={}), AnyElement(qname='{http://www.openmicroscopy.org/Schemas/OME/2016-06}Value', text='[9.9228781590449496e-008]', tail=None, children=[], attributes={})], attributes={})]}}, {'id': 'Annotation:13', 'namespace': 'openmicroscopy.org/OriginalMetadata', 'value': {'any_elements': [AnyElement(qname='{http://www.openmicroscopy.org/Schemas/OME/2016-06}OriginalMetadata', text='', tail=None, children=[AnyElement(qname='{http://www.openmicroscopy.org/Schemas/OME/2016-06}Key', text='Experiment|AcquisitionBlock|AcquisitionModeSetup|RtBinning', tail=None, children=[], attributes={}), AnyElement(qname='{http://www.openmicroscopy.org/Schemas/OME/2016-06}Value', text='[1]', tail=None, children=[], attributes={})], attributes={})]}}, {'id': 'Annotation:14', 'namespace': 'openmicroscopy.org/OriginalMetadata', 'value': {'any_elements': [AnyElement(qname='{http://www.openmicroscopy.org/Schemas/OME/2016-06}OriginalMetadata', text='', tail=None, children=[AnyElement(qname='{http://www.openmicroscopy.org/Schemas/OME/2016-06}Key', text='Experiment|AcquisitionBlock|AcquisitionModeSetup|RequestedScanSpeed', tail=None, children=[], attributes={}), AnyElement(qname='{http://www.openmicroscopy.org/Schemas/OME/2016-06}Value', text='[1]', tail=None, children=[], attributes={})], attributes={})]}}, {'id': 'Annotation:15', 'namespace': 'openmicroscopy.org/OriginalMetadata', 'value': {'any_elements': [AnyElement(qname='{http://www.openmicroscopy.org/Schemas/OME/2016-06}OriginalMetadata', text='', tail=None, children=[AnyElement(qname='{http://www.openmicroscopy.org/Schemas/OME/2016-06}Key', text='Experiment|AcquisitionBlock|AcquisitionModeSetup|CameraBinning', tail=None, children=[], attributes={}), AnyElement(qname='{http://www.openmicroscopy.org/Schemas/OME/2016-06}Value', text='[1]', tail=None, children=[], attributes={})], attributes={})]}}, {'id': 'Annotation:16', 'namespace': 'openmicroscopy.org/OriginalMetadata', 'value': {'any_elements': [AnyElement(qname='{http://www.openmicroscopy.org/Schemas/OME/2016-06}OriginalMetadata', text='', tail=None, children=[AnyElement(qname='{http://www.openmicroscopy.org/Schemas/OME/2016-06}Key', text='Experiment|AcquisitionBlock|AcquisitionModeSetup|RtRegionHeight', tail=None, children=[], attributes={}), AnyElement(qname='{http://www.openmicroscopy.org/Schemas/OME/2016-06}Value', text='[512]', tail=None, children=[], attributes={})], attributes={})]}}, {'id': 'Annotation:17', 'namespace': 'openmicroscopy.org/OriginalMetadata', 'value': {'any_elements': [AnyElement(qname='{http://www.openmicroscopy.org/Schemas/OME/2016-06}OriginalMetadata', text='', tail=None, children=[AnyElement(qname='{http://www.openmicroscopy.org/Schemas/OME/2016-06}Key', text='Appliance|Data|ShuttleAndFindData|Calibration|Marker|FocusPosition', tail=None, children=[], attributes={}), AnyElement(qname='{http://www.openmicroscopy.org/Schemas/OME/2016-06}Value', text='[0, 0, 0]', tail=None, children=[], attributes={})], attributes={})]}}, {'id': 'Annotation:18', 'namespace': 'openmicroscopy.org/OriginalMetadata', 'value': {'any_elements': [AnyElement(qname='{http://www.openmicroscopy.org/Schemas/OME/2016-06}OriginalMetadata', text='', tail=None, children=[AnyElement(qname='{http://www.openmicroscopy.org/Schemas/OME/2016-06}Key', text='Information|Image|Channel|Magnification', tail=None, children=[], attributes={}), AnyElement(qname='{http://www.openmicroscopy.org/Schemas/OME/2016-06}Value', text='[1, 1, 1]', tail=None, children=[], attributes={})], attributes={})]}}, {'id': 'Annotation:19', 'namespace': 'openmicroscopy.org/OriginalMetadata', 'value': {'any_elements': [AnyElement(qname='{http://www.openmicroscopy.org/Schemas/OME/2016-06}OriginalMetadata', text='', tail=None, children=[AnyElement(qname='{http://www.openmicroscopy.org/Schemas/OME/2016-06}Key', text='Experiment|AcquisitionBlock|MultiTrackSetup|TrackSetup|BleachSetup|BleachParameterSet|Cycles', tail=None, children=[], attributes={}), AnyElement(qname='{http://www.openmicroscopy.org/Schemas/OME/2016-06}Value', text='[1, 1]', tail=None, children=[], attributes={})], attributes={})]}}, {'id': 'Annotation:20', 'namespace': 'openmicroscopy.org/OriginalMetadata', 'value': {'any_elements': [AnyElement(qname='{http://www.openmicroscopy.org/Schemas/OME/2016-06}OriginalMetadata', text='', tail=None, children=[AnyElement(qname='{http://www.openmicroscopy.org/Schemas/OME/2016-06}Key', text='Experiment|AcquisitionBlock|AcquisitionModeSetup|SamplingEnd', tail=None, children=[], attributes={}), AnyElement(qname='{http://www.openmicroscopy.org/Schemas/OME/2016-06}Value', text='[1]', tail=None, children=[], attributes={})], attributes={})]}}, {'id': 'Annotation:21', 'namespace': 'openmicroscopy.org/OriginalMetadata', 'value': {'any_elements': [AnyElement(qname='{http://www.openmicroscopy.org/Schemas/OME/2016-06}OriginalMetadata', text='', tail=None, children=[AnyElement(qname='{http://www.openmicroscopy.org/Schemas/OME/2016-06}Key', text='Experiment|AcquisitionBlock|MultiTrackSetup|TrackSetup|Detector|DetectorIdentifier', tail=None, children=[], attributes={}), AnyElement(qname='{http://www.openmicroscopy.org/Schemas/OME/2016-06}Value', text='[SpectralImager2, NonDescannedTransmissionPmt1, SpectralImager1]', tail=None, children=[], attributes={})], attributes={})]}}, {'id': 'Annotation:22', 'namespace': 'openmicroscopy.org/OriginalMetadata', 'value': {'any_elements': [AnyElement(qname='{http://www.openmicroscopy.org/Schemas/OME/2016-06}OriginalMetadata', text='', tail=None, children=[AnyElement(qname='{http://www.openmicroscopy.org/Schemas/OME/2016-06}Key', text='Experiment|AcquisitionBlock|AcquisitionModeSetup|InterpolationY', tail=None, children=[], attributes={}), AnyElement(qname='{http://www.openmicroscopy.org/Schemas/OME/2016-06}Value', text='[1]', tail=None, children=[], attributes={})], attributes={})]}}, {'id': 'Annotation:23', 'namespace': 'openmicroscopy.org/OriginalMetadata', 'value': {'any_elements': [AnyElement(qname='{http://www.openmicroscopy.org/Schemas/OME/2016-06}OriginalMetadata', text='', tail=None, children=[AnyElement(qname='{http://www.openmicroscopy.org/Schemas/OME/2016-06}Key', text='Experiment|AcquisitionBlock|MultiTrackSetup|TrackSetup|Attenuator|ExcitationIntensity', tail=None, children=[], attributes={}), AnyElement(qname='{http://www.openmicroscopy.org/Schemas/OME/2016-06}Value', text='[0, 0]', tail=None, children=[], attributes={})], attributes={})]}}, {'id': 'Annotation:24', 'namespace': 'openmicroscopy.org/OriginalMetadata', 'value': {'any_elements': [AnyElement(qname='{http://www.openmicroscopy.org/Schemas/OME/2016-06}OriginalMetadata', text='', tail=None, children=[AnyElement(qname='{http://www.openmicroscopy.org/Schemas/OME/2016-06}Key', text='Information|Image|S|Scene|Index', tail=None, children=[], attributes={}), AnyElement(qname='{http://www.openmicroscopy.org/Schemas/OME/2016-06}Value', text='[0]', tail=None, children=[], attributes={})], attributes={})]}}, {'id': 'Annotation:25', 'namespace': 'openmicroscopy.org/OriginalMetadata', 'value': {'any_elements': [AnyElement(qname='{http://www.openmicroscopy.org/Schemas/OME/2016-06}OriginalMetadata', text='', tail=None, children=[AnyElement(qname='{http://www.openmicroscopy.org/Schemas/OME/2016-06}Key', text='Information|Image|MicroscopeRef|Id', tail=None, children=[], attributes={}), AnyElement(qname='{http://www.openmicroscopy.org/Schemas/OME/2016-06}Value', text='[Microscope:0]', tail=None, children=[], attributes={})], attributes={})]}}, {'id': 'Annotation:26', 'namespace': 'openmicroscopy.org/OriginalMetadata', 'value': {'any_elements': [AnyElement(qname='{http://www.openmicroscopy.org/Schemas/OME/2016-06}OriginalMetadata', text='', tail=None, children=[AnyElement(qname='{http://www.openmicroscopy.org/Schemas/OME/2016-06}Key', text='Experiment|AcquisitionBlock|MultiTrackSetup|TrackSetup|Detector|Id', tail=None, children=[], attributes={}), AnyElement(qname='{http://www.openmicroscopy.org/Schemas/OME/2016-06}Value', text='[1882045647122112205822316379321236341965, 2073036438124928641418889655283193049277, 108853132117492280627326639672251045474]', tail=None, children=[], attributes={})], attributes={})]}}, {'id': 'Annotation:27', 'namespace': 'openmicroscopy.org/OriginalMetadata', 'value': {'any_elements': [AnyElement(qname='{http://www.openmicroscopy.org/Schemas/OME/2016-06}OriginalMetadata', text='', tail=None, children=[AnyElement(qname='{http://www.openmicroscopy.org/Schemas/OME/2016-06}Key', text='Experiment|AcquisitionBlock|Laser|LaserPower', tail=None, children=[], attributes={}), AnyElement(qname='{http://www.openmicroscopy.org/Schemas/OME/2016-06}Value', text='[0.0050000000000000001, 0.02, 0.029999999999999999, 0.025000000000000001]', tail=None, children=[], attributes={})], attributes={})]}}, {'id': 'Annotation:28', 'namespace': 'openmicroscopy.org/OriginalMetadata', 'value': {'any_elements': [AnyElement(qname='{http://www.openmicroscopy.org/Schemas/OME/2016-06}OriginalMetadata', text='', tail=None, children=[AnyElement(qname='{http://www.openmicroscopy.org/Schemas/OME/2016-06}Key', text='Information|Image|T|BinaryList|AttachmentName', tail=None, children=[], attributes={}), AnyElement(qname='{http://www.openmicroscopy.org/Schemas/OME/2016-06}Value', text='[TimeStamps]', tail=None, children=[], attributes={})], attributes={})]}}, {'id': 'Annotation:29', 'namespace': 'openmicroscopy.org/OriginalMetadata', 'value': {'any_elements': [AnyElement(qname='{http://www.openmicroscopy.org/Schemas/OME/2016-06}OriginalMetadata', text='', tail=None, children=[AnyElement(qname='{http://www.openmicroscopy.org/Schemas/OME/2016-06}Key', text='Experiment|AcquisitionBlock|MultiTrackSetup|TrackSetup|BeamSplitter|BeamSplitterServoPosition', tail=None, children=[], attributes={}), AnyElement(qname='{http://www.openmicroscopy.org/Schemas/OME/2016-06}Value', text='[0, 0, 0, 0, 0, 0, 0, 0]', tail=None, children=[], attributes={})], attributes={})]}}, {'id': 'Annotation:30', 'namespace': 'openmicroscopy.org/OriginalMetadata', 'value': {'any_elements': [AnyElement(qname='{http://www.openmicroscopy.org/Schemas/OME/2016-06}OriginalMetadata', text='', tail=None, children=[AnyElement(qname='{http://www.openmicroscopy.org/Schemas/OME/2016-06}Key', text='Experiment|AcquisitionBlock|MultiTrackSetup|TrackSetup|Detector|DigitalGain', tail=None, children=[], attributes={}), AnyElement(qname='{http://www.openmicroscopy.org/Schemas/OME/2016-06}Value', text='[1, 1, 1]', tail=None, children=[], attributes={})], attributes={})]}}, {'id': 'Annotation:31', 'namespace': 'openmicroscopy.org/OriginalMetadata', 'value': {'any_elements': [AnyElement(qname='{http://www.openmicroscopy.org/Schemas/OME/2016-06}OriginalMetadata', text='', tail=None, children=[AnyElement(qname='{http://www.openmicroscopy.org/Schemas/OME/2016-06}Key', text='Experiment|AcquisitionBlock|MultiTrackSetup|TrackSetup|Detector|ImageChannelName', tail=None, children=[], attributes={}), AnyElement(qname='{http://www.openmicroscopy.org/Schemas/OME/2016-06}Value', text='[ChS2, T PMT, ChS1]', tail=None, children=[], attributes={})], attributes={})]}}, {'id': 'Annotation:32', 'namespace': 'openmicroscopy.org/OriginalMetadata', 'value': {'any_elements': [AnyElement(qname='{http://www.openmicroscopy.org/Schemas/OME/2016-06}OriginalMetadata', text='', tail=None, children=[AnyElement(qname='{http://www.openmicroscopy.org/Schemas/OME/2016-06}Key', text='Information|Image|Channel|LaserScanInfo|Averaging', tail=None, children=[], attributes={}), AnyElement(qname='{http://www.openmicroscopy.org/Schemas/OME/2016-06}Value', text='[2, 2, 2]', tail=None, children=[], attributes={})], attributes={})]}}, {'id': 'Annotation:33', 'namespace': 'openmicroscopy.org/OriginalMetadata', 'value': {'any_elements': [AnyElement(qname='{http://www.openmicroscopy.org/Schemas/OME/2016-06}OriginalMetadata', text='', tail=None, children=[AnyElement(qname='{http://www.openmicroscopy.org/Schemas/OME/2016-06}Key', text='Information|Image|Channel|LaserScanInfo|LineTime', tail=None, children=[], attributes={}), AnyElement(qname='{http://www.openmicroscopy.org/Schemas/OME/2016-06}Value', text='[2.4242424242424244e-007, 2.4242424242424244e-007, 2.4242424242424244e-007]', tail=None, children=[], attributes={})], attributes={})]}}, {'id': 'Annotation:34', 'namespace': 'openmicroscopy.org/OriginalMetadata', 'value': {'any_elements': [AnyElement(qname='{http://www.openmicroscopy.org/Schemas/OME/2016-06}OriginalMetadata', text='', tail=None, children=[AnyElement(qname='{http://www.openmicroscopy.org/Schemas/OME/2016-06}Key', text='Experiment|AcquisitionBlock|TimeSeriesSetup|Switch|SwitchAction|SetIntervalAction|Interval|TimeSpan|Value', tail=None, children=[], attributes={}), AnyElement(qname='{http://www.openmicroscopy.org/Schemas/OME/2016-06}Value', text='[0]', tail=None, children=[], attributes={})], attributes={})]}}, {'id': 'Annotation:35', 'namespace': 'openmicroscopy.org/OriginalMetadata', 'value': {'any_elements': [AnyElement(qname='{http://www.openmicroscopy.org/Schemas/OME/2016-06}OriginalMetadata', text='', tail=None, children=[AnyElement(qname='{http://www.openmicroscopy.org/Schemas/OME/2016-06}Key', text='Information|Image|Channel|LightSource|Id', tail=None, children=[], attributes={}), AnyElement(qname='{http://www.openmicroscopy.org/Schemas/OME/2016-06}Value', text='[LightSource:1, LightSource:1, LightSource:3]', tail=None, children=[], attributes={})], attributes={})]}}, {'id': 'Annotation:36', 'namespace': 'openmicroscopy.org/OriginalMetadata', 'value': {'any_elements': [AnyElement(qname='{http://www.openmicroscopy.org/Schemas/OME/2016-06}OriginalMetadata', text='', tail=None, children=[AnyElement(qname='{http://www.openmicroscopy.org/Schemas/OME/2016-06}Key', text='Experiment|AcquisitionBlock|MultiTrackSetup|TrackSetup|Detector|DetectorWavelengthRange|WavelengthEnd', tail=None, children=[], attributes={}), AnyElement(qname='{http://www.openmicroscopy.org/Schemas/OME/2016-06}Value', text='[6.955027830000002e-007, 5.6171049300000022e-007]', tail=None, children=[], attributes={})], attributes={})]}}, {'id': 'Annotation:37', 'namespace': 'openmicroscopy.org/OriginalMetadata', 'value': {'any_elements': [AnyElement(qname='{http://www.openmicroscopy.org/Schemas/OME/2016-06}OriginalMetadata', text='', tail=None, children=[AnyElement(qname='{http://www.openmicroscopy.org/Schemas/OME/2016-06}Key', text='Experiment|AcquisitionBlock|AcquisitionModeSetup|BiDirectional', tail=None, children=[], attributes={}), AnyElement(qname='{http://www.openmicroscopy.org/Schemas/OME/2016-06}Value', text='[true]', tail=None, children=[], attributes={})], attributes={})]}}, {'id': 'Annotation:38', 'namespace': 'openmicroscopy.org/OriginalMetadata', 'value': {'any_elements': [AnyElement(qname='{http://www.openmicroscopy.org/Schemas/OME/2016-06}OriginalMetadata', text='', tail=None, children=[AnyElement(qname='{http://www.openmicroscopy.org/Schemas/OME/2016-06}Key', text='Experiment|AcquisitionBlock|MultiTrackSetup|TrackSetup|Detector|DetectorWavelengthRange|WavelengthStart', tail=None, children=[], attributes={}), AnyElement(qname='{http://www.openmicroscopy.org/Schemas/OME/2016-06}Value', text='[5.9738843700000018e-007, 4.9927409100000017e-007]', tail=None, children=[], attributes={})], attributes={})]}}, {'id': 'Annotation:39', 'namespace': 'openmicroscopy.org/OriginalMetadata', 'value': {'any_elements': [AnyElement(qname='{http://www.openmicroscopy.org/Schemas/OME/2016-06}OriginalMetadata', text='', tail=None, children=[AnyElement(qname='{http://www.openmicroscopy.org/Schemas/OME/2016-06}Key', text='Experiment|AcquisitionBlock|AcquisitionModeSetup|HdrNumFrames', tail=None, children=[], attributes={}), AnyElement(qname='{http://www.openmicroscopy.org/Schemas/OME/2016-06}Value', text='[1]', tail=None, children=[], attributes={})], attributes={})]}}, {'id': 'Annotation:40', 'namespace': 'openmicroscopy.org/OriginalMetadata', 'value': {'any_elements': [AnyElement(qname='{http://www.openmicroscopy.org/Schemas/OME/2016-06}OriginalMetadata', text='', tail=None, children=[AnyElement(qname='{http://www.openmicroscopy.org/Schemas/OME/2016-06}Key', text='Information|Document|SubType', tail=None, children=[], attributes={}), AnyElement(qname='{http://www.openmicroscopy.org/Schemas/OME/2016-06}Value', text='[Image]', tail=None, children=[], attributes={})], attributes={})]}}, {'id': 'Annotation:41', 'namespace': 'openmicroscopy.org/OriginalMetadata', 'value': {'any_elements': [AnyElement(qname='{http://www.openmicroscopy.org/Schemas/OME/2016-06}OriginalMetadata', text='', tail=None, children=[AnyElement(qname='{http://www.openmicroscopy.org/Schemas/OME/2016-06}Key', text='Experiment|AcquisitionBlock|AcquisitionModeSetup|Rotation', tail=None, children=[], attributes={}), AnyElement(qname='{http://www.openmicroscopy.org/Schemas/OME/2016-06}Value', text='[-85.581379535589718]', tail=None, children=[], attributes={})], attributes={})]}}, {'id': 'Annotation:42', 'namespace': 'openmicroscopy.org/OriginalMetadata', 'value': {'any_elements': [AnyElement(qname='{http://www.openmicroscopy.org/Schemas/OME/2016-06}OriginalMetadata', text='', tail=None, children=[AnyElement(qname='{http://www.openmicroscopy.org/Schemas/OME/2016-06}Key', text='DisplaySetting|Channel|Gamma', tail=None, children=[], attributes={}), AnyElement(qname='{http://www.openmicroscopy.org/Schemas/OME/2016-06}Value', text='1', tail=None, children=[], attributes={})], attributes={})]}}, {'id': 'Annotation:43', 'namespace': 'openmicroscopy.org/OriginalMetadata', 'value': {'any_elements': [AnyElement(qname='{http://www.openmicroscopy.org/Schemas/OME/2016-06}OriginalMetadata', text='', tail=None, children=[AnyElement(qname='{http://www.openmicroscopy.org/Schemas/OME/2016-06}Key', text='Experiment|AcquisitionBlock|MultiTrackSetup|TrackSetup|FilterTransmission', tail=None, children=[], attributes={}), AnyElement(qname='{http://www.openmicroscopy.org/Schemas/OME/2016-06}Value', text='[-1, -1]', tail=None, children=[], attributes={})], attributes={})]}}, {'id': 'Annotation:44', 'namespace': 'openmicroscopy.org/OriginalMetadata', 'value': {'any_elements': [AnyElement(qname='{http://www.openmicroscopy.org/Schemas/OME/2016-06}OriginalMetadata', text='', tail=None, children=[AnyElement(qname='{http://www.openmicroscopy.org/Schemas/OME/2016-06}Key', text='Experiment|AcquisitionBlock|MultiTrackSetup|TrackSetup|Detector|Folder', tail=None, children=[], attributes={}), AnyElement(qname='{http://www.openmicroscopy.org/Schemas/OME/2016-06}Value', text='[mRFP1.2, EGFP]', tail=None, children=[], attributes={})], attributes={})]}}, {'id': 'Annotation:45', 'namespace': 'openmicroscopy.org/OriginalMetadata', 'value': {'any_elements': [AnyElement(qname='{http://www.openmicroscopy.org/Schemas/OME/2016-06}OriginalMetadata', text='', tail=None, children=[AnyElement(qname='{http://www.openmicroscopy.org/Schemas/OME/2016-06}Key', text='Experiment|AcquisitionBlock|AcquisitionModeSetup|FocalDistanceScanLense', tail=None, children=[], attributes={}), AnyElement(qname='{http://www.openmicroscopy.org/Schemas/OME/2016-06}Value', text='[52.5]', tail=None, children=[], attributes={})], attributes={})]}}, {'id': 'Annotation:46', 'namespace': 'openmicroscopy.org/OriginalMetadata', 'value': {'any_elements': [AnyElement(qname='{http://www.openmicroscopy.org/Schemas/OME/2016-06}OriginalMetadata', text='', tail=None, children=[AnyElement(qname='{http://www.openmicroscopy.org/Schemas/OME/2016-06}Key', text='Experiment|AcquisitionBlock|MultiTrackSetup|TrackSetup|Attenuator|Polarization_Stokes3', tail=None, children=[], attributes={}), AnyElement(qname='{http://www.openmicroscopy.org/Schemas/OME/2016-06}Value', text='[0, 0]', tail=None, children=[], attributes={})], attributes={})]}}, {'id': 'Annotation:47', 'namespace': 'openmicroscopy.org/OriginalMetadata', 'value': {'any_elements': [AnyElement(qname='{http://www.openmicroscopy.org/Schemas/OME/2016-06}OriginalMetadata', text='', tail=None, children=[AnyElement(qname='{http://www.openmicroscopy.org/Schemas/OME/2016-06}Key', text='Experiment|AcquisitionBlock|MultiTrackSetup|TrackSetup|Attenuator|Polarization_Stokes2', tail=None, children=[], attributes={}), AnyElement(qname='{http://www.openmicroscopy.org/Schemas/OME/2016-06}Value', text='[-0.15362812946803259, -0.15362812946803259]', tail=None, children=[], attributes={})], attributes={})]}}, {'id': 'Annotation:48', 'namespace': 'openmicroscopy.org/OriginalMetadata', 'value': {'any_elements': [AnyElement(qname='{http://www.openmicroscopy.org/Schemas/OME/2016-06}OriginalMetadata', text='', tail=None, children=[AnyElement(qname='{http://www.openmicroscopy.org/Schemas/OME/2016-06}Key', text='Information|Image|Channel|PhotonConversionFactor', tail=None, children=[], attributes={}), AnyElement(qname='{http://www.openmicroscopy.org/Schemas/OME/2016-06}Value', text='[664.16913943678514, 664.16913943678514, 664.16913943678514]', tail=None, children=[], attributes={})], attributes={})]}}, {'id': 'Annotation:49', 'namespace': 'openmicroscopy.org/OriginalMetadata', 'value': {'any_elements': [AnyElement(qname='{http://www.openmicroscopy.org/Schemas/OME/2016-06}OriginalMetadata', text='', tail=None, children=[AnyElement(qname='{http://www.openmicroscopy.org/Schemas/OME/2016-06}Key', text='Experiment|AcquisitionBlock|MultiTrackSetup|TrackSetup|Attenuator|Polarization_Stokes1', tail=None, children=[], attributes={}), AnyElement(qname='{http://www.openmicroscopy.org/Schemas/OME/2016-06}Value', text='[0.98812873545715363, 0.98812873545715363]', tail=None, children=[], attributes={})], attributes={})]}}, {'id': 'Annotation:50', 'namespace': 'openmicroscopy.org/OriginalMetadata', 'value': {'any_elements': [AnyElement(qname='{http://www.openmicroscopy.org/Schemas/OME/2016-06}OriginalMetadata', text='', tail=None, children=[AnyElement(qname='{http://www.openmicroscopy.org/Schemas/OME/2016-06}Key', text='DisplaySetting|Channel|DyeName', tail=None, children=[], attributes={}), AnyElement(qname='{http://www.openmicroscopy.org/Schemas/OME/2016-06}Value', text='EGFP', tail=None, children=[], attributes={})], attributes={})]}}, {'id': 'Annotation:51', 'namespace': 'openmicroscopy.org/OriginalMetadata', 'value': {'any_elements': [AnyElement(qname='{http://www.openmicroscopy.org/Schemas/OME/2016-06}OriginalMetadata', text='', tail=None, children=[AnyElement(qname='{http://www.openmicroscopy.org/Schemas/OME/2016-06}Key', text='Experiment|AcquisitionBlock|MultiTrackSetup|TrackSetup|Attenuator|Polarization_Stokes0', tail=None, children=[], attributes={}), AnyElement(qname='{http://www.openmicroscopy.org/Schemas/OME/2016-06}Value', text='[1, 1]', tail=None, children=[], attributes={})], attributes={})]}}, {'id': 'Annotation:52', 'namespace': 'openmicroscopy.org/OriginalMetadata', 'value': {'any_elements': [AnyElement(qname='{http://www.openmicroscopy.org/Schemas/OME/2016-06}OriginalMetadata', text='', tail=None, children=[AnyElement(qname='{http://www.openmicroscopy.org/Schemas/OME/2016-06}Key', text='Experiment|AcquisitionBlock|MultiTrackSetup|TrackSetup|BleachSetup|BleachParameterSet|Repeat', tail=None, children=[], attributes={}), AnyElement(qname='{http://www.openmicroscopy.org/Schemas/OME/2016-06}Value', text='[0, 0]', tail=None, children=[], attributes={})], attributes={})]}}, {'id': 'Annotation:53', 'namespace': 'openmicroscopy.org/OriginalMetadata', 'value': {'any_elements': [AnyElement(qname='{http://www.openmicroscopy.org/Schemas/OME/2016-06}OriginalMetadata', text='', tail=None, children=[AnyElement(qname='{http://www.openmicroscopy.org/Schemas/OME/2016-06}Key', text='Experiment|AcquisitionBlock|AcquisitionModeSetup|WaitState', tail=None, children=[], attributes={}), AnyElement(qname='{http://www.openmicroscopy.org/Schemas/OME/2016-06}Value', text='[false]', tail=None, children=[], attributes={})], attributes={})]}}, {'id': 'Annotation:54', 'namespace': 'openmicroscopy.org/OriginalMetadata', 'value': {'any_elements': [AnyElement(qname='{http://www.openmicroscopy.org/Schemas/OME/2016-06}OriginalMetadata', text='', tail=None, children=[AnyElement(qname='{http://www.openmicroscopy.org/Schemas/OME/2016-06}Key', text='Version', tail=None, children=[], attributes={}), AnyElement(qname='{http://www.openmicroscopy.org/Schemas/OME/2016-06}Value', text='[1.0]', tail=None, children=[], attributes={})], attributes={})]}}, {'id': 'Annotation:55', 'namespace': 'openmicroscopy.org/OriginalMetadata', 'value': {'any_elements': [AnyElement(qname='{http://www.openmicroscopy.org/Schemas/OME/2016-06}OriginalMetadata', text='', tail=None, children=[AnyElement(qname='{http://www.openmicroscopy.org/Schemas/OME/2016-06}Key', text='Experiment|AcquisitionBlock|MultiTrackSetup|TrackSetup|Detector|AmplifierGain', tail=None, children=[], attributes={}), AnyElement(qname='{http://www.openmicroscopy.org/Schemas/OME/2016-06}Value', text='[2, 1, 2]', tail=None, children=[], attributes={})], attributes={})]}}, {'id': 'Annotation:56', 'namespace': 'openmicroscopy.org/OriginalMetadata', 'value': {'any_elements': [AnyElement(qname='{http://www.openmicroscopy.org/Schemas/OME/2016-06}OriginalMetadata', text='', tail=None, children=[AnyElement(qname='{http://www.openmicroscopy.org/Schemas/OME/2016-06}Key', text='Information|Instrument|Microscope|System', tail=None, children=[], attributes={}), AnyElement(qname='{http://www.openmicroscopy.org/Schemas/OME/2016-06}Value', text='[LSM 880, AxioObserver]', tail=None, children=[], attributes={})], attributes={})]}}, {'id': 'Annotation:57', 'namespace': 'openmicroscopy.org/OriginalMetadata', 'value': {'any_elements': [AnyElement(qname='{http://www.openmicroscopy.org/Schemas/OME/2016-06}OriginalMetadata', text='', tail=None, children=[AnyElement(qname='{http://www.openmicroscopy.org/Schemas/OME/2016-06}Key', text='Experiment|AcquisitionBlock|TimeSeriesSetup|Switch|SwitchAction|SetIntervalAction|Interval|TimeSpan|DefaultUnitFormat', tail=None, children=[], attributes={}), AnyElement(qname='{http://www.openmicroscopy.org/Schemas/OME/2016-06}Value', text='[ms]', tail=None, children=[], attributes={})], attributes={})]}}, {'id': 'Annotation:58', 'namespace': 'openmicroscopy.org/OriginalMetadata', 'value': {'any_elements': [AnyElement(qname='{http://www.openmicroscopy.org/Schemas/OME/2016-06}OriginalMetadata', text='', tail=None, children=[AnyElement(qname='{http://www.openmicroscopy.org/Schemas/OME/2016-06}Key', text='Experiment|ExperimentBlockIndex', tail=None, children=[], attributes={}), AnyElement(qname='{http://www.openmicroscopy.org/Schemas/OME/2016-06}Value', text='[0]', tail=None, children=[], attributes={})], attributes={})]}}, {'id': 'Annotation:59', 'namespace': 'openmicroscopy.org/OriginalMetadata', 'value': {'any_elements': [AnyElement(qname='{http://www.openmicroscopy.org/Schemas/OME/2016-06}OriginalMetadata', text='', tail=None, children=[AnyElement(qname='{http://www.openmicroscopy.org/Schemas/OME/2016-06}Key', text='Information|Instrument|LightSource|Manufacturer|Model', tail=None, children=[], attributes={}), AnyElement(qname='{http://www.openmicroscopy.org/Schemas/OME/2016-06}Value', text='[HeNe633, DPSS 561-10, Diode 405-30, ArgonRemote]', tail=None, children=[], attributes={})], attributes={})]}}, {'id': 'Annotation:60', 'namespace': 'openmicroscopy.org/OriginalMetadata', 'value': {'any_elements': [AnyElement(qname='{http://www.openmicroscopy.org/Schemas/OME/2016-06}OriginalMetadata', text='', tail=None, children=[AnyElement(qname='{http://www.openmicroscopy.org/Schemas/OME/2016-06}Key', text='Experiment|AcquisitionBlock|MultiTrackSetup|TrackSetup|Detector|AiryScanTransformationYY', tail=None, children=[], attributes={}), AnyElement(qname='{http://www.openmicroscopy.org/Schemas/OME/2016-06}Value', text='[-3.8783452724085969e-187, -3.8783452724085969e-187, 5.4103468857401649e-312]', tail=None, children=[], attributes={})], attributes={})]}}, {'id': 'Annotation:61', 'namespace': 'openmicroscopy.org/OriginalMetadata', 'value': {'any_elements': [AnyElement(qname='{http://www.openmicroscopy.org/Schemas/OME/2016-06}OriginalMetadata', text='', tail=None, children=[AnyElement(qname='{http://www.openmicroscopy.org/Schemas/OME/2016-06}Key', text='Experiment|AcquisitionBlock|MultiTrackSetup|TrackSetup|Detector|AiryScanTransformationYX', tail=None, children=[], attributes={}), AnyElement(qname='{http://www.openmicroscopy.org/Schemas/OME/2016-06}Value', text='[1.9298288117718883e-317, 1.9298288117718883e-317, 5.4103468855425387e-312]', tail=None, children=[], attributes={})], attributes={})]}}, {'id': 'Annotation:62', 'namespace': 'openmicroscopy.org/OriginalMetadata', 'value': {'any_elements': [AnyElement(qname='{http://www.openmicroscopy.org/Schemas/OME/2016-06}OriginalMetadata', text='', tail=None, children=[AnyElement(qname='{http://www.openmicroscopy.org/Schemas/OME/2016-06}Key', text='Information|Instrument|Detector|Gain', tail=None, children=[], attributes={}), AnyElement(qname='{http://www.openmicroscopy.org/Schemas/OME/2016-06}Value', text='[1, 1, 1]', tail=None, children=[], attributes={})], attributes={})]}}, {'id': 'Annotation:63', 'namespace': 'openmicroscopy.org/OriginalMetadata', 'value': {'any_elements': [AnyElement(qname='{http://www.openmicroscopy.org/Schemas/OME/2016-06}OriginalMetadata', text='', tail=None, children=[AnyElement(qname='{http://www.openmicroscopy.org/Schemas/OME/2016-06}Key', text='Experiment|AcquisitionBlock|AcquisitionModeSetup|FilterSamplingNumber', tail=None, children=[], attributes={}), AnyElement(qname='{http://www.openmicroscopy.org/Schemas/OME/2016-06}Value', text='[2]', tail=None, children=[], attributes={})], attributes={})]}}, {'id': 'Annotation:64', 'namespace': 'openmicroscopy.org/OriginalMetadata', 'value': {'any_elements': [AnyElement(qname='{http://www.openmicroscopy.org/Schemas/OME/2016-06}OriginalMetadata', text='', tail=None, children=[AnyElement(qname='{http://www.openmicroscopy.org/Schemas/OME/2016-06}Key', text='DisplaySetting|Channel|IsSelected', tail=None, children=[], attributes={}), AnyElement(qname='{http://www.openmicroscopy.org/Schemas/OME/2016-06}Value', text='true', tail=None, children=[], attributes={})], attributes={})]}}, {'id': 'Annotation:65', 'namespace': 'openmicroscopy.org/OriginalMetadata', 'value': {'any_elements': [AnyElement(qname='{http://www.openmicroscopy.org/Schemas/OME/2016-06}OriginalMetadata', text='', tail=None, children=[AnyElement(qname='{http://www.openmicroscopy.org/Schemas/OME/2016-06}Key', text='Experiment|AcquisitionBlock|MultiTrackSetup|TrackSetup|Name', tail=None, children=[], attributes={}), AnyElement(qname='{http://www.openmicroscopy.org/Schemas/OME/2016-06}Value', text='[Track1, Track2]', tail=None, children=[], attributes={})], attributes={})]}}, {'id': 'Annotation:66', 'namespace': 'openmicroscopy.org/OriginalMetadata', 'value': {'any_elements': [AnyElement(qname='{http://www.openmicroscopy.org/Schemas/OME/2016-06}OriginalMetadata', text='', tail=None, children=[AnyElement(qname='{http://www.openmicroscopy.org/Schemas/OME/2016-06}Key', text='Information|Image|Channel|Binning', tail=None, children=[], attributes={}), AnyElement(qname='{http://www.openmicroscopy.org/Schemas/OME/2016-06}Value', text='[1x1, 1x1, 1x1]', tail=None, children=[], attributes={})], attributes={})]}}, {'id': 'Annotation:67', 'namespace': 'openmicroscopy.org/OriginalMetadata', 'value': {'any_elements': [AnyElement(qname='{http://www.openmicroscopy.org/Schemas/OME/2016-06}OriginalMetadata', text='', tail=None, children=[AnyElement(qname='{http://www.openmicroscopy.org/Schemas/OME/2016-06}Key', text='Experiment|AcquisitionBlock|MultiTrackSetup|TrackSetup|BleachSetup|BleachParameterSet|EndEvent', tail=None, children=[], attributes={}), AnyElement(qname='{http://www.openmicroscopy.org/Schemas/OME/2016-06}Value', text='[Number, Number]', tail=None, children=[], attributes={})], attributes={})]}}, {'id': 'Annotation:68', 'namespace': 'openmicroscopy.org/OriginalMetadata', 'value': {'any_elements': [AnyElement(qname='{http://www.openmicroscopy.org/Schemas/OME/2016-06}OriginalMetadata', text='', tail=None, children=[AnyElement(qname='{http://www.openmicroscopy.org/Schemas/OME/2016-06}Key', text='Information|Instrument|Id', tail=None, children=[], attributes={}), AnyElement(qname='{http://www.openmicroscopy.org/Schemas/OME/2016-06}Value', text='[Instrument:0]', tail=None, children=[], attributes={})], attributes={})]}}, {'id': 'Annotation:69', 'namespace': 'openmicroscopy.org/OriginalMetadata', 'value': {'any_elements': [AnyElement(qname='{http://www.openmicroscopy.org/Schemas/OME/2016-06}OriginalMetadata', text='', tail=None, children=[AnyElement(qname='{http://www.openmicroscopy.org/Schemas/OME/2016-06}Key', text='Experiment|AcquisitionBlock|MultiTrackSetup|TrackSetup|TirfAngle', tail=None, children=[], attributes={}), AnyElement(qname='{http://www.openmicroscopy.org/Schemas/OME/2016-06}Value', text='[0, 0]', tail=None, children=[], attributes={})], attributes={})]}}, {'id': 'Annotation:70', 'namespace': 'openmicroscopy.org/OriginalMetadata', 'value': {'any_elements': [AnyElement(qname='{http://www.openmicroscopy.org/Schemas/OME/2016-06}OriginalMetadata', text='', tail=None, children=[AnyElement(qname='{http://www.openmicroscopy.org/Schemas/OME/2016-06}Key', text='Experiment|AcquisitionBlock|AcquisitionModeSetup|HdrImagingMode', tail=None, children=[], attributes={}), AnyElement(qname='{http://www.openmicroscopy.org/Schemas/OME/2016-06}Value', text='[0]', tail=None, children=[], attributes={})], attributes={})]}}, {'id': 'Annotation:71', 'namespace': 'openmicroscopy.org/OriginalMetadata', 'value': {'any_elements': [AnyElement(qname='{http://www.openmicroscopy.org/Schemas/OME/2016-06}OriginalMetadata', text='', tail=None, children=[AnyElement(qname='{http://www.openmicroscopy.org/Schemas/OME/2016-06}Key', text='Experiment|AcquisitionBlock|MultiTrackSetup|TrackSetup|Detector|AiryScanTransformationXY', tail=None, children=[], attributes={}), AnyElement(qname='{http://www.openmicroscopy.org/Schemas/OME/2016-06}Value', text='[5.9619591652106098e-310, 5.9619591652106098e-310, 2.5142467133005446e-310]', tail=None, children=[], attributes={})], attributes={})]}}, {'id': 'Annotation:72', 'namespace': 'openmicroscopy.org/OriginalMetadata', 'value': {'any_elements': [AnyElement(qname='{http://www.openmicroscopy.org/Schemas/OME/2016-06}OriginalMetadata', text='', tail=None, children=[AnyElement(qname='{http://www.openmicroscopy.org/Schemas/OME/2016-06}Key', text='Experiment|AcquisitionBlock|MultiTrackSetup|TrackSetup|Detector|AiryScanTransformationXX', tail=None, children=[], attributes={}), AnyElement(qname='{http://www.openmicroscopy.org/Schemas/OME/2016-06}Value', text='[-1.4299870214316193e+162, -1.4299870214316193e+162, 2.5142467132999023e-310]', tail=None, children=[], attributes={})], attributes={})]}}, {'id': 'Annotation:73', 'namespace': 'openmicroscopy.org/OriginalMetadata', 'value': {'any_elements': [AnyElement(qname='{http://www.openmicroscopy.org/Schemas/OME/2016-06}OriginalMetadata', text='', tail=None, children=[AnyElement(qname='{http://www.openmicroscopy.org/Schemas/OME/2016-06}Key', text='DisplaySetting|Channel|ChannelUnit|OffsetI', tail=None, children=[], attributes={}), AnyElement(qname='{http://www.openmicroscopy.org/Schemas/OME/2016-06}Value', text='0', tail=None, children=[], attributes={})], attributes={})]}}, {'id': 'Annotation:74', 'namespace': 'openmicroscopy.org/OriginalMetadata', 'value': {'any_elements': [AnyElement(qname='{http://www.openmicroscopy.org/Schemas/OME/2016-06}OriginalMetadata', text='', tail=None, children=[AnyElement(qname='{http://www.openmicroscopy.org/Schemas/OME/2016-06}Key', text='Experiment|AcquisitionBlock|AcquisitionModeSetup|PixelPeriod', tail=None, children=[], attributes={}), AnyElement(qname='{http://www.openmicroscopy.org/Schemas/OME/2016-06}Value', text='[3.1060606060606059e-006]', tail=None, children=[], attributes={})], attributes={})]}}, {'id': 'Annotation:75', 'namespace': 'openmicroscopy.org/OriginalMetadata', 'value': {'any_elements': [AnyElement(qname='{http://www.openmicroscopy.org/Schemas/OME/2016-06}OriginalMetadata', text='', tail=None, children=[AnyElement(qname='{http://www.openmicroscopy.org/Schemas/OME/2016-06}Key', text='Experiment|AcquisitionBlock|TilesSetup|PositionGroup|AutoFocusMode', tail=None, children=[], attributes={}), AnyElement(qname='{http://www.openmicroscopy.org/Schemas/OME/2016-06}Value', text='[Off]', tail=None, children=[], attributes={})], attributes={})]}}, {'id': 'Annotation:76', 'namespace': 'openmicroscopy.org/OriginalMetadata', 'value': {'any_elements': [AnyElement(qname='{http://www.openmicroscopy.org/Schemas/OME/2016-06}OriginalMetadata', text='', tail=None, children=[AnyElement(qname='{http://www.openmicroscopy.org/Schemas/OME/2016-06}Key', text='Experiment|AcquisitionBlock|AcquisitionModeSetup|AcquisitionMode', tail=None, children=[], attributes={}), AnyElement(qname='{http://www.openmicroscopy.org/Schemas/OME/2016-06}Value', text='[Frame]', tail=None, children=[], attributes={})], attributes={})]}}, {'id': 'Annotation:77', 'namespace': 'openmicroscopy.org/OriginalMetadata', 'value': {'any_elements': [AnyElement(qname='{http://www.openmicroscopy.org/Schemas/OME/2016-06}OriginalMetadata', text='', tail=None, children=[AnyElement(qname='{http://www.openmicroscopy.org/Schemas/OME/2016-06}Key', text='Experiment|AcquisitionBlock|AcquisitionModeSetup|CameraSuperSampling', tail=None, children=[], attributes={}), AnyElement(qname='{http://www.openmicroscopy.org/Schemas/OME/2016-06}Value', text='[0]', tail=None, children=[], attributes={})], attributes={})]}}, {'id': 'Annotation:78', 'namespace': 'openmicroscopy.org/OriginalMetadata', 'value': {'any_elements': [AnyElement(qname='{http://www.openmicroscopy.org/Schemas/OME/2016-06}OriginalMetadata', text='', tail=None, children=[AnyElement(qname='{http://www.openmicroscopy.org/Schemas/OME/2016-06}Key', text='Experiment|AcquisitionBlock|MultiTrackSetup|TrackSetup|Collimator|Position', tail=None, children=[], attributes={}), AnyElement(qname='{http://www.openmicroscopy.org/Schemas/OME/2016-06}Value', text='[852, 852]', tail=None, children=[], attributes={})], attributes={})]}}, {'id': 'Annotation:79', 'namespace': 'openmicroscopy.org/OriginalMetadata', 'value': {'any_elements': [AnyElement(qname='{http://www.openmicroscopy.org/Schemas/OME/2016-06}OriginalMetadata', text='', tail=None, children=[AnyElement(qname='{http://www.openmicroscopy.org/Schemas/OME/2016-06}Key', text='Information|Image|Track|ChannelRef|Id', tail=None, children=[], attributes={}), AnyElement(qname='{http://www.openmicroscopy.org/Schemas/OME/2016-06}Value', text='[1882045647122112205822316379321236341965, 2073036438124928641418889655283193049277, 108853132117492280627326639672251045474]', tail=None, children=[], attributes={})], attributes={})]}}, {'id': 'Annotation:80', 'namespace': 'openmicroscopy.org/OriginalMetadata', 'value': {'any_elements': [AnyElement(qname='{http://www.openmicroscopy.org/Schemas/OME/2016-06}OriginalMetadata', text='', tail=None, children=[AnyElement(qname='{http://www.openmicroscopy.org/Schemas/OME/2016-06}Key', text='Experiment|AcquisitionBlock|AcquisitionModeSetup|FilterMode', tail=None, children=[], attributes={}), AnyElement(qname='{http://www.openmicroscopy.org/Schemas/OME/2016-06}Value', text='[Line]', tail=None, children=[], attributes={})], attributes={})]}}, {'id': 'Annotation:81', 'namespace': 'openmicroscopy.org/OriginalMetadata', 'value': {'any_elements': [AnyElement(qname='{http://www.openmicroscopy.org/Schemas/OME/2016-06}OriginalMetadata', text='', tail=None, children=[AnyElement(qname='{http://www.openmicroscopy.org/Schemas/OME/2016-06}Key', text='Experiment|AcquisitionBlock|MultiTrackSetup|TrackSetup|DeviceMode', tail=None, children=[], attributes={}), AnyElement(qname='{http://www.openmicroscopy.org/Schemas/OME/2016-06}Value', text='[LSM_ChannelMode, LSM]', tail=None, children=[], attributes={})], attributes={})]}}, {'id': 'Annotation:82', 'namespace': 'openmicroscopy.org/OriginalMetadata', 'value': {'any_elements': [AnyElement(qname='{http://www.openmicroscopy.org/Schemas/OME/2016-06}OriginalMetadata', text='', tail=None, children=[AnyElement(qname='{http://www.openmicroscopy.org/Schemas/OME/2016-06}Key', text='DisplaySetting|Channel|Id', tail=None, children=[], attributes={}), AnyElement(qname='{http://www.openmicroscopy.org/Schemas/OME/2016-06}Value', text='108853132117492280627326639672251045474', tail=None, children=[], attributes={})], attributes={})]}}, {'id': 'Annotation:83', 'namespace': 'openmicroscopy.org/OriginalMetadata', 'value': {'any_elements': [AnyElement(qname='{http://www.openmicroscopy.org/Schemas/OME/2016-06}OriginalMetadata', text='', tail=None, children=[AnyElement(qname='{http://www.openmicroscopy.org/Schemas/OME/2016-06}Key', text='Information|Instrument|Objective|Immersion', tail=None, children=[], attributes={}), AnyElement(qname='{http://www.openmicroscopy.org/Schemas/OME/2016-06}Value', text='[Water]', tail=None, children=[], attributes={})], attributes={})]}}, {'id': 'Annotation:84', 'namespace': 'openmicroscopy.org/OriginalMetadata', 'value': {'any_elements': [AnyElement(qname='{http://www.openmicroscopy.org/Schemas/OME/2016-06}OriginalMetadata', text='', tail=None, children=[AnyElement(qname='{http://www.openmicroscopy.org/Schemas/OME/2016-06}Key', text='Appliance|Data|ShuttleAndFindData|Calibration|Marker|StageXPosition', tail=None, children=[], attributes={}), AnyElement(qname='{http://www.openmicroscopy.org/Schemas/OME/2016-06}Value', text='[0, 0, 0]', tail=None, children=[], attributes={})], attributes={})]}}, {'id': 'Annotation:85', 'namespace': 'openmicroscopy.org/OriginalMetadata', 'value': {'any_elements': [AnyElement(qname='{http://www.openmicroscopy.org/Schemas/OME/2016-06}OriginalMetadata', text='', tail=None, children=[AnyElement(qname='{http://www.openmicroscopy.org/Schemas/OME/2016-06}Key', text='Experiment|AcquisitionBlock|MultiTrackSetup|TrackSetup|Detector|AiryScanMode', tail=None, children=[], attributes={}), AnyElement(qname='{http://www.openmicroscopy.org/Schemas/OME/2016-06}Value', text='[Off, Off, Off]', tail=None, children=[], attributes={})], attributes={})]}}, {'id': 'Annotation:86', 'namespace': 'openmicroscopy.org/OriginalMetadata', 'value': {'any_elements': [AnyElement(qname='{http://www.openmicroscopy.org/Schemas/OME/2016-06}OriginalMetadata', text='', tail=None, children=[AnyElement(qname='{http://www.openmicroscopy.org/Schemas/OME/2016-06}Key', text='Experiment|AcquisitionBlock|MultiTrackSetup|TrackSetup|CenterWavelength', tail=None, children=[], attributes={}), AnyElement(qname='{http://www.openmicroscopy.org/Schemas/OME/2016-06}Value', text='[5.5279100700000023e-007, 5.5279100700000023e-007]', tail=None, children=[], attributes={})], attributes={})]}}, {'id': 'Annotation:87', 'namespace': 'openmicroscopy.org/OriginalMetadata', 'value': {'any_elements': [AnyElement(qname='{http://www.openmicroscopy.org/Schemas/OME/2016-06}OriginalMetadata', text='', tail=None, children=[AnyElement(qname='{http://www.openmicroscopy.org/Schemas/OME/2016-06}Key', text='Experiment|AcquisitionBlock|AcquisitionModeSetup|CameraFrameOffsetY', tail=None, children=[], attributes={}), AnyElement(qname='{http://www.openmicroscopy.org/Schemas/OME/2016-06}Value', text='[0]', tail=None, children=[], attributes={})], attributes={})]}}, {'id': 'Annotation:88', 'namespace': 'openmicroscopy.org/OriginalMetadata', 'value': {'any_elements': [AnyElement(qname='{http://www.openmicroscopy.org/Schemas/OME/2016-06}OriginalMetadata', text='', tail=None, children=[AnyElement(qname='{http://www.openmicroscopy.org/Schemas/OME/2016-06}Key', text='Experiment|AcquisitionBlock|AcquisitionModeSetup|CameraFrameOffsetX', tail=None, children=[], attributes={}), AnyElement(qname='{http://www.openmicroscopy.org/Schemas/OME/2016-06}Value', text='[0]', tail=None, children=[], attributes={})], attributes={})]}}, {'id': 'Annotation:89', 'namespace': 'openmicroscopy.org/OriginalMetadata', 'value': {'any_elements': [AnyElement(qname='{http://www.openmicroscopy.org/Schemas/OME/2016-06}OriginalMetadata', text='', tail=None, children=[AnyElement(qname='{http://www.openmicroscopy.org/Schemas/OME/2016-06}Key', text='Information|Document|Title', tail=None, children=[], attributes={}), AnyElement(qname='{http://www.openmicroscopy.org/Schemas/OME/2016-06}Value', text='[Image 8]', tail=None, children=[], attributes={})], attributes={})]}}, {'id': 'Annotation:90', 'namespace': 'openmicroscopy.org/OriginalMetadata', 'value': {'any_elements': [AnyElement(qname='{http://www.openmicroscopy.org/Schemas/OME/2016-06}OriginalMetadata', text='', tail=None, children=[AnyElement(qname='{http://www.openmicroscopy.org/Schemas/OME/2016-06}Key', text='Experiment|AcquisitionBlock|AcquisitionModeSetup|ApertureDiameter', tail=None, children=[], attributes={}), AnyElement(qname='{http://www.openmicroscopy.org/Schemas/OME/2016-06}Value', text='[4.4099999999999993]', tail=None, children=[], attributes={})], attributes={})]}}, {'id': 'Annotation:91', 'namespace': 'openmicroscopy.org/OriginalMetadata', 'value': {'any_elements': [AnyElement(qname='{http://www.openmicroscopy.org/Schemas/OME/2016-06}OriginalMetadata', text='', tail=None, children=[AnyElement(qname='{http://www.openmicroscopy.org/Schemas/OME/2016-06}Key', text='Experiment|AcquisitionBlock|MultiTrackSetup|TrackSetup|BeamSplitter|Identifier', tail=None, children=[], attributes={}), AnyElement(qname='{http://www.openmicroscopy.org/Schemas/OME/2016-06}Value', text='[MainBeamSplitterDescanned1, MainBeamSplitterDescanned2, DichroicBeamSplitterDescanned1, MainBeamSplitterNonDescanned, MainBeamSplitterDescanned1, MainBeamSplitterDescanned2, DichroicBeamSplitterDescanned1, MainBeamSplitterNonDescanned]', tail=None, children=[], attributes={})], attributes={})]}}, {'id': 'Annotation:92', 'namespace': 'openmicroscopy.org/OriginalMetadata', 'value': {'any_elements': [AnyElement(qname='{http://www.openmicroscopy.org/Schemas/OME/2016-06}OriginalMetadata', text='', tail=None, children=[AnyElement(qname='{http://www.openmicroscopy.org/Schemas/OME/2016-06}Key', text='Appliance|Data|ShuttleAndFindData|Calibration|Marker|StageYPosition', tail=None, children=[], attributes={}), AnyElement(qname='{http://www.openmicroscopy.org/Schemas/OME/2016-06}Value', text='[0, 0, 0]', tail=None, children=[], attributes={})], attributes={})]}}, {'id': 'Annotation:93', 'namespace': 'openmicroscopy.org/OriginalMetadata', 'value': {'any_elements': [AnyElement(qname='{http://www.openmicroscopy.org/Schemas/OME/2016-06}OriginalMetadata', text='', tail=None, children=[AnyElement(qname='{http://www.openmicroscopy.org/Schemas/OME/2016-06}Key', text='Information|Image|Channel|DigitalGain', tail=None, children=[], attributes={}), AnyElement(qname='{http://www.openmicroscopy.org/Schemas/OME/2016-06}Value', text='[2, 1, 2]', tail=None, children=[], attributes={})], attributes={})]}}, {'id': 'Annotation:94', 'namespace': 'openmicroscopy.org/OriginalMetadata', 'value': {'any_elements': [AnyElement(qname='{http://www.openmicroscopy.org/Schemas/OME/2016-06}OriginalMetadata', text='', tail=None, children=[AnyElement(qname='{http://www.openmicroscopy.org/Schemas/OME/2016-06}Key', text='Experiment|AcquisitionBlock|MultiTrackSetup|TrackSetup|BleachSetup|BleachParameterSet|TriggerOut', tail=None, children=[], attributes={}), AnyElement(qname='{http://www.openmicroscopy.org/Schemas/OME/2016-06}Value', text='[0, 0]', tail=None, children=[], attributes={})], attributes={})]}}, {'id': 'Annotation:95', 'namespace': 'openmicroscopy.org/OriginalMetadata', 'value': {'any_elements': [AnyElement(qname='{http://www.openmicroscopy.org/Schemas/OME/2016-06}OriginalMetadata', text='', tail=None, children=[AnyElement(qname='{http://www.openmicroscopy.org/Schemas/OME/2016-06}Key', text='Information|Image|Channel|Detector|Id', tail=None, children=[], attributes={}), AnyElement(qname='{http://www.openmicroscopy.org/Schemas/OME/2016-06}Value', text='[Detector:0:0, Detector:0:1, Detector:1:0]', tail=None, children=[], attributes={})], attributes={})]}}, {'id': 'Annotation:96', 'namespace': 'openmicroscopy.org/OriginalMetadata', 'value': {'any_elements': [AnyElement(qname='{http://www.openmicroscopy.org/Schemas/OME/2016-06}OriginalMetadata', text='', tail=None, children=[AnyElement(qname='{http://www.openmicroscopy.org/Schemas/OME/2016-06}Key', text='Experiment|AcquisitionBlock|MultiTrackSetup|TrackSetup|Detector|AiryScanMagnification', tail=None, children=[], attributes={}), AnyElement(qname='{http://www.openmicroscopy.org/Schemas/OME/2016-06}Value', text='[1, 1, 1]', tail=None, children=[], attributes={})], attributes={})]}}, {'id': 'Annotation:97', 'namespace': 'openmicroscopy.org/OriginalMetadata', 'value': {'any_elements': [AnyElement(qname='{http://www.openmicroscopy.org/Schemas/OME/2016-06}OriginalMetadata', text='', tail=None, children=[AnyElement(qname='{http://www.openmicroscopy.org/Schemas/OME/2016-06}Key', text='Experiment|AcquisitionBlock|MultiTrackSetup|TrackSetup|BeamSplitter|Filter', tail=None, children=[], attributes={}), AnyElement(qname='{http://www.openmicroscopy.org/Schemas/OME/2016-06}Value', text='[MBS 488/561/633, MBS -405, Mirror, NoneLSM, MBS 488/561/633, MBS -405, Mirror, NoneLSM]', tail=None, children=[], attributes={})], attributes={})]}}, {'id': 'Annotation:98', 'namespace': 'openmicroscopy.org/OriginalMetadata', 'value': {'any_elements': [AnyElement(qname='{http://www.openmicroscopy.org/Schemas/OME/2016-06}OriginalMetadata', text='', tail=None, children=[AnyElement(qname='{http://www.openmicroscopy.org/Schemas/OME/2016-06}Key', text='Information|Application|Name', tail=None, children=[], attributes={}), AnyElement(qname='{http://www.openmicroscopy.org/Schemas/OME/2016-06}Value', text='[AIMApplication]', tail=None, children=[], attributes={})], attributes={})]}}, {'id': 'Annotation:99', 'namespace': 'openmicroscopy.org/OriginalMetadata', 'value': {'any_elements': [AnyElement(qname='{http://www.openmicroscopy.org/Schemas/OME/2016-06}OriginalMetadata', text='', tail=None, children=[AnyElement(qname='{http://www.openmicroscopy.org/Schemas/OME/2016-06}Key', text='Information|Document|CreationDate', tail=None, children=[], attributes={}), AnyElement(qname='{http://www.openmicroscopy.org/Schemas/OME/2016-06}Value', text='[2021-07-27T16:33:14]', tail=None, children=[], attributes={})], attributes={})]}}, {'id': 'Annotation:100', 'namespace': 'openmicroscopy.org/OriginalMetadata', 'value': {'any_elements': [AnyElement(qname='{http://www.openmicroscopy.org/Schemas/OME/2016-06}OriginalMetadata', text='', tail=None, children=[AnyElement(qname='{http://www.openmicroscopy.org/Schemas/OME/2016-06}Key', text='Information|Instrument|Detector|AmplificationGain', tail=None, children=[], attributes={}), AnyElement(qname='{http://www.openmicroscopy.org/Schemas/OME/2016-06}Value', text='[2, 1, 2]', tail=None, children=[], attributes={})], attributes={})]}}, {'id': 'Annotation:101', 'namespace': 'openmicroscopy.org/OriginalMetadata', 'value': {'any_elements': [AnyElement(qname='{http://www.openmicroscopy.org/Schemas/OME/2016-06}OriginalMetadata', text='', tail=None, children=[AnyElement(qname='{http://www.openmicroscopy.org/Schemas/OME/2016-06}Key', text='Information|Image|Track|Id', tail=None, children=[], attributes={}), AnyElement(qname='{http://www.openmicroscopy.org/Schemas/OME/2016-06}Value', text='[Track:0, Track:1]', tail=None, children=[], attributes={})], attributes={})]}}, {'id': 'Annotation:102', 'namespace': 'openmicroscopy.org/OriginalMetadata', 'value': {'any_elements': [AnyElement(qname='{http://www.openmicroscopy.org/Schemas/OME/2016-06}OriginalMetadata', text='', tail=None, children=[AnyElement(qname='{http://www.openmicroscopy.org/Schemas/OME/2016-06}Key', text='Experiment|AcquisitionBlock|Laser|LaserName', tail=None, children=[], attributes={}), AnyElement(qname='{http://www.openmicroscopy.org/Schemas/OME/2016-06}Value', text='[HeNe633, DPSS 561-10, Diode 405-30, ArgonRemote]', tail=None, children=[], attributes={})], attributes={})]}}, {'id': 'Annotation:103', 'namespace': 'openmicroscopy.org/OriginalMetadata', 'value': {'any_elements': [AnyElement(qname='{http://www.openmicroscopy.org/Schemas/OME/2016-06}OriginalMetadata', text='', tail=None, children=[AnyElement(qname='{http://www.openmicroscopy.org/Schemas/OME/2016-06}Key', text='Information|Instrument|LightSource|Power', tail=None, children=[], attributes={}), AnyElement(qname='{http://www.openmicroscopy.org/Schemas/OME/2016-06}Value', text='[5, 20, 30, 25]', tail=None, children=[], attributes={})], attributes={})]}}, {'id': 'Annotation:104', 'namespace': 'openmicroscopy.org/OriginalMetadata', 'value': {'any_elements': [AnyElement(qname='{http://www.openmicroscopy.org/Schemas/OME/2016-06}OriginalMetadata', text='', tail=None, children=[AnyElement(qname='{http://www.openmicroscopy.org/Schemas/OME/2016-06}Key', text='Experiment|AcquisitionBlock|ZStackSetup|Interpolation', tail=None, children=[], attributes={}), AnyElement(qname='{http://www.openmicroscopy.org/Schemas/OME/2016-06}Value', text='[Cubic]', tail=None, children=[], attributes={})], attributes={})]}}, {'id': 'Annotation:105', 'namespace': 'openmicroscopy.org/OriginalMetadata', 'value': {'any_elements': [AnyElement(qname='{http://www.openmicroscopy.org/Schemas/OME/2016-06}OriginalMetadata', text='', tail=None, children=[AnyElement(qname='{http://www.openmicroscopy.org/Schemas/OME/2016-06}Key', text='Information|Image|Channel|Gain', tail=None, children=[], attributes={}), AnyElement(qname='{http://www.openmicroscopy.org/Schemas/OME/2016-06}Value', text='[800, 242.27363180139324, 800]', tail=None, children=[], attributes={})], attributes={})]}}, {'id': 'Annotation:106', 'namespace': 'openmicroscopy.org/OriginalMetadata', 'value': {'any_elements': [AnyElement(qname='{http://www.openmicroscopy.org/Schemas/OME/2016-06}OriginalMetadata', text='', tail=None, children=[AnyElement(qname='{http://www.openmicroscopy.org/Schemas/OME/2016-06}Key', text='Information|Image|Channel|ContrastMethod', tail=None, children=[], attributes={}), AnyElement(qname='{http://www.openmicroscopy.org/Schemas/OME/2016-06}Value', text='[Fluorescence, Other, Fluorescence]', tail=None, children=[], attributes={})], attributes={})]}}, {'id': 'Annotation:107', 'namespace': 'openmicroscopy.org/OriginalMetadata', 'value': {'any_elements': [AnyElement(qname='{http://www.openmicroscopy.org/Schemas/OME/2016-06}OriginalMetadata', text='', tail=None, children=[AnyElement(qname='{http://www.openmicroscopy.org/Schemas/OME/2016-06}Key', text='Information|Image|Channel|PinholeSizeAiry', tail=None, children=[], attributes={}), AnyElement(qname='{http://www.openmicroscopy.org/Schemas/OME/2016-06}Value', text='[0.99256593406270088, 1.2095178391590697]', tail=None, children=[], attributes={})], attributes={})]}}, {'id': 'Annotation:108', 'namespace': 'openmicroscopy.org/OriginalMetadata', 'value': {'any_elements': [AnyElement(qname='{http://www.openmicroscopy.org/Schemas/OME/2016-06}OriginalMetadata', text='', tail=None, children=[AnyElement(qname='{http://www.openmicroscopy.org/Schemas/OME/2016-06}Key', text='Experiment|AcquisitionBlock|AcquisitionModeSetup|FocalDistanceStandardTubeLense', tail=None, children=[], attributes={}), AnyElement(qname='{http://www.openmicroscopy.org/Schemas/OME/2016-06}Value', text='[164.5]', tail=None, children=[], attributes={})], attributes={})]}}, {'id': 'Annotation:109', 'namespace': 'openmicroscopy.org/OriginalMetadata', 'value': {'any_elements': [AnyElement(qname='{http://www.openmicroscopy.org/Schemas/OME/2016-06}OriginalMetadata', text='', tail=None, children=[AnyElement(qname='{http://www.openmicroscopy.org/Schemas/OME/2016-06}Key', text='Experiment|AcquisitionBlock|MultiTrackSetup|TrackSetup|Collimator|Name', tail=None, children=[], attributes={}), AnyElement(qname='{http://www.openmicroscopy.org/Schemas/OME/2016-06}Value', text='[LSMCOLLI_V, LSMCOLLI_V]', tail=None, children=[], attributes={})], attributes={})]}}, {'id': 'Annotation:110', 'namespace': 'openmicroscopy.org/OriginalMetadata', 'value': {'any_elements': [AnyElement(qname='{http://www.openmicroscopy.org/Schemas/OME/2016-06}OriginalMetadata', text='', tail=None, children=[AnyElement(qname='{http://www.openmicroscopy.org/Schemas/OME/2016-06}Key', text='Experiment|AcquisitionBlock|AcquisitionModeSetup|RtFrameWidth', tail=None, children=[], attributes={}), AnyElement(qname='{http://www.openmicroscopy.org/Schemas/OME/2016-06}Value', text='[512]', tail=None, children=[], attributes={})], attributes={})]}}, {'id': 'Annotation:111', 'namespace': 'openmicroscopy.org/OriginalMetadata', 'value': {'any_elements': [AnyElement(qname='{http://www.openmicroscopy.org/Schemas/OME/2016-06}OriginalMetadata', text='', tail=None, children=[AnyElement(qname='{http://www.openmicroscopy.org/Schemas/OME/2016-06}Key', text='Experiment|AcquisitionBlock|MultiTrackSetup|TrackSetup|Attenuator|Laser', tail=None, children=[], attributes={}), AnyElement(qname='{http://www.openmicroscopy.org/Schemas/OME/2016-06}Value', text='[DPSS 561-10, ArgonRemote]', tail=None, children=[], attributes={})], attributes={})]}}, {'id': 'Annotation:112', 'namespace': 'openmicroscopy.org/OriginalMetadata', 'value': {'any_elements': [AnyElement(qname='{http://www.openmicroscopy.org/Schemas/OME/2016-06}OriginalMetadata', text='', tail=None, children=[AnyElement(qname='{http://www.openmicroscopy.org/Schemas/OME/2016-06}Key', text='Experiment|AcquisitionBlock|AcquisitionModeSetup|FitFramesizeToRoi', tail=None, children=[], attributes={}), AnyElement(qname='{http://www.openmicroscopy.org/Schemas/OME/2016-06}Value', text='[false]', tail=None, children=[], attributes={})], attributes={})]}}, {'id': 'Annotation:113', 'namespace': 'openmicroscopy.org/OriginalMetadata', 'value': {'any_elements': [AnyElement(qname='{http://www.openmicroscopy.org/Schemas/OME/2016-06}OriginalMetadata', text='', tail=None, children=[AnyElement(qname='{http://www.openmicroscopy.org/Schemas/OME/2016-06}Key', text='Experiment|AcquisitionBlock|MultiTrackSetup|TrackSetup|Detector|SpectralScanChannels', tail=None, children=[], attributes={}), AnyElement(qname='{http://www.openmicroscopy.org/Schemas/OME/2016-06}Value', text='[32, 32, 32]', tail=None, children=[], attributes={})], attributes={})]}}, {'id': 'Annotation:114', 'namespace': 'openmicroscopy.org/OriginalMetadata', 'value': {'any_elements': [AnyElement(qname='{http://www.openmicroscopy.org/Schemas/OME/2016-06}OriginalMetadata', text='', tail=None, children=[AnyElement(qname='{http://www.openmicroscopy.org/Schemas/OME/2016-06}Key', text='Experiment|AcquisitionBlock|AcquisitionModeSetup|ReferenceZ', tail=None, children=[], attributes={}), AnyElement(qname='{http://www.openmicroscopy.org/Schemas/OME/2016-06}Value', text='[0.00014683699999999998]', tail=None, children=[], attributes={})], attributes={})]}}, {'id': 'Annotation:115', 'namespace': 'openmicroscopy.org/OriginalMetadata', 'value': {'any_elements': [AnyElement(qname='{http://www.openmicroscopy.org/Schemas/OME/2016-06}OriginalMetadata', text='', tail=None, children=[AnyElement(qname='{http://www.openmicroscopy.org/Schemas/OME/2016-06}Key', text='Experiment|AcquisitionBlock|MultiTrackSetup|TrackSetup|Detector|AmplifierOffset', tail=None, children=[], attributes={}), AnyElement(qname='{http://www.openmicroscopy.org/Schemas/OME/2016-06}Value', text='[0, 0, 0]', tail=None, children=[], attributes={})], attributes={})]}}, {'id': 'Annotation:116', 'namespace': 'openmicroscopy.org/OriginalMetadata', 'value': {'any_elements': [AnyElement(qname='{http://www.openmicroscopy.org/Schemas/OME/2016-06}OriginalMetadata', text='', tail=None, children=[AnyElement(qname='{http://www.openmicroscopy.org/Schemas/OME/2016-06}Key', text='Information|Instrument|Detector|Zoom', tail=None, children=[], attributes={}), AnyElement(qname='{http://www.openmicroscopy.org/Schemas/OME/2016-06}Value', text='[1, 1, 1]', tail=None, children=[], attributes={})], attributes={})]}}, {'id': 'Annotation:117', 'namespace': 'openmicroscopy.org/OriginalMetadata', 'value': {'any_elements': [AnyElement(qname='{http://www.openmicroscopy.org/Schemas/OME/2016-06}OriginalMetadata', text='', tail=None, children=[AnyElement(qname='{http://www.openmicroscopy.org/Schemas/OME/2016-06}Key', text='Information|Image|Channel|IlluminationType', tail=None, children=[], attributes={}), AnyElement(qname='{http://www.openmicroscopy.org/Schemas/OME/2016-06}Value', text='[Epifluorescence, Epifluorescence, Epifluorescence]', tail=None, children=[], attributes={})], attributes={})]}}, {'id': 'Annotation:118', 'namespace': 'openmicroscopy.org/OriginalMetadata', 'value': {'any_elements': [AnyElement(qname='{http://www.openmicroscopy.org/Schemas/OME/2016-06}OriginalMetadata', text='', tail=None, children=[AnyElement(qname='{http://www.openmicroscopy.org/Schemas/OME/2016-06}Key', text='Experiment|AcquisitionBlock|MultiTrackSetup|TrackSetup|PalmSlider', tail=None, children=[], attributes={}), AnyElement(qname='{http://www.openmicroscopy.org/Schemas/OME/2016-06}Value', text='[true, true]', tail=None, children=[], attributes={})], attributes={})]}}, {'id': 'Annotation:119', 'namespace': 'openmicroscopy.org/OriginalMetadata', 'value': {'any_elements': [AnyElement(qname='{http://www.openmicroscopy.org/Schemas/OME/2016-06}OriginalMetadata', text='', tail=None, children=[AnyElement(qname='{http://www.openmicroscopy.org/Schemas/OME/2016-06}Key', text='Information|Image|Channel|Id', tail=None, children=[], attributes={}), AnyElement(qname='{http://www.openmicroscopy.org/Schemas/OME/2016-06}Value', text='[1882045647122112205822316379321236341965, 2073036438124928641418889655283193049277, 108853132117492280627326639672251045474]', tail=None, children=[], attributes={})], attributes={})]}}, {'id': 'Annotation:120', 'namespace': 'openmicroscopy.org/OriginalMetadata', 'value': {'any_elements': [AnyElement(qname='{http://www.openmicroscopy.org/Schemas/OME/2016-06}OriginalMetadata', text='', tail=None, children=[AnyElement(qname='{http://www.openmicroscopy.org/Schemas/OME/2016-06}Key', text='Experiment|AcquisitionBlock|AcquisitionModeSetup|PreScan', tail=None, children=[], attributes={}), AnyElement(qname='{http://www.openmicroscopy.org/Schemas/OME/2016-06}Value', text='[false]', tail=None, children=[], attributes={})], attributes={})]}}, {'id': 'Annotation:121', 'namespace': 'openmicroscopy.org/OriginalMetadata', 'value': {'any_elements': [AnyElement(qname='{http://www.openmicroscopy.org/Schemas/OME/2016-06}OriginalMetadata', text='', tail=None, children=[AnyElement(qname='{http://www.openmicroscopy.org/Schemas/OME/2016-06}Key', text='Experiment|AcquisitionBlock|TilesSetup|PositionGroup|AutoFocusOffset', tail=None, children=[], attributes={}), AnyElement(qname='{http://www.openmicroscopy.org/Schemas/OME/2016-06}Value', text='[0]', tail=None, children=[], attributes={})], attributes={})]}}, {'id': 'Annotation:122', 'namespace': 'openmicroscopy.org/OriginalMetadata', 'value': {'any_elements': [AnyElement(qname='{http://www.openmicroscopy.org/Schemas/OME/2016-06}OriginalMetadata', text='', tail=None, children=[AnyElement(qname='{http://www.openmicroscopy.org/Schemas/OME/2016-06}Key', text='Experiment|AcquisitionBlock|AcquisitionModeSetup|CameraFrameWidth', tail=None, children=[], attributes={}), AnyElement(qname='{http://www.openmicroscopy.org/Schemas/OME/2016-06}Value', text='[1300]', tail=None, children=[], attributes={})], attributes={})]}}, {'id': 'Annotation:123', 'namespace': 'openmicroscopy.org/OriginalMetadata', 'value': {'any_elements': [AnyElement(qname='{http://www.openmicroscopy.org/Schemas/OME/2016-06}OriginalMetadata', text='', tail=None, children=[AnyElement(qname='{http://www.openmicroscopy.org/Schemas/OME/2016-06}Key', text='Experiment|AcquisitionBlock|AcquisitionModeSetup|FilterMethod', tail=None, children=[], attributes={}), AnyElement(qname='{http://www.openmicroscopy.org/Schemas/OME/2016-06}Value', text='[Average]', tail=None, children=[], attributes={})], attributes={})]}}, {'id': 'Annotation:124', 'namespace': 'openmicroscopy.org/OriginalMetadata', 'value': {'any_elements': [AnyElement(qname='{http://www.openmicroscopy.org/Schemas/OME/2016-06}OriginalMetadata', text='', tail=None, children=[AnyElement(qname='{http://www.openmicroscopy.org/Schemas/OME/2016-06}Key', text='Experiment|AcquisitionBlock|MultiTrackSetup|TrackSetup|Detector|Palette', tail=None, children=[], attributes={}), AnyElement(qname='{http://www.openmicroscopy.org/Schemas/OME/2016-06}Value', text='[LsmDetectorPalette_0_0, LsmDetectorPalette_0_1, LsmDetectorPalette_1_0]', tail=None, children=[], attributes={})], attributes={})]}}, {'id': 'Annotation:125', 'namespace': 'openmicroscopy.org/OriginalMetadata', 'value': {'any_elements': [AnyElement(qname='{http://www.openmicroscopy.org/Schemas/OME/2016-06}OriginalMetadata', text='', tail=None, children=[AnyElement(qname='{http://www.openmicroscopy.org/Schemas/OME/2016-06}Key', text='Information|Instrument|LightSource|Id', tail=None, children=[], attributes={}), AnyElement(qname='{http://www.openmicroscopy.org/Schemas/OME/2016-06}Value', text='[LightSource:0, LightSource:1, LightSource:2, LightSource:3]', tail=None, children=[], attributes={})], attributes={})]}}, {'id': 'Annotation:126', 'namespace': 'openmicroscopy.org/OriginalMetadata', 'value': {'any_elements': [AnyElement(qname='{http://www.openmicroscopy.org/Schemas/OME/2016-06}OriginalMetadata', text='', tail=None, children=[AnyElement(qname='{http://www.openmicroscopy.org/Schemas/OME/2016-06}Key', text='Information|Image|Channel|LaserScanInfo|ScanningMode', tail=None, children=[], attributes={}), AnyElement(qname='{http://www.openmicroscopy.org/Schemas/OME/2016-06}Value', text='[LineSequential, LineSequential, LineSequential]', tail=None, children=[], attributes={})], attributes={})]}}, {'id': 'Annotation:127', 'namespace': 'openmicroscopy.org/OriginalMetadata', 'value': {'any_elements': [AnyElement(qname='{http://www.openmicroscopy.org/Schemas/OME/2016-06}OriginalMetadata', text='', tail=None, children=[AnyElement(qname='{http://www.openmicroscopy.org/Schemas/OME/2016-06}Key', text='Information|Instrument|Objective|Id', tail=None, children=[], attributes={}), AnyElement(qname='{http://www.openmicroscopy.org/Schemas/OME/2016-06}Value', text='[Objective:0]', tail=None, children=[], attributes={})], attributes={})]}}, {'id': 'Annotation:128', 'namespace': 'openmicroscopy.org/OriginalMetadata', 'value': {'any_elements': [AnyElement(qname='{http://www.openmicroscopy.org/Schemas/OME/2016-06}OriginalMetadata', text='', tail=None, children=[AnyElement(qname='{http://www.openmicroscopy.org/Schemas/OME/2016-06}Key', text='Experiment|AcquisitionBlock|AcquisitionModeSetup|HdrEnabled', tail=None, children=[], attributes={}), AnyElement(qname='{http://www.openmicroscopy.org/Schemas/OME/2016-06}Value', text='[false]', tail=None, children=[], attributes={})], attributes={})]}}, {'id': 'Annotation:129', 'namespace': 'openmicroscopy.org/OriginalMetadata', 'value': {'any_elements': [AnyElement(qname='{http://www.openmicroscopy.org/Schemas/OME/2016-06}OriginalMetadata', text='', tail=None, children=[AnyElement(qname='{http://www.openmicroscopy.org/Schemas/OME/2016-06}Key', text='Experiment|AcquisitionBlock|MultiTrackSetup|TrackSetup|Attenuator|Wavelength', tail=None, children=[], attributes={}), AnyElement(qname='{http://www.openmicroscopy.org/Schemas/OME/2016-06}Value', text='[5.6100000000000001e-007, 4.8800000000000003e-007]', tail=None, children=[], attributes={})], attributes={})]}}, {'id': 'Annotation:130', 'namespace': 'openmicroscopy.org/OriginalMetadata', 'value': {'any_elements': [AnyElement(qname='{http://www.openmicroscopy.org/Schemas/OME/2016-06}OriginalMetadata', text='', tail=None, children=[AnyElement(qname='{http://www.openmicroscopy.org/Schemas/OME/2016-06}Key', text='Information|Image|S|Scene|Position|Z', tail=None, children=[], attributes={}), AnyElement(qname='{http://www.openmicroscopy.org/Schemas/OME/2016-06}Value', text='[146.837]', tail=None, children=[], attributes={})], attributes={})]}}, {'id': 'Annotation:131', 'namespace': 'openmicroscopy.org/OriginalMetadata', 'value': {'any_elements': [AnyElement(qname='{http://www.openmicroscopy.org/Schemas/OME/2016-06}OriginalMetadata', text='', tail=None, children=[AnyElement(qname='{http://www.openmicroscopy.org/Schemas/OME/2016-06}Key', text='Information|Image|S|Scene|Position|Y', tail=None, children=[], attributes={}), AnyElement(qname='{http://www.openmicroscopy.org/Schemas/OME/2016-06}Value', text='[-4955]', tail=None, children=[], attributes={})], attributes={})]}}, {'id': 'Annotation:132', 'namespace': 'openmicroscopy.org/OriginalMetadata', 'value': {'any_elements': [AnyElement(qname='{http://www.openmicroscopy.org/Schemas/OME/2016-06}OriginalMetadata', text='', tail=None, children=[AnyElement(qname='{http://www.openmicroscopy.org/Schemas/OME/2016-06}Key', text='Experiment|AcquisitionBlock|MultiTrackSetup|TrackSetup|Detector|AiryScanVirtualPinholeSize', tail=None, children=[], attributes={}), AnyElement(qname='{http://www.openmicroscopy.org/Schemas/OME/2016-06}Value', text='[1, 1, 1]', tail=None, children=[], attributes={})], attributes={})]}}, {'id': 'Annotation:133', 'namespace': 'openmicroscopy.org/OriginalMetadata', 'value': {'any_elements': [AnyElement(qname='{http://www.openmicroscopy.org/Schemas/OME/2016-06}OriginalMetadata', text='', tail=None, children=[AnyElement(qname='{http://www.openmicroscopy.org/Schemas/OME/2016-06}Key', text='Information|Image|S|Scene|Position|X', tail=None, children=[], attributes={}), AnyElement(qname='{http://www.openmicroscopy.org/Schemas/OME/2016-06}Value', text='[-16360.5]', tail=None, children=[], attributes={})], attributes={})]}}, {'id': 'Annotation:134', 'namespace': 'openmicroscopy.org/OriginalMetadata', 'value': {'any_elements': [AnyElement(qname='{http://www.openmicroscopy.org/Schemas/OME/2016-06}OriginalMetadata', text='', tail=None, children=[AnyElement(qname='{http://www.openmicroscopy.org/Schemas/OME/2016-06}Key', text='Experiment|AcquisitionBlock|AcquisitionModeSetup|FocalDistanceLsmTubeLense', tail=None, children=[], attributes={}), AnyElement(qname='{http://www.openmicroscopy.org/Schemas/OME/2016-06}Value', text='[150]', tail=None, children=[], attributes={})], attributes={})]}}, {'id': 'Annotation:135', 'namespace': 'openmicroscopy.org/OriginalMetadata', 'value': {'any_elements': [AnyElement(qname='{http://www.openmicroscopy.org/Schemas/OME/2016-06}OriginalMetadata', text='', tail=None, children=[AnyElement(qname='{http://www.openmicroscopy.org/Schemas/OME/2016-06}Key', text='Experiment|AcquisitionBlock|MultiTrackSetup|TrackSetup|BleachSetup|BleachParameterSet|Duration', tail=None, children=[], attributes={}), AnyElement(qname='{http://www.openmicroscopy.org/Schemas/OME/2016-06}Value', text='[0, 0]', tail=None, children=[], attributes={})], attributes={})]}}, {'id': 'Annotation:136', 'namespace': 'openmicroscopy.org/OriginalMetadata', 'value': {'any_elements': [AnyElement(qname='{http://www.openmicroscopy.org/Schemas/OME/2016-06}OriginalMetadata', text='', tail=None, children=[AnyElement(qname='{http://www.openmicroscopy.org/Schemas/OME/2016-06}Key', text='Experiment|AcquisitionBlock|MultiTrackSetup|TrackSetup|CameraIntegrationTime', tail=None, children=[], attributes={}), AnyElement(qname='{http://www.openmicroscopy.org/Schemas/OME/2016-06}Value', text='[3.1060606060606059e-006, 3.1060606060606059e-006]', tail=None, children=[], attributes={})], attributes={})]}}, {'id': 'Annotation:137', 'namespace': 'openmicroscopy.org/OriginalMetadata', 'value': {'any_elements': [AnyElement(qname='{http://www.openmicroscopy.org/Schemas/OME/2016-06}OriginalMetadata', text='', tail=None, children=[AnyElement(qname='{http://www.openmicroscopy.org/Schemas/OME/2016-06}Key', text='Experiment|AcquisitionBlock|MultiTrackSetup|TrackSetup|BleachSetup|BleachParameterSet|DifferentSpotPosition', tail=None, children=[], attributes={}), AnyElement(qname='{http://www.openmicroscopy.org/Schemas/OME/2016-06}Value', text='[false, false]', tail=None, children=[], attributes={})], attributes={})]}}, {'id': 'Annotation:138', 'namespace': 'openmicroscopy.org/OriginalMetadata', 'value': {'any_elements': [AnyElement(qname='{http://www.openmicroscopy.org/Schemas/OME/2016-06}OriginalMetadata', text='', tail=None, children=[AnyElement(qname='{http://www.openmicroscopy.org/Schemas/OME/2016-06}Key', text='Information|Image|Medium', tail=None, children=[], attributes={}), AnyElement(qname='{http://www.openmicroscopy.org/Schemas/OME/2016-06}Value', text='[Water]', tail=None, children=[], attributes={})], attributes={})]}}, {'id': 'Annotation:139', 'namespace': 'openmicroscopy.org/OriginalMetadata', 'value': {'any_elements': [AnyElement(qname='{http://www.openmicroscopy.org/Schemas/OME/2016-06}OriginalMetadata', text='', tail=None, children=[AnyElement(qname='{http://www.openmicroscopy.org/Schemas/OME/2016-06}Key', text='Information|User|DisplayName', tail=None, children=[], attributes={}), AnyElement(qname='{http://www.openmicroscopy.org/Schemas/OME/2016-06}Value', text='[bcers01]', tail=None, children=[], attributes={})], attributes={})]}}, {'id': 'Annotation:140', 'namespace': 'openmicroscopy.org/OriginalMetadata', 'value': {'any_elements': [AnyElement(qname='{http://www.openmicroscopy.org/Schemas/OME/2016-06}OriginalMetadata', text='', tail=None, children=[AnyElement(qname='{http://www.openmicroscopy.org/Schemas/OME/2016-06}Key', text='Experiment|AcquisitionBlock|MultiTrackSetup|TrackSetup|BleachSetup|BleachParameterSet|PositionZ', tail=None, children=[], attributes={}), AnyElement(qname='{http://www.openmicroscopy.org/Schemas/OME/2016-06}Value', text='[0, 0]', tail=None, children=[], attributes={})], attributes={})]}}, {'id': 'Annotation:141', 'namespace': 'openmicroscopy.org/OriginalMetadata', 'value': {'any_elements': [AnyElement(qname='{http://www.openmicroscopy.org/Schemas/OME/2016-06}OriginalMetadata', text='', tail=None, children=[AnyElement(qname='{http://www.openmicroscopy.org/Schemas/OME/2016-06}Key', text='Information|Image|Channel|Wavelength', tail=None, children=[], attributes={}), AnyElement(qname='{http://www.openmicroscopy.org/Schemas/OME/2016-06}Value', text='[561, 561, 488.00000000000006]', tail=None, children=[], attributes={})], attributes={})]}}, {'id': 'Annotation:142', 'namespace': 'openmicroscopy.org/OriginalMetadata', 'value': {'any_elements': [AnyElement(qname='{http://www.openmicroscopy.org/Schemas/OME/2016-06}OriginalMetadata', text='', tail=None, children=[AnyElement(qname='{http://www.openmicroscopy.org/Schemas/OME/2016-06}Key', text='Experiment|AcquisitionBlock|AcquisitionModeSetup|RtSuperSampling', tail=None, children=[], attributes={}), AnyElement(qname='{http://www.openmicroscopy.org/Schemas/OME/2016-06}Value', text='[1]', tail=None, children=[], attributes={})], attributes={})]}}, {'id': 'Annotation:143', 'namespace': 'openmicroscopy.org/OriginalMetadata', 'value': {'any_elements': [AnyElement(qname='{http://www.openmicroscopy.org/Schemas/OME/2016-06}OriginalMetadata', text='', tail=None, children=[AnyElement(qname='{http://www.openmicroscopy.org/Schemas/OME/2016-06}Key', text='Experiment|AcquisitionBlock|AcquisitionModeSetup|DimensionZ', tail=None, children=[], attributes={}), AnyElement(qname='{http://www.openmicroscopy.org/Schemas/OME/2016-06}Value', text='[1]', tail=None, children=[], attributes={})], attributes={})]}}, {'id': 'Annotation:144', 'namespace': 'openmicroscopy.org/OriginalMetadata', 'value': {'any_elements': [AnyElement(qname='{http://www.openmicroscopy.org/Schemas/OME/2016-06}OriginalMetadata', text='', tail=None, children=[AnyElement(qname='{http://www.openmicroscopy.org/Schemas/OME/2016-06}Key', text='Experiment|AcquisitionBlock|AcquisitionModeSetup|DimensionY', tail=None, children=[], attributes={}), AnyElement(qname='{http://www.openmicroscopy.org/Schemas/OME/2016-06}Value', text='[280]', tail=None, children=[], attributes={})], attributes={})]}}, {'id': 'Annotation:145', 'namespace': 'openmicroscopy.org/OriginalMetadata', 'value': {'any_elements': [AnyElement(qname='{http://www.openmicroscopy.org/Schemas/OME/2016-06}OriginalMetadata', text='', tail=None, children=[AnyElement(qname='{http://www.openmicroscopy.org/Schemas/OME/2016-06}Key', text='Information|Instrument|Objective|NominalMagnification', tail=None, children=[], attributes={}), AnyElement(qname='{http://www.openmicroscopy.org/Schemas/OME/2016-06}Value', text='[63]', tail=None, children=[], attributes={})], attributes={})]}}, {'id': 'Annotation:146', 'namespace': 'openmicroscopy.org/OriginalMetadata', 'value': {'any_elements': [AnyElement(qname='{http://www.openmicroscopy.org/Schemas/OME/2016-06}OriginalMetadata', text='', tail=None, children=[AnyElement(qname='{http://www.openmicroscopy.org/Schemas/OME/2016-06}Key', text='Experiment|AcquisitionBlock|MultiTrackSetup|TrackSetup|BleachSetup|BleachParameterSet|PixelPeriod', tail=None, children=[], attributes={}), AnyElement(qname='{http://www.openmicroscopy.org/Schemas/OME/2016-06}Value', text='[-1, -1]', tail=None, children=[], attributes={})], attributes={})]}}, {'id': 'Annotation:147', 'namespace': 'openmicroscopy.org/OriginalMetadata', 'value': {'any_elements': [AnyElement(qname='{http://www.openmicroscopy.org/Schemas/OME/2016-06}OriginalMetadata', text='', tail=None, children=[AnyElement(qname='{http://www.openmicroscopy.org/Schemas/OME/2016-06}Key', text='Experiment|AcquisitionBlock|AcquisitionModeSetup|DimensionX', tail=None, children=[], attributes={}), AnyElement(qname='{http://www.openmicroscopy.org/Schemas/OME/2016-06}Value', text='[680]', tail=None, children=[], attributes={})], attributes={})]}}, {'id': 'Annotation:148', 'namespace': 'openmicroscopy.org/OriginalMetadata', 'value': {'any_elements': [AnyElement(qname='{http://www.openmicroscopy.org/Schemas/OME/2016-06}OriginalMetadata', text='', tail=None, children=[AnyElement(qname='{http://www.openmicroscopy.org/Schemas/OME/2016-06}Key', text='Experiment|AcquisitionBlock|AcquisitionModeSetup|DimensionT', tail=None, children=[], attributes={}), AnyElement(qname='{http://www.openmicroscopy.org/Schemas/OME/2016-06}Value', text='[30]', tail=None, children=[], attributes={})], attributes={})]}}, {'id': 'Annotation:149', 'namespace': 'openmicroscopy.org/OriginalMetadata', 'value': {'any_elements': [AnyElement(qname='{http://www.openmicroscopy.org/Schemas/OME/2016-06}OriginalMetadata', text='', tail=None, children=[AnyElement(qname='{http://www.openmicroscopy.org/Schemas/OME/2016-06}Key', text='Information|Instrument|Detector|Id', tail=None, children=[], attributes={}), AnyElement(qname='{http://www.openmicroscopy.org/Schemas/OME/2016-06}Value', text='[Detector:0:0, Detector:0:1, Detector:1:0]', tail=None, children=[], attributes={})], attributes={})]}}, {'id': 'Annotation:150', 'namespace': 'openmicroscopy.org/OriginalMetadata', 'value': {'any_elements': [AnyElement(qname='{http://www.openmicroscopy.org/Schemas/OME/2016-06}OriginalMetadata', text='', tail=None, children=[AnyElement(qname='{http://www.openmicroscopy.org/Schemas/OME/2016-06}Key', text='DisplaySetting|Channel|ChannelUnit|ChannelType', tail=None, children=[], attributes={}), AnyElement(qname='{http://www.openmicroscopy.org/Schemas/OME/2016-06}Value', text='Unspecified', tail=None, children=[], attributes={})], attributes={})]}}, {'id': 'Annotation:151', 'namespace': 'openmicroscopy.org/OriginalMetadata', 'value': {'any_elements': [AnyElement(qname='{http://www.openmicroscopy.org/Schemas/OME/2016-06}OriginalMetadata', text='', tail=None, children=[AnyElement(qname='{http://www.openmicroscopy.org/Schemas/OME/2016-06}Key', text='Experiment|AcquisitionBlock|MultiTrackSetup|TrackSetup|BleachSetup|BleachParameterSet|StopAtIntensityDrop', tail=None, children=[], attributes={}), AnyElement(qname='{http://www.openmicroscopy.org/Schemas/OME/2016-06}Value', text='[false, false]', tail=None, children=[], attributes={})], attributes={})]}}, {'id': 'Annotation:152', 'namespace': 'openmicroscopy.org/OriginalMetadata', 'value': {'any_elements': [AnyElement(qname='{http://www.openmicroscopy.org/Schemas/OME/2016-06}OriginalMetadata', text='', tail=None, children=[AnyElement(qname='{http://www.openmicroscopy.org/Schemas/OME/2016-06}Key', text='Experiment|AcquisitionBlock|ZStackSetup|Extrapolate', tail=None, children=[], attributes={}), AnyElement(qname='{http://www.openmicroscopy.org/Schemas/OME/2016-06}Value', text='[false]', tail=None, children=[], attributes={})], attributes={})]}}, {'id': 'Annotation:153', 'namespace': 'openmicroscopy.org/OriginalMetadata', 'value': {'any_elements': [AnyElement(qname='{http://www.openmicroscopy.org/Schemas/OME/2016-06}OriginalMetadata', text='', tail=None, children=[AnyElement(qname='{http://www.openmicroscopy.org/Schemas/OME/2016-06}Key', text='Experiment|AcquisitionBlock|AcquisitionModeSetup|BiDirectionalZ', tail=None, children=[], attributes={}), AnyElement(qname='{http://www.openmicroscopy.org/Schemas/OME/2016-06}Value', text='[false]', tail=None, children=[], attributes={})], attributes={})]}}, {'id': 'Annotation:154', 'namespace': 'openmicroscopy.org/OriginalMetadata', 'value': {'any_elements': [AnyElement(qname='{http://www.openmicroscopy.org/Schemas/OME/2016-06}OriginalMetadata', text='', tail=None, children=[AnyElement(qname='{http://www.openmicroscopy.org/Schemas/OME/2016-06}Key', text='Information|Image|Channel|LaserScanInfo|SampleOffsetY', tail=None, children=[], attributes={}), AnyElement(qname='{http://www.openmicroscopy.org/Schemas/OME/2016-06}Value', text='[7.1528874358965848e-007, 7.1528874358965848e-007, 7.1528874358965848e-007]', tail=None, children=[], attributes={})], attributes={})]}}, {'id': 'Annotation:155', 'namespace': 'openmicroscopy.org/OriginalMetadata', 'value': {'any_elements': [AnyElement(qname='{http://www.openmicroscopy.org/Schemas/OME/2016-06}OriginalMetadata', text='', tail=None, children=[AnyElement(qname='{http://www.openmicroscopy.org/Schemas/OME/2016-06}Key', text='Information|Image|Channel|LaserScanInfo|SampleOffsetX', tail=None, children=[], attributes={}), AnyElement(qname='{http://www.openmicroscopy.org/Schemas/OME/2016-06}Value', text='[6.6760282735367915e-006, 6.6760282735367915e-006, 6.6760282735367915e-006]', tail=None, children=[], attributes={})], attributes={})]}}, {'id': 'Annotation:156', 'namespace': 'openmicroscopy.org/OriginalMetadata', 'value': {'any_elements': [AnyElement(qname='{http://www.openmicroscopy.org/Schemas/OME/2016-06}OriginalMetadata', text='', tail=None, children=[AnyElement(qname='{http://www.openmicroscopy.org/Schemas/OME/2016-06}Key', text='DisplaySetting|Channel|Name', tail=None, children=[], attributes={}), AnyElement(qname='{http://www.openmicroscopy.org/Schemas/OME/2016-06}Value', text='ChS1-T2', tail=None, children=[], attributes={})], attributes={})]}}, {'id': 'Annotation:157', 'namespace': 'openmicroscopy.org/OriginalMetadata', 'value': {'any_elements': [AnyElement(qname='{http://www.openmicroscopy.org/Schemas/OME/2016-06}OriginalMetadata', text='', tail=None, children=[AnyElement(qname='{http://www.openmicroscopy.org/Schemas/OME/2016-06}Key', text='Experiment|AcquisitionBlock|MultiTrackSetup|TrackSetup|TubeLensPosition', tail=None, children=[], attributes={}), AnyElement(qname='{http://www.openmicroscopy.org/Schemas/OME/2016-06}Value', text='[Lens LSM, Lens LSM]', tail=None, children=[], attributes={})], attributes={})]}}, {'id': 'Annotation:158', 'namespace': 'openmicroscopy.org/OriginalMetadata', 'value': {'any_elements': [AnyElement(qname='{http://www.openmicroscopy.org/Schemas/OME/2016-06}OriginalMetadata', text='', tail=None, children=[AnyElement(qname='{http://www.openmicroscopy.org/Schemas/OME/2016-06}Key', text='Experiment|AcquisitionBlock|MultiTrackSetup|TrackSetup|BleachSetup|BleachParameterSet|StartTime', tail=None, children=[], attributes={}), AnyElement(qname='{http://www.openmicroscopy.org/Schemas/OME/2016-06}Value', text='[0, 0]', tail=None, children=[], attributes={})], attributes={})]}}, {'id': 'Annotation:159', 'namespace': 'openmicroscopy.org/OriginalMetadata', 'value': {'any_elements': [AnyElement(qname='{http://www.openmicroscopy.org/Schemas/OME/2016-06}OriginalMetadata', text='', tail=None, children=[AnyElement(qname='{http://www.openmicroscopy.org/Schemas/OME/2016-06}Key', text='Information|Image|Channel|AcquisitionMode', tail=None, children=[], attributes={}), AnyElement(qname='{http://www.openmicroscopy.org/Schemas/OME/2016-06}Value', text='[LaserScanningConfocalMicroscopy, LaserScanningConfocalMicroscopy, LaserScanningConfocalMicroscopy]', tail=None, children=[], attributes={})], attributes={})]}}, {'id': 'Annotation:160', 'namespace': 'openmicroscopy.org/OriginalMetadata', 'value': {'any_elements': [AnyElement(qname='{http://www.openmicroscopy.org/Schemas/OME/2016-06}OriginalMetadata', text='', tail=None, children=[AnyElement(qname='{http://www.openmicroscopy.org/Schemas/OME/2016-06}Key', text='Appliance|Data|ShuttleAndFindData|Calibration|StageOrientation|Y', tail=None, children=[], attributes={}), AnyElement(qname='{http://www.openmicroscopy.org/Schemas/OME/2016-06}Value', text='[1]', tail=None, children=[], attributes={})], attributes={})]}}, {'id': 'Annotation:161', 'namespace': 'openmicroscopy.org/OriginalMetadata', 'value': {'any_elements': [AnyElement(qname='{http://www.openmicroscopy.org/Schemas/OME/2016-06}OriginalMetadata', text='', tail=None, children=[AnyElement(qname='{http://www.openmicroscopy.org/Schemas/OME/2016-06}Key', text='Experiment|AcquisitionBlock|MultiTrackSetup|TrackSetup|Detector|Dye', tail=None, children=[], attributes={}), AnyElement(qname='{http://www.openmicroscopy.org/Schemas/OME/2016-06}Value', text='[mRFP1.2, EGFP]', tail=None, children=[], attributes={})], attributes={})]}}, {'id': 'Annotation:162', 'namespace': 'openmicroscopy.org/OriginalMetadata', 'value': {'any_elements': [AnyElement(qname='{http://www.openmicroscopy.org/Schemas/OME/2016-06}OriginalMetadata', text='', tail=None, children=[AnyElement(qname='{http://www.openmicroscopy.org/Schemas/OME/2016-06}Key', text='Appliance|Data|ShuttleAndFindData|Calibration|StageOrientation|X', tail=None, children=[], attributes={}), AnyElement(qname='{http://www.openmicroscopy.org/Schemas/OME/2016-06}Value', text='[-1]', tail=None, children=[], attributes={})], attributes={})]}}, {'id': 'Annotation:163', 'namespace': 'openmicroscopy.org/OriginalMetadata', 'value': {'any_elements': [AnyElement(qname='{http://www.openmicroscopy.org/Schemas/OME/2016-06}OriginalMetadata', text='', tail=None, children=[AnyElement(qname='{http://www.openmicroscopy.org/Schemas/OME/2016-06}Key', text='Experiment|AcquisitionBlock|TimeSeriesSetup|StartMode|DigitalOut', tail=None, children=[], attributes={}), AnyElement(qname='{http://www.openmicroscopy.org/Schemas/OME/2016-06}Value', text='[-1]', tail=None, children=[], attributes={})], attributes={})]}}, {'id': 'Annotation:164', 'namespace': 'openmicroscopy.org/OriginalMetadata', 'value': {'any_elements': [AnyElement(qname='{http://www.openmicroscopy.org/Schemas/OME/2016-06}OriginalMetadata', text='', tail=None, children=[AnyElement(qname='{http://www.openmicroscopy.org/Schemas/OME/2016-06}Key', text='Experiment|AcquisitionBlock|AcquisitionModeSetup|SimRotations', tail=None, children=[], attributes={}), AnyElement(qname='{http://www.openmicroscopy.org/Schemas/OME/2016-06}Value', text='[3]', tail=None, children=[], attributes={})], attributes={})]}}, {'id': 'Annotation:165', 'namespace': 'openmicroscopy.org/OriginalMetadata', 'value': {'any_elements': [AnyElement(qname='{http://www.openmicroscopy.org/Schemas/OME/2016-06}OriginalMetadata', text='', tail=None, children=[AnyElement(qname='{http://www.openmicroscopy.org/Schemas/OME/2016-06}Key', text='Experiment|AcquisitionBlock|AcquisitionModeSetup|ZoomY', tail=None, children=[], attributes={}), AnyElement(qname='{http://www.openmicroscopy.org/Schemas/OME/2016-06}Value', text='[2]', tail=None, children=[], attributes={})], attributes={})]}}, {'id': 'Annotation:166', 'namespace': 'openmicroscopy.org/OriginalMetadata', 'value': {'any_elements': [AnyElement(qname='{http://www.openmicroscopy.org/Schemas/OME/2016-06}OriginalMetadata', text='', tail=None, children=[AnyElement(qname='{http://www.openmicroscopy.org/Schemas/OME/2016-06}Key', text='Scaling|Distance|Id', tail=None, children=[], attributes={}), AnyElement(qname='{http://www.openmicroscopy.org/Schemas/OME/2016-06}Value', text='[X, Y, Z]', tail=None, children=[], attributes={})], attributes={})]}}, {'id': 'Annotation:167', 'namespace': 'openmicroscopy.org/OriginalMetadata', 'value': {'any_elements': [AnyElement(qname='{http://www.openmicroscopy.org/Schemas/OME/2016-06}OriginalMetadata', text='', tail=None, children=[AnyElement(qname='{http://www.openmicroscopy.org/Schemas/OME/2016-06}Key', text='Information|Image|Channel|ExcitationWavelength', tail=None, children=[], attributes={}), AnyElement(qname='{http://www.openmicroscopy.org/Schemas/OME/2016-06}Value', text='[561, 488.00000000000006]', tail=None, children=[], attributes={})], attributes={})]}}, {'id': 'Annotation:168', 'namespace': 'openmicroscopy.org/OriginalMetadata', 'value': {'any_elements': [AnyElement(qname='{http://www.openmicroscopy.org/Schemas/OME/2016-06}OriginalMetadata', text='', tail=None, children=[AnyElement(qname='{http://www.openmicroscopy.org/Schemas/OME/2016-06}Key', text='Experiment|AcquisitionBlock|AcquisitionModeSetup|ZoomX', tail=None, children=[], attributes={}), AnyElement(qname='{http://www.openmicroscopy.org/Schemas/OME/2016-06}Value', text='[2]', tail=None, children=[], attributes={})], attributes={})]}}, {'id': 'Annotation:169', 'namespace': 'openmicroscopy.org/OriginalMetadata', 'value': {'any_elements': [AnyElement(qname='{http://www.openmicroscopy.org/Schemas/OME/2016-06}OriginalMetadata', text='', tail=None, children=[AnyElement(qname='{http://www.openmicroscopy.org/Schemas/OME/2016-06}Key', text='Information|Image|OriginalScanData', tail=None, children=[], attributes={}), AnyElement(qname='{http://www.openmicroscopy.org/Schemas/OME/2016-06}Value', text='[true]', tail=None, children=[], attributes={})], attributes={})]}}, {'id': 'Annotation:170', 'namespace': 'openmicroscopy.org/OriginalMetadata', 'value': {'any_elements': [AnyElement(qname='{http://www.openmicroscopy.org/Schemas/OME/2016-06}OriginalMetadata', text='', tail=None, children=[AnyElement(qname='{http://www.openmicroscopy.org/Schemas/OME/2016-06}Key', text='Information|Image|Channel|LaserScanInfo|SampleRotation', tail=None, children=[], attributes={}), AnyElement(qname='{http://www.openmicroscopy.org/Schemas/OME/2016-06}Value', text='[-85.581379535589718, -85.581379535589718, -85.581379535589718]', tail=None, children=[], attributes={})], attributes={})]}}, {'id': 'Annotation:171', 'namespace': 'openmicroscopy.org/OriginalMetadata', 'value': {'any_elements': [AnyElement(qname='{http://www.openmicroscopy.org/Schemas/OME/2016-06}OriginalMetadata', text='', tail=None, children=[AnyElement(qname='{http://www.openmicroscopy.org/Schemas/OME/2016-06}Key', text='Appliance|Data|ShuttleAndFindData|Calibration|MicroscopeType', tail=None, children=[], attributes={}), AnyElement(qname='{http://www.openmicroscopy.org/Schemas/OME/2016-06}Value', text='[LM]', tail=None, children=[], attributes={})], attributes={})]}}, {'id': 'Annotation:172', 'namespace': 'openmicroscopy.org/OriginalMetadata', 'value': {'any_elements': [AnyElement(qname='{http://www.openmicroscopy.org/Schemas/OME/2016-06}OriginalMetadata', text='', tail=None, children=[AnyElement(qname='{http://www.openmicroscopy.org/Schemas/OME/2016-06}Key', text='Information|Image|Channel|Polarization|StokesParameter4', tail=None, children=[], attributes={}), AnyElement(qname='{http://www.openmicroscopy.org/Schemas/OME/2016-06}Value', text='[0, 0, 0]', tail=None, children=[], attributes={})], attributes={})]}}, {'id': 'Annotation:173', 'namespace': 'openmicroscopy.org/OriginalMetadata', 'value': {'any_elements': [AnyElement(qname='{http://www.openmicroscopy.org/Schemas/OME/2016-06}OriginalMetadata', text='', tail=None, children=[AnyElement(qname='{http://www.openmicroscopy.org/Schemas/OME/2016-06}Key', text='Information|Image|Channel|Polarization|StokesParameter3', tail=None, children=[], attributes={}), AnyElement(qname='{http://www.openmicroscopy.org/Schemas/OME/2016-06}Value', text='[-0.15362812946803259, -0.15362812946803259, -0.15362812946803259]', tail=None, children=[], attributes={})], attributes={})]}}, {'id': 'Annotation:174', 'namespace': 'openmicroscopy.org/OriginalMetadata', 'value': {'any_elements': [AnyElement(qname='{http://www.openmicroscopy.org/Schemas/OME/2016-06}OriginalMetadata', text='', tail=None, children=[AnyElement(qname='{http://www.openmicroscopy.org/Schemas/OME/2016-06}Key', text='Information|Image|Channel|Polarization|StokesParameter2', tail=None, children=[], attributes={}), AnyElement(qname='{http://www.openmicroscopy.org/Schemas/OME/2016-06}Value', text='[0.98812873545715363, 0.98812873545715363, 0.98812873545715363]', tail=None, children=[], attributes={})], attributes={})]}}, {'id': 'Annotation:175', 'namespace': 'openmicroscopy.org/OriginalMetadata', 'value': {'any_elements': [AnyElement(qname='{http://www.openmicroscopy.org/Schemas/OME/2016-06}OriginalMetadata', text='', tail=None, children=[AnyElement(qname='{http://www.openmicroscopy.org/Schemas/OME/2016-06}Key', text='Information|Image|Channel|Polarization|StokesParameter1', tail=None, children=[], attributes={}), AnyElement(qname='{http://www.openmicroscopy.org/Schemas/OME/2016-06}Value', text='[1, 1, 1]', tail=None, children=[], attributes={})], attributes={})]}}, {'id': 'Annotation:176', 'namespace': 'openmicroscopy.org/OriginalMetadata', 'value': {'any_elements': [AnyElement(qname='{http://www.openmicroscopy.org/Schemas/OME/2016-06}OriginalMetadata', text='', tail=None, children=[AnyElement(qname='{http://www.openmicroscopy.org/Schemas/OME/2016-06}Key', text='Information|Image|Channel|LaserScanInfo|ZoomY', tail=None, children=[], attributes={}), AnyElement(qname='{http://www.openmicroscopy.org/Schemas/OME/2016-06}Value', text='[2, 2, 2]', tail=None, children=[], attributes={})], attributes={})]}}, {'id': 'Annotation:177', 'namespace': 'openmicroscopy.org/OriginalMetadata', 'value': {'any_elements': [AnyElement(qname='{http://www.openmicroscopy.org/Schemas/OME/2016-06}OriginalMetadata', text='', tail=None, children=[AnyElement(qname='{http://www.openmicroscopy.org/Schemas/OME/2016-06}Key', text='Information|Image|Channel|LaserScanInfo|ZoomX', tail=None, children=[], attributes={}), AnyElement(qname='{http://www.openmicroscopy.org/Schemas/OME/2016-06}Value', text='[2, 2, 2]', tail=None, children=[], attributes={})], attributes={})]}}, {'id': 'Annotation:178', 'namespace': 'openmicroscopy.org/OriginalMetadata', 'value': {'any_elements': [AnyElement(qname='{http://www.openmicroscopy.org/Schemas/OME/2016-06}OriginalMetadata', text='', tail=None, children=[AnyElement(qname='{http://www.openmicroscopy.org/Schemas/OME/2016-06}Key', text='Experiment|AcquisitionBlock|AcquisitionModeSetup|BitsPerSample', tail=None, children=[], attributes={}), AnyElement(qname='{http://www.openmicroscopy.org/Schemas/OME/2016-06}Value', text='[8]', tail=None, children=[], attributes={})], attributes={})]}}, {'id': 'Annotation:179', 'namespace': 'openmicroscopy.org/OriginalMetadata', 'value': {'any_elements': [AnyElement(qname='{http://www.openmicroscopy.org/Schemas/OME/2016-06}OriginalMetadata', text='', tail=None, children=[AnyElement(qname='{http://www.openmicroscopy.org/Schemas/OME/2016-06}Key', text='Experiment|AcquisitionBlock|ZStackSetup|StackBrightnessCorrection', tail=None, children=[], attributes={}), AnyElement(qname='{http://www.openmicroscopy.org/Schemas/OME/2016-06}Value', text='[false]', tail=None, children=[], attributes={})], attributes={})]}}, {'id': 'Annotation:180', 'namespace': 'openmicroscopy.org/OriginalMetadata', 'value': {'any_elements': [AnyElement(qname='{http://www.openmicroscopy.org/Schemas/OME/2016-06}OriginalMetadata', text='', tail=None, children=[AnyElement(qname='{http://www.openmicroscopy.org/Schemas/OME/2016-06}Key', text='Information|Image|Channel|LaserScanInfo|PixelTime', tail=None, children=[], attributes={}), AnyElement(qname='{http://www.openmicroscopy.org/Schemas/OME/2016-06}Value', text='[3.1060606060606059e-006, 3.1060606060606059e-006, 3.1060606060606059e-006]', tail=None, children=[], attributes={})], attributes={})]}}, {'id': 'Annotation:181', 'namespace': 'openmicroscopy.org/OriginalMetadata', 'value': {'any_elements': [AnyElement(qname='{http://www.openmicroscopy.org/Schemas/OME/2016-06}OriginalMetadata', text='', tail=None, children=[AnyElement(qname='{http://www.openmicroscopy.org/Schemas/OME/2016-06}Key', text='DisplaySetting|Channel|High', tail=None, children=[], attributes={}), AnyElement(qname='{http://www.openmicroscopy.org/Schemas/OME/2016-06}Value', text='0.1333333333333333', tail=None, children=[], attributes={})], attributes={})]}}, {'id': 'Annotation:182', 'namespace': 'openmicroscopy.org/OriginalMetadata', 'value': {'any_elements': [AnyElement(qname='{http://www.openmicroscopy.org/Schemas/OME/2016-06}OriginalMetadata', text='', tail=None, children=[AnyElement(qname='{http://www.openmicroscopy.org/Schemas/OME/2016-06}Key', text='Information|Image|Channel|DetectionWavelength|Ranges', tail=None, children=[], attributes={}), AnyElement(qname='{http://www.openmicroscopy.org/Schemas/OME/2016-06}Value', text='[597.38843700000018-695.50278300000025, 499.27409100000017-561.71049300000027]', tail=None, children=[], attributes={})], attributes={})]}}, {'id': 'Annotation:183', 'namespace': 'openmicroscopy.org/OriginalMetadata', 'value': {'any_elements': [AnyElement(qname='{http://www.openmicroscopy.org/Schemas/OME/2016-06}OriginalMetadata', text='', tail=None, children=[AnyElement(qname='{http://www.openmicroscopy.org/Schemas/OME/2016-06}Key', text='Experiment|AcquisitionBlock|MultiTrackSetup|TrackSetup|CondensorFrontlensPosition', tail=None, children=[], attributes={}), AnyElement(qname='{http://www.openmicroscopy.org/Schemas/OME/2016-06}Value', text='[-1, -1]', tail=None, children=[], attributes={})], attributes={})]}}, {'id': 'Annotation:184', 'namespace': 'openmicroscopy.org/OriginalMetadata', 'value': {'any_elements': [AnyElement(qname='{http://www.openmicroscopy.org/Schemas/OME/2016-06}OriginalMetadata', text='', tail=None, children=[AnyElement(qname='{http://www.openmicroscopy.org/Schemas/OME/2016-06}Key', text='Experiment|AcquisitionBlock|MultiTrackSetup|TrackSetup|BleachSetup|BleachParameterSet|SimultanGrabAndBleach', tail=None, children=[], attributes={}), AnyElement(qname='{http://www.openmicroscopy.org/Schemas/OME/2016-06}Value', text='[false, false]', tail=None, children=[], attributes={})], attributes={})]}}, {'id': 'Annotation:185', 'namespace': 'openmicroscopy.org/OriginalMetadata', 'value': {'any_elements': [AnyElement(qname='{http://www.openmicroscopy.org/Schemas/OME/2016-06}OriginalMetadata', text='', tail=None, children=[AnyElement(qname='{http://www.openmicroscopy.org/Schemas/OME/2016-06}Key', text='Experiment|AcquisitionBlock|AcquisitionModeSetup|OffsetZ', tail=None, children=[], attributes={}), AnyElement(qname='{http://www.openmicroscopy.org/Schemas/OME/2016-06}Value', text='[0.00018454699999999999]', tail=None, children=[], attributes={})], attributes={})]}}, {'id': 'Annotation:186', 'namespace': 'openmicroscopy.org/OriginalMetadata', 'value': {'any_elements': [AnyElement(qname='{http://www.openmicroscopy.org/Schemas/OME/2016-06}OriginalMetadata', text='', tail=None, children=[AnyElement(qname='{http://www.openmicroscopy.org/Schemas/OME/2016-06}Key', text='Experiment|AcquisitionBlock|AcquisitionModeSetup|OffsetY', tail=None, children=[], attributes={}), AnyElement(qname='{http://www.openmicroscopy.org/Schemas/OME/2016-06}Value', text='[7.1528874358965848e-007]', tail=None, children=[], attributes={})], attributes={})]}}, {'id': 'Annotation:187', 'namespace': 'openmicroscopy.org/OriginalMetadata', 'value': {'any_elements': [AnyElement(qname='{http://www.openmicroscopy.org/Schemas/OME/2016-06}OriginalMetadata', text='', tail=None, children=[AnyElement(qname='{http://www.openmicroscopy.org/Schemas/OME/2016-06}Key', text='Experiment|AcquisitionBlock|AcquisitionModeSetup|OffsetX', tail=None, children=[], attributes={}), AnyElement(qname='{http://www.openmicroscopy.org/Schemas/OME/2016-06}Value', text='[6.6760282735367915e-006]', tail=None, children=[], attributes={})], attributes={})]}}, {'id': 'Annotation:188', 'namespace': 'openmicroscopy.org/OriginalMetadata', 'value': {'any_elements': [AnyElement(qname='{http://www.openmicroscopy.org/Schemas/OME/2016-06}OriginalMetadata', text='', tail=None, children=[AnyElement(qname='{http://www.openmicroscopy.org/Schemas/OME/2016-06}Key', text='Experiment|AcquisitionBlock|MultiTrackSetup|TrackSetup|Detector|Color', tail=None, children=[], attributes={}), AnyElement(qname='{http://www.openmicroscopy.org/Schemas/OME/2016-06}Value', text='[#FF00FF, #FFFFFF, #00FF00]', tail=None, children=[], attributes={})], attributes={})]}}, {'id': 'Annotation:189', 'namespace': 'openmicroscopy.org/OriginalMetadata', 'value': {'any_elements': [AnyElement(qname='{http://www.openmicroscopy.org/Schemas/OME/2016-06}OriginalMetadata', text='', tail=None, children=[AnyElement(qname='{http://www.openmicroscopy.org/Schemas/OME/2016-06}Key', text='Information|Image|Channel|Offset', tail=None, children=[], attributes={}), AnyElement(qname='{http://www.openmicroscopy.org/Schemas/OME/2016-06}Value', text='[0, 0, 0]', tail=None, children=[], attributes={})], attributes={})]}}, {'id': 'Annotation:190', 'namespace': 'openmicroscopy.org/OriginalMetadata', 'value': {'any_elements': [AnyElement(qname='{http://www.openmicroscopy.org/Schemas/OME/2016-06}OriginalMetadata', text='', tail=None, children=[AnyElement(qname='{http://www.openmicroscopy.org/Schemas/OME/2016-06}Key', text='Appliance|Id', tail=None, children=[], attributes={}), AnyElement(qname='{http://www.openmicroscopy.org/Schemas/OME/2016-06}Value', text='[ShuttleAndFind:1]', tail=None, children=[], attributes={})], attributes={})]}}, {'id': 'Annotation:191', 'namespace': 'openmicroscopy.org/OriginalMetadata', 'value': {'any_elements': [AnyElement(qname='{http://www.openmicroscopy.org/Schemas/OME/2016-06}OriginalMetadata', text='', tail=None, children=[AnyElement(qname='{http://www.openmicroscopy.org/Schemas/OME/2016-06}Key', text='Information|Image|Channel|Fluor', tail=None, children=[], attributes={}), AnyElement(qname='{http://www.openmicroscopy.org/Schemas/OME/2016-06}Value', text='[mRFP1.2, EGFP]', tail=None, children=[], attributes={})], attributes={})]}}, {'id': 'Annotation:192', 'namespace': 'openmicroscopy.org/OriginalMetadata', 'value': {'any_elements': [AnyElement(qname='{http://www.openmicroscopy.org/Schemas/OME/2016-06}OriginalMetadata', text='', tail=None, children=[AnyElement(qname='{http://www.openmicroscopy.org/Schemas/OME/2016-06}Key', text='Information|Instrument|Objective|Manufacturer|Model', tail=None, children=[], attributes={}), AnyElement(qname='{http://www.openmicroscopy.org/Schemas/OME/2016-06}Value', text='[C-Apochromat 63x/1.2 W Korr M27]', tail=None, children=[], attributes={})], attributes={})]}}, {'id': 'Annotation:193', 'namespace': 'openmicroscopy.org/OriginalMetadata', 'value': {'any_elements': [AnyElement(qname='{http://www.openmicroscopy.org/Schemas/OME/2016-06}OriginalMetadata', text='', tail=None, children=[AnyElement(qname='{http://www.openmicroscopy.org/Schemas/OME/2016-06}Key', text='Information|Instrument|Microscope|Id', tail=None, children=[], attributes={}), AnyElement(qname='{http://www.openmicroscopy.org/Schemas/OME/2016-06}Value', text='[Microscope:0]', tail=None, children=[], attributes={})], attributes={})]}}, {'id': 'Annotation:194', 'namespace': 'openmicroscopy.org/OriginalMetadata', 'value': {'any_elements': [AnyElement(qname='{http://www.openmicroscopy.org/Schemas/OME/2016-06}OriginalMetadata', text='', tail=None, children=[AnyElement(qname='{http://www.openmicroscopy.org/Schemas/OME/2016-06}Key', text='DisplaySetting|Channel|Color', tail=None, children=[], attributes={}), AnyElement(qname='{http://www.openmicroscopy.org/Schemas/OME/2016-06}Value', text='#00FF00', tail=None, children=[], attributes={})], attributes={})]}}, {'id': 'Annotation:195', 'namespace': 'openmicroscopy.org/OriginalMetadata', 'value': {'any_elements': [AnyElement(qname='{http://www.openmicroscopy.org/Schemas/OME/2016-06}OriginalMetadata', text='', tail=None, children=[AnyElement(qname='{http://www.openmicroscopy.org/Schemas/OME/2016-06}Key', text='Experiment|AcquisitionBlock|MultiTrackSetup|TrackSetup|Detector|LaserSuppression', tail=None, children=[], attributes={}), AnyElement(qname='{http://www.openmicroscopy.org/Schemas/OME/2016-06}Value', text='[true, true, true]', tail=None, children=[], attributes={})], attributes={})]}}, {'id': 'Annotation:196', 'namespace': 'openmicroscopy.org/OriginalMetadata', 'value': {'any_elements': [AnyElement(qname='{http://www.openmicroscopy.org/Schemas/OME/2016-06}OriginalMetadata', text='', tail=None, children=[AnyElement(qname='{http://www.openmicroscopy.org/Schemas/OME/2016-06}Key', text='Experiment|AcquisitionBlock|MultiTrackSetup|TrackSetup|Attenuator|Transmission', tail=None, children=[], attributes={}), AnyElement(qname='{http://www.openmicroscopy.org/Schemas/OME/2016-06}Value', text='[0.040000000000000001, 0.070000000000000007]', tail=None, children=[], attributes={})], attributes={})]}}, {'id': 'Annotation:197', 'namespace': 'openmicroscopy.org/OriginalMetadata', 'value': {'any_elements': [AnyElement(qname='{http://www.openmicroscopy.org/Schemas/OME/2016-06}OriginalMetadata', text='', tail=None, children=[AnyElement(qname='{http://www.openmicroscopy.org/Schemas/OME/2016-06}Key', text='Appliance|Data|ShuttleAndFindData|Calibration|Marker|Id', tail=None, children=[], attributes={}), AnyElement(qname='{http://www.openmicroscopy.org/Schemas/OME/2016-06}Value', text='[Marker:1, Marker:2, Marker:3]', tail=None, children=[], attributes={})], attributes={})]}}, {'id': 'Annotation:198', 'namespace': 'openmicroscopy.org/OriginalMetadata', 'value': {'any_elements': [AnyElement(qname='{http://www.openmicroscopy.org/Schemas/OME/2016-06}OriginalMetadata', text='', tail=None, children=[AnyElement(qname='{http://www.openmicroscopy.org/Schemas/OME/2016-06}Key', text='Information|Image|Channel|EmissionWavelength', tail=None, children=[], attributes={}), AnyElement(qname='{http://www.openmicroscopy.org/Schemas/OME/2016-06}Value', text='[646.4456100000001, 530.49229200000025]', tail=None, children=[], attributes={})], attributes={})]}}, {'id': 'Annotation:199', 'namespace': 'openmicroscopy.org/OriginalMetadata', 'value': {'any_elements': [AnyElement(qname='{http://www.openmicroscopy.org/Schemas/OME/2016-06}OriginalMetadata', text='', tail=None, children=[AnyElement(qname='{http://www.openmicroscopy.org/Schemas/OME/2016-06}Key', text='Experiment|AcquisitionBlock|AcquisitionModeSetup|HdrIntensity', tail=None, children=[], attributes={}), AnyElement(qname='{http://www.openmicroscopy.org/Schemas/OME/2016-06}Value', text='[1]', tail=None, children=[], attributes={})], attributes={})]}}, {'id': 'Annotation:200', 'namespace': 'openmicroscopy.org/OriginalMetadata', 'value': {'any_elements': [AnyElement(qname='{http://www.openmicroscopy.org/Schemas/OME/2016-06}OriginalMetadata', text='', tail=None, children=[AnyElement(qname='{http://www.openmicroscopy.org/Schemas/OME/2016-06}Key', text='Information|Image|PixelType', tail=None, children=[], attributes={}), AnyElement(qname='{http://www.openmicroscopy.org/Schemas/OME/2016-06}Value', text='[Gray8]', tail=None, children=[], attributes={})], attributes={})]}}, {'id': 'Annotation:201', 'namespace': 'openmicroscopy.org/OriginalMetadata', 'value': {'any_elements': [AnyElement(qname='{http://www.openmicroscopy.org/Schemas/OME/2016-06}OriginalMetadata', text='', tail=None, children=[AnyElement(qname='{http://www.openmicroscopy.org/Schemas/OME/2016-06}Key', text='Information|Image|Channel|Name', tail=None, children=[], attributes={}), AnyElement(qname='{http://www.openmicroscopy.org/Schemas/OME/2016-06}Value', text='[ChS2-T1, T PMT-T1, ChS1-T2]', tail=None, children=[], attributes={})], attributes={})]}}, {'id': 'Annotation:202', 'namespace': 'openmicroscopy.org/OriginalMetadata', 'value': {'any_elements': [AnyElement(qname='{http://www.openmicroscopy.org/Schemas/OME/2016-06}OriginalMetadata', text='', tail=None, children=[AnyElement(qname='{http://www.openmicroscopy.org/Schemas/OME/2016-06}Key', text='Experiment|AcquisitionBlock|MultiTrackSetup|TrackSetup|SimGratingPeriod', tail=None, children=[], attributes={}), AnyElement(qname='{http://www.openmicroscopy.org/Schemas/OME/2016-06}Value', text='[0, 0]', tail=None, children=[], attributes={})], attributes={})]}}, {'id': 'Annotation:203', 'namespace': 'openmicroscopy.org/OriginalMetadata', 'value': {'any_elements': [AnyElement(qname='{http://www.openmicroscopy.org/Schemas/OME/2016-06}OriginalMetadata', text='', tail=None, children=[AnyElement(qname='{http://www.openmicroscopy.org/Schemas/OME/2016-06}Key', text='Experiment|AcquisitionBlock|MultiTrackSetup|TrackSetup|Detector|DetectorMode', tail=None, children=[], attributes={}), AnyElement(qname='{http://www.openmicroscopy.org/Schemas/OME/2016-06}Value', text='[Integration, Integration, Integration]', tail=None, children=[], attributes={})], attributes={})]}}, {'id': 'Annotation:204', 'namespace': 'openmicroscopy.org/OriginalMetadata', 'value': {'any_elements': [AnyElement(qname='{http://www.openmicroscopy.org/Schemas/OME/2016-06}OriginalMetadata', text='', tail=None, children=[AnyElement(qname='{http://www.openmicroscopy.org/Schemas/OME/2016-06}Key', text='Experiment|AcquisitionBlock|MultiTrackSetup|TrackSetup|CondensorAperture', tail=None, children=[], attributes={}), AnyElement(qname='{http://www.openmicroscopy.org/Schemas/OME/2016-06}Value', text='[-1, -1]', tail=None, children=[], attributes={})], attributes={})]}}, {'id': 'Annotation:205', 'namespace': 'openmicroscopy.org/OriginalMetadata', 'value': {'any_elements': [AnyElement(qname='{http://www.openmicroscopy.org/Schemas/OME/2016-06}OriginalMetadata', text='', tail=None, children=[AnyElement(qname='{http://www.openmicroscopy.org/Schemas/OME/2016-06}Key', text='Experiment|AcquisitionBlock|MultiTrackSetup|TrackSetup|ReflectedLightLampIntensity', tail=None, children=[], attributes={}), AnyElement(qname='{http://www.openmicroscopy.org/Schemas/OME/2016-06}Value', text='[0, 0]', tail=None, children=[], attributes={})], attributes={})]}}, {'id': 'Annotation:206', 'namespace': 'openmicroscopy.org/OriginalMetadata', 'value': {'any_elements': [AnyElement(qname='{http://www.openmicroscopy.org/Schemas/OME/2016-06}OriginalMetadata', text='', tail=None, children=[AnyElement(qname='{http://www.openmicroscopy.org/Schemas/OME/2016-06}Key', text='Experiment|AcquisitionBlock|MultiTrackSetup|TrackSetup|BleachSetup|BleachParameterSet|StartNumber', tail=None, children=[], attributes={}), AnyElement(qname='{http://www.openmicroscopy.org/Schemas/OME/2016-06}Value', text='[1, 1]', tail=None, children=[], attributes={})], attributes={})]}}, {'id': 'Annotation:207', 'namespace': 'openmicroscopy.org/OriginalMetadata', 'value': {'any_elements': [AnyElement(qname='{http://www.openmicroscopy.org/Schemas/OME/2016-06}OriginalMetadata', text='', tail=None, children=[AnyElement(qname='{http://www.openmicroscopy.org/Schemas/OME/2016-06}Key', text='Information|Instrument|Objective|LensNA', tail=None, children=[], attributes={}), AnyElement(qname='{http://www.openmicroscopy.org/Schemas/OME/2016-06}Value', text='[1.2000000000000002]', tail=None, children=[], attributes={})], attributes={})]}}, {'id': 'Annotation:208', 'namespace': 'openmicroscopy.org/OriginalMetadata', 'value': {'any_elements': [AnyElement(qname='{http://www.openmicroscopy.org/Schemas/OME/2016-06}OriginalMetadata', text='', tail=None, children=[AnyElement(qname='{http://www.openmicroscopy.org/Schemas/OME/2016-06}Key', text='Information|Image|Channel|TransformationYY', tail=None, children=[], attributes={}), AnyElement(qname='{http://www.openmicroscopy.org/Schemas/OME/2016-06}Value', text='[-3.8783452724085969e-187, -3.8783452724085969e-187, 5.4103468857401649e-312]', tail=None, children=[], attributes={})], attributes={})]}}, {'id': 'Annotation:209', 'namespace': 'openmicroscopy.org/OriginalMetadata', 'value': {'any_elements': [AnyElement(qname='{http://www.openmicroscopy.org/Schemas/OME/2016-06}OriginalMetadata', text='', tail=None, children=[AnyElement(qname='{http://www.openmicroscopy.org/Schemas/OME/2016-06}Key', text='Experiment|AcquisitionBlock|MultiTrackSetup|TrackSetup|Attenuator|LaserSuppression', tail=None, children=[], attributes={}), AnyElement(qname='{http://www.openmicroscopy.org/Schemas/OME/2016-06}Value', text='[false, false]', tail=None, children=[], attributes={})], attributes={})]}}, {'id': 'Annotation:210', 'namespace': 'openmicroscopy.org/OriginalMetadata', 'value': {'any_elements': [AnyElement(qname='{http://www.openmicroscopy.org/Schemas/OME/2016-06}OriginalMetadata', text='', tail=None, children=[AnyElement(qname='{http://www.openmicroscopy.org/Schemas/OME/2016-06}Key', text='Information|Image|Channel|TransformationYX', tail=None, children=[], attributes={}), AnyElement(qname='{http://www.openmicroscopy.org/Schemas/OME/2016-06}Value', text='[1.9298288117718883e-317, 1.9298288117718883e-317, 5.4103468855425387e-312]', tail=None, children=[], attributes={})], attributes={})]}}, {'id': 'Annotation:211', 'namespace': 'openmicroscopy.org/OriginalMetadata', 'value': {'any_elements': [AnyElement(qname='{http://www.openmicroscopy.org/Schemas/OME/2016-06}OriginalMetadata', text='', tail=None, children=[AnyElement(qname='{http://www.openmicroscopy.org/Schemas/OME/2016-06}Key', text='Information|Image|Channel|Attenuation', tail=None, children=[], attributes={}), AnyElement(qname='{http://www.openmicroscopy.org/Schemas/OME/2016-06}Value', text='[0.95999999999999996, 0.95999999999999996, 0.92999999999999994]', tail=None, children=[], attributes={})], attributes={})]}}, {'id': 'Annotation:212', 'namespace': 'openmicroscopy.org/OriginalMetadata', 'value': {'any_elements': [AnyElement(qname='{http://www.openmicroscopy.org/Schemas/OME/2016-06}OriginalMetadata', text='', tail=None, children=[AnyElement(qname='{http://www.openmicroscopy.org/Schemas/OME/2016-06}Key', text='Experiment|AcquisitionBlock|MultiTrackSetup|TrackSetup|TransmittedLightLampIntensity', tail=None, children=[], attributes={}), AnyElement(qname='{http://www.openmicroscopy.org/Schemas/OME/2016-06}Value', text='[0, 0]', tail=None, children=[], attributes={})], attributes={})]}}, {'id': 'Annotation:213', 'namespace': 'openmicroscopy.org/OriginalMetadata', 'value': {'any_elements': [AnyElement(qname='{http://www.openmicroscopy.org/Schemas/OME/2016-06}OriginalMetadata', text='', tail=None, children=[AnyElement(qname='{http://www.openmicroscopy.org/Schemas/OME/2016-06}Key', text='Experiment|AcquisitionBlock|AcquisitionModeSetup|RtZoom', tail=None, children=[], attributes={}), AnyElement(qname='{http://www.openmicroscopy.org/Schemas/OME/2016-06}Value', text='[1]', tail=None, children=[], attributes={})], attributes={})]}}, {'id': 'Annotation:214', 'namespace': 'openmicroscopy.org/OriginalMetadata', 'value': {'any_elements': [AnyElement(qname='{http://www.openmicroscopy.org/Schemas/OME/2016-06}OriginalMetadata', text='', tail=None, children=[AnyElement(qname='{http://www.openmicroscopy.org/Schemas/OME/2016-06}Key', text='Experiment|AcquisitionBlock|AcquisitionModeSetup|UseRois', tail=None, children=[], attributes={}), AnyElement(qname='{http://www.openmicroscopy.org/Schemas/OME/2016-06}Value', text='[false]', tail=None, children=[], attributes={})], attributes={})]}}, {'id': 'Annotation:215', 'namespace': 'openmicroscopy.org/OriginalMetadata', 'value': {'any_elements': [AnyElement(qname='{http://www.openmicroscopy.org/Schemas/OME/2016-06}OriginalMetadata', text='', tail=None, children=[AnyElement(qname='{http://www.openmicroscopy.org/Schemas/OME/2016-06}Key', text='Experiment|AcquisitionBlock|AcquisitionModeSetup|TimeSeries', tail=None, children=[], attributes={}), AnyElement(qname='{http://www.openmicroscopy.org/Schemas/OME/2016-06}Value', text='[true]', tail=None, children=[], attributes={})], attributes={})]}}, {'id': 'Annotation:216', 'namespace': 'openmicroscopy.org/OriginalMetadata', 'value': {'any_elements': [AnyElement(qname='{http://www.openmicroscopy.org/Schemas/OME/2016-06}OriginalMetadata', text='', tail=None, children=[AnyElement(qname='{http://www.openmicroscopy.org/Schemas/OME/2016-06}Key', text='Information|Document|UserName', tail=None, children=[], attributes={}), AnyElement(qname='{http://www.openmicroscopy.org/Schemas/OME/2016-06}Value', text='[bcers01]', tail=None, children=[], attributes={})], attributes={})]}}, {'id': 'Annotation:217', 'namespace': 'openmicroscopy.org/OriginalMetadata', 'value': {'any_elements': [AnyElement(qname='{http://www.openmicroscopy.org/Schemas/OME/2016-06}OriginalMetadata', text='', tail=None, children=[AnyElement(qname='{http://www.openmicroscopy.org/Schemas/OME/2016-06}Key', text='Information|Image|Channel|ChannelType', tail=None, children=[], attributes={}), AnyElement(qname='{http://www.openmicroscopy.org/Schemas/OME/2016-06}Value', text='[Unspecified, Unspecified, Unspecified]', tail=None, children=[], attributes={})], attributes={})]}}, {'id': 'Annotation:218', 'namespace': 'openmicroscopy.org/OriginalMetadata', 'value': {'any_elements': [AnyElement(qname='{http://www.openmicroscopy.org/Schemas/OME/2016-06}OriginalMetadata', text='', tail=None, children=[AnyElement(qname='{http://www.openmicroscopy.org/Schemas/OME/2016-06}Key', text='Experiment|AcquisitionBlock|MultiTrackSetup|TrackSetup|Detector|DigitalOffset', tail=None, children=[], attributes={}), AnyElement(qname='{http://www.openmicroscopy.org/Schemas/OME/2016-06}Value', text='[0, 0, 0]', tail=None, children=[], attributes={})], attributes={})]}}, {'id': 'Annotation:219', 'namespace': 'openmicroscopy.org/OriginalMetadata', 'value': {'any_elements': [AnyElement(qname='{http://www.openmicroscopy.org/Schemas/OME/2016-06}OriginalMetadata', text='', tail=None, children=[AnyElement(qname='{http://www.openmicroscopy.org/Schemas/OME/2016-06}Key', text='Information|Image|ObjectiveRef|Id', tail=None, children=[], attributes={}), AnyElement(qname='{http://www.openmicroscopy.org/Schemas/OME/2016-06}Value', text='[Objective:0]', tail=None, children=[], attributes={})], attributes={})]}}, {'id': 'Annotation:220', 'namespace': 'openmicroscopy.org/OriginalMetadata', 'value': {'any_elements': [AnyElement(qname='{http://www.openmicroscopy.org/Schemas/OME/2016-06}OriginalMetadata', text='', tail=None, children=[AnyElement(qname='{http://www.openmicroscopy.org/Schemas/OME/2016-06}Key', text='DisplaySetting|Channel|Low', tail=None, children=[], attributes={}), AnyElement(qname='{http://www.openmicroscopy.org/Schemas/OME/2016-06}Value', text='-0', tail=None, children=[], attributes={})], attributes={})]}}, {'id': 'Annotation:221', 'namespace': 'openmicroscopy.org/OriginalMetadata', 'value': {'any_elements': [AnyElement(qname='{http://www.openmicroscopy.org/Schemas/OME/2016-06}OriginalMetadata', text='', tail=None, children=[AnyElement(qname='{http://www.openmicroscopy.org/Schemas/OME/2016-06}Key', text='Experiment|AcquisitionBlock|AcquisitionModeSetup|CameraFrameHeight', tail=None, children=[], attributes={}), AnyElement(qname='{http://www.openmicroscopy.org/Schemas/OME/2016-06}Value', text='[1030]', tail=None, children=[], attributes={})], attributes={})]}}, {'id': 'Annotation:222', 'namespace': 'openmicroscopy.org/OriginalMetadata', 'value': {'any_elements': [AnyElement(qname='{http://www.openmicroscopy.org/Schemas/OME/2016-06}OriginalMetadata', text='', tail=None, children=[AnyElement(qname='{http://www.openmicroscopy.org/Schemas/OME/2016-06}Key', text='DisplaySetting|Channel|ColorMode', tail=None, children=[], attributes={}), AnyElement(qname='{http://www.openmicroscopy.org/Schemas/OME/2016-06}Value', text='Color', tail=None, children=[], attributes={})], attributes={})]}}, {'id': 'Annotation:223', 'namespace': 'openmicroscopy.org/OriginalMetadata', 'value': {'any_elements': [AnyElement(qname='{http://www.openmicroscopy.org/Schemas/OME/2016-06}OriginalMetadata', text='', tail=None, children=[AnyElement(qname='{http://www.openmicroscopy.org/Schemas/OME/2016-06}Key', text='Information|Image|Channel|VirtualPinholeSize', tail=None, children=[], attributes={}), AnyElement(qname='{http://www.openmicroscopy.org/Schemas/OME/2016-06}Value', text='[1, 1, 1]', tail=None, children=[], attributes={})], attributes={})]}}, {'id': 'Annotation:224', 'namespace': 'openmicroscopy.org/OriginalMetadata', 'value': {'any_elements': [AnyElement(qname='{http://www.openmicroscopy.org/Schemas/OME/2016-06}OriginalMetadata', text='', tail=None, children=[AnyElement(qname='{http://www.openmicroscopy.org/Schemas/OME/2016-06}Key', text='Information|Document|Name', tail=None, children=[], attributes={}), AnyElement(qname='{http://www.openmicroscopy.org/Schemas/OME/2016-06}Value', text='[Image 8]', tail=None, children=[], attributes={})], attributes={})]}}, {'id': 'Annotation:225', 'namespace': 'openmicroscopy.org/OriginalMetadata', 'value': {'any_elements': [AnyElement(qname='{http://www.openmicroscopy.org/Schemas/OME/2016-06}OriginalMetadata', text='', tail=None, children=[AnyElement(qname='{http://www.openmicroscopy.org/Schemas/OME/2016-06}Key', text='Information|Image|SizeY', tail=None, children=[], attributes={}), AnyElement(qname='{http://www.openmicroscopy.org/Schemas/OME/2016-06}Value', text='[280]', tail=None, children=[], attributes={})], attributes={})]}}, {'id': 'Annotation:226', 'namespace': 'openmicroscopy.org/OriginalMetadata', 'value': {'any_elements': [AnyElement(qname='{http://www.openmicroscopy.org/Schemas/OME/2016-06}OriginalMetadata', text='', tail=None, children=[AnyElement(qname='{http://www.openmicroscopy.org/Schemas/OME/2016-06}Key', text='Information|Image|SizeX', tail=None, children=[], attributes={}), AnyElement(qname='{http://www.openmicroscopy.org/Schemas/OME/2016-06}Value', text='[680]', tail=None, children=[], attributes={})], attributes={})]}}, {'id': 'Annotation:227', 'namespace': 'openmicroscopy.org/OriginalMetadata', 'value': {'any_elements': [AnyElement(qname='{http://www.openmicroscopy.org/Schemas/OME/2016-06}OriginalMetadata', text='', tail=None, children=[AnyElement(qname='{http://www.openmicroscopy.org/Schemas/OME/2016-06}Key', text='Information|Image|ComponentBitCount', tail=None, children=[], attributes={}), AnyElement(qname='{http://www.openmicroscopy.org/Schemas/OME/2016-06}Value', text='[8]', tail=None, children=[], attributes={})], attributes={})]}}, {'id': 'Annotation:228', 'namespace': 'openmicroscopy.org/OriginalMetadata', 'value': {'any_elements': [AnyElement(qname='{http://www.openmicroscopy.org/Schemas/OME/2016-06}OriginalMetadata', text='', tail=None, children=[AnyElement(qname='{http://www.openmicroscopy.org/Schemas/OME/2016-06}Key', text='Experiment|AcquisitionBlock|AcquisitionModeSetup|RtLinePeriod', tail=None, children=[], attributes={}), AnyElement(qname='{http://www.openmicroscopy.org/Schemas/OME/2016-06}Value', text='[2.4242424242424244e-007]', tail=None, children=[], attributes={})], attributes={})]}}, {'id': 'Annotation:229', 'namespace': 'openmicroscopy.org/OriginalMetadata', 'value': {'any_elements': [AnyElement(qname='{http://www.openmicroscopy.org/Schemas/OME/2016-06}OriginalMetadata', text='', tail=None, children=[AnyElement(qname='{http://www.openmicroscopy.org/Schemas/OME/2016-06}Key', text='Information|Image|SizeT', tail=None, children=[], attributes={}), AnyElement(qname='{http://www.openmicroscopy.org/Schemas/OME/2016-06}Value', text='[30]', tail=None, children=[], attributes={})], attributes={})]}}, {'id': 'Annotation:230', 'namespace': 'openmicroscopy.org/OriginalMetadata', 'value': {'any_elements': [AnyElement(qname='{http://www.openmicroscopy.org/Schemas/OME/2016-06}OriginalMetadata', text='', tail=None, children=[AnyElement(qname='{http://www.openmicroscopy.org/Schemas/OME/2016-06}Key', text='Experiment|AcquisitionBlock|MultiTrackSetup|TrackSetup|BleachSetup|BleachParameterSet|IntensityDrop', tail=None, children=[], attributes={}), AnyElement(qname='{http://www.openmicroscopy.org/Schemas/OME/2016-06}Value', text='[0.5, 0.5]', tail=None, children=[], attributes={})], attributes={})]}}, {'id': 'Annotation:231', 'namespace': 'openmicroscopy.org/OriginalMetadata', 'value': {'any_elements': [AnyElement(qname='{http://www.openmicroscopy.org/Schemas/OME/2016-06}OriginalMetadata', text='', tail=None, children=[AnyElement(qname='{http://www.openmicroscopy.org/Schemas/OME/2016-06}Key', text='Information|Image|Channel|TransformationXY', tail=None, children=[], attributes={}), AnyElement(qname='{http://www.openmicroscopy.org/Schemas/OME/2016-06}Value', text='[5.9619591652106098e-310, 5.9619591652106098e-310, 2.5142467133005446e-310]', tail=None, children=[], attributes={})], attributes={})]}}, {'id': 'Annotation:232', 'namespace': 'openmicroscopy.org/OriginalMetadata', 'value': {'any_elements': [AnyElement(qname='{http://www.openmicroscopy.org/Schemas/OME/2016-06}OriginalMetadata', text='', tail=None, children=[AnyElement(qname='{http://www.openmicroscopy.org/Schemas/OME/2016-06}Key', text='Information|Image|Channel|TransformationXX', tail=None, children=[], attributes={}), AnyElement(qname='{http://www.openmicroscopy.org/Schemas/OME/2016-06}Value', text='[-1.4299870214316193e+162, -1.4299870214316193e+162, 2.5142467132999023e-310]', tail=None, children=[], attributes={})], attributes={})]}}, {'id': 'Annotation:233', 'namespace': 'openmicroscopy.org/OriginalMetadata', 'value': {'any_elements': [AnyElement(qname='{http://www.openmicroscopy.org/Schemas/OME/2016-06}OriginalMetadata', text='', tail=None, children=[AnyElement(qname='{http://www.openmicroscopy.org/Schemas/OME/2016-06}Key', text='Experiment|AcquisitionBlock|MultiTrackSetup|TrackSetup|Detector|Voltage', tail=None, children=[], attributes={}), AnyElement(qname='{http://www.openmicroscopy.org/Schemas/OME/2016-06}Value', text='[800, 242.27363180139324, 800]', tail=None, children=[], attributes={})], attributes={})]}}, {'id': 'Annotation:234', 'namespace': 'openmicroscopy.org/OriginalMetadata', 'value': {'any_elements': [AnyElement(qname='{http://www.openmicroscopy.org/Schemas/OME/2016-06}OriginalMetadata', text='', tail=None, children=[AnyElement(qname='{http://www.openmicroscopy.org/Schemas/OME/2016-06}Key', text='Information|Image|Channel|Mode', tail=None, children=[], attributes={}), AnyElement(qname='{http://www.openmicroscopy.org/Schemas/OME/2016-06}Value', text='[Off, Off, Off]', tail=None, children=[], attributes={})], attributes={})]}}, {'id': 'Annotation:235', 'namespace': 'openmicroscopy.org/OriginalMetadata', 'value': {'any_elements': [AnyElement(qname='{http://www.openmicroscopy.org/Schemas/OME/2016-06}OriginalMetadata', text='', tail=None, children=[AnyElement(qname='{http://www.openmicroscopy.org/Schemas/OME/2016-06}Key', text='DisplaySetting|Channel|ChannelUnit|UnitI', tail=None, children=[], attributes={}), AnyElement(qname='{http://www.openmicroscopy.org/Schemas/OME/2016-06}Value', text='Unknown', tail=None, children=[], attributes={})], attributes={})]}}, {'id': 'Annotation:236', 'namespace': 'openmicroscopy.org/OriginalMetadata', 'value': {'any_elements': [AnyElement(qname='{http://www.openmicroscopy.org/Schemas/OME/2016-06}OriginalMetadata', text='', tail=None, children=[AnyElement(qname='{http://www.openmicroscopy.org/Schemas/OME/2016-06}Key', text='Experiment|AcquisitionBlock|AcquisitionModeSetup|RtRegionWidth', tail=None, children=[], attributes={}), AnyElement(qname='{http://www.openmicroscopy.org/Schemas/OME/2016-06}Value', text='[512]', tail=None, children=[], attributes={})], attributes={})]}}, {'id': 'Annotation:237', 'namespace': 'openmicroscopy.org/OriginalMetadata', 'value': {'any_elements': [AnyElement(qname='{http://www.openmicroscopy.org/Schemas/OME/2016-06}OriginalMetadata', text='', tail=None, children=[AnyElement(qname='{http://www.openmicroscopy.org/Schemas/OME/2016-06}Key', text='Experiment|AcquisitionBlock|MultiTrackSetup|TrackSetup|BleachSetup|BleachParameterSet|TriggerIn', tail=None, children=[], attributes={}), AnyElement(qname='{http://www.openmicroscopy.org/Schemas/OME/2016-06}Value', text='[0, 0]', tail=None, children=[], attributes={})], attributes={})]}}, {'id': 'Annotation:238', 'namespace': 'openmicroscopy.org/OriginalMetadata', 'value': {'any_elements': [AnyElement(qname='{http://www.openmicroscopy.org/Schemas/OME/2016-06}OriginalMetadata', text='', tail=None, children=[AnyElement(qname='{http://www.openmicroscopy.org/Schemas/OME/2016-06}Key', text='Information|Document|Rating', tail=None, children=[], attributes={}), AnyElement(qname='{http://www.openmicroscopy.org/Schemas/OME/2016-06}Value', text='[0]', tail=None, children=[], attributes={})], attributes={})]}}, {'id': 'Annotation:239', 'namespace': 'openmicroscopy.org/OriginalMetadata', 'value': {'any_elements': [AnyElement(qname='{http://www.openmicroscopy.org/Schemas/OME/2016-06}OriginalMetadata', text='', tail=None, children=[AnyElement(qname='{http://www.openmicroscopy.org/Schemas/OME/2016-06}Key', text='Experiment|AcquisitionBlock|MultiTrackSetup|TrackSetup|FieldStopPosition', tail=None, children=[], attributes={}), AnyElement(qname='{http://www.openmicroscopy.org/Schemas/OME/2016-06}Value', text='[-1, -1]', tail=None, children=[], attributes={})], attributes={})]}}, {'id': 'Annotation:240', 'namespace': 'openmicroscopy.org/OriginalMetadata', 'value': {'any_elements': [AnyElement(qname='{http://www.openmicroscopy.org/Schemas/OME/2016-06}OriginalMetadata', text='', tail=None, children=[AnyElement(qname='{http://www.openmicroscopy.org/Schemas/OME/2016-06}Key', text='Information|Image|SizeC', tail=None, children=[], attributes={}), AnyElement(qname='{http://www.openmicroscopy.org/Schemas/OME/2016-06}Value', text='[3]', tail=None, children=[], attributes={})], attributes={})]}}, {'id': 'Annotation:241', 'namespace': 'openmicroscopy.org/OriginalMetadata', 'value': {'any_elements': [AnyElement(qname='{http://www.openmicroscopy.org/Schemas/OME/2016-06}OriginalMetadata', text='', tail=None, children=[AnyElement(qname='{http://www.openmicroscopy.org/Schemas/OME/2016-06}Key', text='Experiment|AcquisitionBlock|AcquisitionModeSetup|SamplingStart', tail=None, children=[], attributes={}), AnyElement(qname='{http://www.openmicroscopy.org/Schemas/OME/2016-06}Value', text='[1]', tail=None, children=[], attributes={})], attributes={})]}}, {'id': 'Annotation:242', 'namespace': 'openmicroscopy.org/OriginalMetadata', 'value': {'any_elements': [AnyElement(qname='{http://www.openmicroscopy.org/Schemas/OME/2016-06}OriginalMetadata', text='', tail=None, children=[AnyElement(qname='{http://www.openmicroscopy.org/Schemas/OME/2016-06}Key', text='Experiment|AcquisitionBlock|AcquisitionModeSetup|RtOffsetY', tail=None, children=[], attributes={}), AnyElement(qname='{http://www.openmicroscopy.org/Schemas/OME/2016-06}Value', text='[0]', tail=None, children=[], attributes={})], attributes={})]}}, {'id': 'Annotation:243', 'namespace': 'openmicroscopy.org/OriginalMetadata', 'value': {'any_elements': [AnyElement(qname='{http://www.openmicroscopy.org/Schemas/OME/2016-06}OriginalMetadata', text='', tail=None, children=[AnyElement(qname='{http://www.openmicroscopy.org/Schemas/OME/2016-06}Key', text='Experiment|AcquisitionBlock|AcquisitionModeSetup|RtOffsetX', tail=None, children=[], attributes={}), AnyElement(qname='{http://www.openmicroscopy.org/Schemas/OME/2016-06}Value', text='[0]', tail=None, children=[], attributes={})], attributes={})]}}, {'id': 'Annotation:244', 'namespace': 'openmicroscopy.org/OriginalMetadata', 'value': {'any_elements': [AnyElement(qname='{http://www.openmicroscopy.org/Schemas/OME/2016-06}OriginalMetadata', text='', tail=None, children=[AnyElement(qname='{http://www.openmicroscopy.org/Schemas/OME/2016-06}Key', text='DisplaySetting|Channel|ChannelUnit|FactorI', tail=None, children=[], attributes={}), AnyElement(qname='{http://www.openmicroscopy.org/Schemas/OME/2016-06}Value', text='1', tail=None, children=[], attributes={})], attributes={})]}}, {'id': 'Annotation:245', 'namespace': 'openmicroscopy.org/OriginalMetadata', 'value': {'any_elements': [AnyElement(qname='{http://www.openmicroscopy.org/Schemas/OME/2016-06}OriginalMetadata', text='', tail=None, children=[AnyElement(qname='{http://www.openmicroscopy.org/Schemas/OME/2016-06}Key', text='Information|Application|Version', tail=None, children=[], attributes={}), AnyElement(qname='{http://www.openmicroscopy.org/Schemas/OME/2016-06}Value', text='[14.0.20.201]', tail=None, children=[], attributes={})], attributes={})]}}, {'id': 'Annotation:246', 'namespace': 'openmicroscopy.org/OriginalMetadata', 'value': {'any_elements': [AnyElement(qname='{http://www.openmicroscopy.org/Schemas/OME/2016-06}OriginalMetadata', text='', tail=None, children=[AnyElement(qname='{http://www.openmicroscopy.org/Schemas/OME/2016-06}Key', text='Experiment|AcquisitionBlock|MultiTrackSetup|TrackSetup|Detector|PureRatioSource', tail=None, children=[], attributes={}), AnyElement(qname='{http://www.openmicroscopy.org/Schemas/OME/2016-06}Value', text='[false, false, false]', tail=None, children=[], attributes={})], attributes={})]}}, {'id': 'Annotation:247', 'namespace': 'openmicroscopy.org/OriginalMetadata', 'value': {'any_elements': [AnyElement(qname='{http://www.openmicroscopy.org/Schemas/OME/2016-06}OriginalMetadata', text='', tail=None, children=[AnyElement(qname='{http://www.openmicroscopy.org/Schemas/OME/2016-06}Key', text='Scaling|Distance|Value', tail=None, children=[], attributes={}), AnyElement(qname='{http://www.openmicroscopy.org/Schemas/OME/2016-06}Value', text='[9.9228781590449496e-008, 9.9228781590449496e-008, 0]', tail=None, children=[], attributes={})], attributes={})]}}, {'id': 'Annotation:248', 'namespace': 'openmicroscopy.org/OriginalMetadata', 'value': {'any_elements': [AnyElement(qname='{http://www.openmicroscopy.org/Schemas/OME/2016-06}OriginalMetadata', text='', tail=None, children=[AnyElement(qname='{http://www.openmicroscopy.org/Schemas/OME/2016-06}Key', text='Experiment|AcquisitionBlock|AcquisitionModeSetup|ScannerOnlineCorrection', tail=None, children=[], attributes={}), AnyElement(qname='{http://www.openmicroscopy.org/Schemas/OME/2016-06}Value', text='[true]', tail=None, children=[], attributes={})], attributes={})]}}, {'id': 'Annotation:249', 'namespace': 'openmicroscopy.org/OriginalMetadata', 'value': {'any_elements': [AnyElement(qname='{http://www.openmicroscopy.org/Schemas/OME/2016-06}OriginalMetadata', text='', tail=None, children=[AnyElement(qname='{http://www.openmicroscopy.org/Schemas/OME/2016-06}Key', text='Experiment|AcquisitionBlock|AcquisitionModeSetup|Objective', tail=None, children=[], attributes={}), AnyElement(qname='{http://www.openmicroscopy.org/Schemas/OME/2016-06}Value', text='[C-Apochromat 63x/1.2 W Korr M27]', tail=None, children=[], attributes={})], attributes={})]}}, {'id': 'Annotation:250', 'namespace': 'openmicroscopy.org/OriginalMetadata', 'value': {'any_elements': [AnyElement(qname='{http://www.openmicroscopy.org/Schemas/OME/2016-06}OriginalMetadata', text='', tail=None, children=[AnyElement(qname='{http://www.openmicroscopy.org/Schemas/OME/2016-06}Key', text='Information|Image|Channel|LaserScanInfo|FrameTime', tail=None, children=[], attributes={}), AnyElement(qname='{http://www.openmicroscopy.org/Schemas/OME/2016-06}Value', text='[8.922918787878789, 8.922918787878789, 8.922918787878789]', tail=None, children=[], attributes={})], attributes={})]}}]}}\n"
     ]
    }
   ],
   "source": [
    "from src.metagpt import BioformatsReader\n",
    "import javabridge\n",
    "import bioformats\n",
    "import ome_types\n",
    "\n",
    "javabridge.start_vm(class_path=bioformats.JARS)\n",
    "\n",
    "image_path = \"/home/aaron/Documents/Projects/MetaGPT/in/images/Image_8.czi\"\n",
    "ome_xml = BioformatsReader.get_omexml_metadata(image_path)\n",
    "ome_raw = BioformatsReader.get_raw_metadata(image_path)\n",
    "ome_tree = BioformatsReader.raw_to_tree(ome_raw)\n",
    "ome_dict = ome_types.to_dict(ome_xml)\n",
    "print(ome_dict)\n",
    "\n",
    "javabridge.kill_vm()"
   ]
  },
  {
   "cell_type": "code",
   "execution_count": 6,
   "metadata": {},
   "outputs": [],
   "source": [
    "from ome_types._autogenerated.ome_2016_06 import OME\n",
    "from ome_types._autogenerated.ome_2016_06 import Pixels\n",
    "from pydantic import BaseModel\n",
    "from typing import Optional\n",
    "from marvin.beta import Application\n",
    "\n",
    "app = Application(\n",
    "    name='OME Metadata Store',\n",
    "    instructions=(\"Incoming metadata will be provided in raw format, that mean a list of key value pairs.!!!\"\n",
    "                  \"Your task  will be to translate these key value pairs to the appropriate OME schema property(try to figure out which porperty is which by looking at the schema and the raw metadata in holistic manner). You will be \"\n",
    "                  \"handed only a part of the ome schema to fill in, to reduce the scope.\"),\n",
    "    state=OME(),\n",
    ")"
   ]
  },
  {
   "cell_type": "code",
   "execution_count": 8,
   "metadata": {},
   "outputs": [
    {
     "ename": "AttributeError",
     "evalue": "'Application' object has no attribute 'thread'",
     "output_type": "error",
     "traceback": [
      "\u001b[0;31m---------------------------------------------------------------------------\u001b[0m",
      "\u001b[0;31mAttributeError\u001b[0m                            Traceback (most recent call last)",
      "Cell \u001b[0;32mIn[8], line 1\u001b[0m\n\u001b[0;32m----> 1\u001b[0m \u001b[38;5;28mprint\u001b[39m(\u001b[43mapp\u001b[49m\u001b[38;5;241;43m.\u001b[39;49m\u001b[43mthread\u001b[49m)\n",
      "File \u001b[0;32m~/mambaforge/envs/metagpt/lib/python3.9/site-packages/pydantic/main.py:792\u001b[0m, in \u001b[0;36mBaseModel.__getattr__\u001b[0;34m(self, item)\u001b[0m\n\u001b[1;32m    789\u001b[0m     \u001b[38;5;28;01mreturn\u001b[39;00m \u001b[38;5;28msuper\u001b[39m()\u001b[38;5;241m.\u001b[39m\u001b[38;5;21m__getattribute__\u001b[39m(item)  \u001b[38;5;66;03m# Raises AttributeError if appropriate\u001b[39;00m\n\u001b[1;32m    790\u001b[0m \u001b[38;5;28;01melse\u001b[39;00m:\n\u001b[1;32m    791\u001b[0m     \u001b[38;5;66;03m# this is the current error\u001b[39;00m\n\u001b[0;32m--> 792\u001b[0m     \u001b[38;5;28;01mraise\u001b[39;00m \u001b[38;5;167;01mAttributeError\u001b[39;00m(\u001b[38;5;124mf\u001b[39m\u001b[38;5;124m'\u001b[39m\u001b[38;5;132;01m{\u001b[39;00m\u001b[38;5;28mtype\u001b[39m(\u001b[38;5;28mself\u001b[39m)\u001b[38;5;241m.\u001b[39m\u001b[38;5;18m__name__\u001b[39m\u001b[38;5;132;01m!r}\u001b[39;00m\u001b[38;5;124m object has no attribute \u001b[39m\u001b[38;5;132;01m{\u001b[39;00mitem\u001b[38;5;132;01m!r}\u001b[39;00m\u001b[38;5;124m'\u001b[39m)\n",
      "\u001b[0;31mAttributeError\u001b[0m: 'Application' object has no attribute 'thread'"
     ]
    }
   ],
   "source": [
    "print(app.thread)"
   ]
  },
  {
   "cell_type": "code",
   "execution_count": null,
   "metadata": {},
   "outputs": [],
   "source": [
    "class ToDo(BaseModel):\n",
    "    name: str\n",
    "    done: bool = False\n",
    "\n",
    "class ToDoState(BaseModel):\n",
    "    todos: list[ToDo] = []\n",
    "\n",
    "\n",
    "# --- create the application\n",
    "todo_app = Application(\n",
    "    name=\"ToDo App\", instructions=\"A todo application\", state=ToDoState()\n",
    ")\n"
   ]
  },
  {
   "cell_type": "code",
   "execution_count": null,
   "metadata": {},
   "outputs": [],
   "source": [
    "class MaybePixels(BaseModel):\n",
    "    pixels: Optional[Pixels] = None\n",
    "\n",
    "app = Application(\n",
    "    name='OME Metadata Store',\n",
    "    instructions=(\"Incoming metadata will be provided in raw format, that mean a list of key value pairs.!!!\"\n",
    "                  \"Your task  will be to translate these key value pairs to the appropriate OME schema property(try to figure out which porperty is which by looking at the schema and the raw metadata in holistic manner). You will be \"\n",
    "                  \"handed only a part of the ome schema to fill in, to reduce the scope.Since this is a hard problem I will need you to think step by step and use chain of thought to solve this problem. Here are some example on how to approach it:\"\n",
    "                  \"Since the tool usage requires a python middle layer the usually used property names are written a bit differently, for example SizeX is written as size_x etc. The validation tool will make you aware of the correct property names.\"\n",
    "                  \"1. Look at the schema which elements are missing which one do you plan to add\"\n",
    "                  \"2. Choose the easiest to implement element to start, Figure out if they have mandatory fields or dependencies. Try to keep the scope per change as small as possible so validation is easier.\"\n",
    "                  \"3. Look at the raw metadata, speicifcally try to find if any of the raw metadata would fit into the previously identified fields\"\n",
    "                  \"4. Come to a conclusion wheter you can add the element or if there are mandatory fields missing\"\n",
    "                  \"5. If you cant add the element start from step 1 again\"\n",
    "                  \"6. If you can add the element, generate the tool call to add the element, make sure to add the element and all the mandatory fields to not get a validation error. Think about which operation is best fitting, are you addding a new node or modifying an existing one=?\"\n",
    "                  \"7. Call the tool\"\n",
    "                  \"8. If validation errors occur approach them systematically, is there a mandatory node missing? Is it possible to split the tool call into several steps? is there a dependency missing? is the value of the node correct? If you cant solve the problem start from step 1 again\"\n",
    "                  \"9. Repeat the process until all elements are added and the metadata is valid. Remember to solve this problem step by step and use chain of thought to solve it. Good luck!\"\n",
    "                  ),\n",
    "    state=OME()\n",
    ")"
   ]
  },
  {
   "cell_type": "code",
   "execution_count": null,
   "metadata": {},
   "outputs": [],
   "source": []
  },
  {
   "cell_type": "code",
   "execution_count": null,
   "metadata": {},
   "outputs": [],
   "source": [
    "from ome_types import OME\n",
    "from ome_types import Pixels\n",
    "\n",
    "class MaybePixels(BaseModel):\n",
    "    pixels: Optional[Pixels] = None"
   ]
  },
  {
   "cell_type": "code",
   "execution_count": null,
   "metadata": {},
   "outputs": [],
   "source": [
    "MaybePixels().model_json_schema()"
   ]
  },
  {
   "cell_type": "code",
   "execution_count": null,
   "metadata": {},
   "outputs": [],
   "source": [
    "await app.say_async(\"here is the raw metadata: {}\".format(ome_raw))"
   ]
  },
  {
   "cell_type": "code",
   "execution_count": null,
   "metadata": {},
   "outputs": [],
   "source": [
    "app.state.update_state_jsonpatches([{\"op\": \"add\",\n",
    "                                        \"path\": \"\",\n",
    "                                        \"value\": {\n",
    "                                            \"id\": \"Pixels:0\",\n",
    "                                            \"SizeX\": 512,\n",
    "                                            \"SizeY\": 512,\n",
    "                                            \"SizeZ\": 1,\n",
    "                                            \"SizeC\": 1,\n",
    "                                            \"SizeT\": 1,\n",
    "                                            \"DimensionOrder\": \"XYZCT\",\n",
    "                                            \"PixelType\": \"uint8\",\n",
    "                                            \"BigEndian\": False}}])"
   ]
  },
  {
   "cell_type": "code",
   "execution_count": null,
   "metadata": {},
   "outputs": [],
   "source": [
    "myome =OME()\n"
   ]
  },
  {
   "cell_type": "code",
   "execution_count": null,
   "metadata": {},
   "outputs": [],
   "source": [
    "myome.images.append(Image(Pixels(PixelsType=\"uint8\", SizeX=512, SizeY=512, SizeZ=1, SizeC=1, SizeT=1, DimensionOrder=\"XYZCT\", BigEndian=False)))"
   ]
  },
  {
   "cell_type": "code",
   "execution_count": null,
   "metadata": {},
   "outputs": [],
   "source": [
    "from ome_types._autogenerated.ome_2016_06 import Image\n",
    "from ome_types._autogenerated.ome_2016_06 import Pixels\n",
    "Pixels(id=\"Pixel1\", dimension_order=\"XYZCT\", type=\"uint8\", size_x=512, size_y=512, size_z=512, size_c=1, size_t=1).model_dump_json()"
   ]
  },
  {
   "cell_type": "code",
   "execution_count": null,
   "metadata": {},
   "outputs": [],
   "source": [
    "# Answer App\n",
    "app_answer = Application(\n",
    "    name='DataProviderGPT',\n",
    "    instructions=\"You have a dictinoary of raw metadata as your state, your task will be to answer questions about the metadata.\",\n",
    "    state=ome_tree,\n",
    ")\n",
    "\n",
    "\n"
   ]
  },
  {
   "cell_type": "code",
   "execution_count": null,
   "metadata": {},
   "outputs": [],
   "source": [
    "app_answer.say(\"Does the metadata contain info about an image?\")"
   ]
  },
  {
   "cell_type": "code",
   "execution_count": null,
   "metadata": {},
   "outputs": [],
   "source": [
    "a = []\n",
    "def test(a=0, b=0, c=0):\n",
    "    return a + b + c\n",
    "\n",
    "test(*a)"
   ]
  },
  {
   "cell_type": "code",
   "execution_count": null,
   "metadata": {},
   "outputs": [],
   "source": [
    "# Define your Pydantic models\n",
    "class Pixels(BaseModel):\n",
    "    dimension_order: str\n",
    "    type: str\n",
    "\n",
    "class Image(BaseModel):\n",
    "    pixels: Pixels\n",
    "    name: str\n",
    "\n",
    "class Experimenter(BaseModel):\n",
    "    name: Optional[str] = None\n",
    "    email: Optional[str] = None\n",
    "\n",
    "class OME(BaseModel):\n",
    "    images: List[Image]\n",
    "    experimenters: List[Experimenter]"
   ]
  },
  {
   "cell_type": "code",
   "execution_count": null,
   "metadata": {},
   "outputs": [],
   "source": [
    "from typing import List, Dict, Set, Type\n",
    "from pydantic import BaseModel, Field\n",
    "from marvin.beta import Application\n",
    "from collections.abc import Iterator\n",
    "\n",
    "promp1=\"\"\"\n",
    "Incoming metadata will be provided in raw format, that mean a list of key value pairs.!!!\n",
    "Your task  will be to translate these key value pairs to the appropriate OME schema property(try to figure out which porperty is which by looking at the schema and the raw metadata in holistic manner). You will be\n",
    "handed only a part of the ome schema to fill in, to reduce the scope.Since this is a hard problem I will need you to think step by step and use chain of thought to solve this problem. Here are some example on how to approach it:\n",
    "Since the tool usage requires a python middle layer the usually used property names are written a bit differently, for example SizeX is written as size_x etc. The validation tool will make you aware of the correct property names.\n",
    "1. Look at the schema which elements are missing which one do you plan to add\n",
    "2. Figure out if they have mandatory fields or dependencies\n",
    "3. Look at the raw metadata, speicifcally try to find if any of the raw metadata would fit into the previously identified fields\n",
    "4. Come to a conclusion wheter you can add the element or if there are mandatory fields missing\n",
    "5. If you cant add the element start from step 1 again\n",
    "6. If you can add the element, generate the tool call to add the element, make sure to add the element and all the mandatory fields to not get a validation error. Think about which operation is best fitting, are you addding a new node or modifying an existing one=?\n",
    "7. Call the tool\n",
    "8. If validation errors occur approach them systematically, is there a mandatory node missing? is there a dependency missing? is the value of the node correct? If you cant solve the problem you can start from step 1 again\n",
    "9. Repeat the process until all elements are added and the metadata is valid. Remember to solve this problem step by step and use chain of thought to solve it. Good luck!\n",
    "I have split the ome model into several submodels, so if you feel like therer is not metadata for the data model you are working on, no worries just skip that model. Its very well possible some fields remain empty.\n",
    "\"\"\"\n",
    "\n",
    "# Define the tree node class\n",
    "class TreeNode:\n",
    "    def __init__(self, model: Type[BaseModel]):\n",
    "        self.model = model\n",
    "        self.object = None\n",
    "        self.children = []\n",
    "\n",
    "    def add_child(self, child: 'TreeNode'):\n",
    "        self.children.append(child)\n",
    "\n",
    "    def __repr__(self):\n",
    "        return f\"TreeNode(model={self.model.__name__}, children={self.children})\"\n",
    "    \n",
    "    \n",
    "    def required_fields(self, model: type[BaseModel], recursive: bool = False) -> Iterator[str]:\n",
    "        \"\"\"\n",
    "        https://stackoverflow.com/questions/75146792/get-all-required-fields-of-a-nested-pydantic-model\n",
    "        \"\"\"\n",
    "        for name, field in model.model_fields.items():\n",
    "            if not field.is_required():\n",
    "                continue\n",
    "            t = field.annotation\n",
    "            if recursive and isinstance(t, type) and issubclass(t, BaseModel):\n",
    "                yield from self.required_fields(t, recursive=True)\n",
    "            else:\n",
    "                yield name\n",
    "    \n",
    "    def instantiate_model(self, child_objects) -> BaseModel:\n",
    "        if any(self.required_fields(self.model)):\n",
    "            print(any(self.required_fields(self.model)))\n",
    "            # Create a MaybeModel class with a dynamic name\n",
    "            maybe_model_name = f\"Maybe{self.model.__name__}\"\n",
    "            #maybe_object_name = f\"maybe{self.model.__name__}\"\n",
    "\n",
    "            annotations = {self.model.__name__: Optional[self.model]}\n",
    "            MaybeModel = type(maybe_model_name,\n",
    "                              (BaseModel,),\n",
    "                              {'__annotations__': annotations,\n",
    "                               self.model.__name__: Field(default=None,\n",
    "                                                          description=\"The actual object to be filled with metadata.\")})\n",
    "\n",
    "            self.object = MaybeModel()  # we will need to fill in child objects later\n",
    "        else:\n",
    "            print(any(self.required_fields(self.model)))\n",
    "            self.object = self.model(**child_objects)\n",
    "            # print what kind of object this is\n",
    "            print(self.object.model_dump_json())\n",
    "\n",
    "    def predict_meta(self, raw_meta) -> BaseModel:\n",
    "        # add the metdata from the child nodes first\n",
    "        child_objects = {}\n",
    "        for child in self.children:\n",
    "            child_objects[child.model.__name__] = child.predict_meta(raw_meta)\n",
    "        \n",
    "        self.object = self.instantiate_model(child_objects)\n",
    "        \n",
    "        print(f\"Predicting metadata for {self.model.__name__}, self.object={type(self.object)}, required={list(self.required_fields(self.model))}\")\n",
    "        return self.object\n",
    "        app = Application(\n",
    "            name='OME Metadata Store',\n",
    "            instructions=(promp1),\n",
    "            state=self.object,\n",
    "        )\n",
    "        app.say(\"here is the raw metadata: {}\".format(raw_meta))\n",
    "        \n",
    "        return self.object\n",
    "\n",
    "# Function to identify dependencies and collect all models\n",
    "def collect_dependencies(model: Type[BaseModel], known_models: Dict[str, Type[BaseModel]], collected: Dict[str, Type[BaseModel]]):\n",
    "    if model.__name__ in collected:\n",
    "        return\n",
    "    collected[model.__name__] = model\n",
    "    for field in model.model_fields.values():\n",
    "        field_type = field.annotation\n",
    "        if hasattr(field_type, '__fields__'):  # If the field is a Pydantic model\n",
    "            collect_dependencies(field_type, known_models, collected)\n",
    "        elif hasattr(field_type, '__origin__') and field_type.__origin__ is list:\n",
    "            item_type = field_type.__args__[0]\n",
    "            if hasattr(item_type, '__fields__'):\n",
    "                collect_dependencies(item_type, known_models, collected)\n",
    "\n",
    "# Function to create the tree\n",
    "def create_dependency_tree(model: Type[BaseModel], known_models: Dict[str, Type[BaseModel]], visited: Set[str]) -> TreeNode:\n",
    "    node = TreeNode(model)\n",
    "    visited.add(model.__name__)\n",
    "    \n",
    "    for field in model.model_fields.values():\n",
    "        field_type = field.annotation\n",
    "        if hasattr(field_type, '__fields__') and field_type.__name__ not in visited:  # If the field is a Pydantic model\n",
    "            child_node = create_dependency_tree(field_type, known_models, visited)\n",
    "            node.add_child(child_node)\n",
    "        elif hasattr(field_type, '__origin__') and field_type.__origin__ is list:\n",
    "            item_type = field_type.__args__[0]\n",
    "            if hasattr(item_type, '__fields__') and item_type.__name__ not in visited:\n",
    "                child_node = create_dependency_tree(item_type, known_models, visited)\n",
    "                node.add_child(child_node)\n",
    "    \n",
    "    return node\n",
    "\n",
    "# Function to build the tree starting from the root model\n",
    "def build_tree(root_model: Type[BaseModel]) -> TreeNode:\n",
    "    known_models = {model.__name__: model for model in globals().values() if isinstance(model, type) and issubclass(model, BaseModel)}\n",
    "    collected_models = {}\n",
    "    collect_dependencies(root_model, known_models, collected_models)\n",
    "    \n",
    "    return create_dependency_tree(root_model, known_models, set())\n",
    "\n",
    "# Build the tree starting from the OME model\n",
    "dependency_tree = build_tree(OME)\n",
    "\n",
    "# Print the tree structure\n",
    "def print_tree(node: TreeNode, indent: str = \"\"):\n",
    "    print(f\"{indent}{node.model.__name__}\")\n",
    "    for child in node.children:\n",
    "        print_tree(child, indent + \"  \")\n",
    "\n",
    "print_tree(dependency_tree)\n"
   ]
  },
  {
   "cell_type": "code",
   "execution_count": null,
   "metadata": {},
   "outputs": [],
   "source": [
    "dependency_tree.predict_meta(ome_raw)"
   ]
  },
  {
   "cell_type": "code",
   "execution_count": null,
   "metadata": {},
   "outputs": [],
   "source": [
    "dependency_tree.children"
   ]
  },
  {
   "cell_type": "code",
   "execution_count": null,
   "metadata": {},
   "outputs": [],
   "source": [
    "from ome_types import OME\n",
    "\n",
    "dependency_tree = build_tree(OME)\n",
    "\n",
    "dependency_tree.predict_meta(ome_raw)"
   ]
  },
  {
   "cell_type": "code",
   "execution_count": null,
   "metadata": {},
   "outputs": [],
   "source": [
    "from ome_types import OME\n",
    "from ome_types._autogenerated.ome_2016_06 import Image\n",
    "from ome_types._autogenerated.ome_2016_06 import Pixels\n",
    "\n",
    "myome = OME(images=[Image(pixels=Pixels(dimension_order='XYZCT', type='uint8', size_x=512, size_y=512, size_z=1, size_c=1, size_t=1))])\n",
    "\n",
    "app = Application(\n",
    "    name='OME Metadata Store',\n",
    "    instructions=(promp1),\n",
    "    state=myome,\n",
    ")\n",
    "app."
   ]
  },
  {
   "cell_type": "code",
   "execution_count": null,
   "metadata": {},
   "outputs": [],
   "source": [
    "app.state.value.images.append(Image(pixels=Pixels(dimension_order='XYZCT', type='uint8', size_x=512, size_y=512, size_z=1, size_c=1, size_t=1)))"
   ]
  },
  {
   "cell_type": "code",
   "execution_count": null,
   "metadata": {},
   "outputs": [],
   "source": [
    "pix = Pixels(dimension_order='XYZCT', type='uint8', size_x=512, size_y=512, size_z=1, size_c=1, size_t=1)"
   ]
  },
  {
   "cell_type": "code",
   "execution_count": null,
   "metadata": {},
   "outputs": [],
   "source": []
  },
  {
   "cell_type": "code",
   "execution_count": null,
   "metadata": {},
   "outputs": [],
   "source": [
    "Image.model_fields"
   ]
  },
  {
   "cell_type": "code",
   "execution_count": null,
   "metadata": {},
   "outputs": [],
   "source": [
    "pix_dic = {type(pix).__name__.lower(): pix}\n",
    "pix_dic\n",
    "img = Image(**pix_dic)\n",
    "ome = OME()\n"
   ]
  },
  {
   "cell_type": "code",
   "execution_count": null,
   "metadata": {},
   "outputs": [],
   "source": [
    "obj = None\n",
    "if obj:\n",
    "    print(\"yes\")"
   ]
  },
  {
   "cell_type": "code",
   "execution_count": null,
   "metadata": {},
   "outputs": [],
   "source": [
    "def add_to_instance(instance, obj):\n",
    "    mod_dic = {}\n",
    "    # Get the type of the object\n",
    "    obj_type = type(obj)\n",
    "    \n",
    "    # Define a set of ignored types\n",
    "    ignored_types = {str, int, float, bool} # could be updated to != ome_types\n",
    "    # Skip ignored types\n",
    "    if obj_type in ignored_types:\n",
    "        return\n",
    "    # Iterate over the attributes and their types in the instance's class\n",
    "    for attr_name, attr_type in instance.__annotations__.items():\n",
    "        \n",
    "        if attr_type == Optional[obj_type] or attr_type == obj_type:\n",
    "            mod_dic[attr_name] = obj\n",
    "            setattr(instance, attr_name, obj)\n",
    "            return\n",
    "        elif hasattr(attr_type, '__origin__') and attr_type.__origin__ == list and attr_type.__args__[0] == obj_type:\n",
    "            getattr(instance, attr_name).append(obj)\n",
    "            return\n",
    "    "
   ]
  },
  {
   "cell_type": "code",
   "execution_count": null,
   "metadata": {},
   "outputs": [],
   "source": [
    "my_img = Image\n",
    "add_to_instance(my_img, pix)"
   ]
  },
  {
   "cell_type": "code",
   "execution_count": null,
   "metadata": {},
   "outputs": [],
   "source": [
    "Image.__annotations__"
   ]
  },
  {
   "cell_type": "code",
   "execution_count": null,
   "metadata": {},
   "outputs": [],
   "source": [
    "from src.metagpt.predictors import predictor_tree\n",
    "from ome_types._autogenerated.ome_2016_06 import Image, Pixels\n",
    "\n",
    "dependency_tree = predictor_tree.build_tree(Pixels)\n",
    "state_predicted = dependency_tree.predict_meta(ome_raw)"
   ]
  },
  {
   "cell_type": "code",
   "execution_count": null,
   "metadata": {},
   "outputs": [],
   "source": [
    "from datetime import datetime\n",
    "\n",
    "datetime.now().isoformat()"
   ]
  },
  {
   "cell_type": "code",
   "execution_count": null,
   "metadata": {},
   "outputs": [],
   "source": [
    "\n",
    "\n",
    "\n",
    "\n",
    "# Example usage:\n",
    "output_path = 'output.json'\n",
    "with save_cell_output(output_path):\n",
    "    # Your code here\n",
    "    print(\"This is an example output.qweqweq\")\n",
    "    # Any other code whose output you want to capture\n"
   ]
  },
  {
   "cell_type": "code",
   "execution_count": null,
   "metadata": {},
   "outputs": [],
   "source": [
    "from src.metagpt.utils import save_and_stream_output\n",
    "from time import sleep\n",
    "with save_and_stream_output():\n",
    "    # Your code here\n",
    "    print(\"This is an example output.\")\n",
    "    # Any other code whose output you want to capture\n",
    "    for i in range(5):\n",
    "        sleep(1)\n",
    "        print(f\"Line {i + 1}\")"
   ]
  },
  {
   "cell_type": "code",
   "execution_count": null,
   "metadata": {},
   "outputs": [],
   "source": [
    "Experimenter.__name__"
   ]
  },
  {
   "cell_type": "code",
   "execution_count": null,
   "metadata": {},
   "outputs": [],
   "source": [
    "from pydantic import BaseModel\n",
    "from typing import Optional\n",
    "from ome_types._autogenerated.ome_2016_06 import Image, Pixels, OME, Experimenter\n",
    "\n",
    "class MaybeExperimenter(BaseModel):\n",
    "    Experimenter: Optional[Experimenter] = None"
   ]
  },
  {
   "cell_type": "code",
   "execution_count": null,
   "metadata": {},
   "outputs": [],
   "source": [
    "from ome_types._autogenerated.ome_2016_06 import Image, Pixels, OME, Experimenter\n",
    "with save_and_stream_output():\n",
    "    exp = Experimenter(id=\"Exp1\")\n",
    "    model = Experimenter\n",
    "    object = MaybeExperimenter()\n",
    "    object.Experimenter = exp\n",
    "    object = getattr(object, model.__name__)\n",
    "    print(type(object))"
   ]
  },
  {
   "cell_type": "code",
   "execution_count": null,
   "metadata": {},
   "outputs": [],
   "source": [
    "f = [[]]\n",
    "\n",
    "for i in f:\n",
    "    print(i)"
   ]
  },
  {
   "cell_type": "code",
   "execution_count": 2,
   "metadata": {},
   "outputs": [
    {
     "data": {
      "application/vnd.jupyter.widget-view+json": {
       "model_id": "55d99207300847aeb730a2089a9f2235",
       "version_major": 2,
       "version_minor": 0
      },
      "text/plain": [
       "Output()"
      ]
     },
     "metadata": {},
     "output_type": "display_data"
    },
    {
     "data": {
      "text/html": [
       "<pre style=\"white-space:pre;overflow-x:auto;line-height:normal;font-family:Menlo,'DejaVu Sans Mono',consolas,'Courier New',monospace\"></pre>\n"
      ],
      "text/plain": []
     },
     "metadata": {},
     "output_type": "display_data"
    },
    {
     "data": {
      "application/vnd.jupyter.widget-view+json": {
       "model_id": "307e0e9f9b894bd3839a54aa53ef8f4f",
       "version_major": 2,
       "version_minor": 0
      },
      "text/plain": [
       "Output()"
      ]
     },
     "metadata": {},
     "output_type": "display_data"
    },
    {
     "name": "stderr",
     "output_type": "stream",
     "text": [
      "/home/aaron/Documents/Projects/marvin/src/marvin/utilities/tools.py:176: UserWarning: Unrecognized fields for type <class 'ome_types._autogenerated.ome_2016_06.dataset_ref.DatasetRef'>: {'name', 'description'}\n",
      "  output = tool.function._python_fn(**arguments)\n"
     ]
    },
    {
     "data": {
      "text/html": [
       "<pre style=\"white-space:pre;overflow-x:auto;line-height:normal;font-family:Menlo,'DejaVu Sans Mono',consolas,'Courier New',monospace\"></pre>\n"
      ],
      "text/plain": []
     },
     "metadata": {},
     "output_type": "display_data"
    },
    {
     "name": "stdout",
     "output_type": "stream",
     "text": [
      "####################################################################################\n",
      "Predicting metadata for DatasetRef\n"
     ]
    },
    {
     "data": {
      "application/vnd.jupyter.widget-view+json": {
       "model_id": "3154b5f8654841d5bf1811b157e743ae",
       "version_major": 2,
       "version_minor": 0
      },
      "text/plain": [
       "Output()"
      ]
     },
     "metadata": {},
     "output_type": "display_data"
    },
    {
     "data": {
      "text/html": [
       "<pre style=\"white-space:pre;overflow-x:auto;line-height:normal;font-family:Menlo,'DejaVu Sans Mono',consolas,'Courier New',monospace\"></pre>\n"
      ],
      "text/plain": []
     },
     "metadata": {},
     "output_type": "display_data"
    },
    {
     "name": "stdout",
     "output_type": "stream",
     "text": [
      "####################################################################################\n",
      "Predicting metadata for AnnotationRef\n"
     ]
    },
    {
     "data": {
      "application/vnd.jupyter.widget-view+json": {
       "model_id": "2fd8801944ab4c068b0d2b4931666c10",
       "version_major": 2,
       "version_minor": 0
      },
      "text/plain": [
       "Output()"
      ]
     },
     "metadata": {},
     "output_type": "display_data"
    },
    {
     "data": {
      "text/html": [
       "<pre style=\"white-space:pre;overflow-x:auto;line-height:normal;font-family:Menlo,'DejaVu Sans Mono',consolas,'Courier New',monospace\"></pre>\n"
      ],
      "text/plain": []
     },
     "metadata": {},
     "output_type": "display_data"
    },
    {
     "data": {
      "application/vnd.jupyter.widget-view+json": {
       "model_id": "25cac658ffa34aa4aab9b0a83dcae9e6",
       "version_major": 2,
       "version_minor": 0
      },
      "text/plain": [
       "Output()"
      ]
     },
     "metadata": {},
     "output_type": "display_data"
    },
    {
     "data": {
      "text/html": [
       "<pre style=\"white-space:pre;overflow-x:auto;line-height:normal;font-family:Menlo,'DejaVu Sans Mono',consolas,'Courier New',monospace\"></pre>\n"
      ],
      "text/plain": []
     },
     "metadata": {},
     "output_type": "display_data"
    },
    {
     "name": "stdout",
     "output_type": "stream",
     "text": [
      "####################################################################################\n",
      "Predicting metadata for Project\n"
     ]
    },
    {
     "data": {
      "application/vnd.jupyter.widget-view+json": {
       "model_id": "9c0d4aa175ad4d94963f153ec2e662b6",
       "version_major": 2,
       "version_minor": 0
      },
      "text/plain": [
       "Output()"
      ]
     },
     "metadata": {},
     "output_type": "display_data"
    },
    {
     "data": {
      "text/html": [
       "<pre style=\"white-space:pre;overflow-x:auto;line-height:normal;font-family:Menlo,'DejaVu Sans Mono',consolas,'Courier New',monospace\"></pre>\n"
      ],
      "text/plain": []
     },
     "metadata": {},
     "output_type": "display_data"
    },
    {
     "name": "stdout",
     "output_type": "stream",
     "text": [
      "####################################################################################\n",
      "Predicting metadata for ImageRef\n"
     ]
    },
    {
     "data": {
      "application/vnd.jupyter.widget-view+json": {
       "model_id": "6952c6d5fdb84c6dafcc806e4dfed843",
       "version_major": 2,
       "version_minor": 0
      },
      "text/plain": [
       "Output()"
      ]
     },
     "metadata": {},
     "output_type": "display_data"
    },
    {
     "data": {
      "text/html": [
       "<pre style=\"white-space:pre;overflow-x:auto;line-height:normal;font-family:Menlo,'DejaVu Sans Mono',consolas,'Courier New',monospace\"></pre>\n"
      ],
      "text/plain": []
     },
     "metadata": {},
     "output_type": "display_data"
    },
    {
     "data": {
      "application/vnd.jupyter.widget-view+json": {
       "model_id": "900b93858a81442a934a224e9977c805",
       "version_major": 2,
       "version_minor": 0
      },
      "text/plain": [
       "Output()"
      ]
     },
     "metadata": {},
     "output_type": "display_data"
    },
    {
     "data": {
      "text/html": [
       "<pre style=\"white-space:pre;overflow-x:auto;line-height:normal;font-family:Menlo,'DejaVu Sans Mono',consolas,'Courier New',monospace\"></pre>\n"
      ],
      "text/plain": []
     },
     "metadata": {},
     "output_type": "display_data"
    },
    {
     "name": "stdout",
     "output_type": "stream",
     "text": [
      "####################################################################################\n",
      "Predicting metadata for Dataset\n"
     ]
    },
    {
     "data": {
      "application/vnd.jupyter.widget-view+json": {
       "model_id": "c859f6b2a3024182b9333f395931e7dd",
       "version_major": 2,
       "version_minor": 0
      },
      "text/plain": [
       "Output()"
      ]
     },
     "metadata": {},
     "output_type": "display_data"
    },
    {
     "data": {
      "text/html": [
       "<pre style=\"white-space:pre;overflow-x:auto;line-height:normal;font-family:Menlo,'DejaVu Sans Mono',consolas,'Courier New',monospace\"></pre>\n"
      ],
      "text/plain": []
     },
     "metadata": {},
     "output_type": "display_data"
    },
    {
     "name": "stdout",
     "output_type": "stream",
     "text": [
      "####################################################################################\n",
      "Predicting metadata for FolderRef\n"
     ]
    },
    {
     "data": {
      "application/vnd.jupyter.widget-view+json": {
       "model_id": "6918d08b94544650ad912276816df51e",
       "version_major": 2,
       "version_minor": 0
      },
      "text/plain": [
       "Output()"
      ]
     },
     "metadata": {},
     "output_type": "display_data"
    },
    {
     "data": {
      "text/html": [
       "<pre style=\"white-space:pre;overflow-x:auto;line-height:normal;font-family:Menlo,'DejaVu Sans Mono',consolas,'Courier New',monospace\"></pre>\n"
      ],
      "text/plain": []
     },
     "metadata": {},
     "output_type": "display_data"
    },
    {
     "data": {
      "application/vnd.jupyter.widget-view+json": {
       "model_id": "cf70a54f69014425bdda4121bf22ee4f",
       "version_major": 2,
       "version_minor": 0
      },
      "text/plain": [
       "Output()"
      ]
     },
     "metadata": {},
     "output_type": "display_data"
    },
    {
     "name": "stderr",
     "output_type": "stream",
     "text": [
      "/home/aaron/Documents/Projects/marvin/src/marvin/utilities/tools.py:176: UserWarning: Unrecognized fields for type <class 'ome_types._autogenerated.ome_2016_06.roi_ref.ROIRef'>: {'image_refs'}\n",
      "  output = tool.function._python_fn(**arguments)\n"
     ]
    },
    {
     "data": {
      "text/html": [
       "<pre style=\"white-space:pre;overflow-x:auto;line-height:normal;font-family:Menlo,'DejaVu Sans Mono',consolas,'Courier New',monospace\"></pre>\n"
      ],
      "text/plain": []
     },
     "metadata": {},
     "output_type": "display_data"
    },
    {
     "name": "stdout",
     "output_type": "stream",
     "text": [
      "####################################################################################\n",
      "Predicting metadata for ROIRef\n"
     ]
    },
    {
     "data": {
      "application/vnd.jupyter.widget-view+json": {
       "model_id": "d007e955f0fa4ad0b2ddd8d3d5fd7c12",
       "version_major": 2,
       "version_minor": 0
      },
      "text/plain": [
       "Output()"
      ]
     },
     "metadata": {},
     "output_type": "display_data"
    },
    {
     "data": {
      "text/html": [
       "<pre style=\"white-space:pre;overflow-x:auto;line-height:normal;font-family:Menlo,'DejaVu Sans Mono',consolas,'Courier New',monospace\"></pre>\n"
      ],
      "text/plain": []
     },
     "metadata": {},
     "output_type": "display_data"
    },
    {
     "name": "stdout",
     "output_type": "stream",
     "text": [
      "####################################################################################\n",
      "Predicting metadata for Folder\n"
     ]
    },
    {
     "data": {
      "application/vnd.jupyter.widget-view+json": {
       "model_id": "73c5c5725c6443c1a3355f8346cb1467",
       "version_major": 2,
       "version_minor": 0
      },
      "text/plain": [
       "Output()"
      ]
     },
     "metadata": {},
     "output_type": "display_data"
    },
    {
     "data": {
      "text/html": [
       "<pre style=\"white-space:pre;overflow-x:auto;line-height:normal;font-family:Menlo,'DejaVu Sans Mono',consolas,'Courier New',monospace\"></pre>\n"
      ],
      "text/plain": []
     },
     "metadata": {},
     "output_type": "display_data"
    },
    {
     "name": "stdout",
     "output_type": "stream",
     "text": [
      "####################################################################################\n",
      "Predicting metadata for ExperimenterRef\n"
     ]
    },
    {
     "data": {
      "application/vnd.jupyter.widget-view+json": {
       "model_id": "d26fb5888a204250b53ec00d2d069c9e",
       "version_major": 2,
       "version_minor": 0
      },
      "text/plain": [
       "Output()"
      ]
     },
     "metadata": {},
     "output_type": "display_data"
    },
    {
     "data": {
      "text/html": [
       "<pre style=\"white-space:pre;overflow-x:auto;line-height:normal;font-family:Menlo,'DejaVu Sans Mono',consolas,'Courier New',monospace\"></pre>\n"
      ],
      "text/plain": []
     },
     "metadata": {},
     "output_type": "display_data"
    },
    {
     "name": "stdout",
     "output_type": "stream",
     "text": [
      "####################################################################################\n",
      "Predicting metadata for LightSourceSettings\n"
     ]
    },
    {
     "data": {
      "application/vnd.jupyter.widget-view+json": {
       "model_id": "a05298d7c407465aa18b747aff06c7a4",
       "version_major": 2,
       "version_minor": 0
      },
      "text/plain": [
       "Output()"
      ]
     },
     "metadata": {},
     "output_type": "display_data"
    },
    {
     "data": {
      "text/html": [
       "<pre style=\"white-space:pre;overflow-x:auto;line-height:normal;font-family:Menlo,'DejaVu Sans Mono',consolas,'Courier New',monospace\"></pre>\n"
      ],
      "text/plain": []
     },
     "metadata": {},
     "output_type": "display_data"
    },
    {
     "name": "stdout",
     "output_type": "stream",
     "text": [
      "####################################################################################\n",
      "Predicting metadata for MicrobeamManipulation\n"
     ]
    },
    {
     "data": {
      "application/vnd.jupyter.widget-view+json": {
       "model_id": "a9f23b8b31a0478587787f610d152906",
       "version_major": 2,
       "version_minor": 0
      },
      "text/plain": [
       "Output()"
      ]
     },
     "metadata": {},
     "output_type": "display_data"
    },
    {
     "data": {
      "text/html": [
       "<pre style=\"white-space:pre;overflow-x:auto;line-height:normal;font-family:Menlo,'DejaVu Sans Mono',consolas,'Courier New',monospace\"></pre>\n"
      ],
      "text/plain": []
     },
     "metadata": {},
     "output_type": "display_data"
    },
    {
     "name": "stdout",
     "output_type": "stream",
     "text": [
      "####################################################################################\n",
      "Predicting metadata for Experiment\n"
     ]
    },
    {
     "data": {
      "application/vnd.jupyter.widget-view+json": {
       "model_id": "52446b0d21c64d12b5db121a91894baf",
       "version_major": 2,
       "version_minor": 0
      },
      "text/plain": [
       "Output()"
      ]
     },
     "metadata": {},
     "output_type": "display_data"
    },
    {
     "data": {
      "text/html": [
       "<pre style=\"white-space:pre;overflow-x:auto;line-height:normal;font-family:Menlo,'DejaVu Sans Mono',consolas,'Courier New',monospace\"></pre>\n"
      ],
      "text/plain": []
     },
     "metadata": {},
     "output_type": "display_data"
    },
    {
     "name": "stdout",
     "output_type": "stream",
     "text": [
      "####################################################################################\n",
      "Predicting metadata for WellSample\n"
     ]
    },
    {
     "data": {
      "application/vnd.jupyter.widget-view+json": {
       "model_id": "7c3a4dbaeec24135b75b324bd26071e0",
       "version_major": 2,
       "version_minor": 0
      },
      "text/plain": [
       "Output()"
      ]
     },
     "metadata": {},
     "output_type": "display_data"
    },
    {
     "data": {
      "text/html": [
       "<pre style=\"white-space:pre;overflow-x:auto;line-height:normal;font-family:Menlo,'DejaVu Sans Mono',consolas,'Courier New',monospace\"></pre>\n"
      ],
      "text/plain": []
     },
     "metadata": {},
     "output_type": "display_data"
    },
    {
     "data": {
      "application/vnd.jupyter.widget-view+json": {
       "model_id": "78fed2e066da4721b45a47f501826c1e",
       "version_major": 2,
       "version_minor": 0
      },
      "text/plain": [
       "Output()"
      ]
     },
     "metadata": {},
     "output_type": "display_data"
    },
    {
     "data": {
      "text/html": [
       "<pre style=\"white-space:pre;overflow-x:auto;line-height:normal;font-family:Menlo,'DejaVu Sans Mono',consolas,'Courier New',monospace\"></pre>\n"
      ],
      "text/plain": []
     },
     "metadata": {},
     "output_type": "display_data"
    },
    {
     "name": "stdout",
     "output_type": "stream",
     "text": [
      "####################################################################################\n",
      "Predicting metadata for Well\n"
     ]
    },
    {
     "data": {
      "application/vnd.jupyter.widget-view+json": {
       "model_id": "865a740f82eb4b5890a86cd83894b2ef",
       "version_major": 2,
       "version_minor": 0
      },
      "text/plain": [
       "Output()"
      ]
     },
     "metadata": {},
     "output_type": "display_data"
    },
    {
     "data": {
      "text/html": [
       "<pre style=\"white-space:pre;overflow-x:auto;line-height:normal;font-family:Menlo,'DejaVu Sans Mono',consolas,'Courier New',monospace\"></pre>\n"
      ],
      "text/plain": []
     },
     "metadata": {},
     "output_type": "display_data"
    },
    {
     "name": "stdout",
     "output_type": "stream",
     "text": [
      "####################################################################################\n",
      "Predicting metadata for WellSampleRef\n"
     ]
    },
    {
     "data": {
      "application/vnd.jupyter.widget-view+json": {
       "model_id": "6a818229ccad4d29b54bbd5de13d5085",
       "version_major": 2,
       "version_minor": 0
      },
      "text/plain": [
       "Output()"
      ]
     },
     "metadata": {},
     "output_type": "display_data"
    },
    {
     "data": {
      "text/html": [
       "<pre style=\"white-space:pre;overflow-x:auto;line-height:normal;font-family:Menlo,'DejaVu Sans Mono',consolas,'Courier New',monospace\"></pre>\n"
      ],
      "text/plain": []
     },
     "metadata": {},
     "output_type": "display_data"
    },
    {
     "name": "stdout",
     "output_type": "stream",
     "text": [
      "####################################################################################\n",
      "Predicting metadata for PlateAcquisition\n"
     ]
    },
    {
     "data": {
      "application/vnd.jupyter.widget-view+json": {
       "model_id": "cbdd18f5c6634b31a0e962d1b0ca20c0",
       "version_major": 2,
       "version_minor": 0
      },
      "text/plain": [
       "Output()"
      ]
     },
     "metadata": {},
     "output_type": "display_data"
    },
    {
     "data": {
      "text/html": [
       "<pre style=\"white-space:pre;overflow-x:auto;line-height:normal;font-family:Menlo,'DejaVu Sans Mono',consolas,'Courier New',monospace\"></pre>\n"
      ],
      "text/plain": []
     },
     "metadata": {},
     "output_type": "display_data"
    },
    {
     "name": "stdout",
     "output_type": "stream",
     "text": [
      "####################################################################################\n",
      "Predicting metadata for Plate\n"
     ]
    },
    {
     "data": {
      "application/vnd.jupyter.widget-view+json": {
       "model_id": "89b529183b1d48458bf90376ec384c1a",
       "version_major": 2,
       "version_minor": 0
      },
      "text/plain": [
       "Output()"
      ]
     },
     "metadata": {},
     "output_type": "display_data"
    },
    {
     "data": {
      "text/html": [
       "<pre style=\"white-space:pre;overflow-x:auto;line-height:normal;font-family:Menlo,'DejaVu Sans Mono',consolas,'Courier New',monospace\"></pre>\n"
      ],
      "text/plain": []
     },
     "metadata": {},
     "output_type": "display_data"
    },
    {
     "data": {
      "text/html": [
       "<pre style=\"white-space:pre;overflow-x:auto;line-height:normal;font-family:Menlo,'DejaVu Sans Mono',consolas,'Courier New',monospace\"><span style=\"color: #7fbfbf; text-decoration-color: #7fbfbf\">[20.06.2024 17:19:01] </span><span style=\"color: #800000; text-decoration-color: #800000; font-weight: bold\">ERROR   </span> marvin.Runs: Error calling tool update_state: can't replace a            <a href=\"file:///home/aaron/Documents/Projects/marvin/src/marvin/beta/assistants/runs.py\" target=\"_blank\"><span style=\"color: #7f7f7f; text-decoration-color: #7f7f7f\">runs.py</span></a><span style=\"color: #7f7f7f; text-decoration-color: #7f7f7f\">:</span><a href=\"file:///home/aaron/Documents/Projects/marvin/src/marvin/beta/assistants/runs.py#195\" target=\"_blank\"><span style=\"color: #7f7f7f; text-decoration-color: #7f7f7f\">195</span></a>\n",
       "<span style=\"color: #7fbfbf; text-decoration-color: #7fbfbf\">                      </span>         non-existent object <span style=\"color: #008000; text-decoration-color: #008000\">'external_identifier'</span>                                <span style=\"color: #7f7f7f; text-decoration-color: #7f7f7f\">           </span>\n",
       "</pre>\n"
      ],
      "text/plain": [
       "\u001b[2;36m[20.06.2024 17:19:01]\u001b[0m\u001b[2;36m \u001b[0m\u001b[1;31mERROR   \u001b[0m marvin.Runs: Error calling tool update_state: can't replace a            \u001b]8;id=406947;file:///home/aaron/Documents/Projects/marvin/src/marvin/beta/assistants/runs.py\u001b\\\u001b[2mruns.py\u001b[0m\u001b]8;;\u001b\\\u001b[2m:\u001b[0m\u001b]8;id=351888;file:///home/aaron/Documents/Projects/marvin/src/marvin/beta/assistants/runs.py#195\u001b\\\u001b[2m195\u001b[0m\u001b]8;;\u001b\\\n",
       "\u001b[2;36m                      \u001b[0m         non-existent object \u001b[32m'external_identifier'\u001b[0m                                \u001b[2m           \u001b[0m\n"
      ]
     },
     "metadata": {},
     "output_type": "display_data"
    },
    {
     "data": {
      "application/vnd.jupyter.widget-view+json": {
       "model_id": "7eb20293aacc4b5193a0a8193804fc49",
       "version_major": 2,
       "version_minor": 0
      },
      "text/plain": [
       "Output()"
      ]
     },
     "metadata": {},
     "output_type": "display_data"
    },
    {
     "data": {
      "text/html": [
       "<pre style=\"white-space:pre;overflow-x:auto;line-height:normal;font-family:Menlo,'DejaVu Sans Mono',consolas,'Courier New',monospace\"></pre>\n"
      ],
      "text/plain": []
     },
     "metadata": {},
     "output_type": "display_data"
    },
    {
     "name": "stdout",
     "output_type": "stream",
     "text": [
      "####################################################################################\n",
      "Predicting metadata for Reagent\n"
     ]
    },
    {
     "data": {
      "application/vnd.jupyter.widget-view+json": {
       "model_id": "32587fab7b2c47c99ece07e6f129fea8",
       "version_major": 2,
       "version_minor": 0
      },
      "text/plain": [
       "Output()"
      ]
     },
     "metadata": {},
     "output_type": "display_data"
    },
    {
     "data": {
      "text/html": [
       "<pre style=\"white-space:pre;overflow-x:auto;line-height:normal;font-family:Menlo,'DejaVu Sans Mono',consolas,'Courier New',monospace\"></pre>\n"
      ],
      "text/plain": []
     },
     "metadata": {},
     "output_type": "display_data"
    },
    {
     "data": {
      "text/html": [
       "<pre style=\"white-space:pre;overflow-x:auto;line-height:normal;font-family:Menlo,'DejaVu Sans Mono',consolas,'Courier New',monospace\"><span style=\"color: #7fbfbf; text-decoration-color: #7fbfbf\">[20.06.2024 17:19:35] </span><span style=\"color: #800000; text-decoration-color: #800000; font-weight: bold\">ERROR   </span> marvin.Runs: Error calling tool update_state: can't replace a            <a href=\"file:///home/aaron/Documents/Projects/marvin/src/marvin/beta/assistants/runs.py\" target=\"_blank\"><span style=\"color: #7f7f7f; text-decoration-color: #7f7f7f\">runs.py</span></a><span style=\"color: #7f7f7f; text-decoration-color: #7f7f7f\">:</span><a href=\"file:///home/aaron/Documents/Projects/marvin/src/marvin/beta/assistants/runs.py#195\" target=\"_blank\"><span style=\"color: #7f7f7f; text-decoration-color: #7f7f7f\">195</span></a>\n",
       "<span style=\"color: #7fbfbf; text-decoration-color: #7fbfbf\">                      </span>         non-existent object <span style=\"color: #008000; text-decoration-color: #008000\">'name'</span>                                               <span style=\"color: #7f7f7f; text-decoration-color: #7f7f7f\">           </span>\n",
       "</pre>\n"
      ],
      "text/plain": [
       "\u001b[2;36m[20.06.2024 17:19:35]\u001b[0m\u001b[2;36m \u001b[0m\u001b[1;31mERROR   \u001b[0m marvin.Runs: Error calling tool update_state: can't replace a            \u001b]8;id=37736;file:///home/aaron/Documents/Projects/marvin/src/marvin/beta/assistants/runs.py\u001b\\\u001b[2mruns.py\u001b[0m\u001b]8;;\u001b\\\u001b[2m:\u001b[0m\u001b]8;id=816010;file:///home/aaron/Documents/Projects/marvin/src/marvin/beta/assistants/runs.py#195\u001b\\\u001b[2m195\u001b[0m\u001b]8;;\u001b\\\n",
       "\u001b[2;36m                      \u001b[0m         non-existent object \u001b[32m'name'\u001b[0m                                               \u001b[2m           \u001b[0m\n"
      ]
     },
     "metadata": {},
     "output_type": "display_data"
    },
    {
     "data": {
      "application/vnd.jupyter.widget-view+json": {
       "model_id": "f433f919e65d482a906b7e0637ec12f4",
       "version_major": 2,
       "version_minor": 0
      },
      "text/plain": [
       "Output()"
      ]
     },
     "metadata": {},
     "output_type": "display_data"
    },
    {
     "data": {
      "text/html": [
       "<pre style=\"white-space:pre;overflow-x:auto;line-height:normal;font-family:Menlo,'DejaVu Sans Mono',consolas,'Courier New',monospace\"></pre>\n"
      ],
      "text/plain": []
     },
     "metadata": {},
     "output_type": "display_data"
    },
    {
     "data": {
      "application/vnd.jupyter.widget-view+json": {
       "model_id": "e042aa83a95341d483536e96de3e2e81",
       "version_major": 2,
       "version_minor": 0
      },
      "text/plain": [
       "Output()"
      ]
     },
     "metadata": {},
     "output_type": "display_data"
    },
    {
     "name": "stderr",
     "output_type": "stream",
     "text": [
      "/home/aaron/Documents/Projects/marvin/src/marvin/utilities/tools.py:176: UserWarning: Unrecognized fields for type <class 'ome_types._autogenerated.ome_2016_06.screen.Screen.PlateRef'>: {'external_identifier', 'name', 'description'}\n",
      "  output = tool.function._python_fn(**arguments)\n"
     ]
    },
    {
     "data": {
      "text/html": [
       "<pre style=\"white-space:pre;overflow-x:auto;line-height:normal;font-family:Menlo,'DejaVu Sans Mono',consolas,'Courier New',monospace\"></pre>\n"
      ],
      "text/plain": []
     },
     "metadata": {},
     "output_type": "display_data"
    },
    {
     "name": "stdout",
     "output_type": "stream",
     "text": [
      "####################################################################################\n",
      "Predicting metadata for PlateRef\n"
     ]
    },
    {
     "data": {
      "application/vnd.jupyter.widget-view+json": {
       "model_id": "a3637ae14eff4ea2902dc58b0c001fbc",
       "version_major": 2,
       "version_minor": 0
      },
      "text/plain": [
       "Output()"
      ]
     },
     "metadata": {},
     "output_type": "display_data"
    },
    {
     "data": {
      "text/html": [
       "<pre style=\"white-space:pre;overflow-x:auto;line-height:normal;font-family:Menlo,'DejaVu Sans Mono',consolas,'Courier New',monospace\"></pre>\n"
      ],
      "text/plain": []
     },
     "metadata": {},
     "output_type": "display_data"
    },
    {
     "name": "stdout",
     "output_type": "stream",
     "text": [
      "####################################################################################\n",
      "Predicting metadata for Screen\n"
     ]
    },
    {
     "data": {
      "application/vnd.jupyter.widget-view+json": {
       "model_id": "32d538c90922415899b73bbc77d7b40b",
       "version_major": 2,
       "version_minor": 0
      },
      "text/plain": [
       "Output()"
      ]
     },
     "metadata": {},
     "output_type": "display_data"
    },
    {
     "data": {
      "text/html": [
       "<pre style=\"white-space:pre;overflow-x:auto;line-height:normal;font-family:Menlo,'DejaVu Sans Mono',consolas,'Courier New',monospace\"></pre>\n"
      ],
      "text/plain": []
     },
     "metadata": {},
     "output_type": "display_data"
    },
    {
     "name": "stdout",
     "output_type": "stream",
     "text": [
      "####################################################################################\n",
      "Predicting metadata for Experimenter\n"
     ]
    },
    {
     "data": {
      "application/vnd.jupyter.widget-view+json": {
       "model_id": "dce2e98fb11c4ca58443481a1f451ae3",
       "version_major": 2,
       "version_minor": 0
      },
      "text/plain": [
       "Output()"
      ]
     },
     "metadata": {},
     "output_type": "display_data"
    },
    {
     "data": {
      "text/html": [
       "<pre style=\"white-space:pre;overflow-x:auto;line-height:normal;font-family:Menlo,'DejaVu Sans Mono',consolas,'Courier New',monospace\"></pre>\n"
      ],
      "text/plain": []
     },
     "metadata": {},
     "output_type": "display_data"
    },
    {
     "name": "stdout",
     "output_type": "stream",
     "text": [
      "####################################################################################\n",
      "Predicting metadata for Leader\n"
     ]
    },
    {
     "data": {
      "application/vnd.jupyter.widget-view+json": {
       "model_id": "8df3cd5b10914d8f857608814f9013d9",
       "version_major": 2,
       "version_minor": 0
      },
      "text/plain": [
       "Output()"
      ]
     },
     "metadata": {},
     "output_type": "display_data"
    },
    {
     "data": {
      "text/html": [
       "<pre style=\"white-space:pre;overflow-x:auto;line-height:normal;font-family:Menlo,'DejaVu Sans Mono',consolas,'Courier New',monospace\"></pre>\n"
      ],
      "text/plain": []
     },
     "metadata": {},
     "output_type": "display_data"
    },
    {
     "name": "stdout",
     "output_type": "stream",
     "text": [
      "####################################################################################\n",
      "Predicting metadata for ExperimenterGroup\n"
     ]
    },
    {
     "data": {
      "application/vnd.jupyter.widget-view+json": {
       "model_id": "dd959f267be144e1b5d0c908f0cb688e",
       "version_major": 2,
       "version_minor": 0
      },
      "text/plain": [
       "Output()"
      ]
     },
     "metadata": {},
     "output_type": "display_data"
    },
    {
     "data": {
      "text/html": [
       "<pre style=\"white-space:pre;overflow-x:auto;line-height:normal;font-family:Menlo,'DejaVu Sans Mono',consolas,'Courier New',monospace\"></pre>\n"
      ],
      "text/plain": []
     },
     "metadata": {},
     "output_type": "display_data"
    },
    {
     "name": "stdout",
     "output_type": "stream",
     "text": [
      "####################################################################################\n",
      "Predicting metadata for GenericExcitationSource\n"
     ]
    },
    {
     "data": {
      "application/vnd.jupyter.widget-view+json": {
       "model_id": "0ac31af4a8f6433f9a412d8a36a46295",
       "version_major": 2,
       "version_minor": 0
      },
      "text/plain": [
       "Output()"
      ]
     },
     "metadata": {},
     "output_type": "display_data"
    },
    {
     "data": {
      "text/html": [
       "<pre style=\"white-space:pre;overflow-x:auto;line-height:normal;font-family:Menlo,'DejaVu Sans Mono',consolas,'Courier New',monospace\"></pre>\n"
      ],
      "text/plain": []
     },
     "metadata": {},
     "output_type": "display_data"
    },
    {
     "name": "stdout",
     "output_type": "stream",
     "text": [
      "####################################################################################\n",
      "Predicting metadata for LightEmittingDiode\n"
     ]
    },
    {
     "data": {
      "application/vnd.jupyter.widget-view+json": {
       "model_id": "2f7a3bc517d7490f8a78364cdf7f32c7",
       "version_major": 2,
       "version_minor": 0
      },
      "text/plain": [
       "Output()"
      ]
     },
     "metadata": {},
     "output_type": "display_data"
    },
    {
     "data": {
      "text/html": [
       "<pre style=\"white-space:pre;overflow-x:auto;line-height:normal;font-family:Menlo,'DejaVu Sans Mono',consolas,'Courier New',monospace\"></pre>\n"
      ],
      "text/plain": []
     },
     "metadata": {},
     "output_type": "display_data"
    },
    {
     "name": "stdout",
     "output_type": "stream",
     "text": [
      "####################################################################################\n",
      "Predicting metadata for Filament\n"
     ]
    },
    {
     "data": {
      "application/vnd.jupyter.widget-view+json": {
       "model_id": "5131926dfeae45828ad7da8053fc4c8b",
       "version_major": 2,
       "version_minor": 0
      },
      "text/plain": [
       "Output()"
      ]
     },
     "metadata": {},
     "output_type": "display_data"
    },
    {
     "data": {
      "text/html": [
       "<pre style=\"white-space:pre;overflow-x:auto;line-height:normal;font-family:Menlo,'DejaVu Sans Mono',consolas,'Courier New',monospace\"></pre>\n"
      ],
      "text/plain": []
     },
     "metadata": {},
     "output_type": "display_data"
    },
    {
     "name": "stdout",
     "output_type": "stream",
     "text": [
      "####################################################################################\n",
      "Predicting metadata for Arc\n"
     ]
    },
    {
     "data": {
      "application/vnd.jupyter.widget-view+json": {
       "model_id": "f49a4b992b8143839b2d4282ad0ed111",
       "version_major": 2,
       "version_minor": 0
      },
      "text/plain": [
       "Output()"
      ]
     },
     "metadata": {},
     "output_type": "display_data"
    },
    {
     "data": {
      "text/html": [
       "<pre style=\"white-space:pre;overflow-x:auto;line-height:normal;font-family:Menlo,'DejaVu Sans Mono',consolas,'Courier New',monospace\"></pre>\n"
      ],
      "text/plain": []
     },
     "metadata": {},
     "output_type": "display_data"
    },
    {
     "name": "stdout",
     "output_type": "stream",
     "text": [
      "####################################################################################\n",
      "Predicting metadata for Laser\n"
     ]
    },
    {
     "data": {
      "application/vnd.jupyter.widget-view+json": {
       "model_id": "7f8ac086caea4a929269b77bacd7626b",
       "version_major": 2,
       "version_minor": 0
      },
      "text/plain": [
       "Output()"
      ]
     },
     "metadata": {},
     "output_type": "display_data"
    },
    {
     "data": {
      "text/html": [
       "<pre style=\"white-space:pre;overflow-x:auto;line-height:normal;font-family:Menlo,'DejaVu Sans Mono',consolas,'Courier New',monospace\"></pre>\n"
      ],
      "text/plain": []
     },
     "metadata": {},
     "output_type": "display_data"
    },
    {
     "name": "stdout",
     "output_type": "stream",
     "text": [
      "####################################################################################\n",
      "Predicting metadata for Detector\n"
     ]
    },
    {
     "data": {
      "application/vnd.jupyter.widget-view+json": {
       "model_id": "62a18cca11e440f9b443eb5ff7e9b6a4",
       "version_major": 2,
       "version_minor": 0
      },
      "text/plain": [
       "Output()"
      ]
     },
     "metadata": {},
     "output_type": "display_data"
    },
    {
     "data": {
      "text/html": [
       "<pre style=\"white-space:pre;overflow-x:auto;line-height:normal;font-family:Menlo,'DejaVu Sans Mono',consolas,'Courier New',monospace\"></pre>\n"
      ],
      "text/plain": []
     },
     "metadata": {},
     "output_type": "display_data"
    },
    {
     "name": "stdout",
     "output_type": "stream",
     "text": [
      "####################################################################################\n",
      "Predicting metadata for Objective\n"
     ]
    },
    {
     "data": {
      "application/vnd.jupyter.widget-view+json": {
       "model_id": "f2102c547e3e4d2eacaec2207b3a8952",
       "version_major": 2,
       "version_minor": 0
      },
      "text/plain": [
       "Output()"
      ]
     },
     "metadata": {},
     "output_type": "display_data"
    },
    {
     "data": {
      "text/html": [
       "<pre style=\"white-space:pre;overflow-x:auto;line-height:normal;font-family:Menlo,'DejaVu Sans Mono',consolas,'Courier New',monospace\"></pre>\n"
      ],
      "text/plain": []
     },
     "metadata": {},
     "output_type": "display_data"
    },
    {
     "name": "stdout",
     "output_type": "stream",
     "text": [
      "####################################################################################\n",
      "Predicting metadata for FilterRef\n"
     ]
    },
    {
     "data": {
      "application/vnd.jupyter.widget-view+json": {
       "model_id": "3b086699fa484f19a8431fdce9808481",
       "version_major": 2,
       "version_minor": 0
      },
      "text/plain": [
       "Output()"
      ]
     },
     "metadata": {},
     "output_type": "display_data"
    },
    {
     "data": {
      "text/html": [
       "<pre style=\"white-space:pre;overflow-x:auto;line-height:normal;font-family:Menlo,'DejaVu Sans Mono',consolas,'Courier New',monospace\"></pre>\n"
      ],
      "text/plain": []
     },
     "metadata": {},
     "output_type": "display_data"
    },
    {
     "name": "stdout",
     "output_type": "stream",
     "text": [
      "####################################################################################\n",
      "Predicting metadata for FilterSet\n"
     ]
    },
    {
     "data": {
      "application/vnd.jupyter.widget-view+json": {
       "model_id": "3cb52fb9caf445dcbc75b578b81c30df",
       "version_major": 2,
       "version_minor": 0
      },
      "text/plain": [
       "Output()"
      ]
     },
     "metadata": {},
     "output_type": "display_data"
    },
    {
     "data": {
      "text/html": [
       "<pre style=\"white-space:pre;overflow-x:auto;line-height:normal;font-family:Menlo,'DejaVu Sans Mono',consolas,'Courier New',monospace\"></pre>\n"
      ],
      "text/plain": []
     },
     "metadata": {},
     "output_type": "display_data"
    },
    {
     "name": "stdout",
     "output_type": "stream",
     "text": [
      "####################################################################################\n",
      "Predicting metadata for Filter\n"
     ]
    },
    {
     "data": {
      "application/vnd.jupyter.widget-view+json": {
       "model_id": "8fe8752359e140bfbbace503b7af3795",
       "version_major": 2,
       "version_minor": 0
      },
      "text/plain": [
       "Output()"
      ]
     },
     "metadata": {},
     "output_type": "display_data"
    },
    {
     "data": {
      "text/html": [
       "<pre style=\"white-space:pre;overflow-x:auto;line-height:normal;font-family:Menlo,'DejaVu Sans Mono',consolas,'Courier New',monospace\"></pre>\n"
      ],
      "text/plain": []
     },
     "metadata": {},
     "output_type": "display_data"
    },
    {
     "name": "stdout",
     "output_type": "stream",
     "text": [
      "####################################################################################\n",
      "Predicting metadata for Dichroic\n"
     ]
    },
    {
     "data": {
      "application/vnd.jupyter.widget-view+json": {
       "model_id": "a4075173f98e474596ad9b53296101fe",
       "version_major": 2,
       "version_minor": 0
      },
      "text/plain": [
       "Output()"
      ]
     },
     "metadata": {},
     "output_type": "display_data"
    },
    {
     "data": {
      "text/html": [
       "<pre style=\"white-space:pre;overflow-x:auto;line-height:normal;font-family:Menlo,'DejaVu Sans Mono',consolas,'Courier New',monospace\"></pre>\n"
      ],
      "text/plain": []
     },
     "metadata": {},
     "output_type": "display_data"
    },
    {
     "name": "stdout",
     "output_type": "stream",
     "text": [
      "####################################################################################\n",
      "Predicting metadata for Instrument\n"
     ]
    },
    {
     "data": {
      "application/vnd.jupyter.widget-view+json": {
       "model_id": "65eb50172c5945d9af133db140595a24",
       "version_major": 2,
       "version_minor": 0
      },
      "text/plain": [
       "Output()"
      ]
     },
     "metadata": {},
     "output_type": "display_data"
    },
    {
     "data": {
      "text/html": [
       "<pre style=\"white-space:pre;overflow-x:auto;line-height:normal;font-family:Menlo,'DejaVu Sans Mono',consolas,'Courier New',monospace\"></pre>\n"
      ],
      "text/plain": []
     },
     "metadata": {},
     "output_type": "display_data"
    },
    {
     "name": "stdout",
     "output_type": "stream",
     "text": [
      "####################################################################################\n",
      "Predicting metadata for Channel\n"
     ]
    },
    {
     "name": "stderr",
     "output_type": "stream",
     "text": [
      "/home/aaron/mambaforge/envs/metagpt/lib/python3.9/site-packages/pydantic/main.py:175: UserWarning: BinData length is non-zero but value is missing\n",
      "  self.__pydantic_validator__.validate_python(data, self_instance=self)\n"
     ]
    },
    {
     "data": {
      "application/vnd.jupyter.widget-view+json": {
       "model_id": "68ad4f907e34444ea3a9469d7c3f81f4",
       "version_major": 2,
       "version_minor": 0
      },
      "text/plain": [
       "Output()"
      ]
     },
     "metadata": {},
     "output_type": "display_data"
    },
    {
     "data": {
      "text/html": [
       "<pre style=\"white-space:pre;overflow-x:auto;line-height:normal;font-family:Menlo,'DejaVu Sans Mono',consolas,'Courier New',monospace\"></pre>\n"
      ],
      "text/plain": []
     },
     "metadata": {},
     "output_type": "display_data"
    },
    {
     "name": "stdout",
     "output_type": "stream",
     "text": [
      "####################################################################################\n",
      "Predicting metadata for BinData\n"
     ]
    },
    {
     "data": {
      "application/vnd.jupyter.widget-view+json": {
       "model_id": "cef083ba92f84ce29078e7fbcd2ccd4b",
       "version_major": 2,
       "version_minor": 0
      },
      "text/plain": [
       "Output()"
      ]
     },
     "metadata": {},
     "output_type": "display_data"
    },
    {
     "data": {
      "text/html": [
       "<pre style=\"white-space:pre;overflow-x:auto;line-height:normal;font-family:Menlo,'DejaVu Sans Mono',consolas,'Courier New',monospace\"></pre>\n"
      ],
      "text/plain": []
     },
     "metadata": {},
     "output_type": "display_data"
    },
    {
     "name": "stdout",
     "output_type": "stream",
     "text": [
      "####################################################################################\n",
      "Predicting metadata for TiffData\n"
     ]
    },
    {
     "data": {
      "application/vnd.jupyter.widget-view+json": {
       "model_id": "384e82bbaf0a42f1b2c0b062ac4976c6",
       "version_major": 2,
       "version_minor": 0
      },
      "text/plain": [
       "Output()"
      ]
     },
     "metadata": {},
     "output_type": "display_data"
    },
    {
     "data": {
      "text/html": [
       "<pre style=\"white-space:pre;overflow-x:auto;line-height:normal;font-family:Menlo,'DejaVu Sans Mono',consolas,'Courier New',monospace\"></pre>\n"
      ],
      "text/plain": []
     },
     "metadata": {},
     "output_type": "display_data"
    },
    {
     "name": "stdout",
     "output_type": "stream",
     "text": [
      "####################################################################################\n",
      "Predicting metadata for Plane\n"
     ]
    },
    {
     "data": {
      "application/vnd.jupyter.widget-view+json": {
       "model_id": "49bfa302d62a4406bbac1c11fcd558b7",
       "version_major": 2,
       "version_minor": 0
      },
      "text/plain": [
       "Output()"
      ]
     },
     "metadata": {},
     "output_type": "display_data"
    },
    {
     "data": {
      "text/html": [
       "<pre style=\"white-space:pre;overflow-x:auto;line-height:normal;font-family:Menlo,'DejaVu Sans Mono',consolas,'Courier New',monospace\"></pre>\n"
      ],
      "text/plain": []
     },
     "metadata": {},
     "output_type": "display_data"
    },
    {
     "name": "stdout",
     "output_type": "stream",
     "text": [
      "####################################################################################\n",
      "Predicting metadata for Pixels\n"
     ]
    },
    {
     "data": {
      "application/vnd.jupyter.widget-view+json": {
       "model_id": "52b429c6e0fa405587d94c46db8ee95d",
       "version_major": 2,
       "version_minor": 0
      },
      "text/plain": [
       "Output()"
      ]
     },
     "metadata": {},
     "output_type": "display_data"
    },
    {
     "data": {
      "text/html": [
       "<pre style=\"white-space:pre;overflow-x:auto;line-height:normal;font-family:Menlo,'DejaVu Sans Mono',consolas,'Courier New',monospace\"></pre>\n"
      ],
      "text/plain": []
     },
     "metadata": {},
     "output_type": "display_data"
    },
    {
     "name": "stdout",
     "output_type": "stream",
     "text": [
      "####################################################################################\n",
      "Predicting metadata for MicrobeamManipulationRef\n"
     ]
    },
    {
     "data": {
      "application/vnd.jupyter.widget-view+json": {
       "model_id": "de4fe5b8434d4507b81d42c39666dac1",
       "version_major": 2,
       "version_minor": 0
      },
      "text/plain": [
       "Output()"
      ]
     },
     "metadata": {},
     "output_type": "display_data"
    },
    {
     "data": {
      "text/html": [
       "<pre style=\"white-space:pre;overflow-x:auto;line-height:normal;font-family:Menlo,'DejaVu Sans Mono',consolas,'Courier New',monospace\"></pre>\n"
      ],
      "text/plain": []
     },
     "metadata": {},
     "output_type": "display_data"
    },
    {
     "name": "stdout",
     "output_type": "stream",
     "text": [
      "####################################################################################\n",
      "Predicting metadata for Image\n"
     ]
    },
    {
     "data": {
      "application/vnd.jupyter.widget-view+json": {
       "model_id": "a350d370a34a44c0a78dbf566173f0ab",
       "version_major": 2,
       "version_minor": 0
      },
      "text/plain": [
       "Output()"
      ]
     },
     "metadata": {},
     "output_type": "display_data"
    },
    {
     "data": {
      "text/html": [
       "<pre style=\"white-space:pre;overflow-x:auto;line-height:normal;font-family:Menlo,'DejaVu Sans Mono',consolas,'Courier New',monospace\"></pre>\n"
      ],
      "text/plain": []
     },
     "metadata": {},
     "output_type": "display_data"
    },
    {
     "name": "stdout",
     "output_type": "stream",
     "text": [
      "####################################################################################\n",
      "Predicting metadata for Label\n"
     ]
    },
    {
     "data": {
      "application/vnd.jupyter.widget-view+json": {
       "model_id": "1929be2ffc994943be84d2eede2e6f20",
       "version_major": 2,
       "version_minor": 0
      },
      "text/plain": [
       "Output()"
      ]
     },
     "metadata": {},
     "output_type": "display_data"
    },
    {
     "data": {
      "text/html": [
       "<pre style=\"white-space:pre;overflow-x:auto;line-height:normal;font-family:Menlo,'DejaVu Sans Mono',consolas,'Courier New',monospace\"></pre>\n"
      ],
      "text/plain": []
     },
     "metadata": {},
     "output_type": "display_data"
    },
    {
     "name": "stdout",
     "output_type": "stream",
     "text": [
      "####################################################################################\n",
      "Predicting metadata for Polygon\n"
     ]
    },
    {
     "data": {
      "application/vnd.jupyter.widget-view+json": {
       "model_id": "09edd10b979c4724961a439570211385",
       "version_major": 2,
       "version_minor": 0
      },
      "text/plain": [
       "Output()"
      ]
     },
     "metadata": {},
     "output_type": "display_data"
    },
    {
     "data": {
      "text/html": [
       "<pre style=\"white-space:pre;overflow-x:auto;line-height:normal;font-family:Menlo,'DejaVu Sans Mono',consolas,'Courier New',monospace\"></pre>\n"
      ],
      "text/plain": []
     },
     "metadata": {},
     "output_type": "display_data"
    },
    {
     "name": "stdout",
     "output_type": "stream",
     "text": [
      "####################################################################################\n",
      "Predicting metadata for Polyline\n"
     ]
    },
    {
     "data": {
      "application/vnd.jupyter.widget-view+json": {
       "model_id": "1a441f025257486297b35018ca64be38",
       "version_major": 2,
       "version_minor": 0
      },
      "text/plain": [
       "Output()"
      ]
     },
     "metadata": {},
     "output_type": "display_data"
    },
    {
     "data": {
      "text/html": [
       "<pre style=\"white-space:pre;overflow-x:auto;line-height:normal;font-family:Menlo,'DejaVu Sans Mono',consolas,'Courier New',monospace\"></pre>\n"
      ],
      "text/plain": []
     },
     "metadata": {},
     "output_type": "display_data"
    },
    {
     "name": "stdout",
     "output_type": "stream",
     "text": [
      "####################################################################################\n",
      "Predicting metadata for Line\n"
     ]
    },
    {
     "data": {
      "application/vnd.jupyter.widget-view+json": {
       "model_id": "ea03df755f564eeca2827b366a1f4b78",
       "version_major": 2,
       "version_minor": 0
      },
      "text/plain": [
       "Output()"
      ]
     },
     "metadata": {},
     "output_type": "display_data"
    },
    {
     "data": {
      "text/html": [
       "<pre style=\"white-space:pre;overflow-x:auto;line-height:normal;font-family:Menlo,'DejaVu Sans Mono',consolas,'Courier New',monospace\"></pre>\n"
      ],
      "text/plain": []
     },
     "metadata": {},
     "output_type": "display_data"
    },
    {
     "name": "stdout",
     "output_type": "stream",
     "text": [
      "####################################################################################\n",
      "Predicting metadata for Ellipse\n"
     ]
    },
    {
     "data": {
      "application/vnd.jupyter.widget-view+json": {
       "model_id": "b32535bfc4b949c6a1e80c55608a92c2",
       "version_major": 2,
       "version_minor": 0
      },
      "text/plain": [
       "Output()"
      ]
     },
     "metadata": {},
     "output_type": "display_data"
    },
    {
     "data": {
      "text/html": [
       "<pre style=\"white-space:pre;overflow-x:auto;line-height:normal;font-family:Menlo,'DejaVu Sans Mono',consolas,'Courier New',monospace\"></pre>\n"
      ],
      "text/plain": []
     },
     "metadata": {},
     "output_type": "display_data"
    },
    {
     "name": "stdout",
     "output_type": "stream",
     "text": [
      "####################################################################################\n",
      "Predicting metadata for Point\n"
     ]
    },
    {
     "data": {
      "application/vnd.jupyter.widget-view+json": {
       "model_id": "e9b6bc9ea9064952b82fad1d0a678ab4",
       "version_major": 2,
       "version_minor": 0
      },
      "text/plain": [
       "Output()"
      ]
     },
     "metadata": {},
     "output_type": "display_data"
    },
    {
     "data": {
      "text/html": [
       "<pre style=\"white-space:pre;overflow-x:auto;line-height:normal;font-family:Menlo,'DejaVu Sans Mono',consolas,'Courier New',monospace\"></pre>\n"
      ],
      "text/plain": []
     },
     "metadata": {},
     "output_type": "display_data"
    },
    {
     "name": "stdout",
     "output_type": "stream",
     "text": [
      "####################################################################################\n",
      "Predicting metadata for Mask\n"
     ]
    },
    {
     "data": {
      "application/vnd.jupyter.widget-view+json": {
       "model_id": "96e51a96d18c4184950fdf67b198d5d6",
       "version_major": 2,
       "version_minor": 0
      },
      "text/plain": [
       "Output()"
      ]
     },
     "metadata": {},
     "output_type": "display_data"
    },
    {
     "data": {
      "text/html": [
       "<pre style=\"white-space:pre;overflow-x:auto;line-height:normal;font-family:Menlo,'DejaVu Sans Mono',consolas,'Courier New',monospace\"></pre>\n"
      ],
      "text/plain": []
     },
     "metadata": {},
     "output_type": "display_data"
    },
    {
     "name": "stdout",
     "output_type": "stream",
     "text": [
      "####################################################################################\n",
      "Predicting metadata for Rectangle\n"
     ]
    },
    {
     "data": {
      "application/vnd.jupyter.widget-view+json": {
       "model_id": "4bf0448ccf3645cd8935082b573e1db8",
       "version_major": 2,
       "version_minor": 0
      },
      "text/plain": [
       "Output()"
      ]
     },
     "metadata": {},
     "output_type": "display_data"
    },
    {
     "data": {
      "text/html": [
       "<pre style=\"white-space:pre;overflow-x:auto;line-height:normal;font-family:Menlo,'DejaVu Sans Mono',consolas,'Courier New',monospace\"></pre>\n"
      ],
      "text/plain": []
     },
     "metadata": {},
     "output_type": "display_data"
    },
    {
     "name": "stdout",
     "output_type": "stream",
     "text": [
      "####################################################################################\n",
      "Predicting metadata for Union\n"
     ]
    },
    {
     "data": {
      "application/vnd.jupyter.widget-view+json": {
       "model_id": "46ad86d222ba49f68cbeb388883df2e0",
       "version_major": 2,
       "version_minor": 0
      },
      "text/plain": [
       "Output()"
      ]
     },
     "metadata": {},
     "output_type": "display_data"
    },
    {
     "data": {
      "text/html": [
       "<pre style=\"white-space:pre;overflow-x:auto;line-height:normal;font-family:Menlo,'DejaVu Sans Mono',consolas,'Courier New',monospace\"></pre>\n"
      ],
      "text/plain": []
     },
     "metadata": {},
     "output_type": "display_data"
    },
    {
     "name": "stdout",
     "output_type": "stream",
     "text": [
      "####################################################################################\n",
      "Predicting metadata for ROI\n"
     ]
    },
    {
     "data": {
      "application/vnd.jupyter.widget-view+json": {
       "model_id": "5ffe8eb14a434112bb4c3da013defb35",
       "version_major": 2,
       "version_minor": 0
      },
      "text/plain": [
       "Output()"
      ]
     },
     "metadata": {},
     "output_type": "display_data"
    },
    {
     "data": {
      "text/html": [
       "<pre style=\"white-space:pre;overflow-x:auto;line-height:normal;font-family:Menlo,'DejaVu Sans Mono',consolas,'Courier New',monospace\"></pre>\n"
      ],
      "text/plain": []
     },
     "metadata": {},
     "output_type": "display_data"
    },
    {
     "name": "stdout",
     "output_type": "stream",
     "text": [
      "####################################################################################\n",
      "Predicting metadata for OME\n",
      "\n",
      "Cell output saved to out/jupyter_cell_outputs/cell_output_2024-06-20T17:08:19.084282_.json\n"
     ]
    }
   ],
   "source": [
    "from ome_types._autogenerated.ome_2016_06 import Image, Pixels, OME, Experimenter\n",
    "from src.metagpt.predictors import predictor_tree\n",
    "from src.metagpt.utils import save_and_stream_output\n",
    "\n",
    "with save_and_stream_output():\n",
    "    tree = predictor_tree.build_tree(OME)\n",
    "    metadata = tree.predict_meta(ome_raw)\n"
   ]
  },
  {
   "cell_type": "code",
   "execution_count": 3,
   "metadata": {},
   "outputs": [
    {
     "data": {
      "text/plain": [
       "OME(\n",
       "   plates=[{'id': 'Plate:0'}],\n",
       "   instruments=[<1 field_type>],\n",
       ")"
      ]
     },
     "execution_count": 3,
     "metadata": {},
     "output_type": "execute_result"
    }
   ],
   "source": [
    "metadata"
   ]
  },
  {
   "cell_type": "code",
   "execution_count": null,
   "metadata": {},
   "outputs": [],
   "source": [
    "# get the n attributes of an object:\n",
    "# \n",
    "# \n",
    "for v in metadata.experimenters[0].__dict__.values():\n",
    "    if v:\n",
    "        print(v)"
   ]
  },
  {
   "cell_type": "code",
   "execution_count": null,
   "metadata": {},
   "outputs": [],
   "source": [
    "len([v for v in metadata.experimenters[0].__dict__.values() if v])"
   ]
  }
 ],
 "metadata": {
  "kernelspec": {
   "display_name": "metagpt",
   "language": "python",
   "name": "python3"
  },
  "language_info": {
   "codemirror_mode": {
    "name": "ipython",
    "version": 3
   },
   "file_extension": ".py",
   "mimetype": "text/x-python",
   "name": "python",
   "nbconvert_exporter": "python",
   "pygments_lexer": "ipython3",
   "version": "3.9.19"
  }
 },
 "nbformat": 4,
 "nbformat_minor": 2
}
